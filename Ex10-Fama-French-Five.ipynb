{
  "nbformat": 4,
  "nbformat_minor": 0,
  "metadata": {
    "colab": {
      "provenance": [],
      "authorship_tag": "ABX9TyOmUveItKf4paAyHNmTiYzl",
      "include_colab_link": true
    },
    "kernelspec": {
      "name": "python3",
      "display_name": "Python 3"
    },
    "language_info": {
      "name": "python"
    }
  },
  "cells": [
    {
      "cell_type": "markdown",
      "metadata": {
        "id": "view-in-github",
        "colab_type": "text"
      },
      "source": [
        "<a href=\"https://colab.research.google.com/github/boyerb/Investments/blob/master/Ex10-Fama-French-Five.ipynb\" target=\"_parent\"><img src=\"https://colab.research.google.com/assets/colab-badge.svg\" alt=\"Open In Colab\"/></a>"
      ]
    },
    {
      "cell_type": "markdown",
      "source": [
        "***Investment Analysis***, Bates, Boyer, and Fletcher  "
      ],
      "metadata": {
        "id": "FDYnDuGMeFyB"
      }
    },
    {
      "cell_type": "markdown",
      "source": [
        "# Example Chapter 10: Using the Fama-French Five Factor Model\n",
        "The purpose of this example is to enable you to estimate the Fama-French Five alpha relative to any trading strategy. We first load in the returns from the low beta strategy from the class repo.  You could similarly load in the returns from any strategy that you have save on Google Drive, or your own GitHub repo. We then load in the returns on the FF5 factors. Finally, we estimate the alpha of the trading strategy relative to the five factors.   "
      ],
      "metadata": {
        "id": "4hvkTHAseLJY"
      }
    },
    {
      "cell_type": "markdown",
      "source": [
        "### Imports and Setup"
      ],
      "metadata": {
        "id": "QiSeAMi_e8pN"
      }
    },
    {
      "cell_type": "code",
      "execution_count": null,
      "metadata": {
        "id": "a35uCpTzO5cS"
      },
      "outputs": [],
      "source": [
        "#import packages\n",
        "# Load in simple_finance.py from the GitHub repository\n",
        "!curl -O https://raw.githubusercontent.com/boyerb/Investments/master/functions/simple_finance.py\n",
        "import simple_finance as sf\n",
        "import pandas as pd\n",
        "import statsmodels.api as sm"
      ]
    },
    {
      "cell_type": "markdown",
      "source": [
        "### Load in the Strategy Returns\n",
        "In the code block below we load in the returns from the low beta strategy.  These are the returns of stocks in the lowest decile when sorted by beta.  Recall that the CAPM alpha of the strategy was negative, and we could reject the hypothesis that the CAPM alpha is zero with 95% confidence. After loading the data, we format the date column for merging with the FF5 data, and set the date to be the index of the DataFrame.  "
      ],
      "metadata": {
        "id": "tUCkPeq-fADG"
      }
    },
    {
      "cell_type": "code",
      "source": [
        "# Load in the data by first specifying the URL where the data can be found\n",
        "url=\"https://github.com/boyerb/Investments/raw/master/Examples_3.42.xlsx\"\n",
        "columns_to_read = [\"date\",\"Low Beta\"]\n",
        "# read the data into a DataFrame\n",
        "df = pd.read_excel(url, sheet_name=\"10-LoBeta\", header=0, usecols=columns_to_read, engine=\"openpyxl\")\n",
        "df['date'] = pd.to_datetime(df['date'].astype(str), format='%Y%m').dt.to_period('M') # format date column\n",
        "df.set_index('date', inplace=True) # set the date column as the index\n",
        "print(df.head())"
      ],
      "metadata": {
        "id": "OlX8wc9VO8-j"
      },
      "execution_count": null,
      "outputs": []
    },
    {
      "cell_type": "markdown",
      "source": [
        "### Load in Fama French Five Factors\n",
        "#### Function Description  \n",
        "**`get_ff5(start_date`** (optional)**`, end_date`** (optional)**)-> pd.DataFrame`**     \n",
        "Imports historical monthly returns for the Fama-French-Five factors from Ken French's website and returns the data as a DataFrame  \n",
        "\n",
        "**Inputs**  \n",
        "- `start_date` (*string*, optional):  starting month in format `'yyyy-mm'`  \n",
        "- `end_date` (*string*, optional): ending month in format `'yyyy-mm'`  \n",
        "If `start_date` and `end_date` are not specified, the function loads in all available data.  \n",
        "\n",
        "**Returns**  \n",
        "- (*DataFrame*): Returns for FF5 factors\n",
        "  - *Index* : Monthly date index (`pandas.PeriodIndex` with `freq='M'`).\n",
        " - *MKT-RF* : The excess return on the value-weighted market portfolio\n",
        " - *SMB* : Returns on small-minus-big\n",
        " - *HML* : Returns on high-minus-low\n",
        " - *RMW* : Returns on robust-minus-weak\n",
        " - *CAM* : Returns on conservative-minus-aggressive\n",
        " - *RF* : The return on short-term t-bills\n",
        "\n",
        "**Example Usage**:  \n",
        "`dat=sf.get_ff5()`  \n",
        "Returns all data for the FF5 Factors"
      ],
      "metadata": {
        "id": "gRMdfdLPf4t0"
      }
    },
    {
      "cell_type": "code",
      "source": [
        "FF5=sf.get_ff5() # get all data for FF5 factors\n",
        "print(FF5.head())"
      ],
      "metadata": {
        "id": "zWnzpqmuWhDW"
      },
      "execution_count": null,
      "outputs": []
    },
    {
      "cell_type": "markdown",
      "source": [
        "### Merge the Two DataFrames on Date\n",
        "In the block of code below we merge `df` with `FF5` by `date`, which is the index for both DataFrames. The merge is an inner join meaning that any rows in either DataFrame that do not have a match in the other will be deleted.   "
      ],
      "metadata": {
        "id": "HjaeIu3RhKSU"
      }
    },
    {
      "cell_type": "code",
      "source": [
        "# Perform left join\n",
        "merged_df = df.merge(FF5, how='inner', left_index=True, right_index=True)\n",
        "print(merged_df.head())"
      ],
      "metadata": {
        "id": "qoMM2hwaZQv_"
      },
      "execution_count": null,
      "outputs": []
    },
    {
      "cell_type": "markdown",
      "source": [
        "### Estimate FF5 Alpha\n",
        "Can we reject that alpha is zero with 95% confidence?"
      ],
      "metadata": {
        "id": "dy2CPzrMhyPi"
      }
    },
    {
      "cell_type": "code",
      "source": [
        "merged_df['ex_LoBeta'] = merged_df['Low Beta'] - merged_df['RF'] # excess return on low beta strategy\n",
        "X=merged_df[[\"Mkt-RF\",\"SMB\",\"HML\",\"RMW\",\"CMA\"]] # explanatory variables\n",
        "Y=merged_df[\"ex_LoBeta\"] # dependent variable\n",
        "X=sm.add_constant(X) # we specify that we want to add a constant to the regression equation\n",
        "model=sm.OLS(Y,X).fit() # run regression\n",
        "params = model.params # pull out parameters\n",
        "conf_int = model.conf_int(alpha=0.05)  # 95% CIs\n",
        "r_squared = model.rsquared\n",
        "# create a table of output\n",
        "results_df = pd.DataFrame({\n",
        "    'Parameter': params.index, # 1st column: parameter name\n",
        "    'Estimate': params.values, # 2nd column: parameer value\n",
        "    'CI Lower': conf_int[0].values, # 3rd column: lower bound on 95\\% CI\n",
        "    'CI Upper': conf_int[1].values  # 4th column: upper bound on 95\\% CI\n",
        "})\n",
        "\n",
        "print(results_df)"
      ],
      "metadata": {
        "id": "mYNo-3d1XZfD"
      },
      "execution_count": null,
      "outputs": []
    }
  ]
}