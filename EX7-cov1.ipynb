{
 "cells": [
  {
   "metadata": {},
   "cell_type": "markdown",
   "source": "***Foundations of Investment Analysis***, Bates, Boyer, and Fletcher",
   "id": "60e04922734bcb85"
  },
  {
   "metadata": {},
   "cell_type": "code",
   "outputs": [],
   "execution_count": null,
   "source": "",
   "id": "d183ef4740d11cf4"
  },
  {
   "metadata": {},
   "cell_type": "markdown",
   "source": "",
   "id": "5247bdf8ccd47c19"
  }
 ],
 "metadata": {
  "kernelspec": {
   "display_name": "Python 3",
   "language": "python",
   "name": "python3"
  },
  "language_info": {
   "codemirror_mode": {
    "name": "ipython",
    "version": 2
   },
   "file_extension": ".py",
   "mimetype": "text/x-python",
   "name": "python",
   "nbconvert_exporter": "python",
   "pygments_lexer": "ipython2",
   "version": "2.7.6"
  }
 },
 "nbformat": 4,
 "nbformat_minor": 5
}
