{
  "nbformat": 4,
  "nbformat_minor": 0,
  "metadata": {
    "colab": {
      "provenance": [],
      "authorship_tag": "ABX9TyP6MJnqtwOy1M0KsUtR7r1F",
      "include_colab_link": true
    },
    "kernelspec": {
      "name": "python3",
      "display_name": "Python 3"
    },
    "language_info": {
      "name": "python"
    }
  },
  "cells": [
    {
      "cell_type": "markdown",
      "metadata": {
        "id": "view-in-github",
        "colab_type": "text"
      },
      "source": [
        "<a href=\"https://colab.research.google.com/github/boyerb/Investments/blob/master/Ex07-Alpha_Vantage.ipynb\" target=\"_parent\"><img src=\"https://colab.research.google.com/assets/colab-badge.svg\" alt=\"Open In Colab\"/></a>"
      ]
    },
    {
      "cell_type": "markdown",
      "source": [
        "**Investments: Theory, Fundamental Analysis, and Data Driven Analytics**, Bates, Boyer, and Fletcher"
      ],
      "metadata": {
        "id": "uASzxEA29Ev6"
      }
    },
    {
      "cell_type": "markdown",
      "source": [
        "# Examples Chapter 7: The Alpha Vantage API\n",
        "In this example we illustrate how to load in data using the Alpha vantage API. We then plot the closing price for Coca-Cola (ticker:'KO')."
      ],
      "metadata": {
        "id": "OzQUrqpt9hXI"
      }
    },
    {
      "cell_type": "markdown",
      "source": [
        "### Imports and Setup\n",
        "We first import the `requests` library which is one of the most widely used libraries for making HTTP requests to get data. We then set some printing options when displaying dataframes to the terminal."
      ],
      "metadata": {
        "id": "vauLGhRpIlyf"
      }
    },
    {
      "cell_type": "code",
      "execution_count": null,
      "metadata": {
        "id": "l193wFL7lbOD"
      },
      "outputs": [],
      "source": [
        "import requests\n",
        "import pandas as pd\n",
        "pd.set_option('display.max_columns', None)   # Show all columns without truncation\n",
        "pd.set_option('display.width', 1000)   # Set the display width so output stays on one line\n",
        "pd.set_option(\"display.max_rows\", 20) # Force truncation to at most 20 rows (10 from top, 10 from bottom)\n"
      ]
    },
    {
      "cell_type": "markdown",
      "source": [
        "### Load in Data Using the API\n",
        "You will first need to get your own API key to run this block of code at this link: https://www.alphavantage.co/support/#api-key.  Once you have the key, insert it in place of `your_key` in the code below. We then format the data and display a few rows.   "
      ],
      "metadata": {
        "id": "NLaxblm1Irr_"
      }
    },
    {
      "cell_type": "code",
      "source": [
        "# Replace the apikey with your own\n",
        "url = 'https://www.alphavantage.co/query?function=TIME_SERIES_MONTHLY_ADJUSTED&symbol=KO&apikey=your_key'\n",
        "r = requests.get(url)\n",
        "data = r.json()\n",
        "\n",
        "# The time series data lives under \"Monthly Adjusted Time Series\"\n",
        "ts_data = data[\"Monthly Adjusted Time Series\"]\n",
        "\n",
        "# Convert to DataFrame\n",
        "df = pd.DataFrame.from_dict(ts_data, orient=\"index\")\n",
        "\n",
        "# Rename columns to something cleaner\n",
        "df.columns = [\n",
        "    \"Open\", \"High\", \"Low\", \"Close\",\n",
        "    \"Adjusted Close\", \"Volume\", \"Dividend Amount\"\n",
        "]\n",
        "\n",
        "# Convert index to datetime and sort chronologically\n",
        "df.index = pd.to_datetime(df.index)\n",
        "df = df.sort_index()\n",
        "\n",
        "# Convert string values to numeric\n",
        "df = df.astype(float)\n",
        "print(df)"
      ],
      "metadata": {
        "id": "8h0VoO_wIoL3"
      },
      "execution_count": null,
      "outputs": []
    },
    {
      "cell_type": "markdown",
      "source": [
        "### Plot Closing Price for Coca-Cola"
      ],
      "metadata": {
        "id": "XlWBehhnJ97j"
      }
    },
    {
      "cell_type": "code",
      "source": [
        "import matplotlib.pyplot as plt\n",
        "\n",
        "# Plot monthly close price\n",
        "plt.figure(figsize=(12,6))\n",
        "plt.plot(df.index, df[\"Close\"], color=\"black\", linewidth=1)\n",
        "\n",
        "plt.xlabel(\"Date\", fontsize=14)\n",
        "plt.ylabel(\"Closing Price (USD)\", fontsize=14)\n",
        "plt.title(\"KO Monthly Closing Price\", fontsize=16)\n",
        "plt.grid(False)  # cleaner look\n",
        "plt.show()"
      ],
      "metadata": {
        "id": "lRbyhkv42nhJ"
      },
      "execution_count": null,
      "outputs": []
    }
  ]
}