{
 "cells": [
  {
   "cell_type": "markdown",
   "source": [
    "***Foundations of Investment Analysis***, Bates, Boyer, and Fletcher"
   ],
   "metadata": {
    "id": "L1gOEU3lC47o"
   },
   "id": "L1gOEU3lC47o"
  },
  {
   "metadata": {
    "id": "a8424377d4ab21a7"
   },
   "cell_type": "markdown",
   "source": [
    "# Example Chapter 5: Accessing Data from the Internet\n",
    "In this example we tap into the yfinance library to get monthly stock returns and Ken French's website to access data on short-term US t-bill returns. To make the process of gathering data from these sources as easy as possible, we package most of the code in easy-to-use functions in the library `simple_finance.py`.  We then use these data to estimate the annualized expected return, volatility, and Sharpe ratio for the Russell 3000 index (^RUT) and Ford Motor Company (F).  Try changing the tickers and date ranges to pull data for different companies over different time periods.\n"
   ],
   "id": "a8424377d4ab21a7"
  },
  {
   "metadata": {
    "id": "848af822f805f02a"
   },
   "cell_type": "markdown",
   "source": [
    " ### Imports and Setup\n",
    " We first load in a function file from the GitHub repository using the `curl` command. the `-O` folloiwing this command tells curl to save the file `bates_boyer_fletcher_functions.py` in the current working directory. We then import the functions from the file and import other necessary libraries."
   ],
   "id": "848af822f805f02a"
  },
  {
   "metadata": {
    "id": "abfa28ff8f165bb6",
    "outputId": "081aebd9-3685-4207-9afc-8bde58600255",
    "colab": {
     "base_uri": "https://localhost:8080/",
     "height": 297
    },
    "ExecuteTime": {
     "end_time": "2024-12-16T17:54:31.869754Z",
     "start_time": "2024-12-16T17:54:31.866837Z"
    }
   },
   "cell_type": "code",
   "source": [
    "# Load in simple_finance.py from the GitHub repository\n",
    "!curl -O https://raw.githubusercontent.com/boyerb/Investments/master/functions/simple_finance.py\n",
    "# import the functions from the file we just downloaded\n",
    "import simple_finance as sf\n",
    "# import other necessary libraries\n",
    "import numpy as np\n"
   ],
   "id": "abfa28ff8f165bb6",
   "outputs": [],
   "execution_count": 68
  },
  {
   "metadata": {
    "id": "a6c48c9ecd523cc9"
   },
   "cell_type": "markdown",
   "source": [
    "### Access Monthly Returns\n",
    "In this block of code we access monthly returns for the Russell 3000 index (^RUT) and Ford Motor Company (F). The key function is `get_monthly_returns`.\n",
    "\n",
    "`get_monthly returns` has the following inputs:\n",
    "- **ticker** = list of desired tickers: `['ticker_1', 'ticker_2', ..., 'ticker_N']\n",
    "- **begin** = beginning month in format yyyy-mm-dd\n",
    "- **end** = ending month in format yyyy-mm-dd\n",
    "- **tbill_return** = True or False. If True, the return on short-term tbills will be included in the DataFrame. If False, the return on short-term tbills will not be included.\n",
    "\n",
    "The output is a DataFrame with monthly returns for each ticker, and the return on short-term tbills if `tbill_return=True`.\n",
    "\n",
    "We then calculate the annualized average return and volatility."
   ],
   "id": "a6c48c9ecd523cc9"
  },
  {
   "metadata": {
    "id": "aa5b611ec5c3a9ce",
    "ExecuteTime": {
     "end_time": "2024-12-16T17:54:32.001641Z",
     "start_time": "2024-12-16T17:54:31.881776Z"
    }
   },
   "cell_type": "code",
   "source": [
    "# Get monthly returns for a given list of stock tickers using the yfinance API\n",
    "ticker = ['^RUA', 'F']\n",
    "# Use tbill_return=True to get the return on short-term tbills, or False to exclude tbill returns\n",
    "dat = sf.get_monthly_returns(ticker, '1990-01-01', '2023-12-31', tbill_return=False)\n"
   ],
   "id": "aa5b611ec5c3a9ce",
   "outputs": [
    {
     "name": "stderr",
     "output_type": "stream",
     "text": [
      "[*********************100%***********************]  1 of 1 completed\n",
      "C:\\Users\\bhb35\\Documents\\data\\investments\\PycharmProjects\\Investments\\functions\\simple_finance.py:95: FutureWarning: 'M' is deprecated and will be removed in a future version, please use 'ME' instead.\n",
      "  month_end_data = data.resample('ME').ffill()  # 'ME' gives month-end, ffill to get last available price\n",
      "[*********************100%***********************]  1 of 1 completed"
     ]
    },
    {
     "name": "stdout",
     "output_type": "stream",
     "text": [
      "hi\n",
      "                   Open         High          Low        Close    Adj Close  \\\n",
      "Date                                                                          \n",
      "1989-12-01   194.039993   196.770004   194.039993   196.220001   196.220001   \n",
      "1989-12-04   196.229996   196.729996   196.130005   196.699997   196.699997   \n",
      "1989-12-05   196.710007   197.139999   195.899994   195.899994   195.899994   \n",
      "1989-12-06   195.910004   196.039993   195.119995   195.410004   195.410004   \n",
      "1989-12-07   195.410004   196.009995   194.210007   194.889999   194.889999   \n",
      "...                 ...          ...          ...          ...          ...   \n",
      "2023-12-22  2742.179932  2751.260010  2731.080078  2741.199951  2741.199951   \n",
      "2023-12-26  2744.320068  2760.330078  2744.070068  2754.719971  2754.719971   \n",
      "2023-12-27  2755.110107  2761.669922  2752.280029  2759.219971  2759.219971   \n",
      "2023-12-28  2761.050049  2765.300049  2758.260010  2759.620117  2759.620117   \n",
      "2023-12-29  2758.719971  2761.300049  2739.989990  2748.209961  2748.209961   \n",
      "\n",
      "            Volume  \n",
      "Date                \n",
      "1989-12-01       0  \n",
      "1989-12-04       0  \n",
      "1989-12-05       0  \n",
      "1989-12-06       0  \n",
      "1989-12-07       0  \n",
      "...            ...  \n",
      "2023-12-22       0  \n",
      "2023-12-26       0  \n",
      "2023-12-27       0  \n",
      "2023-12-28       0  \n",
      "2023-12-29       0  \n",
      "\n",
      "[8556 rows x 6 columns]\n",
      "                 Open       High        Low      Close  Adj Close    Volume\n",
      "Date                                                                       \n",
      "1989-12-01   8.188622   8.325479   8.188622   8.302670   2.284910   5555243\n",
      "1989-12-04   8.302670   8.348289   8.188622   8.325479   2.291188   4935985\n",
      "1989-12-05   8.325479   8.393908   8.211432   8.257051   2.272356   5032983\n",
      "1989-12-06   8.234241   8.279860   8.165813   8.257051   2.272356   6449606\n",
      "1989-12-07   8.257051   8.257051   8.120194   8.234241   2.266079   2477583\n",
      "...               ...        ...        ...        ...        ...       ...\n",
      "2023-12-22  12.320000  12.460000  12.280000  12.350000  11.542162  43718600\n",
      "2023-12-26  12.390000  12.500000  12.370000  12.450000  11.635618  26293700\n",
      "2023-12-27  12.430000  12.450000  12.230000  12.390000  11.579545  39891300\n",
      "2023-12-28  12.380000  12.430000  12.280000  12.340000  11.532815  26688500\n",
      "2023-12-29  12.350000  12.390000  12.160000  12.190000  11.392626  40902400\n",
      "\n",
      "[8585 rows x 6 columns]\n"
     ]
    },
    {
     "name": "stderr",
     "output_type": "stream",
     "text": [
      "\n",
      "C:\\Users\\bhb35\\Documents\\data\\investments\\PycharmProjects\\Investments\\functions\\simple_finance.py:95: FutureWarning: 'M' is deprecated and will be removed in a future version, please use 'ME' instead.\n",
      "  month_end_data = data.resample('ME').ffill()  # 'ME' gives month-end, ffill to get last available price\n"
     ]
    }
   ],
   "execution_count": 69
  },
  {
   "metadata": {
    "id": "97b7008bd9ffd661",
    "ExecuteTime": {
     "end_time": "2024-12-16T17:54:32.178329Z",
     "start_time": "2024-12-16T17:54:32.171907Z"
    }
   },
   "cell_type": "code",
   "source": [
    "# Calculate the annualized average return and volatility\n",
    "A_Avg = dat.mean() * 12\n",
    "A_Vol = dat.std() * np.sqrt(12)\n",
    "print('Anualized Average Return')\n",
    "print(A_Avg)\n",
    "print()\n",
    "print('Annualized Volatility')\n",
    "print(A_Vol)"
   ],
   "id": "97b7008bd9ffd661",
   "outputs": [
    {
     "name": "stdout",
     "output_type": "stream",
     "text": [
      "Anualized Average Return\n",
      "^RUA    0.089472\n",
      "F       0.133204\n",
      "dtype: float64\n",
      "\n",
      "Annualized Volatility\n",
      "^RUA    0.152483\n",
      "F       0.431903\n",
      "dtype: float64\n"
     ]
    }
   ],
   "execution_count": 70
  },
  {
   "metadata": {
    "id": "e2c37d3cf72d9c37"
   },
   "cell_type": "markdown",
   "source": [
    "### Calculate Sharpe Ratios\n",
    "In this block od code we access data for the Russell 3000 index and Ford Motor Company **ticker = ['^RUA', 'F']**. We also retrieve data on short-term t-bill returns. Using these data we calculate the Sharpe ratios for the Russell 3000 and Ford."
   ],
   "id": "e2c37d3cf72d9c37"
  },
  {
   "metadata": {
    "id": "654477d73970a945",
    "ExecuteTime": {
     "end_time": "2024-12-16T17:54:32.789702Z",
     "start_time": "2024-12-16T17:54:32.217001Z"
    }
   },
   "cell_type": "code",
   "source": [
    "# Download data along with return on short-term tbills from Ken French's website\n",
    "dat = sf.get_monthly_returns(ticker, '1990-01-01', '2023-12-31', tbill_return=True)\n",
    "# Calculate excess returns\n",
    "dat['exret0'] = dat[ticker[0]] - dat['RF']\n",
    "dat['exret1'] = dat[ticker[1]] - dat['RF']\n",
    "print(dat.head())"
   ],
   "id": "654477d73970a945",
   "outputs": [
    {
     "name": "stderr",
     "output_type": "stream",
     "text": [
      "[*********************100%***********************]  1 of 1 completed\n",
      "C:\\Users\\bhb35\\Documents\\data\\investments\\PycharmProjects\\Investments\\functions\\simple_finance.py:95: FutureWarning: 'M' is deprecated and will be removed in a future version, please use 'ME' instead.\n",
      "  month_end_data = data.resample('ME').ffill()  # 'ME' gives month-end, ffill to get last available price\n",
      "[*********************100%***********************]  1 of 1 completed"
     ]
    },
    {
     "name": "stdout",
     "output_type": "stream",
     "text": [
      "hi\n",
      "                   Open         High          Low        Close    Adj Close  \\\n",
      "Date                                                                          \n",
      "1989-12-01   194.039993   196.770004   194.039993   196.220001   196.220001   \n",
      "1989-12-04   196.229996   196.729996   196.130005   196.699997   196.699997   \n",
      "1989-12-05   196.710007   197.139999   195.899994   195.899994   195.899994   \n",
      "1989-12-06   195.910004   196.039993   195.119995   195.410004   195.410004   \n",
      "1989-12-07   195.410004   196.009995   194.210007   194.889999   194.889999   \n",
      "...                 ...          ...          ...          ...          ...   \n",
      "2023-12-22  2742.179932  2751.260010  2731.080078  2741.199951  2741.199951   \n",
      "2023-12-26  2744.320068  2760.330078  2744.070068  2754.719971  2754.719971   \n",
      "2023-12-27  2755.110107  2761.669922  2752.280029  2759.219971  2759.219971   \n",
      "2023-12-28  2761.050049  2765.300049  2758.260010  2759.620117  2759.620117   \n",
      "2023-12-29  2758.719971  2761.300049  2739.989990  2748.209961  2748.209961   \n",
      "\n",
      "            Volume  \n",
      "Date                \n",
      "1989-12-01       0  \n",
      "1989-12-04       0  \n",
      "1989-12-05       0  \n",
      "1989-12-06       0  \n",
      "1989-12-07       0  \n",
      "...            ...  \n",
      "2023-12-22       0  \n",
      "2023-12-26       0  \n",
      "2023-12-27       0  \n",
      "2023-12-28       0  \n",
      "2023-12-29       0  \n",
      "\n",
      "[8556 rows x 6 columns]\n",
      "                 Open       High        Low      Close  Adj Close    Volume\n",
      "Date                                                                       \n",
      "1989-12-01   8.188622   8.325479   8.188622   8.302670   2.284910   5555243\n",
      "1989-12-04   8.302670   8.348289   8.188622   8.325479   2.291188   4935985\n",
      "1989-12-05   8.325479   8.393908   8.211432   8.257051   2.272356   5032983\n",
      "1989-12-06   8.234241   8.279860   8.165813   8.257051   2.272356   6449606\n",
      "1989-12-07   8.257051   8.257051   8.120194   8.234241   2.266079   2477583\n",
      "...               ...        ...        ...        ...        ...       ...\n",
      "2023-12-22  12.320000  12.460000  12.280000  12.350000  11.542162  43718600\n",
      "2023-12-26  12.390000  12.500000  12.370000  12.450000  11.635618  26293700\n",
      "2023-12-27  12.430000  12.450000  12.230000  12.390000  11.579545  39891300\n",
      "2023-12-28  12.380000  12.430000  12.280000  12.340000  11.532815  26688500\n",
      "2023-12-29  12.350000  12.390000  12.160000  12.190000  11.392626  40902400\n",
      "\n",
      "[8585 rows x 6 columns]\n"
     ]
    },
    {
     "name": "stderr",
     "output_type": "stream",
     "text": [
      "\n",
      "C:\\Users\\bhb35\\Documents\\data\\investments\\PycharmProjects\\Investments\\functions\\simple_finance.py:95: FutureWarning: 'M' is deprecated and will be removed in a future version, please use 'ME' instead.\n",
      "  month_end_data = data.resample('ME').ffill()  # 'ME' gives month-end, ffill to get last available price\n"
     ]
    },
    {
     "ename": "URLError",
     "evalue": "<urlopen error [SSL: CERTIFICATE_VERIFY_FAILED] certificate verify failed: unable to get local issuer certificate (_ssl.c:1000)>",
     "output_type": "error",
     "traceback": [
      "\u001B[1;31m---------------------------------------------------------------------------\u001B[0m",
      "\u001B[1;31mSSLCertVerificationError\u001B[0m                  Traceback (most recent call last)",
      "File \u001B[1;32m~\\AppData\\Local\\Programs\\Python\\Python312\\Lib\\urllib\\request.py:1344\u001B[0m, in \u001B[0;36mAbstractHTTPHandler.do_open\u001B[1;34m(self, http_class, req, **http_conn_args)\u001B[0m\n\u001B[0;32m   1343\u001B[0m \u001B[38;5;28;01mtry\u001B[39;00m:\n\u001B[1;32m-> 1344\u001B[0m     \u001B[43mh\u001B[49m\u001B[38;5;241;43m.\u001B[39;49m\u001B[43mrequest\u001B[49m\u001B[43m(\u001B[49m\u001B[43mreq\u001B[49m\u001B[38;5;241;43m.\u001B[39;49m\u001B[43mget_method\u001B[49m\u001B[43m(\u001B[49m\u001B[43m)\u001B[49m\u001B[43m,\u001B[49m\u001B[43m \u001B[49m\u001B[43mreq\u001B[49m\u001B[38;5;241;43m.\u001B[39;49m\u001B[43mselector\u001B[49m\u001B[43m,\u001B[49m\u001B[43m \u001B[49m\u001B[43mreq\u001B[49m\u001B[38;5;241;43m.\u001B[39;49m\u001B[43mdata\u001B[49m\u001B[43m,\u001B[49m\u001B[43m \u001B[49m\u001B[43mheaders\u001B[49m\u001B[43m,\u001B[49m\n\u001B[0;32m   1345\u001B[0m \u001B[43m              \u001B[49m\u001B[43mencode_chunked\u001B[49m\u001B[38;5;241;43m=\u001B[39;49m\u001B[43mreq\u001B[49m\u001B[38;5;241;43m.\u001B[39;49m\u001B[43mhas_header\u001B[49m\u001B[43m(\u001B[49m\u001B[38;5;124;43m'\u001B[39;49m\u001B[38;5;124;43mTransfer-encoding\u001B[39;49m\u001B[38;5;124;43m'\u001B[39;49m\u001B[43m)\u001B[49m\u001B[43m)\u001B[49m\n\u001B[0;32m   1346\u001B[0m \u001B[38;5;28;01mexcept\u001B[39;00m \u001B[38;5;167;01mOSError\u001B[39;00m \u001B[38;5;28;01mas\u001B[39;00m err: \u001B[38;5;66;03m# timeout error\u001B[39;00m\n",
      "File \u001B[1;32m~\\AppData\\Local\\Programs\\Python\\Python312\\Lib\\http\\client.py:1336\u001B[0m, in \u001B[0;36mHTTPConnection.request\u001B[1;34m(self, method, url, body, headers, encode_chunked)\u001B[0m\n\u001B[0;32m   1335\u001B[0m \u001B[38;5;250m\u001B[39m\u001B[38;5;124;03m\"\"\"Send a complete request to the server.\"\"\"\u001B[39;00m\n\u001B[1;32m-> 1336\u001B[0m \u001B[38;5;28;43mself\u001B[39;49m\u001B[38;5;241;43m.\u001B[39;49m\u001B[43m_send_request\u001B[49m\u001B[43m(\u001B[49m\u001B[43mmethod\u001B[49m\u001B[43m,\u001B[49m\u001B[43m \u001B[49m\u001B[43murl\u001B[49m\u001B[43m,\u001B[49m\u001B[43m \u001B[49m\u001B[43mbody\u001B[49m\u001B[43m,\u001B[49m\u001B[43m \u001B[49m\u001B[43mheaders\u001B[49m\u001B[43m,\u001B[49m\u001B[43m \u001B[49m\u001B[43mencode_chunked\u001B[49m\u001B[43m)\u001B[49m\n",
      "File \u001B[1;32m~\\AppData\\Local\\Programs\\Python\\Python312\\Lib\\http\\client.py:1382\u001B[0m, in \u001B[0;36mHTTPConnection._send_request\u001B[1;34m(self, method, url, body, headers, encode_chunked)\u001B[0m\n\u001B[0;32m   1381\u001B[0m     body \u001B[38;5;241m=\u001B[39m _encode(body, \u001B[38;5;124m'\u001B[39m\u001B[38;5;124mbody\u001B[39m\u001B[38;5;124m'\u001B[39m)\n\u001B[1;32m-> 1382\u001B[0m \u001B[38;5;28;43mself\u001B[39;49m\u001B[38;5;241;43m.\u001B[39;49m\u001B[43mendheaders\u001B[49m\u001B[43m(\u001B[49m\u001B[43mbody\u001B[49m\u001B[43m,\u001B[49m\u001B[43m \u001B[49m\u001B[43mencode_chunked\u001B[49m\u001B[38;5;241;43m=\u001B[39;49m\u001B[43mencode_chunked\u001B[49m\u001B[43m)\u001B[49m\n",
      "File \u001B[1;32m~\\AppData\\Local\\Programs\\Python\\Python312\\Lib\\http\\client.py:1331\u001B[0m, in \u001B[0;36mHTTPConnection.endheaders\u001B[1;34m(self, message_body, encode_chunked)\u001B[0m\n\u001B[0;32m   1330\u001B[0m     \u001B[38;5;28;01mraise\u001B[39;00m CannotSendHeader()\n\u001B[1;32m-> 1331\u001B[0m \u001B[38;5;28;43mself\u001B[39;49m\u001B[38;5;241;43m.\u001B[39;49m\u001B[43m_send_output\u001B[49m\u001B[43m(\u001B[49m\u001B[43mmessage_body\u001B[49m\u001B[43m,\u001B[49m\u001B[43m \u001B[49m\u001B[43mencode_chunked\u001B[49m\u001B[38;5;241;43m=\u001B[39;49m\u001B[43mencode_chunked\u001B[49m\u001B[43m)\u001B[49m\n",
      "File \u001B[1;32m~\\AppData\\Local\\Programs\\Python\\Python312\\Lib\\http\\client.py:1091\u001B[0m, in \u001B[0;36mHTTPConnection._send_output\u001B[1;34m(self, message_body, encode_chunked)\u001B[0m\n\u001B[0;32m   1090\u001B[0m \u001B[38;5;28;01mdel\u001B[39;00m \u001B[38;5;28mself\u001B[39m\u001B[38;5;241m.\u001B[39m_buffer[:]\n\u001B[1;32m-> 1091\u001B[0m \u001B[38;5;28;43mself\u001B[39;49m\u001B[38;5;241;43m.\u001B[39;49m\u001B[43msend\u001B[49m\u001B[43m(\u001B[49m\u001B[43mmsg\u001B[49m\u001B[43m)\u001B[49m\n\u001B[0;32m   1093\u001B[0m \u001B[38;5;28;01mif\u001B[39;00m message_body \u001B[38;5;129;01mis\u001B[39;00m \u001B[38;5;129;01mnot\u001B[39;00m \u001B[38;5;28;01mNone\u001B[39;00m:\n\u001B[0;32m   1094\u001B[0m \n\u001B[0;32m   1095\u001B[0m     \u001B[38;5;66;03m# create a consistent interface to message_body\u001B[39;00m\n",
      "File \u001B[1;32m~\\AppData\\Local\\Programs\\Python\\Python312\\Lib\\http\\client.py:1035\u001B[0m, in \u001B[0;36mHTTPConnection.send\u001B[1;34m(self, data)\u001B[0m\n\u001B[0;32m   1034\u001B[0m \u001B[38;5;28;01mif\u001B[39;00m \u001B[38;5;28mself\u001B[39m\u001B[38;5;241m.\u001B[39mauto_open:\n\u001B[1;32m-> 1035\u001B[0m     \u001B[38;5;28;43mself\u001B[39;49m\u001B[38;5;241;43m.\u001B[39;49m\u001B[43mconnect\u001B[49m\u001B[43m(\u001B[49m\u001B[43m)\u001B[49m\n\u001B[0;32m   1036\u001B[0m \u001B[38;5;28;01melse\u001B[39;00m:\n",
      "File \u001B[1;32m~\\AppData\\Local\\Programs\\Python\\Python312\\Lib\\http\\client.py:1477\u001B[0m, in \u001B[0;36mHTTPSConnection.connect\u001B[1;34m(self)\u001B[0m\n\u001B[0;32m   1475\u001B[0m     server_hostname \u001B[38;5;241m=\u001B[39m \u001B[38;5;28mself\u001B[39m\u001B[38;5;241m.\u001B[39mhost\n\u001B[1;32m-> 1477\u001B[0m \u001B[38;5;28mself\u001B[39m\u001B[38;5;241m.\u001B[39msock \u001B[38;5;241m=\u001B[39m \u001B[38;5;28;43mself\u001B[39;49m\u001B[38;5;241;43m.\u001B[39;49m\u001B[43m_context\u001B[49m\u001B[38;5;241;43m.\u001B[39;49m\u001B[43mwrap_socket\u001B[49m\u001B[43m(\u001B[49m\u001B[38;5;28;43mself\u001B[39;49m\u001B[38;5;241;43m.\u001B[39;49m\u001B[43msock\u001B[49m\u001B[43m,\u001B[49m\n\u001B[0;32m   1478\u001B[0m \u001B[43m                                      \u001B[49m\u001B[43mserver_hostname\u001B[49m\u001B[38;5;241;43m=\u001B[39;49m\u001B[43mserver_hostname\u001B[49m\u001B[43m)\u001B[49m\n",
      "File \u001B[1;32m~\\AppData\\Local\\Programs\\Python\\Python312\\Lib\\ssl.py:455\u001B[0m, in \u001B[0;36mSSLContext.wrap_socket\u001B[1;34m(self, sock, server_side, do_handshake_on_connect, suppress_ragged_eofs, server_hostname, session)\u001B[0m\n\u001B[0;32m    449\u001B[0m \u001B[38;5;28;01mdef\u001B[39;00m \u001B[38;5;21mwrap_socket\u001B[39m(\u001B[38;5;28mself\u001B[39m, sock, server_side\u001B[38;5;241m=\u001B[39m\u001B[38;5;28;01mFalse\u001B[39;00m,\n\u001B[0;32m    450\u001B[0m                 do_handshake_on_connect\u001B[38;5;241m=\u001B[39m\u001B[38;5;28;01mTrue\u001B[39;00m,\n\u001B[0;32m    451\u001B[0m                 suppress_ragged_eofs\u001B[38;5;241m=\u001B[39m\u001B[38;5;28;01mTrue\u001B[39;00m,\n\u001B[0;32m    452\u001B[0m                 server_hostname\u001B[38;5;241m=\u001B[39m\u001B[38;5;28;01mNone\u001B[39;00m, session\u001B[38;5;241m=\u001B[39m\u001B[38;5;28;01mNone\u001B[39;00m):\n\u001B[0;32m    453\u001B[0m     \u001B[38;5;66;03m# SSLSocket class handles server_hostname encoding before it calls\u001B[39;00m\n\u001B[0;32m    454\u001B[0m     \u001B[38;5;66;03m# ctx._wrap_socket()\u001B[39;00m\n\u001B[1;32m--> 455\u001B[0m     \u001B[38;5;28;01mreturn\u001B[39;00m \u001B[38;5;28;43mself\u001B[39;49m\u001B[38;5;241;43m.\u001B[39;49m\u001B[43msslsocket_class\u001B[49m\u001B[38;5;241;43m.\u001B[39;49m\u001B[43m_create\u001B[49m\u001B[43m(\u001B[49m\n\u001B[0;32m    456\u001B[0m \u001B[43m        \u001B[49m\u001B[43msock\u001B[49m\u001B[38;5;241;43m=\u001B[39;49m\u001B[43msock\u001B[49m\u001B[43m,\u001B[49m\n\u001B[0;32m    457\u001B[0m \u001B[43m        \u001B[49m\u001B[43mserver_side\u001B[49m\u001B[38;5;241;43m=\u001B[39;49m\u001B[43mserver_side\u001B[49m\u001B[43m,\u001B[49m\n\u001B[0;32m    458\u001B[0m \u001B[43m        \u001B[49m\u001B[43mdo_handshake_on_connect\u001B[49m\u001B[38;5;241;43m=\u001B[39;49m\u001B[43mdo_handshake_on_connect\u001B[49m\u001B[43m,\u001B[49m\n\u001B[0;32m    459\u001B[0m \u001B[43m        \u001B[49m\u001B[43msuppress_ragged_eofs\u001B[49m\u001B[38;5;241;43m=\u001B[39;49m\u001B[43msuppress_ragged_eofs\u001B[49m\u001B[43m,\u001B[49m\n\u001B[0;32m    460\u001B[0m \u001B[43m        \u001B[49m\u001B[43mserver_hostname\u001B[49m\u001B[38;5;241;43m=\u001B[39;49m\u001B[43mserver_hostname\u001B[49m\u001B[43m,\u001B[49m\n\u001B[0;32m    461\u001B[0m \u001B[43m        \u001B[49m\u001B[43mcontext\u001B[49m\u001B[38;5;241;43m=\u001B[39;49m\u001B[38;5;28;43mself\u001B[39;49m\u001B[43m,\u001B[49m\n\u001B[0;32m    462\u001B[0m \u001B[43m        \u001B[49m\u001B[43msession\u001B[49m\u001B[38;5;241;43m=\u001B[39;49m\u001B[43msession\u001B[49m\n\u001B[0;32m    463\u001B[0m \u001B[43m    \u001B[49m\u001B[43m)\u001B[49m\n",
      "File \u001B[1;32m~\\AppData\\Local\\Programs\\Python\\Python312\\Lib\\ssl.py:1041\u001B[0m, in \u001B[0;36mSSLSocket._create\u001B[1;34m(cls, sock, server_side, do_handshake_on_connect, suppress_ragged_eofs, server_hostname, context, session)\u001B[0m\n\u001B[0;32m   1040\u001B[0m                 \u001B[38;5;28;01mraise\u001B[39;00m \u001B[38;5;167;01mValueError\u001B[39;00m(\u001B[38;5;124m\"\u001B[39m\u001B[38;5;124mdo_handshake_on_connect should not be specified for non-blocking sockets\u001B[39m\u001B[38;5;124m\"\u001B[39m)\n\u001B[1;32m-> 1041\u001B[0m             \u001B[38;5;28;43mself\u001B[39;49m\u001B[38;5;241;43m.\u001B[39;49m\u001B[43mdo_handshake\u001B[49m\u001B[43m(\u001B[49m\u001B[43m)\u001B[49m\n\u001B[0;32m   1042\u001B[0m \u001B[38;5;28;01mexcept\u001B[39;00m:\n",
      "File \u001B[1;32m~\\AppData\\Local\\Programs\\Python\\Python312\\Lib\\ssl.py:1319\u001B[0m, in \u001B[0;36mSSLSocket.do_handshake\u001B[1;34m(self, block)\u001B[0m\n\u001B[0;32m   1318\u001B[0m         \u001B[38;5;28mself\u001B[39m\u001B[38;5;241m.\u001B[39msettimeout(\u001B[38;5;28;01mNone\u001B[39;00m)\n\u001B[1;32m-> 1319\u001B[0m     \u001B[38;5;28;43mself\u001B[39;49m\u001B[38;5;241;43m.\u001B[39;49m\u001B[43m_sslobj\u001B[49m\u001B[38;5;241;43m.\u001B[39;49m\u001B[43mdo_handshake\u001B[49m\u001B[43m(\u001B[49m\u001B[43m)\u001B[49m\n\u001B[0;32m   1320\u001B[0m \u001B[38;5;28;01mfinally\u001B[39;00m:\n",
      "\u001B[1;31mSSLCertVerificationError\u001B[0m: [SSL: CERTIFICATE_VERIFY_FAILED] certificate verify failed: unable to get local issuer certificate (_ssl.c:1000)",
      "\nDuring handling of the above exception, another exception occurred:\n",
      "\u001B[1;31mURLError\u001B[0m                                  Traceback (most recent call last)",
      "Cell \u001B[1;32mIn[71], line 2\u001B[0m\n\u001B[0;32m      1\u001B[0m \u001B[38;5;66;03m# Download data along with return on short-term tbills from Ken French's website\u001B[39;00m\n\u001B[1;32m----> 2\u001B[0m dat \u001B[38;5;241m=\u001B[39m \u001B[43msf\u001B[49m\u001B[38;5;241;43m.\u001B[39;49m\u001B[43mget_monthly_returns\u001B[49m\u001B[43m(\u001B[49m\u001B[43mticker\u001B[49m\u001B[43m,\u001B[49m\u001B[43m \u001B[49m\u001B[38;5;124;43m'\u001B[39;49m\u001B[38;5;124;43m1990-01-01\u001B[39;49m\u001B[38;5;124;43m'\u001B[39;49m\u001B[43m,\u001B[49m\u001B[43m \u001B[49m\u001B[38;5;124;43m'\u001B[39;49m\u001B[38;5;124;43m2023-12-31\u001B[39;49m\u001B[38;5;124;43m'\u001B[39;49m\u001B[43m,\u001B[49m\u001B[43m \u001B[49m\u001B[43mtbill_return\u001B[49m\u001B[38;5;241;43m=\u001B[39;49m\u001B[38;5;28;43;01mTrue\u001B[39;49;00m\u001B[43m)\u001B[49m\n\u001B[0;32m      3\u001B[0m \u001B[38;5;66;03m# Calculate excess returns\u001B[39;00m\n\u001B[0;32m      4\u001B[0m dat[\u001B[38;5;124m'\u001B[39m\u001B[38;5;124mexret0\u001B[39m\u001B[38;5;124m'\u001B[39m] \u001B[38;5;241m=\u001B[39m dat[ticker[\u001B[38;5;241m0\u001B[39m]] \u001B[38;5;241m-\u001B[39m dat[\u001B[38;5;124m'\u001B[39m\u001B[38;5;124mRF\u001B[39m\u001B[38;5;124m'\u001B[39m]\n",
      "File \u001B[1;32m~\\Documents\\data\\investments\\PycharmProjects\\Investments\\functions\\simple_finance.py:109\u001B[0m, in \u001B[0;36mget_monthly_returns\u001B[1;34m(tickers, start_date, end_date, tbill_return)\u001B[0m\n\u001B[0;32m    106\u001B[0m all_returns\u001B[38;5;241m.\u001B[39mindex \u001B[38;5;241m=\u001B[39m all_returns\u001B[38;5;241m.\u001B[39mindex\u001B[38;5;241m.\u001B[39mto_period(\u001B[38;5;124m'\u001B[39m\u001B[38;5;124mME\u001B[39m\u001B[38;5;124m'\u001B[39m)\n\u001B[0;32m    108\u001B[0m \u001B[38;5;28;01mif\u001B[39;00m tbill_return:\n\u001B[1;32m--> 109\u001B[0m     ff3 \u001B[38;5;241m=\u001B[39m \u001B[43mget_ff3\u001B[49m\u001B[43m(\u001B[49m\u001B[43m)\u001B[49m\n\u001B[0;32m    110\u001B[0m     all_returns \u001B[38;5;241m=\u001B[39m all_returns\u001B[38;5;241m.\u001B[39mjoin(ff3[\u001B[38;5;124m'\u001B[39m\u001B[38;5;124mRF\u001B[39m\u001B[38;5;124m'\u001B[39m])\n\u001B[0;32m    112\u001B[0m \u001B[38;5;28;01mreturn\u001B[39;00m all_returns\n",
      "File \u001B[1;32m~\\Documents\\data\\investments\\PycharmProjects\\Investments\\functions\\simple_finance.py:49\u001B[0m, in \u001B[0;36mget_ff3\u001B[1;34m()\u001B[0m\n\u001B[0;32m     47\u001B[0m \u001B[38;5;66;03m# Read the zipped CSV file from the URL\u001B[39;00m\n\u001B[0;32m     48\u001B[0m context \u001B[38;5;241m=\u001B[39m ssl\u001B[38;5;241m.\u001B[39mcreate_default_context(cafile\u001B[38;5;241m=\u001B[39mcertifi\u001B[38;5;241m.\u001B[39mwhere())\n\u001B[1;32m---> 49\u001B[0m \u001B[38;5;28;01mwith\u001B[39;00m \u001B[43murllib\u001B[49m\u001B[38;5;241;43m.\u001B[39;49m\u001B[43mrequest\u001B[49m\u001B[38;5;241;43m.\u001B[39;49m\u001B[43murlopen\u001B[49m\u001B[43m(\u001B[49m\u001B[43murl\u001B[49m\u001B[43m,\u001B[49m\u001B[43m \u001B[49m\u001B[43mcontext\u001B[49m\u001B[38;5;241;43m=\u001B[39;49m\u001B[43mcontext\u001B[49m\u001B[43m)\u001B[49m \u001B[38;5;28;01mas\u001B[39;00m response:\n\u001B[0;32m     50\u001B[0m     ff_three_factors \u001B[38;5;241m=\u001B[39m pd\u001B[38;5;241m.\u001B[39mread_csv(url, skiprows\u001B[38;5;241m=\u001B[39m\u001B[38;5;241m3\u001B[39m)\n\u001B[0;32m     52\u001B[0m \u001B[38;5;66;03m# Use str.match to identify rows with dates (6-digit YYYYMM format), and drop NaN values that could arise\u001B[39;00m\n",
      "File \u001B[1;32m~\\AppData\\Local\\Programs\\Python\\Python312\\Lib\\urllib\\request.py:215\u001B[0m, in \u001B[0;36murlopen\u001B[1;34m(url, data, timeout, cafile, capath, cadefault, context)\u001B[0m\n\u001B[0;32m    213\u001B[0m \u001B[38;5;28;01melse\u001B[39;00m:\n\u001B[0;32m    214\u001B[0m     opener \u001B[38;5;241m=\u001B[39m _opener\n\u001B[1;32m--> 215\u001B[0m \u001B[38;5;28;01mreturn\u001B[39;00m \u001B[43mopener\u001B[49m\u001B[38;5;241;43m.\u001B[39;49m\u001B[43mopen\u001B[49m\u001B[43m(\u001B[49m\u001B[43murl\u001B[49m\u001B[43m,\u001B[49m\u001B[43m \u001B[49m\u001B[43mdata\u001B[49m\u001B[43m,\u001B[49m\u001B[43m \u001B[49m\u001B[43mtimeout\u001B[49m\u001B[43m)\u001B[49m\n",
      "File \u001B[1;32m~\\AppData\\Local\\Programs\\Python\\Python312\\Lib\\urllib\\request.py:515\u001B[0m, in \u001B[0;36mOpenerDirector.open\u001B[1;34m(self, fullurl, data, timeout)\u001B[0m\n\u001B[0;32m    512\u001B[0m     req \u001B[38;5;241m=\u001B[39m meth(req)\n\u001B[0;32m    514\u001B[0m sys\u001B[38;5;241m.\u001B[39maudit(\u001B[38;5;124m'\u001B[39m\u001B[38;5;124murllib.Request\u001B[39m\u001B[38;5;124m'\u001B[39m, req\u001B[38;5;241m.\u001B[39mfull_url, req\u001B[38;5;241m.\u001B[39mdata, req\u001B[38;5;241m.\u001B[39mheaders, req\u001B[38;5;241m.\u001B[39mget_method())\n\u001B[1;32m--> 515\u001B[0m response \u001B[38;5;241m=\u001B[39m \u001B[38;5;28;43mself\u001B[39;49m\u001B[38;5;241;43m.\u001B[39;49m\u001B[43m_open\u001B[49m\u001B[43m(\u001B[49m\u001B[43mreq\u001B[49m\u001B[43m,\u001B[49m\u001B[43m \u001B[49m\u001B[43mdata\u001B[49m\u001B[43m)\u001B[49m\n\u001B[0;32m    517\u001B[0m \u001B[38;5;66;03m# post-process response\u001B[39;00m\n\u001B[0;32m    518\u001B[0m meth_name \u001B[38;5;241m=\u001B[39m protocol\u001B[38;5;241m+\u001B[39m\u001B[38;5;124m\"\u001B[39m\u001B[38;5;124m_response\u001B[39m\u001B[38;5;124m\"\u001B[39m\n",
      "File \u001B[1;32m~\\AppData\\Local\\Programs\\Python\\Python312\\Lib\\urllib\\request.py:532\u001B[0m, in \u001B[0;36mOpenerDirector._open\u001B[1;34m(self, req, data)\u001B[0m\n\u001B[0;32m    529\u001B[0m     \u001B[38;5;28;01mreturn\u001B[39;00m result\n\u001B[0;32m    531\u001B[0m protocol \u001B[38;5;241m=\u001B[39m req\u001B[38;5;241m.\u001B[39mtype\n\u001B[1;32m--> 532\u001B[0m result \u001B[38;5;241m=\u001B[39m \u001B[38;5;28;43mself\u001B[39;49m\u001B[38;5;241;43m.\u001B[39;49m\u001B[43m_call_chain\u001B[49m\u001B[43m(\u001B[49m\u001B[38;5;28;43mself\u001B[39;49m\u001B[38;5;241;43m.\u001B[39;49m\u001B[43mhandle_open\u001B[49m\u001B[43m,\u001B[49m\u001B[43m \u001B[49m\u001B[43mprotocol\u001B[49m\u001B[43m,\u001B[49m\u001B[43m \u001B[49m\u001B[43mprotocol\u001B[49m\u001B[43m \u001B[49m\u001B[38;5;241;43m+\u001B[39;49m\n\u001B[0;32m    533\u001B[0m \u001B[43m                          \u001B[49m\u001B[38;5;124;43m'\u001B[39;49m\u001B[38;5;124;43m_open\u001B[39;49m\u001B[38;5;124;43m'\u001B[39;49m\u001B[43m,\u001B[49m\u001B[43m \u001B[49m\u001B[43mreq\u001B[49m\u001B[43m)\u001B[49m\n\u001B[0;32m    534\u001B[0m \u001B[38;5;28;01mif\u001B[39;00m result:\n\u001B[0;32m    535\u001B[0m     \u001B[38;5;28;01mreturn\u001B[39;00m result\n",
      "File \u001B[1;32m~\\AppData\\Local\\Programs\\Python\\Python312\\Lib\\urllib\\request.py:492\u001B[0m, in \u001B[0;36mOpenerDirector._call_chain\u001B[1;34m(self, chain, kind, meth_name, *args)\u001B[0m\n\u001B[0;32m    490\u001B[0m \u001B[38;5;28;01mfor\u001B[39;00m handler \u001B[38;5;129;01min\u001B[39;00m handlers:\n\u001B[0;32m    491\u001B[0m     func \u001B[38;5;241m=\u001B[39m \u001B[38;5;28mgetattr\u001B[39m(handler, meth_name)\n\u001B[1;32m--> 492\u001B[0m     result \u001B[38;5;241m=\u001B[39m \u001B[43mfunc\u001B[49m\u001B[43m(\u001B[49m\u001B[38;5;241;43m*\u001B[39;49m\u001B[43margs\u001B[49m\u001B[43m)\u001B[49m\n\u001B[0;32m    493\u001B[0m     \u001B[38;5;28;01mif\u001B[39;00m result \u001B[38;5;129;01mis\u001B[39;00m \u001B[38;5;129;01mnot\u001B[39;00m \u001B[38;5;28;01mNone\u001B[39;00m:\n\u001B[0;32m    494\u001B[0m         \u001B[38;5;28;01mreturn\u001B[39;00m result\n",
      "File \u001B[1;32m~\\AppData\\Local\\Programs\\Python\\Python312\\Lib\\urllib\\request.py:1392\u001B[0m, in \u001B[0;36mHTTPSHandler.https_open\u001B[1;34m(self, req)\u001B[0m\n\u001B[0;32m   1391\u001B[0m \u001B[38;5;28;01mdef\u001B[39;00m \u001B[38;5;21mhttps_open\u001B[39m(\u001B[38;5;28mself\u001B[39m, req):\n\u001B[1;32m-> 1392\u001B[0m     \u001B[38;5;28;01mreturn\u001B[39;00m \u001B[38;5;28;43mself\u001B[39;49m\u001B[38;5;241;43m.\u001B[39;49m\u001B[43mdo_open\u001B[49m\u001B[43m(\u001B[49m\u001B[43mhttp\u001B[49m\u001B[38;5;241;43m.\u001B[39;49m\u001B[43mclient\u001B[49m\u001B[38;5;241;43m.\u001B[39;49m\u001B[43mHTTPSConnection\u001B[49m\u001B[43m,\u001B[49m\u001B[43m \u001B[49m\u001B[43mreq\u001B[49m\u001B[43m,\u001B[49m\n\u001B[0;32m   1393\u001B[0m \u001B[43m                        \u001B[49m\u001B[43mcontext\u001B[49m\u001B[38;5;241;43m=\u001B[39;49m\u001B[38;5;28;43mself\u001B[39;49m\u001B[38;5;241;43m.\u001B[39;49m\u001B[43m_context\u001B[49m\u001B[43m)\u001B[49m\n",
      "File \u001B[1;32m~\\AppData\\Local\\Programs\\Python\\Python312\\Lib\\urllib\\request.py:1347\u001B[0m, in \u001B[0;36mAbstractHTTPHandler.do_open\u001B[1;34m(self, http_class, req, **http_conn_args)\u001B[0m\n\u001B[0;32m   1344\u001B[0m         h\u001B[38;5;241m.\u001B[39mrequest(req\u001B[38;5;241m.\u001B[39mget_method(), req\u001B[38;5;241m.\u001B[39mselector, req\u001B[38;5;241m.\u001B[39mdata, headers,\n\u001B[0;32m   1345\u001B[0m                   encode_chunked\u001B[38;5;241m=\u001B[39mreq\u001B[38;5;241m.\u001B[39mhas_header(\u001B[38;5;124m'\u001B[39m\u001B[38;5;124mTransfer-encoding\u001B[39m\u001B[38;5;124m'\u001B[39m))\n\u001B[0;32m   1346\u001B[0m     \u001B[38;5;28;01mexcept\u001B[39;00m \u001B[38;5;167;01mOSError\u001B[39;00m \u001B[38;5;28;01mas\u001B[39;00m err: \u001B[38;5;66;03m# timeout error\u001B[39;00m\n\u001B[1;32m-> 1347\u001B[0m         \u001B[38;5;28;01mraise\u001B[39;00m URLError(err)\n\u001B[0;32m   1348\u001B[0m     r \u001B[38;5;241m=\u001B[39m h\u001B[38;5;241m.\u001B[39mgetresponse()\n\u001B[0;32m   1349\u001B[0m \u001B[38;5;28;01mexcept\u001B[39;00m:\n",
      "\u001B[1;31mURLError\u001B[0m: <urlopen error [SSL: CERTIFICATE_VERIFY_FAILED] certificate verify failed: unable to get local issuer certificate (_ssl.c:1000)>"
     ]
    }
   ],
   "execution_count": 71
  },
  {
   "metadata": {
    "id": "7d6b70f7d5f61ab4"
   },
   "cell_type": "code",
   "source": [
    "# Calculate and print Sharpe ratios\n",
    "# Calculate the Shapre ratio for the first ticker in the list\n",
    "A_AVG_exret0 = dat['exret0'].mean() * 12\n",
    "A_Vol_exret0 = dat[ticker[0]].std() * np.sqrt(12)\n",
    "Sharpe0 = A_AVG_exret0/A_Vol_exret0\n",
    "\n",
    "# Calculate the Shapre ratio for the second ticker in the list\n",
    "A_AVG_exret1 = dat['exret1'].mean() * 12\n",
    "A_Vol_exret1 = dat[ticker[1]].std() * np.sqrt(12)\n",
    "Sharpe1 = A_AVG_exret1/A_Vol_exret1\n",
    "\n",
    "print('Sharpe Ratios')\n",
    "print(ticker[0], Sharpe0)\n",
    "print(ticker[1], Sharpe1)"
   ],
   "id": "7d6b70f7d5f61ab4",
   "outputs": [],
   "execution_count": null
  }
 ],
 "metadata": {
  "kernelspec": {
   "display_name": "Python 3",
   "language": "python",
   "name": "python3"
  },
  "language_info": {
   "codemirror_mode": {
    "name": "ipython",
    "version": 2
   },
   "file_extension": ".py",
   "mimetype": "text/x-python",
   "name": "python",
   "nbconvert_exporter": "python",
   "pygments_lexer": "ipython2",
   "version": "2.7.6"
  },
  "colab": {
   "provenance": []
  }
 },
 "nbformat": 4,
 "nbformat_minor": 5
}
