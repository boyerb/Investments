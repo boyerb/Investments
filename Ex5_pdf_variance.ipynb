{
  "nbformat": 4,
  "nbformat_minor": 0,
  "metadata": {
    "colab": {
      "provenance": [],
      "authorship_tag": "ABX9TyNQGyod0bFQO7uW1VJM+MwS"
    },
    "kernelspec": {
      "name": "python3",
      "display_name": "Python 3"
    },
    "language_info": {
      "name": "python"
    }
  },
  "cells": [
    {
      "cell_type": "markdown",
      "source": [
        "**Foundations of Investment Analysis**, Bates Boyer, and Fletcher"
      ],
      "metadata": {
        "id": "TngM5Ndp1FMW"
      }
    },
    {
      "cell_type": "markdown",
      "source": [
        "# Example Chapter 5: Estimating the Variance from a PDF\n",
        "In this notebook, we estimate the variance and standard deviation of a stock given two probable outcomes."
      ],
      "metadata": {
        "id": "AwjQIcmo1Oty"
      }
    },
    {
      "cell_type": "markdown",
      "source": [
        "### Imports and Setup"
      ],
      "metadata": {
        "id": "-D1ju6l311dC"
      }
    },
    {
      "cell_type": "code",
      "source": [
        "# import packages\n",
        "import numpy as np"
      ],
      "metadata": {
        "id": "2FtRVDN9130n"
      },
      "execution_count": null,
      "outputs": []
    },
    {
      "cell_type": "markdown",
      "source": [
        "### Calculate Expected Return, Variance, and Standard Deviation\n",
        "We first define the possible returns, 14% and -8%, and their corresponding probabilities, 80% and 20%, respectively. We then caculate the expected return by multiplying each return by its probability and summing the results. Next we calculate the variance using the formula: Variance = sum of (probability * (return - expected return)^2). This measures the dispersion of returns around the expected return. Lastly, we calculate the standard deviation, which is the square root of the variance. It represents the amount of variation or dispersion from the expected return."
      ],
      "metadata": {
        "id": "R1_JeNf52x38"
      }
    },
    {
      "cell_type": "code",
      "source": [
        "# Define the possible returns and their corresponding probabilities\n",
        "returns = np.array([0.14, -0.08])  # 14% and -8% returns\n",
        "probabilities = np.array([0.80, 0.20])  # 80% and 20% probabilities\n",
        "\n",
        "# Calculate the expected return (mean)\n",
        "expected_return = np.sum(returns * probabilities)\n",
        "\n",
        "# Calculate the variance\n",
        "# Variance = sum of (probability * (return - expected return)^2)\n",
        "variance = np.sum(probabilities * (returns - expected_return)**2)\n",
        "\n",
        "# Calculate the standard deviation\n",
        "# Standard deviation is the square root of the variance\n",
        "std_deviation = np.sqrt(variance)\n",
        "\n",
        "# Print the results\n",
        "print(f\"Expected Return: {expected_return:.4f}\")\n",
        "print(f\"Variance: {variance:.4f}\")\n",
        "print(f\"Standard Deviation: {std_deviation:.4f}\")\n"
      ],
      "metadata": {
        "colab": {
          "base_uri": "https://localhost:8080/"
        },
        "id": "dpSm5aRJ3u8w",
        "outputId": "dc2bcd2b-371e-4132-f31b-9c6708e150c5"
      },
      "execution_count": null,
      "outputs": [
        {
          "output_type": "stream",
          "name": "stdout",
          "text": [
            "Expected Return: 0.0960\n",
            "Variance: 0.0077\n",
            "Standard Deviation: 0.0880\n"
          ]
        }
      ]
    },
    {
      "cell_type": "code",
      "source": [],
      "metadata": {
        "id": "7BFsAvOr4Gp0"
      },
      "execution_count": null,
      "outputs": []
    }
  ]
}