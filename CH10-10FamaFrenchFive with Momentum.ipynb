{
  "nbformat": 4,
  "nbformat_minor": 0,
  "metadata": {
    "colab": {
      "provenance": [],
      "authorship_tag": "ABX9TyNvTAamqrQFPWu5WudAoveD",
      "include_colab_link": true
    },
    "kernelspec": {
      "name": "python3",
      "display_name": "Python 3"
    },
    "language_info": {
      "name": "python"
    }
  },
  "cells": [
    {
      "cell_type": "markdown",
      "metadata": {
        "id": "view-in-github",
        "colab_type": "text"
      },
      "source": [
        "<a href=\"https://colab.research.google.com/github/boyerb/Investments/blob/master/CH10-10FamaFrenchFive%20with%20Momentum.ipynb\" target=\"_parent\"><img src=\"https://colab.research.google.com/assets/colab-badge.svg\" alt=\"Open In Colab\"/></a>"
      ]
    },
    {
      "cell_type": "markdown",
      "source": [
        "**Investment Analysis**, Bates, Boyer, Fletcher"
      ],
      "metadata": {
        "id": "dgRyaSt-U5QP"
      }
    },
    {
      "cell_type": "markdown",
      "source": [
        "# Example Chapter 10: The Fama French Five Model\n",
        "  "
      ],
      "metadata": {
        "id": "Aj_MDlzzU6vv"
      }
    },
    {
      "cell_type": "markdown",
      "source": [
        "### Imports and Setup"
      ],
      "metadata": {
        "id": "3IDfvN3DVJkH"
      }
    },
    {
      "cell_type": "code",
      "execution_count": null,
      "metadata": {
        "id": "VAox-pKWT-Hg"
      },
      "outputs": [],
      "source": [
        "!curl -O https://raw.githubusercontent.com/boyerb/Investments/master/functions/simple_finance.py\n",
        "import simple_finance as sf\n",
        "import pandas as pd\n",
        "import numpy as np\n",
        "import statsmodels.api as sm\n",
        "import matplotlib.pyplot as plt\n",
        "import matplotlib.ticker as mtick"
      ]
    },
    {
      "cell_type": "markdown",
      "source": [
        "### Pull Data on Beta Strategy and Estimate the FF5 Alpha for each Decile"
      ],
      "metadata": {
        "id": "viWIi3dFVJIe"
      }
    },
    {
      "cell_type": "code",
      "source": [
        "# Choose the strategy\n",
        "dat=sf.get_ff_strategies(stype='beta',details=False)\n",
        "\n",
        "# Initialize lists to store intercepts and confidence intervals\n",
        "intercepts = []\n",
        "conf_intervals = []\n",
        "\n",
        "dat['exmkt']=dat['mkt']-dat['rf']\n",
        "# Loop through each column corresponding to Dec 1 - Dec 10\n",
        "for column in [f\"Dec {i}\" for i in range(1, 11)]:\n",
        "    y = dat[column]-dat['rf']  # Dependent variable (Decile return)\n",
        "    X = dat[['exmkt','smb','hml','cma','rmw']]  # Independent variable (Market excess return)\n",
        "    X = sm.add_constant(X)    # Add constant to X for intercept\n",
        "\n",
        "    # Fit regression model\n",
        "    model = sm.OLS(y, X).fit()\n",
        "\n",
        "    # Get the intercept and 95% confidence intervals\n",
        "    intercept = model.params['const'] * 12  # Multiply intercept by 12\n",
        "    ci_lower, ci_upper = model.conf_int().iloc[0] * 12  # Multiply confidence intervals by 12\n",
        "\n",
        "    # Get the intercept and 95% confidence intervals\n",
        "    intercepts.append(intercept)  # Append intercept to list\n",
        "    conf_intervals.append([ci_lower, ci_upper])  # Append 95% CI for the intercept\n",
        "\n",
        "# Convert results to DataFrame for easier manipulation\n",
        "results_df = pd.DataFrame({\n",
        "    \"Decile\": [f\"Dec {i}\" for i in range(1, 11)],\n",
        "    \"Intercept\": intercepts,\n",
        "    \"CI_Lower\": [ci[0] for ci in conf_intervals],\n",
        "    \"CI_Upper\": [ci[1] for ci in conf_intervals]\n",
        "})"
      ],
      "metadata": {
        "id": "dM6EWmAeUKw-"
      },
      "execution_count": null,
      "outputs": []
    },
    {
      "cell_type": "markdown",
      "source": [
        "### Plot Alphas and 95% Confindence Intervals"
      ],
      "metadata": {
        "id": "Glx3XecsWFrc"
      }
    },
    {
      "cell_type": "code",
      "source": [
        "# Plot the intercepts with confidence intervals\n",
        "plt.figure(figsize=(10, 6))\n",
        "plt.errorbar(results_df[\"Decile\"], results_df[\"Intercept\"],\n",
        "             yerr=[results_df[\"Intercept\"] - results_df[\"CI_Lower\"],\n",
        "                   results_df[\"CI_Upper\"] - results_df[\"Intercept\"]],\n",
        "             fmt='o', capsize=5, capthick=2, label=\"Intercept ± 95% CI\", color='b')\n",
        "\n",
        "# Labels and title\n",
        "plt.xlabel(\"Decile\",fontsize=16)\n",
        "plt.ylabel(\"Intercept\",fontsize=16)\n",
        "#plt.title(\"Regression Intercepts with 95% Confidence Intervals\")\n",
        "plt.xticks(rotation=45)  # Rotate x-axis labels for readability\n",
        "plt.axhline(0, color='black', linestyle='--', linewidth=2)  # Reference line at 0\n",
        "plt.legend()\n",
        "# Format y-axis as percentages\n",
        "plt.gca().yaxis.set_major_formatter(mtick.PercentFormatter(xmax=1, decimals=1))\n",
        "\n",
        "# Show the plot\n",
        "plt.show()"
      ],
      "metadata": {
        "id": "3rjcCDubIXCy"
      },
      "execution_count": null,
      "outputs": []
    },
    {
      "cell_type": "markdown",
      "source": [
        "### Perform Out of Sample Test of Trading Strategy"
      ],
      "metadata": {
        "id": "utqm6nTZWS97"
      }
    },
    {
      "cell_type": "code",
      "source": [
        "start_date = '1993-01'\n",
        "end_date = '2024-12'\n",
        "\n",
        "tangent_list=[]\n",
        "for date in pd.date_range(start=start_date, end=end_date, freq='ME'):\n",
        "    # Subset data to include all observations before the current date\n",
        "    date_period = pd.Period(date, freq='M')\n",
        "    subset = dat.loc[dat.index < date_period]\n",
        "    factors = subset[['exmkt','smb','hml','cma','rmw']]\n",
        "    er = factors.mean().to_numpy()\n",
        "    cov=factors.cov().to_numpy()\n",
        "    t_weights, t_er, t_vol = sf.tangent_portfolio(er, cov, factors=True)\n",
        "    nextdate=dat.loc[dat.index == date_period]\n",
        "    tangent = (t_weights[0] * nextdate['mkt'] +\n",
        "               t_weights[1] * nextdate['smb'] +\n",
        "               t_weights[2] * nextdate['hml'] +\n",
        "               t_weights[3] * nextdate['cma'] +\n",
        "               t_weights[4] * nextdate['rmw']\n",
        "               ).iloc[0]\n",
        "        # Store results in a dictionary\n",
        "    results_dict = {\n",
        "            'date': pd.Period(date, freq='M'),\n",
        "            'tangent': tangent,  # Replace with desired operation\n",
        "            'rf': nextdate['rf'].iloc[0]     # Replace with desired operation\n",
        "        }\n",
        "\n",
        "    # Append the result to the list\n",
        "    tangent_list.append(results_dict)\n",
        "\n",
        "# Concatenate results into a single DataFrame\n",
        "tangent_df = pd.DataFrame(tangent_list).set_index('date')\n",
        "\n",
        "tangent_df['extan']=tangent_df['tangent']-tangent_df['rf']\n",
        "oos_tsharpe = tangent_df['extan'].mean()*12/(tangent_df['tangent'].std()*np.sqrt(12))\n",
        "print(oos_tsharpe)\n",
        "tsample=dat[dat.index.year>1993].copy()\n",
        "mkt_sharpe = tsample['exmkt'].mean()*12/(tsample['mkt'].std()*np.sqrt(12))\n",
        "print(mkt_sharpe)"
      ],
      "metadata": {
        "id": "a4zOSrfG_l8R"
      },
      "execution_count": null,
      "outputs": []
    }
  ]
}