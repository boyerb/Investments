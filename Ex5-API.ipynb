{
 "cells": [
  {
   "metadata": {},
   "cell_type": "markdown",
   "source": [
    "# Example Chapter 5: Using Yahoo! Finance to get stock data\n",
    "In this  we will use the yfinance library to get stock data. We get monthly returns for the Vanguard S&P 500 ETF (VOO), and estimate teh annaulized volailtity, expected return, and Sharpe ratio. "
   ],
   "id": "a8424377d4ab21a7"
  },
  {
   "metadata": {
    "collapsed": true,
    "ExecuteTime": {
     "end_time": "2024-09-17T12:12:50.450945Z",
     "start_time": "2024-09-17T12:12:49.744902Z"
    }
   },
   "cell_type": "code",
   "source": [
    "import yfinance as yf\n",
    "from datetime import date\n",
    "import investments_functions as invf"
   ],
   "id": "initial_id",
   "outputs": [],
   "execution_count": 1
  },
  {
   "metadata": {
    "ExecuteTime": {
     "end_time": "2024-09-17T12:13:00.307802Z",
     "start_time": "2024-09-17T12:12:59.856363Z"
    }
   },
   "cell_type": "code",
   "source": [
    "# Get monthly returns for a given ticker\n",
    "ticker = 'VOO'\n",
    "dat = invf.get_monthly_returns(ticker, '2020-01-01', '2023-12-31', tbill_return=False)\n",
    "print(dat)"
   ],
   "id": "aa5b611ec5c3a9ce",
   "outputs": [
    {
     "name": "stderr",
     "output_type": "stream",
     "text": [
      "[*********************100%***********************]  1 of 1 completed"
     ]
    },
    {
     "name": "stdout",
     "output_type": "stream",
     "text": [
      "            Monthly Return\n",
      "Date                      \n",
      "2020-02-29       -0.080997\n",
      "2020-03-31       -0.124414\n",
      "2020-04-30        0.127861\n",
      "2020-05-31        0.047360\n",
      "2020-06-30        0.018421\n",
      "2020-07-31        0.058815\n",
      "2020-08-31        0.069710\n",
      "2020-09-30       -0.037563\n",
      "2020-10-31       -0.025451\n",
      "2020-11-30        0.109466\n",
      "2020-12-31        0.037444\n",
      "2021-01-31       -0.010213\n",
      "2021-02-28        0.027662\n",
      "2021-03-31        0.045752\n",
      "2021-04-30        0.052896\n",
      "2021-05-31        0.006674\n",
      "2021-06-30        0.022596\n",
      "2021-07-31        0.024471\n",
      "2021-08-31        0.029517\n",
      "2021-09-30       -0.046636\n",
      "2021-10-31        0.070385\n",
      "2021-11-30       -0.007343\n",
      "2021-12-31        0.045602\n",
      "2022-01-31       -0.052408\n",
      "2022-02-28       -0.029805\n",
      "2022-03-31        0.037892\n",
      "2022-04-30       -0.087844\n",
      "2022-05-31        0.002588\n",
      "2022-06-30       -0.082645\n",
      "2022-07-31        0.091992\n",
      "2022-08-31       -0.041289\n",
      "2022-09-30       -0.091989\n",
      "2022-10-31        0.081176\n",
      "2022-11-30        0.055050\n",
      "2022-12-31       -0.057324\n",
      "2023-01-31        0.062902\n",
      "2023-02-28       -0.024984\n",
      "2023-03-31        0.037100\n",
      "2023-04-30        0.015901\n",
      "2023-05-31        0.004816\n",
      "2023-06-30        0.065099\n",
      "2023-07-31        0.032901\n",
      "2023-08-31       -0.016283\n",
      "2023-09-30       -0.047439\n",
      "2023-10-31       -0.021721\n",
      "2023-11-30        0.091704\n",
      "2023-12-31        0.045786\n"
     ]
    },
    {
     "name": "stderr",
     "output_type": "stream",
     "text": [
      "\n"
     ]
    }
   ],
   "execution_count": 3
  },
  {
   "metadata": {
    "ExecuteTime": {
     "end_time": "2024-09-17T12:13:16.144672Z",
     "start_time": "2024-09-17T12:13:15.663821Z"
    }
   },
   "cell_type": "code",
   "source": [
    "# Get the FF5 data tht gives us the return on short-term t-bills. We use this as a proxy for the risk-free rate. \n",
    "ff_data = invf.get_ff5()\n",
    "print(ff_data)"
   ],
   "id": "97b7008bd9ffd661",
   "outputs": [
    {
     "name": "stdout",
     "output_type": "stream",
     "text": [
      "        Date  Mkt-RF     SMB     HML     RMW     CMA      RF\n",
      "0    1963-07 -0.0039 -0.0041 -0.0097  0.0068 -0.0118  0.0027\n",
      "1    1963-08  0.0507  -0.008   0.018  0.0036 -0.0035  0.0025\n",
      "2    1963-09 -0.0157 -0.0052  0.0013 -0.0071  0.0029  0.0027\n",
      "3    1963-10  0.0253 -0.0139  -0.001   0.028 -0.0201  0.0029\n",
      "4    1963-11 -0.0085 -0.0088  0.0175 -0.0051  0.0224  0.0027\n",
      "..       ...     ...     ...     ...     ...     ...     ...\n",
      "728  2024-03  0.0283 -0.0118  0.0421  0.0147  0.0119  0.0043\n",
      "729  2024-04 -0.0467 -0.0256 -0.0052  0.0148  -0.003  0.0047\n",
      "730  2024-05  0.0434  0.0076 -0.0166  0.0298 -0.0307  0.0044\n",
      "731  2024-06  0.0277 -0.0437 -0.0331  0.0051 -0.0178  0.0041\n",
      "732  2024-07  0.0124  0.0833   0.057  0.0017  0.0043  0.0045\n",
      "\n",
      "[733 rows x 7 columns]\n"
     ]
    }
   ],
   "execution_count": 4
  },
  {
   "metadata": {},
   "cell_type": "code",
   "source": "# Calculate the excess returns\n",
   "id": "654477d73970a945",
   "outputs": [],
   "execution_count": null
  }
 ],
 "metadata": {
  "kernelspec": {
   "display_name": "Python 3",
   "language": "python",
   "name": "python3"
  },
  "language_info": {
   "codemirror_mode": {
    "name": "ipython",
    "version": 2
   },
   "file_extension": ".py",
   "mimetype": "text/x-python",
   "name": "python",
   "nbconvert_exporter": "python",
   "pygments_lexer": "ipython2",
   "version": "2.7.6"
  }
 },
 "nbformat": 4,
 "nbformat_minor": 5
}
