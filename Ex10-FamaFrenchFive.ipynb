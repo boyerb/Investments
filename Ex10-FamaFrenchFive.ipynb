{
  "nbformat": 4,
  "nbformat_minor": 0,
  "metadata": {
    "colab": {
      "provenance": [],
      "authorship_tag": "ABX9TyOtKQ9ct7Z5PxCQfDq+c/pP",
      "include_colab_link": true
    },
    "kernelspec": {
      "name": "python3",
      "display_name": "Python 3"
    },
    "language_info": {
      "name": "python"
    }
  },
  "cells": [
    {
      "cell_type": "markdown",
      "metadata": {
        "id": "view-in-github",
        "colab_type": "text"
      },
      "source": [
        "<a href=\"https://colab.research.google.com/github/boyerb/Investments/blob/master/Ex10-FamaFrenchFive.ipynb\" target=\"_parent\"><img src=\"https://colab.research.google.com/assets/colab-badge.svg\" alt=\"Open In Colab\"/></a>"
      ]
    },
    {
      "cell_type": "markdown",
      "source": [
        "**Investment Analysis**, Bates, Boyer, Fletcher"
      ],
      "metadata": {
        "id": "dgRyaSt-U5QP"
      }
    },
    {
      "cell_type": "markdown",
      "source": [
        "# Example Chapter 10: The Fama French Five Model\n",
        "  "
      ],
      "metadata": {
        "id": "Aj_MDlzzU6vv"
      }
    },
    {
      "cell_type": "markdown",
      "source": [
        "### Imports and Setup"
      ],
      "metadata": {
        "id": "3IDfvN3DVJkH"
      }
    },
    {
      "cell_type": "code",
      "execution_count": 4,
      "metadata": {
        "id": "VAox-pKWT-Hg",
        "colab": {
          "base_uri": "https://localhost:8080/"
        },
        "outputId": "77c9c3ae-cf34-4dd8-fbb0-02084e593a4e"
      },
      "outputs": [
        {
          "output_type": "stream",
          "name": "stdout",
          "text": [
            "  % Total    % Received % Xferd  Average Speed   Time    Time     Time  Current\n",
            "                                 Dload  Upload   Total   Spent    Left  Speed\n",
            "100 25355  100 25355    0     0  97988      0 --:--:-- --:--:-- --:--:-- 98275\n"
          ]
        }
      ],
      "source": [
        "!curl -O https://raw.githubusercontent.com/boyerb/Investments/master/functions/simple_finance.py\n",
        "import simple_finance as sf\n",
        "import pandas as pd\n",
        "import numpy as np\n",
        "import statsmodels.api as sm\n",
        "import matplotlib.pyplot as plt\n",
        "import matplotlib.ticker as mtick"
      ]
    },
    {
      "cell_type": "markdown",
      "source": [
        "### Pull Data on Beta Strategy and Estimate the FF5 Alpha for each Decile"
      ],
      "metadata": {
        "id": "viWIi3dFVJIe"
      }
    },
    {
      "cell_type": "code",
      "source": [
        "# Choose the strategy\n",
        "dat=sf.get_ff_strategies(stype='momentum',details=False)\n",
        "\n",
        "# Initialize lists to store intercepts and confidence intervals\n",
        "intercepts = []\n",
        "conf_intervals = []\n",
        "\n",
        "dat['exmkt']=dat['mkt']-dat['rf']\n",
        "# Loop through each column corresponding to Dec 1 - Dec 10\n",
        "for column in [f\"Dec {i}\" for i in range(1, 11)]:\n",
        "    y = dat[column]-dat['rf']  # Dependent variable (Decile return)\n",
        "    X = dat[['exmkt','smb','hml','cma','rmw']]  # Independent variable (Market excess return)\n",
        "    X = sm.add_constant(X)    # Add constant to X for intercept\n",
        "\n",
        "    # Fit regression model\n",
        "    model = sm.OLS(y, X).fit()\n",
        "\n",
        "    # Get the intercept and 95% confidence intervals\n",
        "    intercept = model.params['const'] * 12  # Multiply intercept by 12\n",
        "    ci_lower, ci_upper = model.conf_int().iloc[0] * 12  # Multiply confidence intervals by 12\n",
        "\n",
        "    # Get the intercept and 95% confidence intervals\n",
        "    intercepts.append(intercept)  # Append intercept to list\n",
        "    conf_intervals.append([ci_lower, ci_upper])  # Append 95% CI for the intercept\n",
        "\n",
        "# Convert results to DataFrame for easier manipulation\n",
        "results_df = pd.DataFrame({\n",
        "    \"Decile\": [f\"Dec {i}\" for i in range(1, 11)],\n",
        "    \"Intercept\": intercepts,\n",
        "    \"CI_Lower\": [ci[0] for ci in conf_intervals],\n",
        "    \"CI_Upper\": [ci[1] for ci in conf_intervals]\n",
        "})"
      ],
      "metadata": {
        "id": "dM6EWmAeUKw-"
      },
      "execution_count": 5,
      "outputs": []
    },
    {
      "cell_type": "markdown",
      "source": [
        "### Plot Alphas and 95% Confindence Intervals"
      ],
      "metadata": {
        "id": "Glx3XecsWFrc"
      }
    },
    {
      "cell_type": "code",
      "source": [
        "# Plot the intercepts with confidence intervals\n",
        "plt.figure(figsize=(10, 6))\n",
        "plt.errorbar(results_df[\"Decile\"], results_df[\"Intercept\"],\n",
        "             yerr=[results_df[\"Intercept\"] - results_df[\"CI_Lower\"],\n",
        "                   results_df[\"CI_Upper\"] - results_df[\"Intercept\"]],\n",
        "             fmt='o', capsize=5, capthick=2, label=\"Intercept ± 95% CI\", color='b')\n",
        "\n",
        "# Labels and title\n",
        "plt.xlabel(\"Decile\",fontsize=16)\n",
        "plt.ylabel(\"Intercept\",fontsize=16)\n",
        "#plt.title(\"Regression Intercepts with 95% Confidence Intervals\")\n",
        "plt.xticks(rotation=45)  # Rotate x-axis labels for readability\n",
        "plt.axhline(0, color='black', linestyle='--', linewidth=2)  # Reference line at 0\n",
        "plt.legend()\n",
        "# Format y-axis as percentages\n",
        "plt.gca().yaxis.set_major_formatter(mtick.PercentFormatter(xmax=1, decimals=1))\n",
        "\n",
        "# Show the plot\n",
        "plt.show()"
      ],
      "metadata": {
        "id": "3rjcCDubIXCy",
        "colab": {
          "base_uri": "https://localhost:8080/",
          "height": 578
        },
        "outputId": "c82bb50d-cd6a-472c-a54b-a88ee6d97d3f"
      },
      "execution_count": 6,
      "outputs": [
        {
          "output_type": "display_data",
          "data": {
            "text/plain": [
              "<Figure size 1000x600 with 1 Axes>"
            ],
            "image/png": "[encoded data removed]"
          },
          "metadata": {}
        }
      ]
    },
    {
      "cell_type": "markdown",
      "source": [
        "### Perform Out of Sample Test of Trading Strategy"
      ],
      "metadata": {
        "id": "utqm6nTZWS97"
      }
    },
    {
      "cell_type": "code",
      "source": [
        "print(dat.head())"
      ],
      "metadata": {
        "id": "kdZ0ApqdHOau",
        "outputId": "f395c51d-b16d-4833-e371-f61a72f4529d",
        "colab": {
          "base_uri": "https://localhost:8080/"
        }
      },
      "execution_count": 7,
      "outputs": [
        {
          "output_type": "stream",
          "name": "stdout",
          "text": [
            "          Dec 1   Dec 2   Dec 3   Dec 4   Dec 5   Dec 6   Dec 7   Dec 8   Dec 9  Dec 10     mkt  \\\n",
            "date                                                                                              \n",
            "1963-07 -0.0276 -0.0112 -0.0105 -0.0042 -0.0066  0.0151 -0.0005  0.0023 -0.0047  0.0022 -0.0012   \n",
            "1963-08  0.0600  0.0463  0.0577  0.0459  0.0586  0.0509  0.0518  0.0421  0.0626  0.0923  0.0532   \n",
            "1963-09 -0.0314 -0.0285 -0.0134  0.0156 -0.0179 -0.0175 -0.0040 -0.0289 -0.0266 -0.0198 -0.0130   \n",
            "1963-10  0.0189  0.0167  0.0006  0.0183  0.0273  0.0288  0.0099  0.0089  0.0825  0.0528  0.0282   \n",
            "1963-11  0.0007 -0.0144 -0.0050  0.0191 -0.0110 -0.0100  0.0048 -0.0416 -0.0104 -0.0008 -0.0058   \n",
            "\n",
            "            smb     hml     rmw     cma      rf   exmkt  \n",
            "date                                                     \n",
            "1963-07 -0.0041 -0.0097  0.0068 -0.0118  0.0027 -0.0039  \n",
            "1963-08 -0.0080  0.0180  0.0036 -0.0035  0.0025  0.0507  \n",
            "1963-09 -0.0052  0.0013 -0.0071  0.0029  0.0027 -0.0157  \n",
            "1963-10 -0.0139 -0.0010  0.0280 -0.0201  0.0029  0.0253  \n",
            "1963-11 -0.0088  0.0175 -0.0051  0.0224  0.0027 -0.0085  \n"
          ]
        }
      ]
    },
    {
      "cell_type": "code",
      "source": [
        "start_date = '1993-01'\n",
        "end_date = '2024-12'\n",
        "\n",
        "dat['mom']=dat['Dec 10'] - dat['Dec 1']\n",
        "\n",
        "tangent_list=[]\n",
        "for date in pd.date_range(start=start_date, end=end_date, freq='ME'):\n",
        "    # Subset data to include all observations before the current date\n",
        "    date_period = pd.Period(date, freq='M')\n",
        "    subset = dat.loc[dat.index < date_period]\n",
        "    factors = subset[['exmkt','smb','hml','cma','rmw','mom']]\n",
        "    er = factors.mean().to_numpy()\n",
        "    cov=factors.cov().to_numpy()\n",
        "    t_weights, t_er, t_vol = sf.tangent_portfolio(er, cov, factors=True)\n",
        "    nextdate=dat.loc[dat.index == date_period]\n",
        "    tangent = (t_weights[0] * nextdate['mkt'] +\n",
        "               t_weights[1] * nextdate['smb'] +\n",
        "               t_weights[2] * nextdate['hml'] +\n",
        "               t_weights[3] * nextdate['cma'] +\n",
        "               t_weights[4] * nextdate['rmw'] +\n",
        "               t_weights[5] * nextdate['mom']\n",
        "               ).iloc[0]\n",
        "        # Store results in a dictionary\n",
        "    results_dict = {\n",
        "            'date': pd.Period(date, freq='M'),\n",
        "            'tangent': tangent,  # Replace with desired operation\n",
        "            'rf': nextdate['rf'].iloc[0]     # Replace with desired operation\n",
        "        }\n",
        "\n",
        "    # Append the result to the list\n",
        "    tangent_list.append(results_dict)\n",
        "\n",
        "# Concatenate results into a single DataFrame\n",
        "tangent_df = pd.DataFrame(tangent_list).set_index('date')\n",
        "\n",
        "tangent_df['extan']=tangent_df['tangent']-tangent_df['rf']\n",
        "oos_tsharpe = tangent_df['extan'].mean()*12/(tangent_df['tangent'].std()*np.sqrt(12))\n",
        "print(oos_tsharpe)\n",
        "tsample=dat[dat.index.year>1993].copy()\n",
        "mkt_sharpe = tsample['exmkt'].mean()*12/(tsample['mkt'].std()*np.sqrt(12))\n",
        "print(mkt_sharpe)"
      ],
      "metadata": {
        "id": "a4zOSrfG_l8R",
        "colab": {
          "base_uri": "https://localhost:8080/"
        },
        "outputId": "f7511ad0-f418-4c01-9ef6-13b059686d51"
      },
      "execution_count": 8,
      "outputs": [
        {
          "output_type": "stream",
          "name": "stdout",
          "text": [
            "0.8697053532487913\n",
            "0.5739792559251692\n"
          ]
        }
      ]
    }
  ]
}