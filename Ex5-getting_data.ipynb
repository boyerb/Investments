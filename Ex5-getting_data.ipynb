{
 "cells": [
  {
   "metadata": {},
   "cell_type": "markdown",
   "source": [
    "***Foundations of Investment Analysis***, Bates, Boyer, and Fletcher\n",
    "# Example Chapter 5: Accessing Data from the Internet\n",
    "In this example we tap into the yfinance library to get monthly stock returns and Ken French's website to access data on short-term US t-bill returns. To make the process of gathering data from these sources as easy as possible, we package most of the code in easy-to-use functions located in the file `bates\\_boyer\\_fletcher\\_functions.py`.  We then use these data to estimate the annualized expected return, volatility, and Sharpe ratio for the Russell 3000 index (^RUT) and Ford Motor Company (F).  Try changing the tickers and date ranges to pull data for different companies over different time periods.\n"
   ],
   "id": "a8424377d4ab21a7"
  },
  {
   "metadata": {},
   "cell_type": "markdown",
   "source": "---",
   "id": "ecd548a4b10d4688"
  },
  {
   "metadata": {},
   "cell_type": "markdown",
   "source": [
    " ### Imports and Setup\n",
    " We first load in a function file from the GitHub repository using the `curl` command. the `-O` folloiwing this command tells curl to save the file `bates_boyer_fletcher_functions.py` in the current working directory. We then import the functions from the file and import other necessary libraries. "
   ],
   "id": "848af822f805f02a"
  },
  {
   "metadata": {
    "ExecuteTime": {
     "end_time": "2024-12-16T15:59:35.034922Z",
     "start_time": "2024-12-16T15:59:34.735502Z"
    }
   },
   "cell_type": "code",
   "source": [
    "# Load in bates_boyer_fletcher_functions.py from the GitHub repository \n",
    "!curl -O https://raw.githubusercontent.com/boyerb/Investments/refs/heads/master/functions/simple_finance.py\n",
    "# import the functions from the file we just downloaded\n",
    "import simple_finance as sf \n",
    "# import other necessary libraries\n",
    "import numpy as np"
   ],
   "id": "abfa28ff8f165bb6",
   "outputs": [
    {
     "name": "stderr",
     "output_type": "stream",
     "text": [
      "  % Total    % Received % Xferd  Average Speed   Time    Time     Time  Current\n",
      "                                 Dload  Upload   Total   Spent    Left  Speed\n",
      "\n",
      "  0     0    0     0    0     0      0      0 --:--:-- --:--:-- --:--:--     0\n",
      "100    14  100    14    0     0     72      0 --:--:-- --:--:-- --:--:--    74\n"
     ]
    },
    {
     "ename": "SyntaxError",
     "evalue": "illegal target for annotation (simple_finance.py, line 1)",
     "output_type": "error",
     "traceback": [
      "Traceback \u001B[1;36m(most recent call last)\u001B[0m:\n",
      "\u001B[0m  File \u001B[0;32m~\\data\\_research\\Investments\\Lib\\site-packages\\IPython\\core\\interactiveshell.py:3577\u001B[0m in \u001B[0;35mrun_code\u001B[0m\n    exec(code_obj, self.user_global_ns, self.user_ns)\u001B[0m\n",
      "\u001B[1;36m  Cell \u001B[1;32mIn[1], line 4\u001B[1;36m\n\u001B[1;33m    import simple_finance as sf\u001B[1;36m\n",
      "\u001B[1;36m  File \u001B[1;32m~\\Documents\\data\\investments\\PycharmProjects\\Investments\\simple_finance.py:1\u001B[1;36m\u001B[0m\n\u001B[1;33m    404: Not Found\u001B[0m\n\u001B[1;37m    ^\u001B[0m\n\u001B[1;31mSyntaxError\u001B[0m\u001B[1;31m:\u001B[0m illegal target for annotation\n"
     ]
    }
   ],
   "execution_count": 1
  },
  {
   "metadata": {},
   "cell_type": "markdown",
   "source": [
    "### Access Monthly Returns \n",
    "In this block of code we access monthly returns for the Russell 3000 index (^RUT) and Ford Motor Company (F). The key function is `get_monthly_returns`. \n",
    "\n",
    "`get_monthly returns` has the following inputs:\n",
    "- **ticker** = list of desired tickers: `['ticker_1', 'ticker_2', ..., 'ticker_N'] \n",
    "- **begin** = beginning month in format yyyy-mm-dd\n",
    "- **end** = ending month in format yyyy-mm-dd\n",
    "- **tbill_return** = True or False. If True, the return on short-term tbills will be included in the DataFrame. If False, the return on short-term tbills will not be included.\n",
    "\n",
    "The output is a DataFrame with monthly returns for each ticker, and the return on short-term tbills if `tbill_return=True`.\n",
    "\n",
    "We then calculate the annualized average return and volatility."
   ],
   "id": "a6c48c9ecd523cc9"
  },
  {
   "metadata": {
    "ExecuteTime": {
     "end_time": "2024-12-16T15:59:35.233178500Z",
     "start_time": "2024-12-13T15:38:28.190770Z"
    }
   },
   "cell_type": "code",
   "source": [
    "# Get monthly returns for a given list of stock tickers using the yfinance API\n",
    "ticker = ['^RUA', 'F']\n",
    "# Use tbill_return=True to get the return on short-term tbills, or False to exclude tbill returns\n",
    "dat = sf.get_monthly_returns(ticker, '1990-01-01', '2023-12-31', tbill_return=False)\n",
    "print(dat.head())"
   ],
   "id": "aa5b611ec5c3a9ce",
   "outputs": [
    {
     "name": "stderr",
     "output_type": "stream",
     "text": [
      "[*********************100%***********************]  1 of 1 completed\n",
      "C:\\Users\\bhb35\\Documents\\data\\investments\\PycharmProjects\\Investments\\bates_boyer_fletcher_functions.py:86: FutureWarning: 'M' is deprecated and will be removed in a future version, please use 'ME' instead.\n",
      "  month_end_data = data.resample('M').ffill()  # 'ME' gives month-end, ffill to get last available price\n",
      "[*********************100%***********************]  1 of 1 completed"
     ]
    },
    {
     "name": "stdout",
     "output_type": "stream",
     "text": [
      "             ^RUA         F\n",
      "Date                       \n",
      "1990-01 -0.074868  0.005681\n",
      "1990-02  0.012766  0.066667\n",
      "1990-03  0.023209  0.027173\n",
      "1990-04 -0.028393 -0.050829\n",
      "1990-05  0.087505  0.045326\n"
     ]
    },
    {
     "name": "stderr",
     "output_type": "stream",
     "text": [
      "\n",
      "C:\\Users\\bhb35\\Documents\\data\\investments\\PycharmProjects\\Investments\\bates_boyer_fletcher_functions.py:86: FutureWarning: 'M' is deprecated and will be removed in a future version, please use 'ME' instead.\n",
      "  month_end_data = data.resample('M').ffill()  # 'ME' gives month-end, ffill to get last available price\n"
     ]
    }
   ],
   "execution_count": 3
  },
  {
   "metadata": {},
   "cell_type": "code",
   "source": [
    "# Calculate the annualized average return and volatility\n",
    "A_Avg = dat.mean() * 12\n",
    "A_Vol = dat.std() * np.sqrt(12)\n",
    "print('Anualized Average Return')\n",
    "print(A_Avg)\n",
    "print()\n",
    "print('Annualized Volatility')\n",
    "print(A_Vol)"
   ],
   "id": "97b7008bd9ffd661",
   "outputs": [],
   "execution_count": null
  },
  {
   "metadata": {},
   "cell_type": "markdown",
   "source": [
    "### Calculate Sharpe Ratios\n",
    "In this block od code we access data for the Russell 3000 index and Ford Motor Company **ticker = ['^RUA', 'F']**. We also retrieve data on short-term t-bill returns. Using these data we calculate the Sharpe ratios for the Russell 3000 and Ford."
   ],
   "id": "e2c37d3cf72d9c37"
  },
  {
   "metadata": {},
   "cell_type": "code",
   "source": [
    "# Download data along with return on short-term tbills from Ken French's website\n",
    "dat = sf.get_monthly_returns(ticker, '1990-01-01', '2023-12-31', tbill_return=True)\n",
    "# Calculate excess returns\n",
    "dat['exret0'] = dat[ticker[0]] - dat['RF']\n",
    "dat['exret1'] = dat[ticker[1]] - dat['RF']\n",
    "print(dat.head())"
   ],
   "id": "654477d73970a945",
   "outputs": [],
   "execution_count": null
  },
  {
   "metadata": {},
   "cell_type": "code",
   "source": [
    "# Calculate and print Sharpe ratios\n",
    "# Calculate the Shapre ratio for the first ticker in the list\n",
    "A_AVG_exret0 = dat['exret0'].mean() * 12\n",
    "A_Vol_exret0 = dat[ticker[0]].std() * np.sqrt(12)\n",
    "Sharpe0 = A_AVG_exret0/A_Vol_exret0\n",
    "\n",
    "# Calculate the Shapre ratio for the second ticker in the list\n",
    "A_AVG_exret1 = dat['exret1'].mean() * 12\n",
    "A_Vol_exret1 = dat[ticker[1]].std() * np.sqrt(12)\n",
    "Sharpe1 = A_AVG_exret1/A_Vol_exret1\n",
    "\n",
    "print('Sharpe Ratios')\n",
    "print(ticker[0], Sharpe0)\n",
    "print(ticker[1], Sharpe1)"
   ],
   "id": "7d6b70f7d5f61ab4",
   "outputs": [],
   "execution_count": null
  }
 ],
 "metadata": {
  "kernelspec": {
   "display_name": "Python 3",
   "language": "python",
   "name": "python3"
  },
  "language_info": {
   "codemirror_mode": {
    "name": "ipython",
    "version": 2
   },
   "file_extension": ".py",
   "mimetype": "text/x-python",
   "name": "python",
   "nbconvert_exporter": "python",
   "pygments_lexer": "ipython2",
   "version": "2.7.6"
  }
 },
 "nbformat": 4,
 "nbformat_minor": 5
}
