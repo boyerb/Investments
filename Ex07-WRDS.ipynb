{
  "nbformat": 4,
  "nbformat_minor": 0,
  "metadata": {
    "colab": {
      "provenance": [],
      "authorship_tag": "ABX9TyPW2KndkKcVO1fNzKIVq8cZ",
      "include_colab_link": true
    },
    "kernelspec": {
      "name": "python3",
      "display_name": "Python 3"
    },
    "language_info": {
      "name": "python"
    }
  },
  "cells": [
    {
      "cell_type": "markdown",
      "metadata": {
        "id": "view-in-github",
        "colab_type": "text"
      },
      "source": [
        "<a href=\"https://colab.research.google.com/github/boyerb/Investments/blob/master/Ex07-WRDS.ipynb\" target=\"_parent\"><img src=\"https://colab.research.google.com/assets/colab-badge.svg\" alt=\"Open In Colab\"/></a>"
      ]
    },
    {
      "cell_type": "markdown",
      "source": [
        "**Investments: Theory, Fundamental Analysis, and Data Driven Analytics**, Bates, Boyer, and Fletcher"
      ],
      "metadata": {
        "id": "iZs5txuDLvzA"
      }
    },
    {
      "cell_type": "markdown",
      "source": [
        "# Example Chapter 7: The WRDS API\n",
        "In this example, we show how to access CRSP data using the WRDS API. You will first need to obtain an account through your institution. For example, your professor can set up a class account, a special kind of WRDS account set up by a faculty member (or “instructor”) for a specific course. It gives students access (via a “class code”) to WRDS resources only for the duration of the course and specifically so they can do coursework."
      ],
      "metadata": {
        "id": "SM5IHVhPLyB5"
      }
    },
    {
      "cell_type": "markdown",
      "source": [
        "###Imports and Setup"
      ],
      "metadata": {
        "id": "ngeldbqFMA0J"
      }
    },
    {
      "cell_type": "code",
      "source": [],
      "metadata": {
        "id": "1VJ3ig7ZMEOC"
      },
      "execution_count": null,
      "outputs": []
    }
  ]
}