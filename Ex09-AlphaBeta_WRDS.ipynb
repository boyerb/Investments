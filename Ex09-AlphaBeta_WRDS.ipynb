{
  "nbformat": 4,
  "nbformat_minor": 0,
  "metadata": {
    "colab": {
      "provenance": [],
      "authorship_tag": "ABX9TyNkAjWZv3oHL+3DlV9cK/m1",
      "include_colab_link": true
    },
    "kernelspec": {
      "name": "python3",
      "display_name": "Python 3"
    },
    "language_info": {
      "name": "python"
    }
  },
  "cells": [
    {
      "cell_type": "markdown",
      "metadata": {
        "id": "view-in-github",
        "colab_type": "text"
      },
      "source": [
        "<a href=\"https://colab.research.google.com/github/boyerb/Investments/blob/master/Ex09-AlphaBeta_WRDS.ipynb\" target=\"_parent\"><img src=\"https://colab.research.google.com/assets/colab-badge.svg\" alt=\"Open In Colab\"/></a>"
      ]
    },
    {
      "cell_type": "markdown",
      "source": [
        "**Investments: Theory, Fundamental Analysis, and Data Driven Analytics**, Bates, Boyer, and Fletcher"
      ],
      "metadata": {
        "id": "JhG34ArUV3gz"
      }
    },
    {
      "cell_type": "markdown",
      "source": [
        "# Example Chapter 9: Estimating Alpha Using Data from WRDS API  \n",
        "  \n",
        "In this example we estimate the alpha and beta of Johnson and Johnson (`ticker:JNJ`) relative to the market portfolio along with 95% confidence intervals. In this example, data for Johnson and Johnson returns come from the WRDS API. Data for the market and short-term T-bill returns come from [Ken French's website](https://mba.tuck.dartmouth.edu/pages/faculty/ken.french/data_library.html). An introduction to the WRDS API is given in [EX07-WRDS.ipynb](https://colab.research.google.com/github/boyerb/Investments/blob/master/Ex07-WRDS.ipynb).  "
      ],
      "metadata": {
        "id": "Hx8Mas02V4jU"
      }
    },
    {
      "cell_type": "markdown",
      "source": [
        "### Imports and Setup\n",
        "We first import a variety of useful packages. To improve readability when printing a DataFrame to the consol, we then configure Pandas display options: (1) show all columns without truncation, (2) widen the output to 1000 characters so rows print on a single line, and (3) truncate long tables.\n"
      ],
      "metadata": {
        "id": "sGeJ4scnXDmj"
      }
    },
    {
      "cell_type": "code",
      "execution_count": null,
      "metadata": {
        "id": "Ps_Zq06uBLtp"
      },
      "outputs": [],
      "source": [
        "# Import the simple_finance.py package and avoid using a stale cached version.\n",
        "!curl -s -O https://raw.githubusercontent.com/boyerb/Investments/master/functions/simple_finance.py\n",
        "import importlib, simple_finance as sf\n",
        "importlib.reload(sf)\n",
        "\n",
        "!pip -q install wrds\n",
        "import wrds\n",
        "import numpy as np\n",
        "import pandas as pd\n",
        "import statsmodels.api as sm\n",
        "import matplotlib.pyplot as plt\n",
        "\n",
        "pd.set_option('display.max_columns', None)   # Show all columns without truncation\n",
        "pd.set_option('display.width', 1000)   # Set the display width so output stays on one line\n",
        "pd.set_option(\"display.max_rows\", 20) # Force truncation if DataFrame has more than 20 rows"
      ]
    },
    {
      "cell_type": "markdown",
      "source": [
        "### Load in Data for Johnson & Johnson Using the WRDS API\n",
        "Replace `your_key` in the script with your actual API key. If you don't supply your own API key, the code will still run, but the number of daily requests will be **limited by IP address**.   We then create returns as a percent change in the adjusted close to account for splits, dividends, and other corporate events."
      ],
      "metadata": {
        "id": "lPyFUaW0Y1d6"
      }
    },
    {
      "cell_type": "code",
      "source": [
        "db = wrds.Connection() # establish a connection\n",
        "ids=['JNJ']    # specify ids\n",
        "start='2015-01'         # start date\n",
        "end = '2024-12'         # end date\n",
        "df=sf.get_crsp_msf_by_ids(db,ids,start,end)\n",
        "print(data)"
      ],
      "metadata": {
        "id": "sPXB3FCvL-JX"
      },
      "execution_count": null,
      "outputs": []
    },
    {
      "cell_type": "markdown",
      "source": [
        "### Load Returns for the Market and Short-Term T-Bills\n",
        "This function retrieves monthly data for the Fama–French Five-Factor model from [Ken French's website](https://mba.tuck.dartmouth.edu/pages/faculty/ken.french/data_library.html). From the resulting DataFrame, we will extract the market’s excess return `Mkt-RF` and the return on short-term T-bills `RF`.\n"
      ],
      "metadata": {
        "id": "j6vDrNyPZzGR"
      }
    },
    {
      "cell_type": "code",
      "source": [
        "FF = sf.get_ff5(start_date=\"2010-01\", end_date=\"2024-12\")\n",
        "print(FF)"
      ],
      "metadata": {
        "id": "sIeuH6tqNYFF"
      },
      "execution_count": null,
      "outputs": []
    },
    {
      "cell_type": "markdown",
      "source": [
        "### Merge Two Data Sources\n",
        "In this code we merge the data from Alpha Vantage and Ken French's website together. We then create the excess return for Johnson & Johnson."
      ],
      "metadata": {
        "id": "VfEeT8WYd6gu"
      }
    },
    {
      "cell_type": "code",
      "source": [
        "merged = df.merge(FF, left_index=True, right_index=True, how=\"inner\")\n",
        "merged = merged[[\"ret\", \"Mkt-RF\", \"RF\"]]\n",
        "merged[\"Ret-RF\"] = merged[\"ret\"] - merged[\"RF\"]\n",
        "print(merged)"
      ],
      "metadata": {
        "id": "PieYbSRZ31W_"
      },
      "execution_count": null,
      "outputs": []
    },
    {
      "cell_type": "markdown",
      "source": [
        "### Estimate Alpha, Beta, and 95% Confidence Intervals\n",
        "Here we estimate the alpha and beta of Johnson & Johnson relative to the market portfolio along with the 95% confidence intervals."
      ],
      "metadata": {
        "id": "DJiACQUse02b"
      }
    },
    {
      "cell_type": "code",
      "source": [
        "X=merged['Mkt-RF']\n",
        "Y=merged['Ret-RF']\n",
        "X=sm.add_constant(X)  # we specify that we want to add a constant to the regression equation\n",
        "model=sm.OLS(Y,X).fit() # run the regression\n",
        "params = model.params # parameter values\n",
        "conf_int = model.conf_int(alpha=0.05)  # 95% CIs\n",
        "\n",
        "# create a table of output\n",
        "results_df = pd.DataFrame({\n",
        "    'Parameter': params.index, # 1st column: parameter name\n",
        "    'Estimate': params.values, # 2nd column: parameer value\n",
        "    'CI Lower': conf_int[0].values, # 3rd column: lower bound on 95\\% CI\n",
        "    'CI Upper': conf_int[1].values  # 4th column: upper bound on 95\\% CI\n",
        "})\n",
        "print(results_df)"
      ],
      "metadata": {
        "id": "RhHn6M6x5tS6"
      },
      "execution_count": null,
      "outputs": []
    }
  ]
}