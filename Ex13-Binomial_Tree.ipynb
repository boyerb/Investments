{
  "nbformat": 4,
  "nbformat_minor": 0,
  "metadata": {
    "colab": {
      "provenance": [],
      "authorship_tag": "ABX9TyOYfsCddqhLaE8Cq6K0DWEN",
      "include_colab_link": true
    },
    "kernelspec": {
      "name": "python3",
      "display_name": "Python 3"
    },
    "language_info": {
      "name": "python"
    }
  },
  "cells": [
    {
      "cell_type": "markdown",
      "metadata": {
        "id": "view-in-github",
        "colab_type": "text"
      },
      "source": [
        "<a href=\"https://colab.research.google.com/github/boyerb/Investments/blob/master/Ex13-Binomial_Tree.ipynb\" target=\"_parent\"><img src=\"https://colab.research.google.com/assets/colab-badge.svg\" alt=\"Open In Colab\"/></a>"
      ]
    },
    {
      "cell_type": "markdown",
      "source": [
        "**Investment Analysis**, Bates, Boyer, Fletcher"
      ],
      "metadata": {
        "id": "UbPoHFTHZK-a"
      }
    },
    {
      "cell_type": "markdown",
      "source": [
        "# Example Chapter 13: Option Pricing with the Binomial Model"
      ],
      "metadata": {
        "id": "_pte2_c5ZPyI"
      }
    },
    {
      "cell_type": "markdown",
      "source": [
        "### Imports and Setup"
      ],
      "metadata": {
        "id": "FmoqCYKXZaNZ"
      }
    },
    {
      "cell_type": "code",
      "execution_count": 1,
      "metadata": {
        "id": "dvcEstCCXyX7"
      },
      "outputs": [],
      "source": [
        "import numpy as np"
      ]
    },
    {
      "cell_type": "markdown",
      "source": [
        "In the block of code below we define the function `binomial_tree`  which prices European calls and puts using the binomial tree method.  \n",
        "\n",
        "###Function Description\n",
        "`binomial_tree(type, S0, K, T, r, sigma, n)-> float`\n",
        "Prices European calls and puts using the binomial tree method.   \n",
        "\n",
        "**Inputs**\n",
        "\n",
        "- `type (string)`: option type, must be either 'call' or 'put'.\n",
        "- `S0 (float)`: the current stock price.\n",
        "- `K (float)`: the strike price.\n",
        "- `T (float)`: the time to maturity in years.\n",
        "- `r (float)`: the annulaized risk-free rate in discrete time.\n",
        "- `sigma (float)`: the anmualized volatility of the stock return.\n",
        "- `n (int)`: the number of time steps in the stock tree\n",
        "\n",
        "\n",
        "**Returns**  \n",
        "The price of the designated option (float).\n",
        "\n",
        "\n",
        "**Example Usage:**\n",
        "`call_price=('call', 100, 105, 0.50, 0.01, 0.25, 3)`\n"
      ],
      "metadata": {
        "id": "C985k1vrZhhB"
      }
    },
    {
      "cell_type": "code",
      "source": [
        "def binomial_tree(type, S0, K, T, r, sigma, n):\n",
        "    \"\"\"\n",
        "    Create a replicating portfolio to price a European call option using the binomial tree method.\n",
        "\n",
        "    Parameters:\n",
        "    S0 : float : Initial stock price\n",
        "    K : float : Strike price\n",
        "    T : float : Time to maturity (in years)\n",
        "    r : float : Risk-free interest rate (annualized)\n",
        "    sigma : float : Volatility of the underlying asset\n",
        "    n : int : Number of time steps\n",
        "\n",
        "    Returns:\n",
        "    float : Call option price\n",
        "    \"\"\"\n",
        "\n",
        "    dt = T / n\n",
        "    u = np.exp(sigma * np.sqrt(dt))\n",
        "    d = 1 / u\n",
        "    discount = (1+r)**-dt\n",
        "\n",
        "    # Initialize asset prices at maturity\n",
        "    stock_prices = np.array([S0 * (u ** j) * (d ** (n - j)) for j in range(n + 1)])\n",
        "\n",
        "    # Initialize option values at maturity\n",
        "    if type=='call':\n",
        "        option_values = np.maximum(stock_prices - K, 0)\n",
        "    elif type=='put':\n",
        "        option_values = np.maximum(K - stock_prices, 0)\n",
        "    else:\n",
        "        raise ValueError('Invalid option type specified. Please specify either \"call\" or \"put\".')\n",
        "\n",
        "    # Step backwards through the tree to create the replicating portfolio\n",
        "    # 1: n-1 is the starting value\n",
        "    # 2: -1 is the ending value (exclusive), meaning the last value of n will be 0\n",
        "    # 3: -1 is the step value, meaning we are going backwards from n-1 to 0\n",
        "    for i in range(n - 1, -1, -1):\n",
        "        # stock_prices[:i + 1] is the stock prices at the next time step from the lowest (index 0) to index i\n",
        "        # stock_prices[:i + 1] * u is the stock prices at the current time step\n",
        "        stock_prices = stock_prices[:i + 1] * u\n",
        "        # option_values[1:i + 2] is the option values at the next time step from the lowest (index 1) to index i+1\n",
        "        # option_values[0:i + 1] is the option values at the next time step from the lowest (index 0) to index i\n",
        "        option_up = option_values[1:i + 2]\n",
        "        option_down = option_values[0:i + 1]\n",
        "\n",
        "        # Calculate the delta (number of shares)\n",
        "        delta = (option_up - option_down) / (stock_prices * (u - d))\n",
        "\n",
        "        # Calculate the bond amount (B)\n",
        "        B = (option_up - delta * stock_prices * u) * discount\n",
        "\n",
        "        # Calculate the replicating portfolio value\n",
        "        option_values = delta * stock_prices + B\n",
        "\n",
        "    return option_values[0]\n"
      ],
      "metadata": {
        "id": "EQGY5YlUZiDh"
      },
      "execution_count": 2,
      "outputs": []
    },
    {
      "cell_type": "markdown",
      "source": [],
      "metadata": {
        "id": "Yz4vn41MZrVp"
      }
    },
    {
      "cell_type": "code",
      "source": [
        "# Example parameters\n",
        "S0 = 20  # Initial stock price\n",
        "K = 21  # Strike price\n",
        "T = 0.25  # Time to maturity in years\n",
        "r = 0.01  # Annual risk-free rate\n",
        "sigma = 0.19062  # Annual volatility\n",
        "n = 1  # Number of time steps\n",
        "\n",
        "# Calculate option price using the replicating portfolio\n",
        "call_price = binomial_tree('call',S0, K, T, r, sigma, n)\n",
        "put_price = binomial_tree('put',S0, K, T, r, sigma, n)\n",
        "print(f\"Call Option Price: {call_price:.4f}\")\n",
        "print(f\"Put Option Price: {put_price:.4f}\")"
      ],
      "metadata": {
        "colab": {
          "base_uri": "https://localhost:8080/"
        },
        "id": "QQGt_wwJZrsY",
        "outputId": "38c7dfc8-0874-4c1d-e61d-49d8c7dbcbc7"
      },
      "execution_count": 5,
      "outputs": [
        {
          "output_type": "stream",
          "name": "stdout",
          "text": [
            "Call Option Price: 0.4880\n",
            "Put Option Price: 1.4358\n"
          ]
        }
      ]
    }
  ]
}