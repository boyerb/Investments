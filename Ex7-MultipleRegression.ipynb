{
  "nbformat": 4,
  "nbformat_minor": 0,
  "metadata": {
    "colab": {
      "provenance": [],
      "authorship_tag": "ABX9TyOCTA7ZtFKMqgRYsQtVT7qx",
      "include_colab_link": true
    },
    "kernelspec": {
      "name": "python3",
      "display_name": "Python 3"
    },
    "language_info": {
      "name": "python"
    }
  },
  "cells": [
    {
      "cell_type": "markdown",
      "metadata": {
        "id": "view-in-github",
        "colab_type": "text"
      },
      "source": [
        "<a href=\"https://colab.research.google.com/github/boyerb/Investments/blob/master/MultipleRegression.ipynb\" target=\"_parent\"><img src=\"https://colab.research.google.com/assets/colab-badge.svg\" alt=\"Open In Colab\"/></a>"
      ]
    },
    {
      "cell_type": "markdown",
      "source": [
        "***Foundations of Investment Analysis***, Bates, Boyer, and Fletcher"
      ],
      "metadata": {
        "id": "Bys-EungwVSA"
      }
    },
    {
      "cell_type": "markdown",
      "source": [
        "#Example 7: Running Regressions Using Python\n",
        "In this example we show how to load in data, run regressions using Python, and estimate the 95% confidence intervals for each parameter."
      ],
      "metadata": {
        "id": "jTtmiO76wcmA"
      }
    },
    {
      "cell_type": "markdown",
      "source": [
        "### Imports and Setup\n",
        "We first import the pandas and statsmodels.api packages. Pandas enables us to load in data, and statsmodels.api gives us the regression tools we need. We then load in the data from the appropriate tab of the *Examples.xls* workbook."
      ],
      "metadata": {
        "id": "5Kc0bSfkwzTb"
      }
    },
    {
      "cell_type": "code",
      "source": [
        "#import packages\n",
        "import pandas as pd\n",
        "import statsmodels.api as sm\n",
        "# Load in the data by first specifying the URL where the data can be found\n",
        "url='https://github.com/boyerb/Investments/raw/master/Examples_3.1.xlsx'\n",
        " # specify which columns to read\n",
        "columns_to_read = ['Date', 'Google', 'Tech Portfolio', 'Oil Portfolio']\n",
        "# read the data into a DataFrame\n",
        "df = pd.read_excel(url, sheet_name='7-Google Tech and Oil', header=1, usecols=columns_to_read, engine='openpyxl')\n",
        "print(df.head(10)) # prints the first 10 lines"
      ],
      "metadata": {
        "colab": {
          "base_uri": "https://localhost:8080/"
        },
        "id": "vAWknhqewcBY",
        "outputId": "ff1e65ae-ec84-44e5-ac42-f94b7e723b2f"
      },
      "execution_count": 10,
      "outputs": [
        {
          "output_type": "stream",
          "name": "stdout",
          "text": [
            "        Date    Google  Tech Portfolio  Oil Portfolio\n",
            "0 2017-01-31  0.035005        0.043127      -0.034677\n",
            "1 2017-02-28  0.030164        0.049392      -0.026522\n",
            "2 2017-03-31  0.003397        0.022535      -0.010781\n",
            "3 2017-04-28  0.090493        0.023372      -0.034950\n",
            "4 2017-05-31  0.067678        0.044092      -0.040502\n",
            "5 2017-06-30 -0.058161       -0.025369      -0.005047\n",
            "6 2017-07-31  0.017017        0.041324       0.025763\n",
            "7 2017-08-31  0.010301        0.031092      -0.055739\n",
            "8 2017-09-29  0.019346        0.007918       0.104575\n",
            "9 2017-10-31  0.060921        0.073952      -0.010686\n"
          ]
        }
      ]
    },
    {
      "cell_type": "markdown",
      "source": [
        "### Run Regression\n",
        "Here we define our explanatory and dependent variables, run the regression, and then pull the output we want: (1) parameter estaimtes, (2) 95% confindence interval for each parameter, (3) The R-squared of the regression."
      ],
      "metadata": {
        "id": "EY_zwLjG4_hL"
      }
    },
    {
      "cell_type": "code",
      "source": [
        "X=df[['Tech Portfolio', 'Oil Portfolio']]\n",
        "Y=df['Google']\n",
        "X=sm.add_constant(X) # we specify that we want to add a constant to the regression equation\n",
        "model=sm.OLS(Y,X).fit()\n",
        "params = model.params\n",
        "conf_int = model.conf_int(alpha=0.05)  # 95% CIs\n",
        "r_squared = model.rsquared\n",
        "results_df = pd.DataFrame({\n",
        "    'Parameter': params.index,\n",
        "    'Estimate': params.values,\n",
        "    'CI Lower': conf_int[0].values,\n",
        "    'CI Upper': conf_int[1].values\n",
        "})\n",
        "\n",
        "print(results_df)\n",
        "print()\n",
        "print(\"R-squared\", r_squared)"
      ],
      "metadata": {
        "colab": {
          "base_uri": "https://localhost:8080/"
        },
        "id": "cSXmhCYFwUhp",
        "outputId": "127c48d0-3a54-43f9-974a-b2e22a329de2"
      },
      "execution_count": 16,
      "outputs": [
        {
          "output_type": "stream",
          "name": "stdout",
          "text": [
            "        Parameter  Estimate  CI Lower  CI Upper\n",
            "0           const  0.006127 -0.007722  0.019975\n",
            "1  Tech Portfolio  0.707272  0.425962  0.988581\n",
            "2   Oil Portfolio  0.114462 -0.032401  0.261325\n",
            "\n",
            "R-squared 0.49785526371092204\n"
          ]
        }
      ]
    }
  ]
}
