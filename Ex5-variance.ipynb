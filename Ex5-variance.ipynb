{
 "cells": [
  {
   "metadata": {},
   "cell_type": "markdown",
   "source": [
    "<div style=\"background-color:black; padding:10px;\">\n",
    "  <strong style=\"color:white; font-size:18px; font-style:italic;\">\n",
    "    Foundations of Investment Analysis\n",
    "  </strong>, \n",
    "  <span style=\"color:white;\">Bates, Boyer, and Fletcher</span>\n",
    "</div>"
   ],
   "id": "dc6c6793ba36bc3a"
  },
  {
   "metadata": {},
   "cell_type": "markdown",
   "source": [
    "# Example Chapter 5: Estimating Variance and Standard Deviation\n",
    "In this example we simulate a random sample drawn from a discrete PDF. We then estimate the variance and standard deviation."
   ],
   "id": "bf28204faf8f62bc"
  },
  {
   "metadata": {},
   "cell_type": "markdown",
   "source": [
    "### Imports and Setup\n",
    "We import the NumPy package."
   ],
   "id": "3538f6e931be4cf5"
  },
  {
   "metadata": {},
   "cell_type": "code",
   "outputs": [],
   "execution_count": null,
   "source": "import numpy as np",
   "id": "8d0dde6b64ad8bb4"
  },
  {
   "metadata": {},
   "cell_type": "markdown",
   "source": [
    "### Define the discrete PDF and Calculate the True Variance and Standard \n",
    "We first define the possible return outcomes and their corresponding probabilities in lists. We then calculate the true expected return by taking the sumproduct of the outcomes and probabilities. We then calculate the true variance by first defining a list of squared return forecast errors. The `**` symbol in Python means \"to the power of.\" We then calculate the true variance as the sumproduct of forecast errors and probabilities. Finally, we calculate the true standard deviation by taking the square root of the variance."
   ],
   "id": "4227933d90327a9c"
  },
  {
   "cell_type": "code",
   "id": "c8713d23",
   "metadata": {},
   "source": [
    "# Define the discrete PDF\n",
    "outcomes = [-0.05, 0.00, 0.05, 0.10]  # Possible return outcomes\n",
    "probabilities = [0.2, 0.3, 0.4, 0.1]  # Corresponding probabilities"
   ],
   "outputs": [],
   "execution_count": null
  },
  {
   "metadata": {},
   "cell_type": "code",
   "source": [
    "# Calculate the true variance and standard deviation\n",
    "expected_return = np.dot(outcomes, probabilities)\n",
    "squared_deviations = (outcomes - expected_return) ** 2\n",
    "print('squared deviations:', squared_deviations)\n",
    "variance = np.dot(probabilities, squared_deviations)\n",
    "print('True Variance and Standard Deviation from PDF:')\n",
    "print('Variance:', variance)\n",
    "print('Standard Deviation:', np.sqrt(variance))"
   ],
   "id": "18f7b1a0604daf3c",
   "outputs": [],
   "execution_count": null
  },
  {
   "metadata": {},
   "cell_type": "markdown",
   "source": [
    "### Simulate Returns and Estimate Variance and Standard Deviation\n",
    "We simulate a random sample of returns by drawing from the discrete PDF. We first specify the\n",
    "number of random outcomes we want to simulate in the variable `num_simulations`. We then estimate the variance and standard deviation of the returns. We then create a random number generator object `rng` using the class or blueprint, `np.random.default_rng()`.  We then use the `choice` method from our random number generator to simulate random draws from this PDF. We then use this simulated data to estimate the variance and standard deviation."
   ],
   "id": "1b663497b2d94139"
  },
  {
   "metadata": {},
   "cell_type": "code",
   "source": [
    "# Simulate returns\n",
    "num_simulations = 100 # number of random variables to create\n",
    "rng = np.random.default_rng()  # Create a random number generator object\n",
    "simulated_returns = rng.choice(outcomes, size=num_simulations, p=probabilities)"
   ],
   "id": "eddef90040313c40",
   "outputs": [],
   "execution_count": null
  },
  {
   "metadata": {},
   "cell_type": "code",
   "source": [
    "# Estimate Variance\n",
    "variance_estimate = np.var(simulated_returns)\n",
    "std_dev_estimate = np.std(simulated_returns)\n",
    "print('Estimated Variance and Standard Deviation from Simulated Returns:')\n",
    "print('Variance:', variance_estimate)\n",
    "print('Standard Deviation:', std_dev_estimate)\n"
   ],
   "id": "2f9a2e9fd192059e",
   "outputs": [],
   "execution_count": null
  }
 ],
 "metadata": {
  "jupytext": {
   "cell_metadata_filter": "-all",
   "main_language": "python",
   "notebook_metadata_filter": "-all"
  },
  "kernelspec": {
   "name": "python3",
   "language": "python",
   "display_name": "Python 3 (ipykernel)"
  }
 },
 "nbformat": 4,
 "nbformat_minor": 5
}
