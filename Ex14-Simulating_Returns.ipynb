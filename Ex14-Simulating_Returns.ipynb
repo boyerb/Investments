{
  "nbformat": 4,
  "nbformat_minor": 0,
  "metadata": {
    "colab": {
      "provenance": [],
      "toc_visible": true,
      "authorship_tag": "ABX9TyP3GNi2+DaYaXwqezHDSe7z"
    },
    "kernelspec": {
      "name": "python3",
      "display_name": "Python 3"
    },
    "language_info": {
      "name": "python"
    }
  },
  "cells": [
    {
      "cell_type": "markdown",
      "source": [
        "**Investments: Theory, Fundamental Analysis, and Data Driven Analytics**, Bates, Boyer, and Fletcher"
      ],
      "metadata": {
        "id": "mcLMg-p7Buda"
      }
    },
    {
      "cell_type": "markdown",
      "source": [
        "# Example Chater 14: Simulating Returns\n",
        "In this notebook we simulate the returns of a portfolio to illustrate the relation between independence and diversification."
      ],
      "metadata": {
        "id": "gyY2_qNTCCO1"
      }
    },
    {
      "cell_type": "markdown",
      "source": [
        "### Imports and Setup"
      ],
      "metadata": {
        "id": "GqA7Slo0ChFG"
      }
    },
    {
      "cell_type": "code",
      "source": [
        "# import packages\n",
        "# Load in simple_finance.py from the GitHub repository\n",
        "!curl -O https://raw.githubusercontent.com/boyerb/Investments/master/functions/simple_finance.py\n",
        "# import the functions from the file we just downloaded\n",
        "import simple_finance as sf\n",
        "import numpy as np\n",
        "import matplotlib.pyplot as plt\n",
        "import statsmodels.api as sm"
      ],
      "metadata": {
        "id": "1uzNh8f_Bwt_"
      },
      "execution_count": null,
      "outputs": []
    },
    {
      "cell_type": "markdown",
      "source": [
        "### Specify Base Parameters\n",
        "Specify the number of stocks and the number of months to simulate. Increasing `N` enhances diversification. Increasing `M` decreases sampling error.  "
      ],
      "metadata": {
        "id": "v2DALfiRC5T-"
      }
    },
    {
      "cell_type": "code",
      "source": [
        "N = 1000 # number of stocks\n",
        "M = 1000 # number of months"
      ],
      "metadata": {
        "id": "FpP5DnHxC9ru"
      },
      "execution_count": null,
      "outputs": []
    },
    {
      "cell_type": "markdown",
      "source": [
        "### Simulate Returns for the Tanget Portfolio\n",
        "We first specify the expected excess return and volatility of the tangent portfolio.  We then simulate excess returns from the normal distribution. To simulate returns we access the `random` module in the numpy library. A module is a namespace in Python that organizes classes, functions, and objects. Within this module we use the `normal` function to generate random numbers.  If you want, you can include code to plot a histogram of the simulated returns by asking an AI assistant such as Chat GPT or Gemini."
      ],
      "metadata": {
        "id": "D2_qzeswF5VL"
      }
    },
    {
      "cell_type": "code",
      "source": [
        "mu_T = 0.0040  # expected excess return is 40 bps per month, or 4.8% annualized\n",
        "var_T = 0.0036  # variance is 36 bps per month or 432 bps annualized\n",
        "sigma_T = np.sqrt(var_T)  # volatility is 600 bps per month or 20.8% annualized\n",
        "T_returns = np.random.normal(mu_T, sigma_T, M) # simulate returns"
      ],
      "metadata": {
        "id": "5Qlnj0hgGjbD"
      },
      "execution_count": null,
      "outputs": []
    },
    {
      "cell_type": "markdown",
      "source": [
        "### Choose Betas\n",
        "Betas are set to be the same number across firms, given by the parameter `beta_choice`.  \n",
        "\n"
      ],
      "metadata": {
        "id": "WoZzZ_7cHTPi"
      }
    },
    {
      "cell_type": "code",
      "source": [
        "# Make all betas the same\n",
        "beta_choice = 1\n",
        "betas=np.ones(N) * beta_choice\n"
      ],
      "metadata": {
        "id": "io0bBrpzHkkE"
      },
      "execution_count": null,
      "outputs": []
    },
    {
      "cell_type": "markdown",
      "source": [
        "### Simulate the Stock Returns\n",
        "We simulate excess stock returns as\n",
        "\n",
        "$r_i-r_f=\\beta_ir_T+z_i$\n",
        "\n",
        "where $r_i-r_f$ denotes the exess return for stock $i$, $\\beta_i$ is the beta, $r_T$ is the return on the tangent portfolio, and $z_T$ is the idiosyncratic shock.\n",
        "\n",
        "We begin this block by specifying the volatility of the idiosyncratic shocks, stored in the array variable `z_vol`.   The variance of these shocks, or volatility squared, represents the **idiosyncratic risk** of the firm's equity. The volatilities are chosen from a random uniform distribution from 0.05 to 0.15, and there are $N$ of them, one for each firm.\n",
        "\n",
        "We then simulate the stock returns in a loop.  We first create an empty \"container\" to collect results using the command `excess_returns = np.empty((M, N))`. This container is a 2-dimensional Numpy Array, similar to a matrix, or block with rows and columns.  Python uses *zero-based indexing* rather than *one-based indexing*. This means that the first row or column of an array is `0` rather than `1`. This is somewhat counter-intuitive but has logical and practical reasons rooted in computer science.  If a block of data has `x` rows and `y` columns, then the rows are indexed as `0,1,2,...x-1`, and the columns are indexed as `0,1,2,...,y-1`.   \n",
        "\n",
        " We then initiate a loop over the index $i$. The command \"`for i in range(N):`\" implies we will run the loop for every value of `i` from `0` to `N-1`, again because Python uses zero-based indexing. Within this loop for stock $i$, the first thing we do is simulate an array of idiosyncratic shocks, one for each month. We assume idiosyncratic shocks are normally distributed and again use the `normal` function provided by the `random` NumPy module to simulate these shocks. The number of shocks is specified by `M` (one for each month), the mean is zero, and the standard deviation is given by the element of  `z_vol` for stock $i$, `z_vol[i]`. We then create an array of excess returns as in the equation above.  We multiply the array of tangent portfolio returns by the beta for stock $i$ amd then add to this the array of idiosyncratic shocks.  This produces a return array of length `M` and includes a return for each month. We store this array in the `excess_returns` container. The code `excess_returns[:, i]` implies how we will store this array in the container. The colon `:` implies we will use up all rows of the container, and `i` implies we will use the $i^{th}$ column. Hence the array of monthly returns for stock $i$ will be stored as column $i$ in the container `excess_returns`.   "
      ],
      "metadata": {
        "id": "gIsyURcEKQf8"
      }
    },
    {
      "cell_type": "code",
      "source": [
        "# Specify standard deviation of idiosyncratic shocks for each stock\n",
        "z_vol = np.random.uniform(0.05, 0.15, N)\n",
        "\n",
        "# Simulate stock returns\n",
        "excess_returns = np.empty((M, N)) # empty container\n",
        "for i in range(N):\n",
        "    z_i = np.random.normal(0, z_vol[i], M) # idiosyncratic shocks to stock i\n",
        "    excess_returns[:, i] = betas[i] * T_returns + z_i\n"
      ],
      "metadata": {
        "id": "HsPAnkaXKnOd"
      },
      "execution_count": null,
      "outputs": []
    },
    {
      "cell_type": "markdown",
      "source": [
        "### Specify Portfolio Weights and Create Portfolio Returns\n",
        "We now specify the weights for our portfolio. In this block we create an equally-weighted portfolio. Portfolio returns are an inner product of weights and the returns of each individual asset in the portfolio. We can perform this innerproduct for every month using one line of code: `excess_returns @ weights`. The array `excess_returns` is like an $M \\times N$ matrix and `weights` is like an $N \\times 1$ vector. The symbol `@` represents matrix multiplication. In this operation we take each row of `excess_returns`(the returns for all stocks for a given month) and take an inner product with weights. The array `portfolio_returns` is then an `M \\times 1` array that gives us the portfolio return each month.   "
      ],
      "metadata": {
        "id": "idzMJGs-ml33"
      }
    },
    {
      "cell_type": "code",
      "source": [
        "# Create equally weighted portfolio\n",
        "weights = np.ones(N) / N\n",
        "\n",
        "portfolio_returns = excess_returns @ weights"
      ],
      "metadata": {
        "id": "2f5MB6VimrEe"
      },
      "execution_count": null,
      "outputs": []
    },
    {
      "cell_type": "markdown",
      "source": [
        "### Plot the Portfolio Returns (Black) and the Individual Stock Returns\n",
        "Here we plot the simulated returns.  Use an AI assistant such as Chat GPT or Gemeni to learn more about each line of code as desired.  "
      ],
      "metadata": {
        "id": "mLP9qqUTuLAw"
      }
    },
    {
      "cell_type": "code",
      "source": [
        "plt.figure(figsize=(14, 7))\n",
        "for i in range(N):\n",
        "    plt.plot(excess_returns[:, i], alpha=0.5)\n",
        "\n",
        "plt.plot(portfolio_returns, color='black', linewidth=2)\n",
        "plt.title('Plot of Simulated Stock Returns and Portfolio Return')\n",
        "plt.xlabel('Months', fontsize='16')\n",
        "plt.ylabel('Excess Return', fontsize='16')\n",
        "plt.show()"
      ],
      "metadata": {
        "id": "RviVv-souSCh"
      },
      "execution_count": null,
      "outputs": []
    },
    {
      "cell_type": "markdown",
      "source": [
        "### Calculate the Variance of the Portfolio Return\n",
        "Here we calculate the variance of the portfolio return in two ways.  First we simply use the NumPy `variance` function.  We then calcaute this variance using the idea that idiosyncratic variance has been diversified away. The variance of the portfolio is\n",
        "\n",
        "$Var[r_P]=\\beta_{pT}^2Var[r_T]+Var[z_p]$\n",
        "\n",
        "where $\\beta_{pT}$ is the beta of the portfolio relative to the tangent portfolio. The inner-product portfolio rule applies to portfolio betas, implying that the beta of the portfolio is an inner-product of individual asset betas and portfolio weights.  The important idea to understand is that with many stocks, $Var[z_p]$ is essentially zero.  Idiosyncratic risk gets diversifed away when there are many stocks in the portfolio."
      ],
      "metadata": {
        "id": "ZP1M1LA4wBNQ"
      }
    },
    {
      "cell_type": "code",
      "source": [
        "# Estimate the beta using the simulated data\n",
        "beta_pT = sf.slope(portfolio_returns,T_returns) # slope function similar to slope function in Excel. Inputs are Y,X.\n",
        "print(f'Portfolio Beta: {beta_pT:.6f}')\n",
        "\n",
        "# Estimate the portfolio variance using the simulated data\n",
        "portfolio_variance = np.var(portfolio_returns)\n",
        "print(f'Variance of the Portfolio Return: {portfolio_variance:.6f}')\n",
        "\n",
        "# Estimate systematic risk using the sumulated data\n",
        "var_T = np.var(T_returns)\n",
        "portfolio_systematic_risk = (beta_pT **2) * var_T  # **2 means \"raise to the power of 2\"\n",
        "print(f'Portfolio Systematic Risk : {portfolio_systematic_risk:.6f}')\n",
        "\n",
        "# Estimate the unsystematic risk using the simulated data\n",
        "portfolio_idiosyncratic_risk = portfolio_variance - portfolio_systematic_risk\n",
        "print(f'Idiosyncratic Risk: {portfolio_idiosyncratic_risk:.6f}')\n",
        "\n"
      ],
      "metadata": {
        "id": "zJAPzyovxD6q"
      },
      "execution_count": null,
      "outputs": []
    }
  ]
}