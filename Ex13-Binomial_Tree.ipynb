{
 "cells": [
  {
   "metadata": {
    "ExecuteTime": {
     "end_time": "2025-03-26T16:08:19.356024Z",
     "start_time": "2025-03-26T16:08:19.351261Z"
    }
   },
   "cell_type": "code",
   "source": [
    "import numpy as np\n",
    "\n",
    "\n",
    "def binomial_tree(type,S0, K, T, r, sigma, n):\n",
    "    \"\"\"\n",
    "    Create a replicating portfolio to price a European call option using the binomial tree method.\n",
    "\n",
    "    Parameters:\n",
    "    S0 : float : Initial stock price\n",
    "    K : float : Strike price\n",
    "    T : float : Time to maturity (in years)\n",
    "    r : float : Risk-free interest rate (annualized)\n",
    "    sigma : float : Volatility of the underlying asset\n",
    "    n : int : Number of time steps\n",
    "\n",
    "    Returns:\n",
    "    float : Call option price\n",
    "    \"\"\"\n",
    "\n",
    "    dt = T / n\n",
    "    u = np.exp(sigma * np.sqrt(dt))\n",
    "    d = 1 / u\n",
    "    discount = (1+r)**-dt\n",
    "\n",
    "    # Initialize asset prices at maturity\n",
    "    stock_prices = np.array([S0 * (u ** j) * (d ** (n - j)) for j in range(n + 1)])\n",
    "\n",
    "    # Initialize option values at maturity\n",
    "    if type=='call':\n",
    "        option_values = np.maximum(stock_prices - K, 0)\n",
    "    elif type=='put':\n",
    "        option_values = np.maximum(K - stock_prices, 0)\n",
    "    else:\n",
    "        raise ValueError('Invalid option type specified. Please specify either \"call\" or \"put\".')\n",
    "\n",
    "    # Step backwards through the tree to create the replicating portfolio\n",
    "    # 1: n-1 is the starting value\n",
    "    # 2: -1 is the ending value (exclusive), meaning the last value of n will be 0\n",
    "    # 3: -1 is the step value, meaning we are going backwards from n-1 to 0\n",
    "    for i in range(n - 1, -1, -1):\n",
    "        # stock_prices[:i + 1] is the stock prices at the next time step from the lowest (index 0) to index i\n",
    "        # stock_prices[:i + 1] * u is the stock prices at the current time step\n",
    "        stock_prices = stock_prices[:i + 1] * u\n",
    "        # option_values[1:i + 2] is the option values at the next time step from the lowest (index 1) to index i+1\n",
    "        # option_values[0:i + 1] is the option values at the next time step from the lowest (index 0) to index i\n",
    "        option_up = option_values[1:i + 2]\n",
    "        option_down = option_values[0:i + 1]\n",
    "\n",
    "        # Calculate the delta (number of shares)\n",
    "        delta = (option_up - option_down) / (stock_prices * (u - d))\n",
    "\n",
    "        # Calculate the bond amount (B)\n",
    "        B = (option_up - delta * stock_prices * u) * discount\n",
    "\n",
    "        # Calculate the replicating portfolio value\n",
    "        option_values = delta * stock_prices + B\n",
    "\n",
    "    return option_values[0]\n",
    "\n",
    "\n",
    "# Example parameters\n",
    "S0 = 20  # Initial stock price\n",
    "K = 21  # Strike price\n",
    "T = 0.25  # Time to maturity in years\n",
    "r = 0.01  # Annual risk-free rate\n",
    "sigma = 0.19062  # Annual volatility\n",
    "n = 1  # Number of time steps\n",
    "\n",
    "# Calculate option price using the replicating portfolio\n",
    "call_price = binomial_tree('call',S0, K, T, r, sigma, n)\n",
    "print(f\"Call Option Price: {call_price:.4f}\")\n"
   ],
   "id": "75ee6b1bab04dfe5",
   "outputs": [
    {
     "name": "stdout",
     "output_type": "stream",
     "text": [
      "[18.18182145 21.99999604]\n",
      "Call Option Price: 0.4881\n"
     ]
    }
   ],
   "execution_count": 6
  },
  {
   "metadata": {},
   "cell_type": "code",
   "outputs": [],
   "execution_count": null,
   "source": "",
   "id": "760c72e4347e311f"
  }
 ],
 "metadata": {
  "kernelspec": {
   "name": "python3",
   "language": "python",
   "display_name": "Python 3 (ipykernel)"
  }
 },
 "nbformat": 5,
 "nbformat_minor": 9
}
