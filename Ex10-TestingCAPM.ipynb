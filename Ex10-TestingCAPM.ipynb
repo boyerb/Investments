{
  "nbformat": 4,
  "nbformat_minor": 0,
  "metadata": {
    "colab": {
      "provenance": [],
      "authorship_tag": "ABX9TyPpxjKYWOoppE4OLGTn2SFA",
      "include_colab_link": true
    },
    "kernelspec": {
      "name": "python3",
      "display_name": "Python 3"
    },
    "language_info": {
      "name": "python"
    }
  },
  "cells": [
    {
      "cell_type": "markdown",
      "metadata": {
        "id": "view-in-github",
        "colab_type": "text"
      },
      "source": [
        "<a href=\"https://colab.research.google.com/github/boyerb/Investments/blob/master/Ex10-TestingCAPM.ipynb\" target=\"_parent\"><img src=\"https://colab.research.google.com/assets/colab-badge.svg\" alt=\"Open In Colab\"/></a>"
      ]
    },
    {
      "cell_type": "markdown",
      "source": [
        "**Investment Analysis**, Bates, Boyer, Fletcher"
      ],
      "metadata": {
        "id": "YU1yiHm_vXA2"
      }
    },
    {
      "cell_type": "markdown",
      "source": [
        "# Example Chater 10: Testing the CAPM\n",
        "In this notebook we download return data from Ken French's website and estimate the alpha's for each porfolio along with the 95% confidence intervals.   "
      ],
      "metadata": {
        "id": "S82hn1Sqvpel"
      }
    },
    {
      "cell_type": "markdown",
      "source": [
        "### 1. Imports and Setup"
      ],
      "metadata": {
        "id": "iR7ayd-kG30H"
      }
    },
    {
      "cell_type": "code",
      "execution_count": null,
      "metadata": {
        "id": "C3wyNgvuu-Zp",
        "colab": {
          "base_uri": "https://localhost:8080/"
        },
        "outputId": "b0440de7-6e56-4469-96eb-2348beca853c"
      },
      "outputs": [
        {
          "output_type": "stream",
          "name": "stdout",
          "text": [
            "  % Total    % Received % Xferd  Average Speed   Time    Time     Time  Current\n",
            "                                 Dload  Upload   Total   Spent    Left  Speed\n",
            "100 20406  100 20406    0     0  40463      0 --:--:-- --:--:-- --:--:-- 40407\n"
          ]
        }
      ],
      "source": [
        "!curl -O https://raw.githubusercontent.com/boyerb/Investments/master/functions/simple_finance.py\n",
        "import simple_finance as sf\n",
        "import pandas as pd"
      ]
    },
    {
      "cell_type": "markdown",
      "source": [
        "###Choose the Investment Strategy and Estaimte Alpha\n",
        "**`get_ff_strategies`**  \n",
        "*Description:* Imports historical monthly returns for decile portfolios based on trading strategies from Ken French's website.  \n",
        "\n",
        "*Required Input*:  \n",
        "- `stype`:  strategy type, can be either `'beta'` or `'momentum'`. Other strategies coming soon.  \n",
        "\n",
        "*Optional Inputs*:\n",
        "- `start_date`:  starting month in format `'yyyy-mm'`  \n",
        "- `end_date`:  ending month in format `'yyyy-mm'`\n",
        "- `details` = True or False. If True, the function will print out a simple description of the strategy and construction details.  \n",
        "\n",
        "*Output*:  \n",
        "The output is a DataFrame with decile returns for the trading stratgey, the value-weighted market return, and the return on short-term t-bills. The column names for the decile porfolios are `Lo 10, Dec 2, Dec 3,...Dec 9, Hi 10`\n",
        "\n",
        "*Examples*:  \n",
        "1. `dat=sf.get_ff_strategies(stype='momentum')`  \n",
        "Imports all avaiable monthly returns for the momentum strategy.\n",
        "\n",
        "2. `dat=sf.get_ff_strategies(stype='beta', start_date='1990-01', end_date=`2024-12`, details=True)`  \n",
        "Imports monthly returns for the beta strategy from January 1990 to December 2024, and prints out information about the strategy.\n"
      ],
      "metadata": {
        "id": "_ooDqdIzHAPH"
      }
    },
    {
      "cell_type": "code",
      "source": [
        "# Choose the strategy\n",
        "dat=sf.get_ff_strategies(stype='momentum', start_date='2024-01', end_date='2024-12')\n",
        "\n",
        "dat[exret]=dat\n",
        "\n",
        "# Estimate the alpha\n",
        "X=df[['Tech Portfolio', 'Oil Portfolio']]\n",
        "Y=df['Google']\n",
        "X=sm.add_constant(X) # we specify that we want to add a constant to the regression equation\n",
        "model=sm.OLS(Y,X).fit()\n",
        "params = model.params\n",
        "conf_int = model.conf_int(alpha=0.05)  # 95% CIs\n",
        "r_squared = model.rsquared\n",
        "# create a table of output\n",
        "results_df = pd.DataFrame({\n",
        "    'Parameter': params.index, # 1st column: parameter name\n",
        "    'Estimate': params.values, # 2nd column: parameer value\n",
        "    'CI Lower': conf_int[0].values, # 3rd column: lower bound on 95\\% CI\n",
        "    'CI Upper': conf_int[1].values  # 4th column: upper bound on 95\\% CI\n",
        "})\n",
        "\n",
        "print(results_df)\n",
        "print()\n",
        "print(\"R-squared\", r_squared)\n"
      ],
      "metadata": {
        "id": "kXFUMwjtHLe4",
        "colab": {
          "base_uri": "https://localhost:8080/"
        },
        "outputId": "36d46e79-1be5-4a3d-fa69-652154baa6ca"
      },
      "execution_count": null,
      "outputs": [
        {
          "output_type": "stream",
          "name": "stdout",
          "text": [
            "          Lo 10   Dec 2   Dec 3   Dec 4   Dec 5   Dec 6   Dec 7   Dec 8  \\\n",
            "date                                                                      \n",
            "2024-01  -0.071 -0.0398  -0.021 -0.0012  0.0025  0.0055  0.0207  0.0265   \n",
            "2024-02  0.0279  0.0146  0.0253  0.0207  0.0218  0.0386  0.0379  0.0456   \n",
            "2024-03  0.0055  0.0518  0.0502    0.03  0.0559  0.0297  0.0313  0.0117   \n",
            "2024-04 -0.0696 -0.0396 -0.0261 -0.0156 -0.0283 -0.0463 -0.0505 -0.0258   \n",
            "2024-05  0.0562    0.03  0.0614  0.0105  0.0208  0.0354  0.0451  0.0421   \n",
            "2024-06 -0.0244  0.0045  0.0397    0.02   0.003    0.03  0.0258  0.0358   \n",
            "2024-07  0.1233  0.0358  0.0351   0.059  0.0444  0.0409  0.0056  0.0152   \n",
            "2024-08 -0.0251 -0.0215 -0.0206  0.0332  0.0071  0.0339  0.0323  0.0405   \n",
            "2024-09  0.0428  0.0557 -0.0001  0.0121  0.0194  0.0198  0.0174  0.0277   \n",
            "2024-10 -0.0377 -0.0187 -0.0095 -0.0211 -0.0212 -0.0173 -0.0089 -0.0004   \n",
            "2024-11  0.1241  0.0562  0.0555   0.065  0.0864   0.056  0.0676  0.0741   \n",
            "2024-12 -0.0363 -0.0812 -0.0733 -0.0145 -0.0501 -0.0132  0.0015 -0.0596   \n",
            "\n",
            "          Dec 9   Hi 10     mkt      rf  \n",
            "date                                     \n",
            "2024-01  -0.012  0.0513  0.0117  0.0047  \n",
            "2024-02  0.0458  0.1284  0.0549  0.0042  \n",
            "2024-03  0.0328  0.0396  0.0326  0.0043  \n",
            "2024-04 -0.0585 -0.0552  -0.042  0.0047  \n",
            "2024-05    0.01  0.1182  0.0478  0.0044  \n",
            "2024-06  0.0528  0.0683  0.0318  0.0041  \n",
            "2024-07 -0.0092 -0.0469  0.0169  0.0045  \n",
            "2024-08 -0.0018  0.0461  0.0209  0.0048  \n",
            "2024-09  0.0041  0.0408  0.0214   0.004  \n",
            "2024-10  0.0032  0.0286 -0.0058  0.0039  \n",
            "2024-11  0.0814  0.0674  0.0691   0.004  \n",
            "2024-12 -0.0562  0.0022  -0.028  0.0037  \n"
          ]
        }
      ]
    }
  ]
}