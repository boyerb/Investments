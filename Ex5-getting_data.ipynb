{
 "cells": [
  {
   "cell_type": "markdown",
   "source": [
    "***Foundations of Investment Analysis***, Bates, Boyer, and Fletcher"
   ],
   "metadata": {
    "id": "L1gOEU3lC47o"
   },
   "id": "L1gOEU3lC47o"
  },
  {
   "metadata": {
    "id": "a8424377d4ab21a7"
   },
   "cell_type": "markdown",
   "source": [
    "# Example Chapter 5: Accessing Data from the Internet\n",
    "In this example we tap into the yfinance library to get monthly stock returns and Ken French's website to access data on short-term US t-bill returns. To make the process of gathering data from these sources as easy as possible, we package most of the code in easy-to-use functions in the library `simple_finance.py`.  We then use these data to estimate the annualized expected return, volatility, and Sharpe ratio for the Russell 3000 index (^RUT) and Ford Motor Company (F).  Try changing the tickers and date ranges to pull data for different companies over different time periods.\n"
   ],
   "id": "a8424377d4ab21a7"
  },
  {
   "metadata": {
    "id": "848af822f805f02a"
   },
   "cell_type": "markdown",
   "source": [
    " ### Imports and Setup\n",
    " We first load in a function file from the GitHub repository using the `curl` command. the `-O` folloiwing this command tells curl to save the file `bates_boyer_fletcher_functions.py` in the current working directory. We then import the functions from the file and import other necessary libraries."
   ],
   "id": "848af822f805f02a"
  },
  {
   "metadata": {
    "id": "abfa28ff8f165bb6",
    "outputId": "081aebd9-3685-4207-9afc-8bde58600255",
    "colab": {
     "base_uri": "https://localhost:8080/",
     "height": 297
    },
    "ExecuteTime": {
     "end_time": "2024-12-16T17:24:31.695994Z",
     "start_time": "2024-12-16T17:24:31.434417Z"
    }
   },
   "cell_type": "code",
   "source": [
    "# Load in simple_finance.py from the GitHub repository\n",
    "!curl -O https://raw.githubusercontent.com/boyerb/Investments/master/functions/simple_finance.py\n",
    "# import the functions from the file we just downloaded\n",
    "import simple_finance as sf\n",
    "# import other necessary libraries\n",
    "import numpy as np"
   ],
   "id": "abfa28ff8f165bb6",
   "outputs": [
    {
     "name": "stderr",
     "output_type": "stream",
     "text": [
      "  % Total    % Received % Xferd  Average Speed   Time    Time     Time  Current\n",
      "                                 Dload  Upload   Total   Spent    Left  Speed\n",
      "\n",
      "  0     0    0     0    0     0      0      0 --:--:-- --:--:-- --:--:--     0\n",
      "100  4448  100  4448    0     0  21460      0 --:--:-- --:--:-- --:--:-- 21911\n",
      "100  4448  100  4448    0     0  21417      0 --:--:-- --:--:-- --:--:-- 21803\n"
     ]
    }
   ],
   "execution_count": 8
  },
  {
   "metadata": {
    "id": "a6c48c9ecd523cc9"
   },
   "cell_type": "markdown",
   "source": [
    "### Access Monthly Returns\n",
    "In this block of code we access monthly returns for the Russell 3000 index (^RUT) and Ford Motor Company (F). The key function is `get_monthly_returns`.\n",
    "\n",
    "`get_monthly returns` has the following inputs:\n",
    "- **ticker** = list of desired tickers: `['ticker_1', 'ticker_2', ..., 'ticker_N']\n",
    "- **begin** = beginning month in format yyyy-mm-dd\n",
    "- **end** = ending month in format yyyy-mm-dd\n",
    "- **tbill_return** = True or False. If True, the return on short-term tbills will be included in the DataFrame. If False, the return on short-term tbills will not be included.\n",
    "\n",
    "The output is a DataFrame with monthly returns for each ticker, and the return on short-term tbills if `tbill_return=True`.\n",
    "\n",
    "We then calculate the annualized average return and volatility."
   ],
   "id": "a6c48c9ecd523cc9"
  },
  {
   "metadata": {
    "id": "aa5b611ec5c3a9ce",
    "ExecuteTime": {
     "end_time": "2024-12-16T17:24:31.922602Z",
     "start_time": "2024-12-16T17:24:31.769453Z"
    }
   },
   "cell_type": "code",
   "source": [
    "# Get monthly returns for a given list of stock tickers using the yfinance API\n",
    "ticker = ['^RUA', 'F']\n",
    "# Use tbill_return=True to get the return on short-term tbills, or False to exclude tbill returns\n",
    "dat = sf.get_monthly_returns(ticker, '1990-01-01', '2023-12-31', tbill_return=False)\n",
    "print(dat.head())"
   ],
   "id": "aa5b611ec5c3a9ce",
   "outputs": [
    {
     "name": "stderr",
     "output_type": "stream",
     "text": [
      "[*********************100%***********************]  1 of 1 completed\n",
      "[*********************100%***********************]  1 of 1 completed\n"
     ]
    },
    {
     "ename": "ValueError",
     "evalue": "Invalid frequency: ME, failed to parse with error message: ValueError(\"for Period, please use 'M' instead of 'ME'\")",
     "output_type": "error",
     "traceback": [
      "\u001B[1;31m---------------------------------------------------------------------------\u001B[0m",
      "\u001B[1;31mValueError\u001B[0m                                Traceback (most recent call last)",
      "File \u001B[1;32moffsets.pyx:4891\u001B[0m, in \u001B[0;36mpandas._libs.tslibs.offsets.to_offset\u001B[1;34m()\u001B[0m\n",
      "\u001B[1;31mValueError\u001B[0m: for Period, please use 'M' instead of 'ME'",
      "\nDuring handling of the above exception, another exception occurred:\n",
      "\u001B[1;31mValueError\u001B[0m                                Traceback (most recent call last)",
      "Cell \u001B[1;32mIn[9], line 4\u001B[0m\n\u001B[0;32m      2\u001B[0m ticker \u001B[38;5;241m=\u001B[39m [\u001B[38;5;124m'\u001B[39m\u001B[38;5;124m^RUA\u001B[39m\u001B[38;5;124m'\u001B[39m, \u001B[38;5;124m'\u001B[39m\u001B[38;5;124mF\u001B[39m\u001B[38;5;124m'\u001B[39m]\n\u001B[0;32m      3\u001B[0m \u001B[38;5;66;03m# Use tbill_return=True to get the return on short-term tbills, or False to exclude tbill returns\u001B[39;00m\n\u001B[1;32m----> 4\u001B[0m dat \u001B[38;5;241m=\u001B[39m \u001B[43msf\u001B[49m\u001B[38;5;241;43m.\u001B[39;49m\u001B[43mget_monthly_returns\u001B[49m\u001B[43m(\u001B[49m\u001B[43mticker\u001B[49m\u001B[43m,\u001B[49m\u001B[43m \u001B[49m\u001B[38;5;124;43m'\u001B[39;49m\u001B[38;5;124;43m1990-01-01\u001B[39;49m\u001B[38;5;124;43m'\u001B[39;49m\u001B[43m,\u001B[49m\u001B[43m \u001B[49m\u001B[38;5;124;43m'\u001B[39;49m\u001B[38;5;124;43m2023-12-31\u001B[39;49m\u001B[38;5;124;43m'\u001B[39;49m\u001B[43m,\u001B[49m\u001B[43m \u001B[49m\u001B[43mtbill_return\u001B[49m\u001B[38;5;241;43m=\u001B[39;49m\u001B[38;5;28;43;01mFalse\u001B[39;49;00m\u001B[43m)\u001B[49m\n\u001B[0;32m      5\u001B[0m \u001B[38;5;28mprint\u001B[39m(dat\u001B[38;5;241m.\u001B[39mhead())\n",
      "File \u001B[1;32m~\\Documents\\data\\investments\\PycharmProjects\\Investments\\simple_finance.py:97\u001B[0m, in \u001B[0;36mget_monthly_returns\u001B[1;34m(tickers, start_date, end_date, tbill_return)\u001B[0m\n\u001B[0;32m     94\u001B[0m     \u001B[38;5;66;03m# Add returns to the main DataFrame with ticker as column name\u001B[39;00m\n\u001B[0;32m     95\u001B[0m     all_returns[ticker] \u001B[38;5;241m=\u001B[39m month_end_data[\u001B[38;5;124m'\u001B[39m\u001B[38;5;124mMonthly Return\u001B[39m\u001B[38;5;124m'\u001B[39m]\n\u001B[1;32m---> 97\u001B[0m all_returns\u001B[38;5;241m.\u001B[39mindex \u001B[38;5;241m=\u001B[39m all_returns\u001B[38;5;241m.\u001B[39mindex\u001B[38;5;241m.\u001B[39mto_period(\u001B[38;5;124m'\u001B[39m\u001B[38;5;124mM\u001B[39m\u001B[38;5;124m'\u001B[39m)\n\u001B[0;32m     99\u001B[0m \u001B[38;5;28;01mif\u001B[39;00m tbill_return:\n\u001B[0;32m    100\u001B[0m     ff3 \u001B[38;5;241m=\u001B[39m get_ff3()\n",
      "File \u001B[1;32m~\\data\\_research\\Investments\\Lib\\site-packages\\pandas\\core\\indexes\\extension.py:95\u001B[0m, in \u001B[0;36m_inherit_from_data.<locals>.method\u001B[1;34m(self, *args, **kwargs)\u001B[0m\n\u001B[0;32m     93\u001B[0m \u001B[38;5;28;01mif\u001B[39;00m \u001B[38;5;124m\"\u001B[39m\u001B[38;5;124minplace\u001B[39m\u001B[38;5;124m\"\u001B[39m \u001B[38;5;129;01min\u001B[39;00m kwargs:\n\u001B[0;32m     94\u001B[0m     \u001B[38;5;28;01mraise\u001B[39;00m \u001B[38;5;167;01mValueError\u001B[39;00m(\u001B[38;5;124mf\u001B[39m\u001B[38;5;124m\"\u001B[39m\u001B[38;5;124mcannot use inplace with \u001B[39m\u001B[38;5;132;01m{\u001B[39;00m\u001B[38;5;28mtype\u001B[39m(\u001B[38;5;28mself\u001B[39m)\u001B[38;5;241m.\u001B[39m\u001B[38;5;18m__name__\u001B[39m\u001B[38;5;132;01m}\u001B[39;00m\u001B[38;5;124m\"\u001B[39m)\n\u001B[1;32m---> 95\u001B[0m result \u001B[38;5;241m=\u001B[39m \u001B[43mattr\u001B[49m\u001B[43m(\u001B[49m\u001B[38;5;28;43mself\u001B[39;49m\u001B[38;5;241;43m.\u001B[39;49m\u001B[43m_data\u001B[49m\u001B[43m,\u001B[49m\u001B[43m \u001B[49m\u001B[38;5;241;43m*\u001B[39;49m\u001B[43margs\u001B[49m\u001B[43m,\u001B[49m\u001B[43m \u001B[49m\u001B[38;5;241;43m*\u001B[39;49m\u001B[38;5;241;43m*\u001B[39;49m\u001B[43mkwargs\u001B[49m\u001B[43m)\u001B[49m\n\u001B[0;32m     96\u001B[0m \u001B[38;5;28;01mif\u001B[39;00m wrap:\n\u001B[0;32m     97\u001B[0m     \u001B[38;5;28;01mif\u001B[39;00m \u001B[38;5;28misinstance\u001B[39m(result, \u001B[38;5;28mtype\u001B[39m(\u001B[38;5;28mself\u001B[39m\u001B[38;5;241m.\u001B[39m_data)):\n",
      "File \u001B[1;32m~\\data\\_research\\Investments\\Lib\\site-packages\\pandas\\core\\arrays\\datetimes.py:1249\u001B[0m, in \u001B[0;36mDatetimeArray.to_period\u001B[1;34m(self, freq)\u001B[0m\n\u001B[0;32m   1246\u001B[0m         res \u001B[38;5;241m=\u001B[39m freq\n\u001B[0;32m   1248\u001B[0m     freq \u001B[38;5;241m=\u001B[39m res\n\u001B[1;32m-> 1249\u001B[0m \u001B[38;5;28;01mreturn\u001B[39;00m \u001B[43mPeriodArray\u001B[49m\u001B[38;5;241;43m.\u001B[39;49m\u001B[43m_from_datetime64\u001B[49m\u001B[43m(\u001B[49m\u001B[38;5;28;43mself\u001B[39;49m\u001B[38;5;241;43m.\u001B[39;49m\u001B[43m_ndarray\u001B[49m\u001B[43m,\u001B[49m\u001B[43m \u001B[49m\u001B[43mfreq\u001B[49m\u001B[43m,\u001B[49m\u001B[43m \u001B[49m\u001B[43mtz\u001B[49m\u001B[38;5;241;43m=\u001B[39;49m\u001B[38;5;28;43mself\u001B[39;49m\u001B[38;5;241;43m.\u001B[39;49m\u001B[43mtz\u001B[49m\u001B[43m)\u001B[49m\n",
      "File \u001B[1;32m~\\data\\_research\\Investments\\Lib\\site-packages\\pandas\\core\\arrays\\period.py:331\u001B[0m, in \u001B[0;36mPeriodArray._from_datetime64\u001B[1;34m(cls, data, freq, tz)\u001B[0m\n\u001B[0;32m    329\u001B[0m \u001B[38;5;28;01mif\u001B[39;00m \u001B[38;5;28misinstance\u001B[39m(freq, BaseOffset):\n\u001B[0;32m    330\u001B[0m     freq \u001B[38;5;241m=\u001B[39m freq_to_period_freqstr(freq\u001B[38;5;241m.\u001B[39mn, freq\u001B[38;5;241m.\u001B[39mname)\n\u001B[1;32m--> 331\u001B[0m data, freq \u001B[38;5;241m=\u001B[39m \u001B[43mdt64arr_to_periodarr\u001B[49m\u001B[43m(\u001B[49m\u001B[43mdata\u001B[49m\u001B[43m,\u001B[49m\u001B[43m \u001B[49m\u001B[43mfreq\u001B[49m\u001B[43m,\u001B[49m\u001B[43m \u001B[49m\u001B[43mtz\u001B[49m\u001B[43m)\u001B[49m\n\u001B[0;32m    332\u001B[0m dtype \u001B[38;5;241m=\u001B[39m PeriodDtype(freq)\n\u001B[0;32m    333\u001B[0m \u001B[38;5;28;01mreturn\u001B[39;00m \u001B[38;5;28mcls\u001B[39m(data, dtype\u001B[38;5;241m=\u001B[39mdtype)\n",
      "File \u001B[1;32m~\\data\\_research\\Investments\\Lib\\site-packages\\pandas\\core\\arrays\\period.py:1193\u001B[0m, in \u001B[0;36mdt64arr_to_periodarr\u001B[1;34m(data, freq, tz)\u001B[0m\n\u001B[0;32m   1190\u001B[0m     data \u001B[38;5;241m=\u001B[39m data\u001B[38;5;241m.\u001B[39m_values\n\u001B[0;32m   1192\u001B[0m reso \u001B[38;5;241m=\u001B[39m get_unit_from_dtype(data\u001B[38;5;241m.\u001B[39mdtype)\n\u001B[1;32m-> 1193\u001B[0m freq \u001B[38;5;241m=\u001B[39m \u001B[43mPeriod\u001B[49m\u001B[38;5;241;43m.\u001B[39;49m\u001B[43m_maybe_convert_freq\u001B[49m\u001B[43m(\u001B[49m\u001B[43mfreq\u001B[49m\u001B[43m)\u001B[49m\n\u001B[0;32m   1194\u001B[0m base \u001B[38;5;241m=\u001B[39m freq\u001B[38;5;241m.\u001B[39m_period_dtype_code\n\u001B[0;32m   1195\u001B[0m \u001B[38;5;28;01mreturn\u001B[39;00m c_dt64arr_to_periodarr(data\u001B[38;5;241m.\u001B[39mview(\u001B[38;5;124m\"\u001B[39m\u001B[38;5;124mi8\u001B[39m\u001B[38;5;124m\"\u001B[39m), base, tz, reso\u001B[38;5;241m=\u001B[39mreso), freq\n",
      "File \u001B[1;32mperiod.pyx:1765\u001B[0m, in \u001B[0;36mpandas._libs.tslibs.period._Period._maybe_convert_freq\u001B[1;34m()\u001B[0m\n",
      "File \u001B[1;32moffsets.pyx:4954\u001B[0m, in \u001B[0;36mpandas._libs.tslibs.offsets.to_offset\u001B[1;34m()\u001B[0m\n",
      "\u001B[1;31mValueError\u001B[0m: Invalid frequency: ME, failed to parse with error message: ValueError(\"for Period, please use 'M' instead of 'ME'\")"
     ]
    }
   ],
   "execution_count": 9
  },
  {
   "metadata": {
    "id": "97b7008bd9ffd661"
   },
   "cell_type": "code",
   "source": [
    "# Calculate the annualized average return and volatility\n",
    "A_Avg = dat.mean() * 12\n",
    "A_Vol = dat.std() * np.sqrt(12)\n",
    "print('Anualized Average Return')\n",
    "print(A_Avg)\n",
    "print()\n",
    "print('Annualized Volatility')\n",
    "print(A_Vol)"
   ],
   "id": "97b7008bd9ffd661",
   "outputs": [],
   "execution_count": null
  },
  {
   "metadata": {
    "id": "e2c37d3cf72d9c37"
   },
   "cell_type": "markdown",
   "source": [
    "### Calculate Sharpe Ratios\n",
    "In this block od code we access data for the Russell 3000 index and Ford Motor Company **ticker = ['^RUA', 'F']**. We also retrieve data on short-term t-bill returns. Using these data we calculate the Sharpe ratios for the Russell 3000 and Ford."
   ],
   "id": "e2c37d3cf72d9c37"
  },
  {
   "metadata": {
    "id": "654477d73970a945"
   },
   "cell_type": "code",
   "source": [
    "# Download data along with return on short-term tbills from Ken French's website\n",
    "dat = sf.get_monthly_returns(ticker, '1990-01-01', '2023-12-31', tbill_return=True)\n",
    "# Calculate excess returns\n",
    "dat['exret0'] = dat[ticker[0]] - dat['RF']\n",
    "dat['exret1'] = dat[ticker[1]] - dat['RF']\n",
    "print(dat.head())"
   ],
   "id": "654477d73970a945",
   "outputs": [],
   "execution_count": null
  },
  {
   "metadata": {
    "id": "7d6b70f7d5f61ab4"
   },
   "cell_type": "code",
   "source": [
    "# Calculate and print Sharpe ratios\n",
    "# Calculate the Shapre ratio for the first ticker in the list\n",
    "A_AVG_exret0 = dat['exret0'].mean() * 12\n",
    "A_Vol_exret0 = dat[ticker[0]].std() * np.sqrt(12)\n",
    "Sharpe0 = A_AVG_exret0/A_Vol_exret0\n",
    "\n",
    "# Calculate the Shapre ratio for the second ticker in the list\n",
    "A_AVG_exret1 = dat['exret1'].mean() * 12\n",
    "A_Vol_exret1 = dat[ticker[1]].std() * np.sqrt(12)\n",
    "Sharpe1 = A_AVG_exret1/A_Vol_exret1\n",
    "\n",
    "print('Sharpe Ratios')\n",
    "print(ticker[0], Sharpe0)\n",
    "print(ticker[1], Sharpe1)"
   ],
   "id": "7d6b70f7d5f61ab4",
   "outputs": [],
   "execution_count": null
  }
 ],
 "metadata": {
  "kernelspec": {
   "display_name": "Python 3",
   "language": "python",
   "name": "python3"
  },
  "language_info": {
   "codemirror_mode": {
    "name": "ipython",
    "version": 2
   },
   "file_extension": ".py",
   "mimetype": "text/x-python",
   "name": "python",
   "nbconvert_exporter": "python",
   "pygments_lexer": "ipython2",
   "version": "2.7.6"
  },
  "colab": {
   "provenance": []
  }
 },
 "nbformat": 4,
 "nbformat_minor": 5
}
