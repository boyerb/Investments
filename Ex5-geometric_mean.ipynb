{
 "cells": [
  {
   "metadata": {},
   "cell_type": "markdown",
   "source": [
    "# Example 5: The Relation Between the Geometric Mean and the Arithmetic Mean\n",
    "In this example we show that the geometric mean is approximately equal to the arithmetic mean plus half the variance. This is also our first example in which we load in external data from our Git repo.\n"
   ],
   "id": "279b317003d5edb9"
  },
  {
   "metadata": {
    "ExecuteTime": {
     "end_time": "2024-09-10T18:57:45.673091Z",
     "start_time": "2024-09-10T18:57:45.656928Z"
    }
   },
   "cell_type": "code",
   "source": [
    "#import packages\n",
    "import pandas as pd"
   ],
   "id": "8eb6a8f530b4921f",
   "outputs": [],
   "execution_count": 5
  },
  {
   "metadata": {
    "ExecuteTime": {
     "end_time": "2024-09-10T18:57:46.781843Z",
     "start_time": "2024-09-10T18:57:45.688597Z"
    }
   },
   "cell_type": "code",
   "source": [
    "# Load in the data\n",
    "url='https://github.com/boyerb/Investments/raw/master/Examples_3.0.xlsx'\n",
    "columns_to_read = ['Evergreen Growth ETF']  # specify which columns to read\n",
    "df = pd.read_excel(url, sheet_name='5-Geometric_Mean', header=1, usecols=columns_to_read, engine='openpyxl')\n",
    "print(df)"
   ],
   "id": "fbf4e83f84115465",
   "outputs": [
    {
     "name": "stdout",
     "output_type": "stream",
     "text": [
      "   Evergreen Growth ETF\n",
      "0              0.903981\n",
      "1              1.259897\n",
      "2              1.054028\n",
      "3              1.234289\n",
      "4              1.172943\n",
      "5              1.680104\n",
      "6              1.308740\n",
      "7              0.893846\n",
      "8              1.030978\n",
      "9              0.986530\n"
     ]
    }
   ],
   "execution_count": 6
  },
  {
   "metadata": {
    "ExecuteTime": {
     "end_time": "2024-09-10T18:57:46.893801Z",
     "start_time": "2024-09-10T18:57:46.885552Z"
    }
   },
   "cell_type": "code",
   "source": [
    "# Calculate the arithmetic mean, geometric mean, and variance\n",
    "arithmetic_mean = df.mean()\n",
    "print(type(arithmetic_mean))\n",
    "T=len(df)\n",
    "geometric_mean = (df.prod()**(1/T))\n",
    "print('Arithmetic Mean:', arithmetic_mean)\n",
    "print('Geometric Mean:', geometric_mean)"
   ],
   "id": "564d38c16bdfec1",
   "outputs": [
    {
     "name": "stdout",
     "output_type": "stream",
     "text": [
      "<class 'pandas.core.series.Series'>\n",
      "Arithmetic Mean: Evergreen Growth ETF    1.152534\n",
      "dtype: float64\n",
      "Geometric Mean: Evergreen Growth ETF    1.132623\n",
      "dtype: float64\n"
     ]
    }
   ],
   "execution_count": 7
  },
  {
   "metadata": {
    "ExecuteTime": {
     "end_time": "2024-09-10T18:57:47.010503Z",
     "start_time": "2024-09-10T18:57:47.003515Z"
    }
   },
   "cell_type": "code",
   "source": [
    "# Calculate the geometric mean plus half the variance\n",
    "variance = df.var()\n",
    "check = geometric_mean + 0.5*variance\n",
    "print('Geometric Mean + 0.5*Variance:', check)\n",
    "print('arithmetic_mean - geometric_mean + 0.5*variance (should be close to zero):', arithmetic_mean - check)"
   ],
   "id": "ae32a27bbc35c9ff",
   "outputs": [
    {
     "name": "stdout",
     "output_type": "stream",
     "text": [
      "Geometric Mean + 0.5*Variance: Evergreen Growth ETF    1.160517\n",
      "dtype: float64\n",
      "arithmetic_mean - geometric_mean + 0.5*variance (should be close to zero): Evergreen Growth ETF   -0.007983\n",
      "dtype: float64\n"
     ]
    }
   ],
   "execution_count": 8
  }
 ],
 "metadata": {
  "kernelspec": {
   "display_name": "Python 3",
   "language": "python",
   "name": "python3"
  },
  "language_info": {
   "codemirror_mode": {
    "name": "ipython",
    "version": 2
   },
   "file_extension": ".py",
   "mimetype": "text/x-python",
   "name": "python",
   "nbconvert_exporter": "python",
   "pygments_lexer": "ipython2",
   "version": "2.7.6"
  }
 },
 "nbformat": 4,
 "nbformat_minor": 5
}
