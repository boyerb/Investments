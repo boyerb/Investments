{
  "nbformat": 4,
  "nbformat_minor": 0,
  "metadata": {
    "colab": {
      "provenance": [],
      "authorship_tag": "ABX9TyO5W2wEktxKsG1WKGvSpzUi",
      "include_colab_link": true
    },
    "kernelspec": {
      "name": "python3",
      "display_name": "Python 3"
    },
    "language_info": {
      "name": "python"
    }
  },
  "cells": [
    {
      "cell_type": "markdown",
      "metadata": {
        "id": "view-in-github",
        "colab_type": "text"
      },
      "source": [
        "<a href=\"https://colab.research.google.com/github/boyerb/Investments/blob/master/Ex07-WRDS.ipynb\" target=\"_parent\"><img src=\"https://colab.research.google.com/assets/colab-badge.svg\" alt=\"Open In Colab\"/></a>"
      ]
    },
    {
      "cell_type": "markdown",
      "source": [
        "**Investments: Theory, Fundamental Analysis, and Data Driven Analytics**, Bates, Boyer, and Fletcher"
      ],
      "metadata": {
        "id": "iZs5txuDLvzA"
      }
    },
    {
      "cell_type": "markdown",
      "source": [
        "# Example Chapter 7: The WRDS API\n",
        "In this example we illustrate how to access CRSP data on equities using the WRDS API. The script uses the function `get_crsp_msf_by_ids` to download monthly data where `msf` stands for *monthly stock file*. A similar function, `get_crsp_dsf_by_ids`, allows you to access daily data where `dsf` stands for *daily stock file*. These functions are part of the `simple_finance` package.\n",
        "\n",
        "To use this script below, you will first need to obtain a WRDS account through your institution with a username and password, and set up dual authentication through the WRDS site."
      ],
      "metadata": {
        "id": "SM5IHVhPLyB5"
      }
    },
    {
      "cell_type": "markdown",
      "source": [
        "###Imports and Setup\n",
        "Below we install and import a variety of packages that provide useful functions. The `simple_finance` and `wrds` packages are not included in Colab by default and require installation.\n",
        "\n",
        "To improve readability when printing a DataFrame to the consol, we then configure Pandas display options: (1) show all columns without truncation, (2) widen the output to 1000 characters so rows print on a single line, and (3) truncate long tables."
      ],
      "metadata": {
        "id": "ngeldbqFMA0J"
      }
    },
    {
      "cell_type": "code",
      "source": [
        "# Import the simple_finance.py package and avoid using a stale cached version.\n",
        "!curl -s -O https://raw.githubusercontent.com/boyerb/Investments/master/functions/simple_finance.py\n",
        "import importlib, simple_finance as sf\n",
        "importlib.reload(sf)\n",
        "\n",
        "!pip -q install wrds\n",
        "import wrds\n",
        "import numpy as np\n",
        "import pandas as pd\n",
        "import matplotlib.pyplot as plt\n",
        "\n",
        "pd.set_option('display.max_columns', None)   # Show all columns without truncation\n",
        "pd.set_option('display.width', 1000)   # Set the display width so output stays on one line\n",
        "pd.set_option(\"display.max_rows\", 20) # Force truncation if DataFrame has more than 20 rows"
      ],
      "metadata": {
        "id": "1VJ3ig7ZMEOC"
      },
      "execution_count": null,
      "outputs": []
    },
    {
      "cell_type": "markdown",
      "source": [
        "### Establish a WRDS Connection\n",
        "When you run the command below you will be prompted to enter your WRDS username and password, and then complete dual authentication on your phone. You will then be asked if you want to create a `.pgpass` file. In local environments such as PyCharm or Visual Studio, a `.pgpass` file stored on your PC allows you to use the WRDS API without re-entering your credentials each time. In Google Colab, however, when the file is created it is saved in the temporary home directory (/root/.pgpass) and will be erased whenever you start a new session.  As such you can just respond \"`n`\"."
      ],
      "metadata": {
        "id": "FCkr9LKXYDON"
      }
    },
    {
      "cell_type": "code",
      "source": [
        "db = wrds.Connection()"
      ],
      "metadata": {
        "id": "nAy_9XqD876x"
      },
      "execution_count": null,
      "outputs": []
    },
    {
      "cell_type": "markdown",
      "source": [
        "### Download Data\n",
        "Function: `get_crsp_msf_by_ids`   \n",
        "\n",
        "**Inputs**\n",
        "* `db`: WRDS database connection object\n",
        "* List of identifiers (tickers or PERMNOS)\n",
        "* `start_date`: a starting date for the data of the form `\"yyyy-mm\"` (optional)\n",
        "* `end_date`: and ending data for the data of the form `\"yyyy-mm\"` (optional)\n",
        "* If `start_date` and `end_date` are not supplied, the function returns all avaiable data from December 1925 to the present.  \n",
        "\n",
        "**Output**\n",
        "* `date`\n",
        "* `permno`: CRSP permanent security identifier  \n",
        "* `permco`: CRSP permanent company identifier\n",
        "* `ticker`\n",
        "* `comnam`: Company name\n",
        "* `shrcd`: [Share code](https://wrds-www.wharton.upenn.edu/data-dictionary/form_metadata/crsp_a_stock_msf_identifyinginformation/shrcd/)  \n",
        "* `exchcd`: [Exchange code](https://wrds-www.wharton.upenn.edu/data-dictionary/form_metadata/crsp_a_stock_msf_identifyinginformation/exchcd/)\n",
        "* `siccd`:  [Standard Industial Classification Code](https://www.sec.gov/search-filings/standard-industrial-classification-sic-code-list)\n",
        "* `prc`: A negative price does not indicate that the price fell below zero; rather, it means the price was inferred as the midpoint of the closing inside bid and ask quotes instead of an actual end-of-day trade. When using `prc`, always apply `np.abs(prc)` to ensure the absolute value is used.\n",
        "* `ret`: Return with dividends\n",
        "* `retx`: Return without dividends\n",
        "* `vol`: Volume (\\$thousands)\n",
        "* `shrout`: Shares outstanding (\\$thousands)\n",
        "\n",
        "Identifiers can be either **tickers** or **PERMNOs**. The function will automatically detect the type of identifier you are using. Since tickers can change over time, this becomes an important consideration when pulling data over long periods. To address this, CRSP assigns each security a permanent identifier, the PERMNO, that does not change. In addition, WRDS provides an [online tool](https://wrds-www.wharton.upenn.edu/pages/get-data/center-research-security-prices-crsp/annual-update/tools/translate-to-permcopermno/)\n",
        " to translate tickers into PERMCO/PERMNO identifiers. The CRSP PERMCO is a permanent *company* identifier, while the PERMNO is a permanent *security identifier*. Several securities may be associated with the same company since firms can issue various classes of equity.  "
      ],
      "metadata": {
        "id": "F4fI5g9PZzEO"
      }
    },
    {
      "cell_type": "code",
      "source": [
        "ids=['IBM','F', 'AAPL']    # specify ids\n",
        "start='2015-01'         # start date\n",
        "end = '2024-12'         # end date\n",
        "data=sf.get_crsp_msf_by_ids(db,ids,start,end)\n",
        "print(data)"
      ],
      "metadata": {
        "id": "zfArr4aLGe4H"
      },
      "execution_count": null,
      "outputs": []
    },
    {
      "cell_type": "markdown",
      "source": [
        "### Calculate Turnover\n",
        "Turnover is calculated as volume during the month divided by shares outstanding at the beginning of the month.  In the CRSP data, `shrout` represents shares outstanding at the *end* of month $t$ and `vol` represents volume over the same month $t$. We therefore create a variable `shrout_lag` and divide volume by `shrout_lag` to calculate turnover.  "
      ],
      "metadata": {
        "id": "xUc-TAHmZHo0"
      }
    },
    {
      "cell_type": "code",
      "source": [
        "data = data.sort_values(['ticker', 'date']) #sort to make sure lagging works properly\n",
        "data['shrout_lag'] = data.groupby('ticker')['shrout'].shift(1) # create lagged shrout by ticker\n",
        "data['turnover'] = data['vol'] / data['shrout_lag'] # compute turnover (volume / lagged shares outstanding)"
      ],
      "metadata": {
        "id": "2nlywnICfbeT"
      },
      "execution_count": null,
      "outputs": []
    },
    {
      "cell_type": "markdown",
      "source": [
        "### Pivot Data\n",
        "We format format the data using the `pivot` method so we have a dataframe with four columns:  \n",
        "1. date  \n",
        "2. IBM Turnover  \n",
        "3. Ford Turnover  \n",
        "4. AAPL Turnover  \n"
      ],
      "metadata": {
        "id": "QTyPbEOTZo58"
      }
    },
    {
      "cell_type": "code",
      "source": [
        "# pivot for plotting\n",
        "pivot_data = data.pivot_table(index=data.index, columns='ticker', values='turnover', aggfunc='first')\n",
        "pivot_data.index.name = 'date'\n",
        "print(pivot_data)"
      ],
      "metadata": {
        "id": "T6UpPZ3uZn5N"
      },
      "execution_count": null,
      "outputs": []
    },
    {
      "cell_type": "markdown",
      "source": [
        "### Plot Turnover\n",
        "We plot each turnover series on the same axis in a loop.  If needed, an AI assitant can prpovide more details and expanation."
      ],
      "metadata": {
        "id": "jKhSfg6-v8Th"
      }
    },
    {
      "cell_type": "code",
      "source": [
        "cols = [\"AAPL\", \"F\", \"IBM\"]  # <-- replace with your 4 column names\n",
        "styles = ['-', '--', ':', '-.'][:len(cols)]  # one style per series\n",
        "\n",
        "#plots all selected columns on one Axes against the DataFrame’s index.\n",
        "ax = pivot_data[cols].astype(float).plot(figsize=(10, 6),style=styles)\n",
        "\n",
        "# set title and axis labels\n",
        "ax.set_ylabel(\"Turnover\", fontsize=16)\n",
        "ax.legend(title=\"Ticker (permno)\")\n",
        "plt.show()"
      ],
      "metadata": {
        "collapsed": true,
        "id": "D9zud6WLvpMJ"
      },
      "execution_count": null,
      "outputs": []
    }
  ]
}