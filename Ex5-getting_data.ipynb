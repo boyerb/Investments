{
  "cells": [
    {
      "cell_type": "markdown",
      "source": [
        "***Foundations of Investment Analysis***, Bates, Boyer, and Fletcher"
      ],
      "metadata": {
        "id": "L1gOEU3lC47o"
      },
      "id": "L1gOEU3lC47o"
    },
    {
      "metadata": {
        "id": "a8424377d4ab21a7"
      },
      "cell_type": "markdown",
      "source": [
        "# Example Chapter 5: Accessing Data from the Internet\n",
        "In this example we tap into the yfinance library to get monthly stock returns and Ken French's website to access data on short-term US t-bill returns. To make the process of gathering data from these sources as easy as possible, we package most of the code in easy-to-use functions in the library `simple_finance.py`.  We then use these data to estimate the annualized expected return, volatility, and Sharpe ratio for the Russell 3000 index (^RUT) and Ford Motor Company (F).  Try changing the tickers and date ranges to pull data for different companies over different time periods.\n"
      ],
      "id": "a8424377d4ab21a7"
    },
    {
      "metadata": {
        "id": "848af822f805f02a"
      },
      "cell_type": "markdown",
      "source": [
        " ### Imports and Setup\n",
        " We first load in a function file from the GitHub repository using the `curl` command. the `-O` following this command tells curl to save the file `simple_finance.py` in the current working directory. We then import the functions from the file and import other necessary libraries."
      ],
      "id": "848af822f805f02a"
    },
    {
      "metadata": {
        "id": "abfa28ff8f165bb6",
        "ExecuteTime": {
          "end_time": "2025-01-29T18:23:56.514917Z",
          "start_time": "2025-01-29T18:23:56.306910Z"
        },
        "outputId": "2475e167-7155-4a60-ed50-c28dd141b532",
        "colab": {
          "base_uri": "https://localhost:8080/"
        }
      },
      "cell_type": "code",
      "source": [
        "# Load in simple_finance.py from the GitHub repository\n",
        "!curl -O https://raw.githubusercontent.com/boyerb/Investments/master/functions/simple_finance.py\n",
        "!ls\n",
        "import simple_finance as sf\n",
        "import inspect\n",
        "# import other necessary libraries\n",
        "import numpy as np\n",
        "import yfinance as yf\n",
        "import pandas as pd\n",
        "print(inspect.getsource(sf))"
      ],
      "id": "abfa28ff8f165bb6",
      "outputs": [
        {
          "output_type": "stream",
          "name": "stdout",
          "text": [
            "  % Total    % Received % Xferd  Average Speed   Time    Time     Time  Current\n",
            "                                 Dload  Upload   Total   Spent    Left  Speed\n",
            "\r  0     0    0     0    0     0      0      0 --:--:-- --:--:-- --:--:--     0\r100  6294  100  6294    0     0  65838      0 --:--:-- --:--:-- --:--:-- 66252\n",
            "__pycache__  sample_data  simple_finance.py\n",
            "import zipfile\n",
            "from io import BytesIO\n",
            "import pandas as pd\n",
            "import yfinance as yf\n",
            "import requests\n",
            "import io\n",
            "import ssl\n",
            "import urllib.request\n",
            "import certifi\n",
            "import urllib.request\n",
            "import os\n",
            "from requests.adapters import HTTPAdapter\n",
            "from urllib3.poolmanager import PoolManager\n",
            "import urllib3\n",
            "import statsmodels.api as sm\n",
            "\"\"\"\n",
            "This functions downloads and processes the Fama-French 5-Factor data from the Dartmouth website using the 'requests' library. \n",
            "\"\"\"\n",
            "def get_ff5():\n",
            "    url = \"https://mba.tuck.dartmouth.edu/pages/faculty/ken.french/ftp/F-F_Research_Data_5_Factors_2x3_CSV.zip\"\n",
            "\n",
            "    # Read the zipped CSV file from the URL\n",
            "    context = ssl.create_default_context(cafile=certifi.where())\n",
            "    with urllib.request.urlopen(url, context=context) as response:\n",
            "        ff_five_factors = pd.read_csv(url, skiprows=3)\n",
            "\n",
            "    # Use str.match to identify rows with dates (6-digit YYYYMM format), and drop NaN values that could arise\n",
            "    ff_five_factors = ff_five_factors[ff_five_factors['Unnamed: 0'].str.match(r'^\\d{6}$', na=False)]\n",
            "\n",
            "    # Rename the first column to 'Date'\n",
            "    ff_five_factors.rename(columns={'Unnamed: 0': 'Date'}, inplace=True)\n",
            "\n",
            "    # Convert the Date column to datetime format (YYYY-MM)\n",
            "    ff_five_factors['Date'] = pd.to_datetime(ff_five_factors['Date'], format='%Y%m')\n",
            "\n",
            "    # Convert all columns except 'Date' to numeric types\n",
            "    ff_five_factors.iloc[:, 1:] = ff_five_factors.iloc[:, 1:].apply(pd.to_numeric, errors='coerce')\n",
            "\n",
            "    # Multiply all columns except 'Date' by 0.01\n",
            "    ff_five_factors.iloc[:, 1:] = ff_five_factors.iloc[:, 1:] * 0.01\n",
            "\n",
            "    # reset the index\n",
            "    ff_five_factors.set_index('Date', inplace=True)\n",
            "\n",
            "    return ff_five_factors\n",
            "\n",
            "\"\"\"\n",
            "This functions downloads and processes the Fama-French 3-Factor data from the Dartmouth website using the 'requests' library. \n",
            "\"\"\"\n",
            "#########################################################################################################################\n",
            "def get_ff3():\n",
            "    #http = urllib3.PoolManager(cert_reqs=\"CERT_REQUIRED\", ca_certs=certifi.where())\n",
            "    #http.request(\"GET\", \"https://mba.tuck.dartmouth.edu/pages/faculty/ken.french/ftp/F-F_Research_Data_Factors_CSV.zip\")\n",
            "\n",
            "    # Make the request using the session\n",
            "    url = \"https://mba.tuck.dartmouth.edu/pages/faculty/ken.french/ftp/F-F_Research_Data_Factors_CSV.zip\"\n",
            "    response = requests.get(url, verify=False)\n",
            "\n",
            "    # Read the content of the file\n",
            "    zip_content = response.content\n",
            "\n",
            "    # Open the zip file from the content\n",
            "    with zipfile.ZipFile(io.BytesIO(zip_content)) as zf:\n",
            "        with zf.open('F-F_Research_Data_Factors.CSV') as f:\n",
            "            # Read the CSV file content (you can load it into pandas or process as needed)\n",
            "            ff_three_factors = pd.read_csv(f, skiprows=3)\n",
            "\n",
            "    # Use str.match to identify rows with dates (6-digit YYYYMM format), and drop NaN values that could arise\n",
            "    ff_three_factors = ff_three_factors[ff_three_factors['Unnamed: 0'].str.match(r'^\\d{6}$', na=False)] # gets rid of Copyright line\n",
            "\n",
            "    # Rename the first column to 'Date'\n",
            "    ff_three_factors.rename(columns={'Unnamed: 0': 'Date'}, inplace=True)\n",
            "\n",
            "    # Convert the Date column to datetime format (YYYY-MM)\n",
            "    ff_three_factors['Date'] = pd.to_datetime(ff_three_factors['Date'], format='%Y%m').dt.to_period()\n",
            "\n",
            "    # Convert all columns except 'Date' to numeric types\n",
            "    ff_three_factors.iloc[:, 1:] = ff_three_factors.iloc[:, 1:].apply(pd.to_numeric, errors='coerce')\n",
            "\n",
            "    # Multiply all columns except 'Date' by 0.01\n",
            "    ff_three_factors.iloc[:, 1:] = (ff_three_factors.iloc[:, 1:] * 0.01)\n",
            "\n",
            "    # reset the index\n",
            "    ff_three_factors.set_index('Date', inplace=True)\n",
            "\n",
            "    return ff_three_factors\n",
            "\n",
            "\n",
            "####################################################################################################\n",
            "\"\"\"\n",
            "    This function fetches monthly returns for a given ticker over a specified date range.\n",
            "\n",
            "    Parameters:\n",
            "    - ticker (str): The ticker symbol of the stock.\n",
            "    - start_date (str): The start date in 'YYYY-MM-DD' format.\n",
            "    - end_date (str): The end date in 'YYYY-MM-DD' format.\n",
            "\n",
            "    Returns:\n",
            "    - DataFrame: A DataFrame with monthly returns and adjusted close prices.\n",
            "\"\"\"\n",
            "def get_monthly_returns(tickers, start_date, end_date, tbill_return=True):\n",
            "    all_returns = pd.DataFrame()\n",
            "    adjusted_start_date = pd.to_datetime(start_date) - pd.DateOffset(months=1)\n",
            "    for ticker in tickers:\n",
            "        # Download daily data from Yahoo Finance\n",
            "        data = yf.download(ticker, start=adjusted_start_date, end=end_date, interval=\"1d\")\n",
            "        data['date'] = data.index\n",
            "        print(data)\n",
            "        # Resample data to get the last business day of each month\n",
            "        #month_end_data = data.groupby([data.index.year, data.index.month]).apply(lambda x: x.loc[x.index.max()])\n",
            "        #month_end_data = month_end_data.set_index('date')\n",
            "\n",
            "        # Calculate monthly returns based on month-end data\n",
            "        #month_end_data = month_end_data.sort_index()\n",
            "        #print(month_end_data)\n",
            "\n",
            "        #month_end_data['Monthly Return'] = month_end_data['Adj Close'].pct_change()\n",
            "\n",
            "        # Drop any missing values (the first row will have NaN for returns)\n",
            "        #month_end_data.dropna(inplace=True)\n",
            "\n",
            "        # Add returns to the main DataFrame with ticker as column name\n",
            "        #all_returns[ticker] = month_end_data['Monthly Return']\n",
            "\n",
            "    #if tbill_return:\n",
            "        #ff3 = get_ff3()\n",
            "        #all_returns['YearMonth'] = all_returns.index.to_period('M')\n",
            "\n",
            "        #all_returns = pd.merge(all_returns, ff3[['RF']], left_on='YearMonth',  right_index=True,  how='left')\n",
            "\n",
            "    #return all_returns\n",
            "\n",
            "####################################################################################################\n",
            "def intercept(y,x):\n",
            "    x_with_intercept = sm.add_constant(x)\n",
            "\n",
            "    # Fit the model: y = β0 + β1*x\n",
            "    model = sm.OLS(y, x_with_intercept)\n",
            "    results = model.fit()\n",
            "\n",
            "    # Return the slope (coefficient of x)\n",
            "    return results.params[0]  # The slope is the second parameter (after the intercept)\n",
            "\n",
            "\n",
            "####################################################################################################\n",
            "def slope(y,x):\n",
            "    x_with_intercept = sm.add_constant(x)\n",
            "\n",
            "    # Fit the model: y = β0 + β1*x\n",
            "    model = sm.OLS(y, x_with_intercept)\n",
            "    results = model.fit()\n",
            "\n",
            "    # Return the slope (coefficient of x)\n",
            "    return results.params[1]  # The slope is the second parameter (after the intercept)\n",
            "\n"
          ]
        }
      ],
      "execution_count": 14
    },
    {
      "metadata": {
        "id": "a6c48c9ecd523cc9"
      },
      "cell_type": "markdown",
      "source": [
        "### Access Monthly Returns\n",
        "In this block of code we access monthly returns for the Russell 3000 index (^RUA) and Ford Motor Company (F). The key function is `get_monthly_returns`.\n",
        "\n",
        "`get_monthly returns` has the following inputs:\n",
        "- **ticker** = list of desired tickers: `['ticker_1', 'ticker_2', ..., 'ticker_N']\n",
        "- **begin** = beginning month in format yyyy-mm-dd\n",
        "- **end** = ending month in format yyyy-mm-dd\n",
        "- **tbill_return** = True or False. If True, the return on short-term tbills will be included in the DataFrame. If False, the return on short-term tbills will not be included.\n",
        "\n",
        "The output is a DataFrame with monthly returns for each ticker, and the return on short-term tbills if `tbill_return=True`.\n",
        "\n",
        "We then calculate the annualized average return and volatility."
      ],
      "id": "a6c48c9ecd523cc9"
    },
    {
      "cell_type": "code",
      "source": [
        "start_date='1990-11-15'\n",
        "end_date='2023-12-31'\n",
        "adjusted_start_date = pd.to_datetime(start_date) - pd.DateOffset(months=1)\n",
        "ticker = ['^RUA', 'F']\n",
        "data = yf.download(ticker, start=adjusted_start_date, end=end_date, interval=\"1d\")"
      ],
      "metadata": {
        "id": "dzJWMJZQXJTp",
        "outputId": "9314ab14-76a2-4ce4-a6e9-ee80f7800e1c",
        "colab": {
          "base_uri": "https://localhost:8080/"
        }
      },
      "id": "dzJWMJZQXJTp",
      "execution_count": 16,
      "outputs": [
        {
          "output_type": "stream",
          "name": "stderr",
          "text": [
            "[*********************100%***********************]  2 of 2 completed\n"
          ]
        }
      ]
    },
    {
      "cell_type": "code",
      "source": [
        "print(data)\n"
      ],
      "metadata": {
        "id": "n_1yqw0tYL-5",
        "outputId": "10554c1f-eaed-490b-d016-9496b109d43f",
        "colab": {
          "base_uri": "https://localhost:8080/"
        }
      },
      "id": "n_1yqw0tYL-5",
      "execution_count": 17,
      "outputs": [
        {
          "output_type": "stream",
          "name": "stdout",
          "text": [
            "Price           Close                    High                     Low  \\\n",
            "Ticker              F         ^RUA          F         ^RUA          F   \n",
            "Date                                                                    \n",
            "1990-10-15   1.678722   165.009995   1.685332   165.610001   1.612631   \n",
            "1990-10-16   1.632459   162.750000   1.711768   165.479996   1.619240   \n",
            "1990-10-17   1.619239   162.750000   1.665504   163.979996   1.619239   \n",
            "1990-10-18   1.619239   166.399994   1.652285   166.399994   1.606021   \n",
            "1990-10-19   1.658895   169.679993   1.658895   169.690002   1.599413   \n",
            "...               ...          ...        ...          ...        ...   \n",
            "2023-12-22  11.542161  2741.199951  11.644965  2751.260010  11.476739   \n",
            "2023-12-26  11.635618  2754.719971  11.682348  2760.330078  11.560851   \n",
            "2023-12-27  11.579545  2759.219971  11.635620  2761.669922  11.430010   \n",
            "2023-12-28  11.532816  2759.620117  11.616929  2765.300049  11.476740   \n",
            "2023-12-29  11.392626  2748.209961  11.579544  2761.300049  11.364588   \n",
            "\n",
            "Price                         Open                 Volume       \n",
            "Ticker             ^RUA          F         ^RUA         F ^RUA  \n",
            "Date                                                            \n",
            "1990-10-15   161.860001   1.639068   163.399994   5977216  0.0  \n",
            "1990-10-16   162.410004   1.685332   165.009995   4110672  0.0  \n",
            "1990-10-17   162.199997   1.625849   162.750000   3400990  0.0  \n",
            "1990-10-18   162.740005   1.625849   162.740005   7811975  0.0  \n",
            "1990-10-19   166.399994   1.625849   166.399994   8954590  0.0  \n",
            "...                 ...        ...          ...       ...  ...  \n",
            "2023-12-22  2731.080078  11.514123  2742.179932  43718600  0.0  \n",
            "2023-12-26  2744.070068  11.579543  2744.320068  26293700  0.0  \n",
            "2023-12-27  2752.280029  11.616929  2755.110107  39891300  0.0  \n",
            "2023-12-28  2758.260010  11.570199  2761.050049  26688500  0.0  \n",
            "2023-12-29  2739.989990  11.542161  2758.719971  40902400  0.0  \n",
            "\n",
            "[8366 rows x 10 columns]\n"
          ]
        }
      ]
    },
    {
      "cell_type": "code",
      "source": [
        "# Get monthly returns for a given list of stock tickers using the yfinance API\n",
        "ticker = ['^RUA', 'F']\n",
        "# Use tbill_return=True to get the return on short-term tbills, or False to exclude tbill returns\n",
        "dat = sf.get_monthly_returns(ticker, '1990-01-01', '2023-12-31', tbill_return=False)\n"
      ],
      "metadata": {
        "id": "22shU3S7VPMh",
        "outputId": "37cc6d1c-5d3c-4bb5-8510-a3fd86499a5f",
        "colab": {
          "base_uri": "https://localhost:8080/",
          "height": 591
        }
      },
      "id": "22shU3S7VPMh",
      "execution_count": 8,
      "outputs": [
        {
          "output_type": "stream",
          "name": "stderr",
          "text": [
            "\r[*********************100%***********************]  1 of 1 completed\n"
          ]
        },
        {
          "output_type": "error",
          "ename": "KeyError",
          "evalue": "'Adj Close'",
          "traceback": [
            "\u001b[0;31m---------------------------------------------------------------------------\u001b[0m",
            "\u001b[0;31mKeyError\u001b[0m                                  Traceback (most recent call last)",
            "\u001b[0;32m/usr/local/lib/python3.11/dist-packages/pandas/core/indexes/base.py\u001b[0m in \u001b[0;36mget_loc\u001b[0;34m(self, key)\u001b[0m\n\u001b[1;32m   3804\u001b[0m         \u001b[0;32mtry\u001b[0m\u001b[0;34m:\u001b[0m\u001b[0;34m\u001b[0m\u001b[0;34m\u001b[0m\u001b[0m\n\u001b[0;32m-> 3805\u001b[0;31m             \u001b[0;32mreturn\u001b[0m \u001b[0mself\u001b[0m\u001b[0;34m.\u001b[0m\u001b[0m_engine\u001b[0m\u001b[0;34m.\u001b[0m\u001b[0mget_loc\u001b[0m\u001b[0;34m(\u001b[0m\u001b[0mcasted_key\u001b[0m\u001b[0;34m)\u001b[0m\u001b[0;34m\u001b[0m\u001b[0;34m\u001b[0m\u001b[0m\n\u001b[0m\u001b[1;32m   3806\u001b[0m         \u001b[0;32mexcept\u001b[0m \u001b[0mKeyError\u001b[0m \u001b[0;32mas\u001b[0m \u001b[0merr\u001b[0m\u001b[0;34m:\u001b[0m\u001b[0;34m\u001b[0m\u001b[0;34m\u001b[0m\u001b[0m\n",
            "\u001b[0;32mindex.pyx\u001b[0m in \u001b[0;36mpandas._libs.index.IndexEngine.get_loc\u001b[0;34m()\u001b[0m\n",
            "\u001b[0;32mindex.pyx\u001b[0m in \u001b[0;36mpandas._libs.index.IndexEngine.get_loc\u001b[0;34m()\u001b[0m\n",
            "\u001b[0;32mpandas/_libs/hashtable_class_helper.pxi\u001b[0m in \u001b[0;36mpandas._libs.hashtable.PyObjectHashTable.get_item\u001b[0;34m()\u001b[0m\n",
            "\u001b[0;32mpandas/_libs/hashtable_class_helper.pxi\u001b[0m in \u001b[0;36mpandas._libs.hashtable.PyObjectHashTable.get_item\u001b[0;34m()\u001b[0m\n",
            "\u001b[0;31mKeyError\u001b[0m: 'Adj Close'",
            "\nThe above exception was the direct cause of the following exception:\n",
            "\u001b[0;31mKeyError\u001b[0m                                  Traceback (most recent call last)",
            "\u001b[0;32m<ipython-input-8-764fb0703afd>\u001b[0m in \u001b[0;36m<cell line: 0>\u001b[0;34m()\u001b[0m\n\u001b[1;32m      2\u001b[0m \u001b[0mticker\u001b[0m \u001b[0;34m=\u001b[0m \u001b[0;34m[\u001b[0m\u001b[0;34m'^RUA'\u001b[0m\u001b[0;34m,\u001b[0m \u001b[0;34m'F'\u001b[0m\u001b[0;34m]\u001b[0m\u001b[0;34m\u001b[0m\u001b[0;34m\u001b[0m\u001b[0m\n\u001b[1;32m      3\u001b[0m \u001b[0;31m# Use tbill_return=True to get the return on short-term tbills, or False to exclude tbill returns\u001b[0m\u001b[0;34m\u001b[0m\u001b[0;34m\u001b[0m\u001b[0m\n\u001b[0;32m----> 4\u001b[0;31m \u001b[0mdat\u001b[0m \u001b[0;34m=\u001b[0m \u001b[0msf\u001b[0m\u001b[0;34m.\u001b[0m\u001b[0mget_monthly_returns\u001b[0m\u001b[0;34m(\u001b[0m\u001b[0mticker\u001b[0m\u001b[0;34m,\u001b[0m \u001b[0;34m'1990-01-01'\u001b[0m\u001b[0;34m,\u001b[0m \u001b[0;34m'2023-12-31'\u001b[0m\u001b[0;34m,\u001b[0m \u001b[0mtbill_return\u001b[0m\u001b[0;34m=\u001b[0m\u001b[0;32mFalse\u001b[0m\u001b[0;34m)\u001b[0m\u001b[0;34m\u001b[0m\u001b[0;34m\u001b[0m\u001b[0m\n\u001b[0m",
            "\u001b[0;32m/content/simple_finance.py\u001b[0m in \u001b[0;36mget_monthly_returns\u001b[0;34m(tickers, start_date, end_date, tbill_return)\u001b[0m\n\u001b[1;32m    113\u001b[0m         \u001b[0;31m# Calculate monthly returns based on month-end data\u001b[0m\u001b[0;34m\u001b[0m\u001b[0;34m\u001b[0m\u001b[0m\n\u001b[1;32m    114\u001b[0m         \u001b[0;31m#month_end_data = month_end_data.sort_index()\u001b[0m\u001b[0;34m\u001b[0m\u001b[0;34m\u001b[0m\u001b[0m\n\u001b[0;32m--> 115\u001b[0;31m         \u001b[0;31m#print(month_end_data)\u001b[0m\u001b[0;34m\u001b[0m\u001b[0;34m\u001b[0m\u001b[0m\n\u001b[0m\u001b[1;32m    116\u001b[0m \u001b[0;34m\u001b[0m\u001b[0m\n\u001b[1;32m    117\u001b[0m         \u001b[0;31m#month_end_data['Monthly Return'] = month_end_data['Adj Close'].pct_change()\u001b[0m\u001b[0;34m\u001b[0m\u001b[0;34m\u001b[0m\u001b[0m\n",
            "\u001b[0;32m/usr/local/lib/python3.11/dist-packages/pandas/core/frame.py\u001b[0m in \u001b[0;36m__getitem__\u001b[0;34m(self, key)\u001b[0m\n\u001b[1;32m   4099\u001b[0m         \u001b[0;32mif\u001b[0m \u001b[0mis_single_key\u001b[0m\u001b[0;34m:\u001b[0m\u001b[0;34m\u001b[0m\u001b[0;34m\u001b[0m\u001b[0m\n\u001b[1;32m   4100\u001b[0m             \u001b[0;32mif\u001b[0m \u001b[0mself\u001b[0m\u001b[0;34m.\u001b[0m\u001b[0mcolumns\u001b[0m\u001b[0;34m.\u001b[0m\u001b[0mnlevels\u001b[0m \u001b[0;34m>\u001b[0m \u001b[0;36m1\u001b[0m\u001b[0;34m:\u001b[0m\u001b[0;34m\u001b[0m\u001b[0;34m\u001b[0m\u001b[0m\n\u001b[0;32m-> 4101\u001b[0;31m                 \u001b[0;32mreturn\u001b[0m \u001b[0mself\u001b[0m\u001b[0;34m.\u001b[0m\u001b[0m_getitem_multilevel\u001b[0m\u001b[0;34m(\u001b[0m\u001b[0mkey\u001b[0m\u001b[0;34m)\u001b[0m\u001b[0;34m\u001b[0m\u001b[0;34m\u001b[0m\u001b[0m\n\u001b[0m\u001b[1;32m   4102\u001b[0m             \u001b[0mindexer\u001b[0m \u001b[0;34m=\u001b[0m \u001b[0mself\u001b[0m\u001b[0;34m.\u001b[0m\u001b[0mcolumns\u001b[0m\u001b[0;34m.\u001b[0m\u001b[0mget_loc\u001b[0m\u001b[0;34m(\u001b[0m\u001b[0mkey\u001b[0m\u001b[0;34m)\u001b[0m\u001b[0;34m\u001b[0m\u001b[0;34m\u001b[0m\u001b[0m\n\u001b[1;32m   4103\u001b[0m             \u001b[0;32mif\u001b[0m \u001b[0mis_integer\u001b[0m\u001b[0;34m(\u001b[0m\u001b[0mindexer\u001b[0m\u001b[0;34m)\u001b[0m\u001b[0;34m:\u001b[0m\u001b[0;34m\u001b[0m\u001b[0;34m\u001b[0m\u001b[0m\n",
            "\u001b[0;32m/usr/local/lib/python3.11/dist-packages/pandas/core/frame.py\u001b[0m in \u001b[0;36m_getitem_multilevel\u001b[0;34m(self, key)\u001b[0m\n\u001b[1;32m   4157\u001b[0m     \u001b[0;32mdef\u001b[0m \u001b[0m_getitem_multilevel\u001b[0m\u001b[0;34m(\u001b[0m\u001b[0mself\u001b[0m\u001b[0;34m,\u001b[0m \u001b[0mkey\u001b[0m\u001b[0;34m)\u001b[0m\u001b[0;34m:\u001b[0m\u001b[0;34m\u001b[0m\u001b[0;34m\u001b[0m\u001b[0m\n\u001b[1;32m   4158\u001b[0m         \u001b[0;31m# self.columns is a MultiIndex\u001b[0m\u001b[0;34m\u001b[0m\u001b[0;34m\u001b[0m\u001b[0m\n\u001b[0;32m-> 4159\u001b[0;31m         \u001b[0mloc\u001b[0m \u001b[0;34m=\u001b[0m \u001b[0mself\u001b[0m\u001b[0;34m.\u001b[0m\u001b[0mcolumns\u001b[0m\u001b[0;34m.\u001b[0m\u001b[0mget_loc\u001b[0m\u001b[0;34m(\u001b[0m\u001b[0mkey\u001b[0m\u001b[0;34m)\u001b[0m\u001b[0;34m\u001b[0m\u001b[0;34m\u001b[0m\u001b[0m\n\u001b[0m\u001b[1;32m   4160\u001b[0m         \u001b[0;32mif\u001b[0m \u001b[0misinstance\u001b[0m\u001b[0;34m(\u001b[0m\u001b[0mloc\u001b[0m\u001b[0;34m,\u001b[0m \u001b[0;34m(\u001b[0m\u001b[0mslice\u001b[0m\u001b[0;34m,\u001b[0m \u001b[0mnp\u001b[0m\u001b[0;34m.\u001b[0m\u001b[0mndarray\u001b[0m\u001b[0;34m)\u001b[0m\u001b[0;34m)\u001b[0m\u001b[0;34m:\u001b[0m\u001b[0;34m\u001b[0m\u001b[0;34m\u001b[0m\u001b[0m\n\u001b[1;32m   4161\u001b[0m             \u001b[0mnew_columns\u001b[0m \u001b[0;34m=\u001b[0m \u001b[0mself\u001b[0m\u001b[0;34m.\u001b[0m\u001b[0mcolumns\u001b[0m\u001b[0;34m[\u001b[0m\u001b[0mloc\u001b[0m\u001b[0;34m]\u001b[0m\u001b[0;34m\u001b[0m\u001b[0;34m\u001b[0m\u001b[0m\n",
            "\u001b[0;32m/usr/local/lib/python3.11/dist-packages/pandas/core/indexes/multi.py\u001b[0m in \u001b[0;36mget_loc\u001b[0;34m(self, key)\u001b[0m\n\u001b[1;32m   3038\u001b[0m \u001b[0;34m\u001b[0m\u001b[0m\n\u001b[1;32m   3039\u001b[0m         \u001b[0;32mif\u001b[0m \u001b[0;32mnot\u001b[0m \u001b[0misinstance\u001b[0m\u001b[0;34m(\u001b[0m\u001b[0mkey\u001b[0m\u001b[0;34m,\u001b[0m \u001b[0mtuple\u001b[0m\u001b[0;34m)\u001b[0m\u001b[0;34m:\u001b[0m\u001b[0;34m\u001b[0m\u001b[0;34m\u001b[0m\u001b[0m\n\u001b[0;32m-> 3040\u001b[0;31m             \u001b[0mloc\u001b[0m \u001b[0;34m=\u001b[0m \u001b[0mself\u001b[0m\u001b[0;34m.\u001b[0m\u001b[0m_get_level_indexer\u001b[0m\u001b[0;34m(\u001b[0m\u001b[0mkey\u001b[0m\u001b[0;34m,\u001b[0m \u001b[0mlevel\u001b[0m\u001b[0;34m=\u001b[0m\u001b[0;36m0\u001b[0m\u001b[0;34m)\u001b[0m\u001b[0;34m\u001b[0m\u001b[0;34m\u001b[0m\u001b[0m\n\u001b[0m\u001b[1;32m   3041\u001b[0m             \u001b[0;32mreturn\u001b[0m \u001b[0m_maybe_to_slice\u001b[0m\u001b[0;34m(\u001b[0m\u001b[0mloc\u001b[0m\u001b[0;34m)\u001b[0m\u001b[0;34m\u001b[0m\u001b[0;34m\u001b[0m\u001b[0m\n\u001b[1;32m   3042\u001b[0m \u001b[0;34m\u001b[0m\u001b[0m\n",
            "\u001b[0;32m/usr/local/lib/python3.11/dist-packages/pandas/core/indexes/multi.py\u001b[0m in \u001b[0;36m_get_level_indexer\u001b[0;34m(self, key, level, indexer)\u001b[0m\n\u001b[1;32m   3389\u001b[0m \u001b[0;34m\u001b[0m\u001b[0m\n\u001b[1;32m   3390\u001b[0m         \u001b[0;32melse\u001b[0m\u001b[0;34m:\u001b[0m\u001b[0;34m\u001b[0m\u001b[0;34m\u001b[0m\u001b[0m\n\u001b[0;32m-> 3391\u001b[0;31m             \u001b[0midx\u001b[0m \u001b[0;34m=\u001b[0m \u001b[0mself\u001b[0m\u001b[0;34m.\u001b[0m\u001b[0m_get_loc_single_level_index\u001b[0m\u001b[0;34m(\u001b[0m\u001b[0mlevel_index\u001b[0m\u001b[0;34m,\u001b[0m \u001b[0mkey\u001b[0m\u001b[0;34m)\u001b[0m\u001b[0;34m\u001b[0m\u001b[0;34m\u001b[0m\u001b[0m\n\u001b[0m\u001b[1;32m   3392\u001b[0m \u001b[0;34m\u001b[0m\u001b[0m\n\u001b[1;32m   3393\u001b[0m             \u001b[0;32mif\u001b[0m \u001b[0mlevel\u001b[0m \u001b[0;34m>\u001b[0m \u001b[0;36m0\u001b[0m \u001b[0;32mor\u001b[0m \u001b[0mself\u001b[0m\u001b[0;34m.\u001b[0m\u001b[0m_lexsort_depth\u001b[0m \u001b[0;34m==\u001b[0m \u001b[0;36m0\u001b[0m\u001b[0;34m:\u001b[0m\u001b[0;34m\u001b[0m\u001b[0;34m\u001b[0m\u001b[0m\n",
            "\u001b[0;32m/usr/local/lib/python3.11/dist-packages/pandas/core/indexes/multi.py\u001b[0m in \u001b[0;36m_get_loc_single_level_index\u001b[0;34m(self, level_index, key)\u001b[0m\n\u001b[1;32m   2978\u001b[0m             \u001b[0;32mreturn\u001b[0m \u001b[0;34m-\u001b[0m\u001b[0;36m1\u001b[0m\u001b[0;34m\u001b[0m\u001b[0;34m\u001b[0m\u001b[0m\n\u001b[1;32m   2979\u001b[0m         \u001b[0;32melse\u001b[0m\u001b[0;34m:\u001b[0m\u001b[0;34m\u001b[0m\u001b[0;34m\u001b[0m\u001b[0m\n\u001b[0;32m-> 2980\u001b[0;31m             \u001b[0;32mreturn\u001b[0m \u001b[0mlevel_index\u001b[0m\u001b[0;34m.\u001b[0m\u001b[0mget_loc\u001b[0m\u001b[0;34m(\u001b[0m\u001b[0mkey\u001b[0m\u001b[0;34m)\u001b[0m\u001b[0;34m\u001b[0m\u001b[0;34m\u001b[0m\u001b[0m\n\u001b[0m\u001b[1;32m   2981\u001b[0m \u001b[0;34m\u001b[0m\u001b[0m\n\u001b[1;32m   2982\u001b[0m     \u001b[0;32mdef\u001b[0m \u001b[0mget_loc\u001b[0m\u001b[0;34m(\u001b[0m\u001b[0mself\u001b[0m\u001b[0;34m,\u001b[0m \u001b[0mkey\u001b[0m\u001b[0;34m)\u001b[0m\u001b[0;34m:\u001b[0m\u001b[0;34m\u001b[0m\u001b[0;34m\u001b[0m\u001b[0m\n",
            "\u001b[0;32m/usr/local/lib/python3.11/dist-packages/pandas/core/indexes/base.py\u001b[0m in \u001b[0;36mget_loc\u001b[0;34m(self, key)\u001b[0m\n\u001b[1;32m   3810\u001b[0m             ):\n\u001b[1;32m   3811\u001b[0m                 \u001b[0;32mraise\u001b[0m \u001b[0mInvalidIndexError\u001b[0m\u001b[0;34m(\u001b[0m\u001b[0mkey\u001b[0m\u001b[0;34m)\u001b[0m\u001b[0;34m\u001b[0m\u001b[0;34m\u001b[0m\u001b[0m\n\u001b[0;32m-> 3812\u001b[0;31m             \u001b[0;32mraise\u001b[0m \u001b[0mKeyError\u001b[0m\u001b[0;34m(\u001b[0m\u001b[0mkey\u001b[0m\u001b[0;34m)\u001b[0m \u001b[0;32mfrom\u001b[0m \u001b[0merr\u001b[0m\u001b[0;34m\u001b[0m\u001b[0;34m\u001b[0m\u001b[0m\n\u001b[0m\u001b[1;32m   3813\u001b[0m         \u001b[0;32mexcept\u001b[0m \u001b[0mTypeError\u001b[0m\u001b[0;34m:\u001b[0m\u001b[0;34m\u001b[0m\u001b[0;34m\u001b[0m\u001b[0m\n\u001b[1;32m   3814\u001b[0m             \u001b[0;31m# If we have a listlike key, _check_indexing_error will raise\u001b[0m\u001b[0;34m\u001b[0m\u001b[0;34m\u001b[0m\u001b[0m\n",
            "\u001b[0;31mKeyError\u001b[0m: 'Adj Close'"
          ]
        }
      ]
    },
    {
      "metadata": {
        "id": "aa5b611ec5c3a9ce",
        "ExecuteTime": {
          "end_time": "2025-01-29T18:24:02.726902Z",
          "start_time": "2025-01-29T18:24:02.545355Z"
        },
        "outputId": "2013551a-4207-4bb7-96c1-6f2048dbda0a"
      },
      "cell_type": "code",
      "source": [
        "# Get monthly returns for a given list of stock tickers using the yfinance API\n",
        "ticker = ['^RUA', 'F']\n",
        "# Use tbill_return=True to get the return on short-term tbills, or False to exclude tbill returns\n",
        "dat = sf.get_monthly_returns(ticker, '1990-01-01', '2023-12-31', tbill_return=False)\n",
        "\n",
        "# Calculate the annualized average return and volatility\n",
        "A_Avg = dat.mean() * 12\n",
        "A_Vol = dat.std() * np.sqrt(12)\n",
        "print('Anualized Average Return')\n",
        "print(A_Avg)\n",
        "print()\n",
        "print('Annualized Volatility')\n",
        "print(A_Vol)\n"
      ],
      "id": "aa5b611ec5c3a9ce",
      "outputs": [
        {
          "name": "stderr",
          "output_type": "stream",
          "text": [
            "[*********************100%***********************]  1 of 1 completed\n",
            "[*********************100%***********************]  1 of 1 completed"
          ]
        },
        {
          "name": "stdout",
          "output_type": "stream",
          "text": [
            "Anualized Average Return\n",
            "^RUA    0.089472\n",
            "F       0.127640\n",
            "dtype: float64\n",
            "\n",
            "Annualized Volatility\n",
            "^RUA    0.152483\n",
            "F       0.431616\n",
            "dtype: float64\n"
          ]
        },
        {
          "name": "stderr",
          "output_type": "stream",
          "text": [
            "\n"
          ]
        }
      ],
      "execution_count": null
    },
    {
      "metadata": {
        "id": "e2c37d3cf72d9c37"
      },
      "cell_type": "markdown",
      "source": [
        "### Calculate Sharpe Ratios\n",
        "In this block od code we access data for the Russell 3000 index and Ford Motor Company **ticker = ['^RUA', 'F']**. We also retrieve data on short-term t-bill returns. Using these data we calculate the Sharpe ratios for the Russell 3000 and Ford."
      ],
      "id": "e2c37d3cf72d9c37"
    },
    {
      "metadata": {
        "id": "654477d73970a945",
        "ExecuteTime": {
          "end_time": "2024-12-17T00:47:08.600824Z",
          "start_time": "2024-12-17T00:47:08.036168Z"
        }
      },
      "cell_type": "code",
      "source": [
        "# Download data along with return on short-term tbills from Ken French's website\n",
        "dat = sf.get_monthly_returns(ticker, '1990-01-01', '2023-12-31', tbill_return=True)\n",
        "# Calculate excess returns\n",
        "dat['exret0'] = dat[ticker[0]] - dat['RF']\n",
        "dat['exret1'] = dat[ticker[1]] - dat['RF']\n",
        "print(dat.head())\n",
        "\n",
        "# Calculate and print Sharpe ratios\n",
        "# Calculate the Shapre ratio for the first ticker in the list\n",
        "A_AVG_exret0 = dat['exret0'].mean() * 12\n",
        "A_Vol_exret0 = dat[ticker[0]].std() * np.sqrt(12)\n",
        "Sharpe0 = A_AVG_exret0/A_Vol_exret0\n",
        "\n",
        "# Calculate the Shapre ratio for the second ticker in the list\n",
        "A_AVG_exret1 = dat['exret1'].mean() * 12\n",
        "A_Vol_exret1 = dat[ticker[1]].std() * np.sqrt(12)\n",
        "Sharpe1 = A_AVG_exret1/A_Vol_exret1\n",
        "\n",
        "print('Sharpe Ratios')\n",
        "print(ticker[0], Sharpe0)\n",
        "print(ticker[1], Sharpe1)"
      ],
      "id": "654477d73970a945",
      "outputs": [],
      "execution_count": null
    }
  ],
  "metadata": {
    "kernelspec": {
      "display_name": "Python 3",
      "language": "python",
      "name": "python3"
    },
    "language_info": {
      "codemirror_mode": {
        "name": "ipython",
        "version": 2
      },
      "file_extension": ".py",
      "mimetype": "text/x-python",
      "name": "python",
      "nbconvert_exporter": "python",
      "pygments_lexer": "ipython2",
      "version": "2.7.6"
    },
    "colab": {
      "provenance": []
    }
  },
  "nbformat": 4,
  "nbformat_minor": 5
}