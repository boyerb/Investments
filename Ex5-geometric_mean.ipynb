{
  "cells": [
    {
      "cell_type": "markdown",
      "source": [
        "***Foundations of Investment Analysis***, Bates, Boyer, and Fletcher"
      ],
      "metadata": {
        "id": "AACmDusDCaxy"
      },
      "id": "AACmDusDCaxy"
    },
    {
      "metadata": {
        "id": "279b317003d5edb9"
      },
      "cell_type": "markdown",
      "source": [
        "# Example 5: The Relation Between the Geometric Mean and the Arithmetic Mean\n",
        "This is the first example in which we load in external data from our GitHub repo. After loading in some historical returns for the Evergreen Growth ETF, we show that the arithmetic mean is approximately equal to the geometric mean plus half the variance,\n",
        "\n",
        "\n",
        "$arithmetic\\_mean \\approx geometric\\_mean + \\frac{1}{2}*variance$.\n"
      ],
      "id": "279b317003d5edb9"
    },
    {
      "metadata": {
        "id": "3af44b9eb136da7c"
      },
      "cell_type": "markdown",
      "source": [
        "---"
      ],
      "id": "3af44b9eb136da7c"
    },
    {
      "metadata": {
        "id": "86985e05a31be480"
      },
      "cell_type": "markdown",
      "source": [
        "### Imports and Setup"
      ],
      "id": "86985e05a31be480"
    },
    {
      "metadata": {
        "id": "8eb6a8f530b4921f"
      },
      "cell_type": "code",
      "source": [
        "#import packages\n",
        "import pandas as pd\n",
        "# Load in the data by first specifying the URL where the data can be found\n",
        "url='https://github.com/boyerb/Investments/raw/master/Examples_3.0.xlsx'\n",
        " # specify which columns to read\n",
        "columns_to_read = ['Evergreen Growth ETF']\n",
        "# read the data into a DataFrame\n",
        "df = pd.read_excel(url, sheet_name='5-Geometric_Mean', header=1, usecols=columns_to_read, engine='openpyxl')\n",
        "print(df)"
      ],
      "id": "8eb6a8f530b4921f",
      "outputs": [],
      "execution_count": null
    },
    {
      "metadata": {
        "id": "bfe7831adbe37f95"
      },
      "cell_type": "markdown",
      "source": [
        "### Calculate the Arithmetic Mean and Geometric Mean"
      ],
      "id": "bfe7831adbe37f95"
    },
    {
      "metadata": {
        "id": "564d38c16bdfec1"
      },
      "cell_type": "code",
      "outputs": [],
      "execution_count": null,
      "source": [
        "# Arithmetic mean\n",
        "arithmetic_mean = df.mean()\n",
        "print(type(arithmetic_mean))\n",
        "# Geometric mean\n",
        "T=len(df)\n",
        "geometric_mean = (df.prod()**(1/T))\n",
        "# Print the results\n",
        "print('Arithmetic Mean:', arithmetic_mean)\n",
        "print('Geometric Mean:', geometric_mean)"
      ],
      "id": "564d38c16bdfec1"
    },
    {
      "metadata": {
        "id": "ac72adc057af0e9a"
      },
      "cell_type": "markdown",
      "source": [
        "### Calculate the Geometric Mean Plus Half the Variance"
      ],
      "id": "ac72adc057af0e9a"
    },
    {
      "metadata": {
        "id": "ae32a27bbc35c9ff"
      },
      "cell_type": "code",
      "outputs": [],
      "execution_count": null,
      "source": [
        "# Calculate the geometric mean plus half the variance\n",
        "variance = df.var()\n",
        "check = geometric_mean + 0.5*variance\n",
        "print('Geometric Mean + 0.5*Variance:', check)"
      ],
      "id": "ae32a27bbc35c9ff"
    }
  ],
  "metadata": {
    "kernelspec": {
      "display_name": "Python 3",
      "language": "python",
      "name": "python3"
    },
    "language_info": {
      "codemirror_mode": {
        "name": "ipython",
        "version": 2
      },
      "file_extension": ".py",
      "mimetype": "text/x-python",
      "name": "python",
      "nbconvert_exporter": "python",
      "pygments_lexer": "ipython2",
      "version": "2.7.6"
    },
    "colab": {
      "provenance": []
    }
  },
  "nbformat": 4,
  "nbformat_minor": 5
}