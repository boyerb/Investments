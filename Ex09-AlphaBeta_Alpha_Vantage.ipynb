{
  "nbformat": 4,
  "nbformat_minor": 0,
  "metadata": {
    "colab": {
      "provenance": [],
      "authorship_tag": "ABX9TyOkC5C3k50VUq68gW5g/UZo",
      "include_colab_link": true
    },
    "kernelspec": {
      "name": "python3",
      "display_name": "Python 3"
    },
    "language_info": {
      "name": "python"
    }
  },
  "cells": [
    {
      "cell_type": "markdown",
      "metadata": {
        "id": "view-in-github",
        "colab_type": "text"
      },
      "source": [
        "<a href=\"https://colab.research.google.com/github/boyerb/Investments/blob/master/Ex09-AlphaBeta_Alpha_Vantage.ipynb\" target=\"_parent\"><img src=\"https://colab.research.google.com/assets/colab-badge.svg\" alt=\"Open In Colab\"/></a>"
      ]
    },
    {
      "cell_type": "markdown",
      "source": [
        "**Investments: Theory, Fundamental Analysis, and Data Driven Analytics**, Bates, Boyer, and Fletcher"
      ],
      "metadata": {
        "id": "JhG34ArUV3gz"
      }
    },
    {
      "cell_type": "markdown",
      "source": [
        "# Example Chapter 9: Estimating Alpha Using Data from Alpha Vantage API  \n",
        "  \n",
        "In this example we estimate the alpha and beta of Johnson and Johnson (`ticker:JNJ`) relative to the market portfolio along with 95% confidence intervals. In this example, data for Johnson and Johnson returns come from the Alpha Vantage API. Data for the market and short-term T-bill returns come from [Ken French's website](https://mba.tuck.dartmouth.edu/pages/faculty/ken.french/data_library.html). An introduction to the Alpha Vantage API is given in [EX07-Alpha_Vantage.ipynb](https://colab.research.google.com/github/boyerb/Investments/blob/master/Ex07-Alpha_Vantage.ipynb).  "
      ],
      "metadata": {
        "id": "Hx8Mas02V4jU"
      }
    },
    {
      "cell_type": "markdown",
      "source": [
        "### Imports and Setup\n",
        "We first import the `simple_finance`, `requests`, `pandas`, and `statsmodels` packages. To improve readability when printing a DataFrame to the consol, we then configure Pandas display options: (1) show all columns without truncation, (2) widen the output to 1000 characters so rows print on a single line, and (3) truncate long tables.\n"
      ],
      "metadata": {
        "id": "sGeJ4scnXDmj"
      }
    },
    {
      "cell_type": "code",
      "execution_count": 3,
      "metadata": {
        "id": "Ps_Zq06uBLtp"
      },
      "outputs": [],
      "source": [
        "# Import the simple_finance.py package and avoid using a stale cached version.\n",
        "!curl -s -O https://raw.githubusercontent.com/boyerb/Investments/master/functions/simple_finance.py\n",
        "import importlib, simple_finance as sf\n",
        "importlib.reload(sf)\n",
        "\n",
        "import requests\n",
        "import pandas as pd\n",
        "import statsmodels.api as sm\n",
        "\n",
        "pd.set_option('display.max_columns', None)   # Show all columns without truncation\n",
        "pd.set_option('display.width', 1000)   # Set the display width so output stays on one line\n",
        "pd.set_option(\"display.max_rows\", 20) # Force truncation if DataFrame has more than 20 rows"
      ]
    },
    {
      "cell_type": "markdown",
      "source": [
        "### Load in Data for Johnson & Johnson Using the Alpha Vantage API\n",
        "Replace `your_key` in the script with your actual API key. If you don't supply your own API key, the code will still run, but the number of daily requests will be **limited by IP address**.   We then create returns as a percent change in the adjusted close to account for splits, dividends, and other corporate events."
      ],
      "metadata": {
        "id": "lPyFUaW0Y1d6"
      }
    },
    {
      "cell_type": "code",
      "source": [
        "# Replace the text 'your_key' with your own APPI key\n",
        "url = 'https://www.alphavantage.co/query?function=TIME_SERIES_MONTHLY_ADJUSTED&symbol=JNJ&apikey=your_key'\n",
        "\n",
        "# Send an HTTP GET request to the API endpoint\n",
        "r = requests.get(url)\n",
        "df = sf.parse_monthly_alpha_vantage_response(r)\n",
        "\n",
        "# Create returns column using Adjusted Close\n",
        "df[\"Return\"] = df[\"Adjusted Close\"].pct_change()\n",
        "df = df.dropna()  # drop row with missing value\n",
        "print(df)"
      ],
      "metadata": {
        "id": "sPXB3FCvL-JX",
        "outputId": "11ed4519-a83a-45cd-ce8c-1425472f9560",
        "colab": {
          "base_uri": "https://localhost:8080/"
        }
      },
      "execution_count": 4,
      "outputs": [
        {
          "output_type": "stream",
          "name": "stdout",
          "text": [
            "            Open    High     Low   Close  Adjusted Close       Volume  Dividend Amount    Return\n",
            "2000-01   93.130   96.94   80.50   86.06         22.0597   76758100.0             0.00 -0.077104\n",
            "2000-02   85.440   86.31   70.06   72.00         18.5224   93261000.0             0.28 -0.160351\n",
            "2000-03   72.250   82.25   66.13   70.25         18.0722  139902700.0             0.00 -0.024306\n",
            "2000-04   70.630   84.44   70.00   82.50         21.2236   85393700.0             0.00  0.174378\n",
            "2000-05   82.250   90.00   81.88   89.50         23.1074   60104100.0             0.32  0.088760\n",
            "...          ...     ...     ...     ...             ...          ...              ...       ...\n",
            "2025-06  154.480  157.67  149.04  152.75        151.6331  159006719.0             0.00 -0.015849\n",
            "2025-07  153.000  169.99  152.81  164.74        163.5354  187622833.0             0.00  0.078494\n",
            "2025-08  165.475  181.16  164.79  177.17        177.1700  174938970.0             1.30  0.083374\n",
            "2025-09  177.470  185.99  173.33  185.42        185.4200  180483993.0             0.00  0.046565\n",
            "2025-10  186.000  189.92  183.91  188.16        188.1600   35273033.0             0.00  0.014777\n",
            "\n",
            "[310 rows x 8 columns]\n"
          ]
        }
      ]
    },
    {
      "cell_type": "markdown",
      "source": [
        "### Load Returns for the Market and Short-Term T-Bills\n",
        "This function retrieves monthly data for the Fama–French Five-Factor model from [Ken French's website](https://mba.tuck.dartmouth.edu/pages/faculty/ken.french/data_library.html). From the resulting DataFrame, we will extract the market’s excess return `Mkt-RF` and the return on short-term T-bills `RF`.\n"
      ],
      "metadata": {
        "id": "j6vDrNyPZzGR"
      }
    },
    {
      "cell_type": "code",
      "source": [
        "FF = sf.get_ff5(start_date=\"2010-01\", end_date=\"2024-12\")\n",
        "print(FF)"
      ],
      "metadata": {
        "id": "sIeuH6tqNYFF",
        "outputId": "a02c75d8-35bb-4248-9b24-c8a8878c2527",
        "colab": {
          "base_uri": "https://localhost:8080/"
        }
      },
      "execution_count": 5,
      "outputs": [
        {
          "output_type": "stream",
          "name": "stdout",
          "text": [
            "         Mkt-RF     SMB     HML     RMW     CMA      RF\n",
            "date                                                   \n",
            "2010-01 -0.0335  0.0040  0.0033 -0.0108  0.0051  0.0000\n",
            "2010-02  0.0339  0.0149  0.0318 -0.0029  0.0142  0.0000\n",
            "2010-03  0.0630  0.0183  0.0219 -0.0061  0.0174  0.0001\n",
            "2010-04  0.0200  0.0496  0.0296  0.0061  0.0175  0.0001\n",
            "2010-05 -0.0790  0.0008 -0.0248  0.0130 -0.0024  0.0001\n",
            "...         ...     ...     ...     ...     ...     ...\n",
            "2024-08  0.0161 -0.0355 -0.0110  0.0075  0.0082  0.0048\n",
            "2024-09  0.0173 -0.0092 -0.0277  0.0018 -0.0029  0.0040\n",
            "2024-10 -0.0100 -0.0088  0.0086 -0.0142  0.0098  0.0039\n",
            "2024-11  0.0649  0.0460  0.0015 -0.0230 -0.0205  0.0040\n",
            "2024-12 -0.0315 -0.0383 -0.0300  0.0190 -0.0121  0.0037\n",
            "\n",
            "[180 rows x 6 columns]\n"
          ]
        }
      ]
    },
    {
      "cell_type": "markdown",
      "source": [
        "### Merge Two Data Sources\n",
        "In this code we merge the data from Alpha Vantage and Ken French's website together. We then create the excess return for Johnson & Johnson."
      ],
      "metadata": {
        "id": "VfEeT8WYd6gu"
      }
    },
    {
      "cell_type": "code",
      "source": [
        "merged = df.merge(FF, left_index=True, right_index=True, how=\"inner\")\n",
        "merged = merged[[\"Return\", \"Mkt-RF\", \"RF\"]]\n",
        "merged[\"Ret-RF\"] = merged[\"Return\"] - merged[\"RF\"]\n",
        "print(merged)"
      ],
      "metadata": {
        "id": "PieYbSRZ31W_"
      },
      "execution_count": null,
      "outputs": []
    },
    {
      "cell_type": "markdown",
      "source": [
        "### Estimate Alpha, Beta, and 95% Confidence Intervals\n",
        "Here we estimate the alpha and beta of Johnson & Johnson relative to the market portfolio along with the 95% confidence intervals."
      ],
      "metadata": {
        "id": "DJiACQUse02b"
      }
    },
    {
      "cell_type": "code",
      "source": [
        "X=merged['Mkt-RF']\n",
        "Y=merged['Ret-RF']\n",
        "X=sm.add_constant(X)  # we specify that we want to add a constant to the regression equation\n",
        "model=sm.OLS(Y,X).fit() # run the regression\n",
        "params = model.params # parameter values\n",
        "conf_int = model.conf_int(alpha=0.05)  # 95% CIs\n",
        "\n",
        "# create a table of output\n",
        "results_df = pd.DataFrame({\n",
        "    'Parameter': params.index, # 1st column: parameter name\n",
        "    'Estimate': params.values, # 2nd column: parameer value\n",
        "    'CI Lower': conf_int[0].values, # 3rd column: lower bound on 95\\% CI\n",
        "    'CI Upper': conf_int[1].values  # 4th column: upper bound on 95\\% CI\n",
        "})\n",
        "print(results_df)"
      ],
      "metadata": {
        "id": "RhHn6M6x5tS6"
      },
      "execution_count": null,
      "outputs": []
    }
  ]
}