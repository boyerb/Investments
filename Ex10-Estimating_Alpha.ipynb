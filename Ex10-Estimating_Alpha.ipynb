{
  "nbformat": 4,
  "nbformat_minor": 0,
  "metadata": {
    "colab": {
      "provenance": [],
      "authorship_tag": "ABX9TyMpL+xOv+K+mdcmLQLMEcFY",
      "include_colab_link": true
    },
    "kernelspec": {
      "name": "python3",
      "display_name": "Python 3"
    },
    "language_info": {
      "name": "python"
    }
  },
  "cells": [
    {
      "cell_type": "markdown",
      "metadata": {
        "id": "view-in-github",
        "colab_type": "text"
      },
      "source": [
        "<a href=\"https://colab.research.google.com/github/boyerb/Investments/blob/master/Ex10-Estimating_Alpha.ipynb\" target=\"_parent\"><img src=\"https://colab.research.google.com/assets/colab-badge.svg\" alt=\"Open In Colab\"/></a>"
      ]
    },
    {
      "cell_type": "markdown",
      "source": [
        "***Investment Analysis***, Bates, Boyer, and Fletcher  "
      ],
      "metadata": {
        "id": "tJMIHYG8B84U"
      }
    },
    {
      "cell_type": "markdown",
      "source": [
        "# Example Chapter 10: Estimating Alpha in Multi-factor Models"
      ],
      "metadata": {
        "id": "ZxcnyquVKOnp"
      }
    },
    {
      "cell_type": "markdown",
      "source": [
        "### Imports and Setup"
      ],
      "metadata": {
        "id": "-Q3y2XfcCRx1"
      }
    },
    {
      "cell_type": "code",
      "execution_count": 1,
      "metadata": {
        "id": "UsfS0f3o5dqI"
      },
      "outputs": [],
      "source": [
        "#import packages\n",
        "import pandas as pd\n",
        "import statsmodels.api as sm"
      ]
    },
    {
      "cell_type": "markdown",
      "source": [
        "### Load in Data and Convert to Dataframe  "
      ],
      "metadata": {
        "id": "AzRi0fWsCTwr"
      }
    },
    {
      "cell_type": "code",
      "source": [
        "# Load in the data by first specifying the URL where the data can be found\n",
        "url='https://github.com/boyerb/Investments/raw/master/Examples_3.41.xlsx'\n",
        "columns_to_read = [\"Date\",\"Market\",\"rz1\",\"rz2\",\"Portfolio_A\",\"Tangent_Proposed\"]\n",
        "# read the data into a DataFrame\n",
        "df = pd.read_excel(url, sheet_name='10-Zero Cost', header=1, usecols=columns_to_read, engine='openpyxl')\n",
        "print(df.head())"
      ],
      "metadata": {
        "colab": {
          "base_uri": "https://localhost:8080/"
        },
        "id": "CGnPoTMQ6lsA",
        "outputId": "496eb89f-1d72-4544-d1e3-f5c8290a691e"
      },
      "execution_count": 2,
      "outputs": [
        {
          "output_type": "stream",
          "name": "stdout",
          "text": [
            "        Date  Market     rz1     rz2  Portfolio_A  Tangent_Proposed\n",
            "0 2020-01-31  0.0002 -0.0313 -0.0625    -0.003932          0.026149\n",
            "1 2020-02-29 -0.0801  0.0107 -0.0380    -0.093185         -0.089211\n",
            "2 2020-03-31 -0.1326 -0.0479 -0.1388    -0.311914         -0.093063\n",
            "3 2020-04-30  0.1365  0.0245 -0.0134     0.222114          0.115936\n",
            "4 2020-05-31  0.0559  0.0249 -0.0485     0.085738          0.034859\n"
          ]
        }
      ]
    },
    {
      "cell_type": "markdown",
      "source": [
        "### Estimate the Single Factor Model Based on Proposed Tangent Portfolio\n",
        "In the block of code below we run the regression\n",
        "\n",
        "$ r_A-r_f=\\alpha_{Ap}+\\beta_{Ap}(r_p-r_f)$  \n",
        "\n",
        "The key parameter here is the intercept $\\alpha_{Ap}$.  If we have correctly built the tangent portfolio using the appropriate factors, then $\\alpha_{Ap}=0$.  On the other hand, if $\\alpha_A>0$ then the Sharpe ratio of portfolio $p$ can be increased by tilting the portfolio towards asset A. If $\\alpha_{Ap}<0$ then the Sharpe ratio of portfolio $p$ can be increased by tilting the portfolio away from asset A. Since intetcept of any regression is\n",
        "\n",
        "$a=E[y]-bE[x]$,  \n",
        "\n",
        "alpha in our regression will be measured as  \n",
        "\n",
        "$\\alpha_{Ap}=E[r_i]-r_f-\\beta_{ip}(E[r_p]-r_f)$.  \n",
        "\n",
        "The regression is measured with sampling error. Can we reject that the true $\\alpha_A$ is zero with 95\\% confidence?  "
      ],
      "metadata": {
        "id": "4-rSNonwEHrn"
      }
    },
    {
      "cell_type": "code",
      "source": [
        "rf = 0.003  # define the risk-free rate\n",
        "df[\"ex_A\"] = df[\"Portfolio_A\"]-rf # excess return on Porfolio_A\n",
        "X=df[\"Tangent_Proposed\"]-rf # excess return on p\n",
        "Y=df[\"ex_A\"]\n",
        "X=sm.add_constant(X) # we specify that we want to add a constant to the regression equation\n",
        "model=sm.OLS(Y,X).fit() # run the regression\n",
        "params = model.params  # extract the parameters\n",
        "conf_int = model.conf_int(alpha=0.05)  # 95% CIs\n",
        "# create a table of output\n",
        "results_df = pd.DataFrame({\n",
        "    'Parameter': params.index, # 1st column: parameter name\n",
        "    'Estimate': params.values, # 2nd column: parameer value\n",
        "    'CI Lower': conf_int[0].values, # 3rd column: lower bound on 95\\% CI\n",
        "    'CI Upper': conf_int[1].values  # 4th column: upper bound on 95\\% CI\n",
        "})\n",
        "\n",
        "print(results_df)\n"
      ],
      "metadata": {
        "colab": {
          "base_uri": "https://localhost:8080/"
        },
        "id": "foHS2D76Ao_J",
        "outputId": "2f47441b-e2f5-48f5-b66c-5dd2b4116689"
      },
      "execution_count": 3,
      "outputs": [
        {
          "output_type": "stream",
          "name": "stdout",
          "text": [
            "          Parameter  Estimate  CI Lower  CI Upper\n",
            "0             const  0.017075 -0.008089  0.042239\n",
            "1  Tangent_Proposed  1.084012  0.613166  1.554858\n"
          ]
        }
      ]
    },
    {
      "cell_type": "markdown",
      "source": [
        "### Estimate the Alpha of the Multi-factor Model  \n",
        "In the block of code below we run the regression  \n",
        "$ r_A-r_f=\\alpha_A+\\beta_{Am}(r_m-r_f)+\\beta_{A1}r_{z1}+\\beta_{A2}r_{z2}+z_A$  \n",
        "The key parameter here is the intercept $\\alpha_A$.  Note that the intercept of this regression is numerically identical to the intercept of the regression above. (The 95% confindence intervals will be slightly different.) If we have correctly built the tangent portfolio using the appropriate factors, then $\\alpha_i=0$ for any asset $i$ and the multi-factor model holds  \n",
        "\n",
        "$ E[r_i]=r_f+\\beta_{im}(E[r_i]-r_f)+\\beta_{i1}E[r_{z1}]+\\beta_{i2}E[r_{z2}]$.\n",
        "\n",
        "Can we reject that $\\alpha_A$ is zero with 95\\% confidence?"
      ],
      "metadata": {
        "id": "YwS5JW8uHTkF"
      }
    },
    {
      "cell_type": "code",
      "source": [
        "df[\"exmkt\"] =df[\"Market\"]-rf  # excess return on the market\n",
        "X=df[[\"exmkt\",\"rz1\",\"rz2\"]] # explanatory variables\n",
        "Y=df[\"ex_A\"] # dependent variable\n",
        "X=sm.add_constant(X) # we specify that we want to add a constant to the regression equation\n",
        "model=sm.OLS(Y,X).fit() # run regression\n",
        "params = model.params # pull out parameters\n",
        "conf_int = model.conf_int(alpha=0.05)  # 95% CIs\n",
        "r_squared = model.rsquared\n",
        "# create a table of output\n",
        "results_df = pd.DataFrame({\n",
        "    'Parameter': params.index, # 1st column: parameter name\n",
        "    'Estimate': params.values, # 2nd column: parameer value\n",
        "    'CI Lower': conf_int[0].values, # 3rd column: lower bound on 95\\% CI\n",
        "    'CI Upper': conf_int[1].values  # 4th column: upper bound on 95\\% CI\n",
        "})\n",
        "\n",
        "print(results_df)"
      ],
      "metadata": {
        "colab": {
          "base_uri": "https://localhost:8080/"
        },
        "id": "3rd2IskfHaCA",
        "outputId": "fee8ac00-6956-4878-dad9-09546584e690"
      },
      "execution_count": 4,
      "outputs": [
        {
          "output_type": "stream",
          "name": "stdout",
          "text": [
            "  Parameter  Estimate  CI Lower  CI Upper\n",
            "0     const  0.017075  0.005050  0.029100\n",
            "1     exmkt  1.306133  1.077008  1.535257\n",
            "2       rz1  0.709247  0.314966  1.103529\n",
            "3       rz2  1.193415  0.938124  1.448706\n"
          ]
        }
      ]
    }
  ]
}