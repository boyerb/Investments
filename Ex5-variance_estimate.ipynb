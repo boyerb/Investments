{
  "nbformat": 4,
  "nbformat_minor": 0,
  "metadata": {
    "colab": {
      "provenance": [],
      "authorship_tag": "ABX9TyP3QUD5dEcNh+kYdw+YmcaM"
    },
    "kernelspec": {
      "name": "python3",
      "display_name": "Python 3"
    },
    "language_info": {
      "name": "python"
    }
  },
  "cells": [
    {
      "cell_type": "markdown",
      "source": [
        "**Foundations of Investment Analysis**, Bates Boyer, and Fletcher"
      ],
      "metadata": {
        "id": "amr3j0LlRgB3"
      }
    },
    {
      "cell_type": "markdown",
      "source": [
        "# Example Chapter 5: Estimating Variance and Standard Deviation\n",
        "In this notebook, we estimate variance and standard deviation of a stock given three previous observations."
      ],
      "metadata": {
        "id": "_A3YYn7fRl0j"
      }
    },
    {
      "cell_type": "markdown",
      "source": [
        "### Imports and Setup"
      ],
      "metadata": {
        "id": "WdnqS0wMSjWP"
      }
    },
    {
      "cell_type": "code",
      "source": [
        "# import packages\n",
        "import numpy as np"
      ],
      "metadata": {
        "id": "lkm7_cu8SkaR"
      },
      "execution_count": null,
      "outputs": []
    },
    {
      "cell_type": "markdown",
      "source": [
        "### Calculate Average Return, Squared Forecast Errors, Variance, and Standard Deviation\n",
        "To estimate the return volatility for stock A, we first define the returns in decimal form (1%, 5%, and -3%). Then, we calculate the average return by finding the mean of these returns. Next, we compute the squared forecast errors by determining the squared differences between each return and the average return. After that, we calculate the variance, which is the mean of these squared forecast errors, to measure the dispersion of the returns around the average. Finally, we calculate the volatility by taking the square root of the variance, giving us the standard deviation and providing an idea of the return's risk or uncertainty."
      ],
      "metadata": {
        "id": "wOfWVGRgTWLk"
      }
    },
    {
      "cell_type": "code",
      "source": [
        "# Define the returns for stock A\n",
        "returns = np.array([0.01, 0.05, -0.03])  # Returns in decimal form\n",
        "\n",
        "# Calculate the average return\n",
        "average_return = np.mean(returns)\n",
        "print(f\"Average Return: {average_return:.3f}\")\n",
        "\n",
        "# Calculate the squared forecast errors (squared deviations from the average)\n",
        "squared_errors = (returns - average_return) ** 2\n",
        "print(f\"Squared Errors: {squared_errors}\")\n",
        "\n",
        "# Calculate the average squared forecast error (variance)\n",
        "variance = np.mean(squared_errors)\n",
        "print(f\"Variance: {variance:.6f}\")\n",
        "\n",
        "# Take the square root of the variance to get the volatility (standard deviation)\n",
        "volatility = np.sqrt(variance)\n",
        "print(f\"Volatility (Standard Deviation): {volatility:.3f}\")\n",
        "\n"
      ],
      "metadata": {
        "colab": {
          "base_uri": "https://localhost:8080/"
        },
        "id": "uN9COt_iUHta",
        "outputId": "2acc89cf-9e4c-439f-89af-f2a47f02ad7b"
      },
      "execution_count": null,
      "outputs": [
        {
          "output_type": "stream",
          "name": "stdout",
          "text": [
            "Average Return: 0.010\n",
            "Squared Errors: [3.00926554e-36 1.60000000e-03 1.60000000e-03]\n",
            "Variance: 0.001067\n",
            "Volatility (Standard Deviation): 0.033\n"
          ]
        }
      ]
    },
    {
      "cell_type": "code",
      "source": [],
      "metadata": {
        "id": "DrAYmaJNUNXy"
      },
      "execution_count": null,
      "outputs": []
    }
  ]
}