{
  "nbformat": 4,
  "nbformat_minor": 0,
  "metadata": {
    "colab": {
      "provenance": [],
      "authorship_tag": "ABX9TyOoYXYoL7PrlY4wTmrBI6X0",
      "include_colab_link": true
    },
    "kernelspec": {
      "name": "python3",
      "display_name": "Python 3"
    },
    "language_info": {
      "name": "python"
    }
  },
  "cells": [
    {
      "cell_type": "markdown",
      "metadata": {
        "id": "view-in-github",
        "colab_type": "text"
      },
      "source": [
        "<a href=\"https://colab.research.google.com/github/boyerb/Investments/blob/master/Ex13-Implied_Volatility.ipynb\" target=\"_parent\"><img src=\"https://colab.research.google.com/assets/colab-badge.svg\" alt=\"Open In Colab\"/></a>"
      ]
    },
    {
      "cell_type": "markdown",
      "source": [
        "**Investment Analysis**, Bates, Boyer, Fletcher"
      ],
      "metadata": {
        "id": "dCRHk_shHWpx"
      }
    },
    {
      "cell_type": "markdown",
      "source": [
        "# Example Chapter 13: Implied Volatility with the Black-Scholes Model"
      ],
      "metadata": {
        "id": "rGG1YaeMHajA"
      }
    },
    {
      "cell_type": "markdown",
      "source": [
        "### Imports and Setup"
      ],
      "metadata": {
        "id": "P5GpGc1_HjQf"
      }
    },
    {
      "cell_type": "code",
      "execution_count": 1,
      "metadata": {
        "colab": {
          "base_uri": "https://localhost:8080/"
        },
        "id": "1-yEcU86HUBC",
        "outputId": "92722b5f-44c8-42b9-a744-bf54d862bb13"
      },
      "outputs": [
        {
          "output_type": "stream",
          "name": "stdout",
          "text": [
            "  % Total    % Received % Xferd  Average Speed   Time    Time     Time  Current\n",
            "                                 Dload  Upload   Total   Spent    Left  Speed\n",
            "100 26345  100 26345    0     0  53372      0 --:--:-- --:--:-- --:--:-- 53438\n"
          ]
        }
      ],
      "source": [
        "!curl -O https://raw.githubusercontent.com/boyerb/Investments/master/functions/simple_finance.py\n",
        "import simple_finance as sf\n",
        "import numpy as np"
      ]
    },
    {
      "cell_type": "markdown",
      "source": [
        "In the block of code below we use the Black-Scholes model to calculate implied volatility\n",
        "###Function Description\n",
        "`implied_vol(type, option_price, S0, K, T, r)-> float`\n",
        "Uses the Black-Scholes model to calculate implied volatility.   \n",
        "\n",
        "**Inputs**\n",
        "\n",
        "- `type (string)`: option type, must be either 'call' or 'put'.\n",
        "- `option_price` : the price of the option.\n",
        "- `S0 (float)`: the current stock price.\n",
        "- `K (float)`: the strike price.\n",
        "- `T (float)`: the time to maturity in years.\n",
        "- `r (float)`: the annualized discrete-time risk-free rate.\n",
        "\n",
        "**Returns**  \n",
        "The implied volatility (float).\n",
        "\n",
        "\n",
        "**Example Usage:**\n",
        "`call_price=('call', 4.00, 100, 105, 0.50, 0.01)`\n"
      ],
      "metadata": {
        "id": "wZzTV53THpm2"
      }
    },
    {
      "cell_type": "markdown",
      "source": [
        "### Find Implied Voaltility Using the Price of a Call Option"
      ],
      "metadata": {
        "id": "KJo6-uB8IHyN"
      }
    },
    {
      "cell_type": "code",
      "source": [
        "call_price = 0.3942 # option price\n",
        "S = 20              # Current stock price\n",
        "K = 21              # Strike price\n",
        "T = 0.25            # Time to expiration\n",
        "r = 0.01            # Risk-free interest rate\n",
        "\n",
        "implied_volatility = sf.implied_volatility(\"call\", call_price, S, K, T, r)\n",
        "\n",
        "print(f\"Implied Volatility for Call: {implied_volatility:.4f}\")\n"
      ],
      "metadata": {
        "colab": {
          "base_uri": "https://localhost:8080/"
        },
        "id": "sJ4rkovKHpPu",
        "outputId": "8d4e9b66-1488-45fe-f21a-ea88bcbe096f"
      },
      "execution_count": 4,
      "outputs": [
        {
          "output_type": "stream",
          "name": "stdout",
          "text": [
            "Implied Volatility for Call: 0.1906\n"
          ]
        }
      ]
    }
  ]
}