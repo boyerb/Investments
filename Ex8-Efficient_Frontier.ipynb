{
  "nbformat": 4,
  "nbformat_minor": 0,
  "metadata": {
    "colab": {
      "provenance": [],
      "authorship_tag": "ABX9TyPxwN69dkn3PMrdWPu9NpoC",
      "include_colab_link": true
    },
    "kernelspec": {
      "name": "python3",
      "display_name": "Python 3"
    },
    "language_info": {
      "name": "python"
    }
  },
  "cells": [
    {
      "cell_type": "markdown",
      "metadata": {
        "id": "view-in-github",
        "colab_type": "text"
      },
      "source": [
        "<a href=\"https://colab.research.google.com/github/boyerb/Investments/blob/master/Ex8-Efficient_Frontier.ipynb\" target=\"_parent\"><img src=\"https://colab.research.google.com/assets/colab-badge.svg\" alt=\"Open In Colab\"/></a>"
      ]
    },
    {
      "cell_type": "markdown",
      "source": [
        "***Foundations of Investment Analysis***, Bates, Boyer, and Fletcher"
      ],
      "metadata": {
        "id": "XFMAvxnEHEOI"
      }
    },
    {
      "cell_type": "markdown",
      "source": [
        "# Example 8: The Efficient Frontier\n",
        "\n"
      ],
      "metadata": {
        "id": "heae_ArQHGW_"
      }
    },
    {
      "cell_type": "markdown",
      "source": [
        "### Imports and Setup"
      ],
      "metadata": {
        "id": "-Xwu9VfjHQDN"
      }
    },
    {
      "cell_type": "code",
      "execution_count": null,
      "metadata": {
        "id": "9IfdlS0c1Rtd"
      },
      "outputs": [],
      "source": [
        "import matplotlib.pyplot as plt\n",
        "import numpy as np\n",
        "import pandas as pd\n",
        "from scipy import stats\n",
        "from scipy.optimize import minimize"
      ]
    },
    {
      "cell_type": "markdown",
      "source": [
        "### Define Inputs\n",
        "In the code cell below we define the covariance matrix and the vector of expected returns.  The default is for the case of three assets, but these can be for any $N$ assets, provided that the `covariance_matrix` is $N\\times N$ and the array of `expected_returns` is $N \\times 1$.   "
      ],
      "metadata": {
        "id": "2g_V80BTKNZ7"
      }
    },
    {
      "cell_type": "code",
      "source": [
        "covariance_matrix = np.array([[0.0400, -0.0200, 0.0250], [-0.0200, 0.0900, 0.0400], [0.0250, 0.0400, 0.2500]])\n",
        "expected_returns = np.array([[0.12], [0.06], [0.08]])\n",
        "rf = 0.05\n",
        "# check dimensions of inputs\n",
        "print(\"Dimension of Covariance Matrix:\",covariance_matrix.shape)\n",
        "print(\"Dimension of Expected Returns:\", expected_returns.shape)"
      ],
      "metadata": {
        "colab": {
          "base_uri": "https://localhost:8080/"
        },
        "id": "wrIz9maNHbls",
        "outputId": "c61f7b9d-3fcb-46e1-ad33-1dc005f6acd4"
      },
      "execution_count": null,
      "outputs": [
        {
          "output_type": "stream",
          "name": "stdout",
          "text": [
            "Dimension of Covariance Matrix: (3, 3)\n",
            "Dimension of Expected Returns: (3, 1)\n"
          ]
        }
      ]
    },
    {
      "cell_type": "code",
      "source": [],
      "metadata": {
        "id": "o8Nwi2HmKJVi"
      },
      "execution_count": null,
      "outputs": []
    },
    {
      "cell_type": "code",
      "source": [],
      "metadata": {
        "id": "diHr7a1OQyE4"
      },
      "execution_count": null,
      "outputs": []
    },
    {
      "cell_type": "markdown",
      "source": [
        "### Define Functions to Determine Portfolios on EFRS\n",
        "In this next code cell, we create two functions to use in determining portfolios on the EFRS.\n",
        "\n",
        "`portfolio_volatility`  \n",
        "inputs:  \n",
        "(1) a vector of weights, and (2) the covariance matrix.  The output of this function is the volatility of the portfolio using Essential Math Fact #5.\n",
        "\n",
        "`EFRS_portfolio`: inputs are (1) a single target portfolio expected return, (2) the vector of expected returns for individual assets, (3) the covaraince matrix. The    "
      ],
      "metadata": {
        "id": "IA7KcaxhMdFx"
      }
    },
    {
      "cell_type": "code",
      "source": [
        "def portfolio_volatility(weights: np.array, covariance_matrix: np.array):\n",
        "    return np.sqrt(weights.T @ covariance_matrix @ weights)\n",
        "\n",
        "\n",
        "def EFRS_portfolio(target_return, expected_returns, covariance_matrix):\n",
        "    constraints = (\n",
        "        {\"type\": \"eq\", \"fun\": lambda w: w.T @ expected_returns - target_return}, {\"type\": \"eq\", \"fun\": lambda w: np.sum(w) - 1},)\n",
        "\n",
        "    initial_weights = np.ones(3) / 3\n",
        "\n",
        "    result = minimize(\n",
        "        fun=portfolio_volatility,\n",
        "        x0=initial_weights,\n",
        "        args=(covariance_matrix),\n",
        "        method=\"SLSQP\",\n",
        "        constraints=constraints,\n",
        "        )\n",
        "\n",
        "    return result.x"
      ],
      "metadata": {
        "id": "gopktWtIHodv"
      },
      "execution_count": null,
      "outputs": []
    },
    {
      "cell_type": "code",
      "source": [
        "# Target returns\n",
        "start = 0.5 * min(expected_returns)\n",
        "end = 2 * max(expected_returns)\n",
        "target_returns = np.linspace(start, end, num=100)\n",
        "\n",
        "mve_portfolios = [mve_portfolio(target, expected_returns, covariance_matrix) for target in target_returns]"
      ],
      "metadata": {
        "id": "6FukViLnIjnc"
      },
      "execution_count": null,
      "outputs": []
    }
  ]
}