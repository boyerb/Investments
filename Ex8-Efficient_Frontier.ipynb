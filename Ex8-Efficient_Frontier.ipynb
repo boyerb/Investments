{
  "nbformat": 4,
  "nbformat_minor": 0,
  "metadata": {
    "colab": {
      "provenance": [],
      "authorship_tag": "ABX9TyOf2zNnjAau91Tb7sG6l6Yo",
      "include_colab_link": true
    },
    "kernelspec": {
      "name": "python3",
      "display_name": "Python 3"
    },
    "language_info": {
      "name": "python"
    }
  },
  "cells": [
    {
      "cell_type": "markdown",
      "metadata": {
        "id": "view-in-github",
        "colab_type": "text"
      },
      "source": [
        "<a href=\"https://colab.research.google.com/github/boyerb/Investments/blob/master/Ex8-Efficient_Frontier.ipynb\" target=\"_parent\"><img src=\"https://colab.research.google.com/assets/colab-badge.svg\" alt=\"Open In Colab\"/></a>"
      ]
    },
    {
      "cell_type": "markdown",
      "source": [
        "***Foundations of Investment Analysis***, Bates, Boyer, and Fletcher  \n"
      ],
      "metadata": {
        "id": "XFMAvxnEHEOI"
      }
    },
    {
      "cell_type": "markdown",
      "source": [
        "# Example 8: The Efficient Frontier\n",
        "\n"
      ],
      "metadata": {
        "id": "heae_ArQHGW_"
      }
    },
    {
      "cell_type": "markdown",
      "source": [
        "### Imports and Setup"
      ],
      "metadata": {
        "id": "-Xwu9VfjHQDN"
      }
    },
    {
      "cell_type": "code",
      "execution_count": 1,
      "metadata": {
        "id": "9IfdlS0c1Rtd"
      },
      "outputs": [],
      "source": [
        "import matplotlib.pyplot as plt\n",
        "import numpy as np\n",
        "import pandas as pd\n",
        "from scipy import stats\n",
        "from scipy.optimize import minimize"
      ]
    },
    {
      "cell_type": "markdown",
      "source": [
        "### Define Inputs\n",
        "In the code cell below we define the covariance matrix and the vector of expected returns.  The default is for the case of three assets, but these can be for any number of $N$ assets. Whatever $N$ is, the `covariance_matrix` is $N\\times N$ and the array of `expected_returns` is $N \\times 1$.   "
      ],
      "metadata": {
        "id": "2g_V80BTKNZ7"
      }
    },
    {
      "cell_type": "code",
      "source": [
        "covariance_matrix = np.array([[0.0400, -0.0200, 0.0250], [-0.0200, 0.0900, 0.0400], [0.0250, 0.0400, 0.2500]])\n",
        "expected_returns = np.array([[0.12], [0.06], [0.08]])\n",
        "rf = 0.05\n",
        "# check dimensions of inputs\n",
        "print(\"N=\", expected_returns.shape[0])\n",
        "print(\"Dimension of Covariance Matrix:\",covariance_matrix.shape)\n",
        "print(\"Dimension of Expected Returns:\", expected_returns.shape)"
      ],
      "metadata": {
        "colab": {
          "base_uri": "https://localhost:8080/"
        },
        "id": "wrIz9maNHbls",
        "outputId": "528359c1-38c9-4c7a-b162-3f71cd5476ed"
      },
      "execution_count": 2,
      "outputs": [
        {
          "output_type": "stream",
          "name": "stdout",
          "text": [
            "N= 3\n",
            "Dimension of Covariance Matrix: (3, 3)\n",
            "Dimension of Expected Returns: (3, 1)\n"
          ]
        }
      ]
    },
    {
      "cell_type": "markdown",
      "source": [
        "### Define Functions to Determine Portfolios on EFRS\n",
        "In the code cell below, we create two functions to use in determining portfolios on the EFRS. These functions could be stored in a `.py` file and loaded in the \"Imports and Setup\" section to keep the code more organized (like functions in simple_finance.py).  We define them here so you can see what is going on.\n",
        "\n",
        "---\n",
        "**Function1**  \n",
        "`portfolio_volatility`  \n",
        "*inputs:*  \n",
        "1. vector of weights  \n",
        "2. covariance matrix.  \n",
        "*output:*  \n",
        "The output of this function is the volatility of the portfolio using Essential Math Fact #5.  \n",
        "*example usage:*  \n",
        "`weights = np.ones(3) / 3` # define weights of equally-weighted portfolio  \n",
        "`vol = portfolio_volatility(weights, covariance_matrix)` # use function  \n",
        "`print(vol)`  \n",
        "`0.22852182001336813`\n",
        "  \n",
        "---\n",
        "**Function 2**  \n",
        "`EFRS_portfolio`  \n",
        "*inputs:*  \n",
        "1. a single target portfolio expected return\n",
        "2. vector of expected returns for individual assets  \n",
        "3. covariance matrix.  \n",
        "*output:*\n",
        "The vector of weights of the portfolio with minimum volatilty that has the given targe expected return.\n",
        "\n",
        "*further comments:*  \n",
        "The function `EFRS_portfolio` uses the `minimize` function from the `scipy.optimize` package. It is Python's version of Excel solver. See code cell below for example usage.\n",
        "\n",
        "---\n",
        "**Python's Version of Excel Solver**   \n",
        "`minimize` imported from `scipy.optimize`  \n",
        "*inputs:*  \n",
        "1. a function to mimimize; The variables that will change to mimize the function are always defined by the function's *first* input. See comments in code cell for more details.\n",
        "2. starting values\n",
        "3. additional arguments needed for the function to execute\n",
        "4. minimization method\n",
        "5. constraints\n",
        "*output:*  \n",
        "The variables that minimize the function\n",
        "\n",
        "\n"
      ],
      "metadata": {
        "id": "IA7KcaxhMdFx"
      }
    },
    {
      "cell_type": "code",
      "source": [
        "# Function 1\n",
        "def portfolio_volatility(weights, covariance_matrix):\n",
        "    return np.sqrt(weights.T @ covariance_matrix @ weights)  # Essential Math Fact #5\n",
        "\n",
        "\n",
        "# Function 2\n",
        "def EFRS_portfolio(target_return, expected_returns, covariance_matrix):\n",
        "\n",
        "   # Define constraints (tuple with two dictionaries)\n",
        "    constraints = (\n",
        "        # Constraint 1: Ensure portfolio return equals the target return\n",
        "        # \"type\": \"eq\" specifies an equality constraint (must be exactly zero)\n",
        "        # \"fun\": defines the function\n",
        "        {\"type\": \"eq\", \"fun\": lambda w: w.T @ expected_returns - target_return},\n",
        "\n",
        "        # Constraint 2: Ensure portfolio weights sum to 1 (fully invested)\n",
        "        # \"type\": \"eq\" specifies an equality constraint (must be exactly zero)\n",
        "        # \"fun\": defines the function\n",
        "        {\"type\": \"eq\", \"fun\": lambda w: np.sum(w) - 1},\n",
        "    )\n",
        "\n",
        "    # starting values\n",
        "    initial_weights = np.ones(3) / 3\n",
        "\n",
        "    # Python's version of Excel Solver\n",
        "    result = minimize(\n",
        "        fun=portfolio_volatility, # function to minimize\n",
        "        x0=initial_weights, # starting values\n",
        "        args=(covariance_matrix), # additional arguments needed for function\n",
        "        method=\"SLSQP\", # minimization method\n",
        "        constraints=constraints, # constraints\n",
        "        )\n",
        "\n",
        "    return result.x"
      ],
      "metadata": {
        "id": "gopktWtIHodv"
      },
      "execution_count": 3,
      "outputs": []
    },
    {
      "cell_type": "markdown",
      "source": [
        "### Developing the Vector of Target Returns\n",
        "In the code cell below we develop the vector of target expected returns. The defulat is to create 100 target expected returns, equally spaced, with the minimum being half the half the lowest individual asset expected return, and the maximum being twice the highest individual asset epected return."
      ],
      "metadata": {
        "id": "P3Wnx8ad_iru"
      }
    },
    {
      "cell_type": "code",
      "source": [
        "# Target returns\n",
        "min_target = 0.5 * min(expected_returns)\n",
        "max_target = 2 * max(expected_returns)\n",
        "target_returns = np.linspace(min_target, max_target, num=100)"
      ],
      "metadata": {
        "id": "6FukViLnIjnc"
      },
      "execution_count": null,
      "outputs": []
    },
    {
      "cell_type": "markdown",
      "source": [
        "### Create Portfolios on EFRS\n",
        "In the code cell below we applu the `EFRS_portfolio` function."
      ],
      "metadata": {
        "id": "rVZ7La0cAYEd"
      }
    },
    {
      "cell_type": "code",
      "source": [
        "EFRS = [EFRS_portfolio(target, expected_returns, covariance_matrix) for target in target_returns]"
      ],
      "metadata": {
        "id": "ZR6tsTUi_g00"
      },
      "execution_count": null,
      "outputs": []
    },
    {
      "cell_type": "code",
      "source": [
        "plt.plot(volatilities, returns, label=\"EFRS\", linewidth=2, color=\"k\", zorder=1)\n",
        "plt.scatter(vol1, Er1, s=30, color=\"black\", zorder=2)\n",
        "plt.xlim(0)\n",
        "# plt.axhline(y=0, color=\"k\")\n",
        "plt.xlabel(\"Volatility\")\n",
        "plt.ylabel(\"Expected Return\")\n",
        "# plt.title(\"Efficient Frontier\")\n",
        "plt.legend()\n",
        "plt.savefig(\"plots/CH8_8.2.4_efficient_frontier.png\", dpi=300)\n",
        "plt.show()"
      ],
      "metadata": {
        "id": "t-GCnxTVBnkX"
      },
      "execution_count": null,
      "outputs": []
    }
  ]
}