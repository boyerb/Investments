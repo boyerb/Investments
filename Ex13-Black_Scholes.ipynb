{
  "nbformat": 4,
  "nbformat_minor": 0,
  "metadata": {
    "colab": {
      "provenance": [],
      "authorship_tag": "ABX9TyNkj1IBljzdAcqvEPqr9VR+",
      "include_colab_link": true
    },
    "kernelspec": {
      "name": "python3",
      "display_name": "Python 3"
    },
    "language_info": {
      "name": "python"
    }
  },
  "cells": [
    {
      "cell_type": "markdown",
      "metadata": {
        "id": "view-in-github",
        "colab_type": "text"
      },
      "source": [
        "<a href=\"https://colab.research.google.com/github/boyerb/Investments/blob/master/Ex13-Black_Scholes.ipynb\" target=\"_parent\"><img src=\"https://colab.research.google.com/assets/colab-badge.svg\" alt=\"Open In Colab\"/></a>"
      ]
    },
    {
      "cell_type": "markdown",
      "source": [
        "**Investment Analysis**, Bates, Boyer, Fletcher"
      ],
      "metadata": {
        "id": "sW_-Johw5ops"
      }
    },
    {
      "cell_type": "markdown",
      "source": [
        "# Example Chapter 13: Option Pricing with the Black-Scholes Model\n",
        "In this example we illusstrate the use of the `black_scholes` function from the `simple_finance` library to price a call and a put."
      ],
      "metadata": {
        "id": "DnYVcmgg5sZc"
      }
    },
    {
      "cell_type": "markdown",
      "source": [
        "### Imports and Setup"
      ],
      "metadata": {
        "id": "PQvzAqXU5p6M"
      }
    },
    {
      "cell_type": "code",
      "execution_count": null,
      "metadata": {
        "id": "CQIxAmdi4O4V"
      },
      "outputs": [],
      "source": [
        "!curl -O https://raw.githubusercontent.com/boyerb/Investments/master/functions/simple_finance.py\n",
        "import simple_finance as sf\n",
        "import numpy as np"
      ]
    },
    {
      "cell_type": "markdown",
      "source": [
        "###Black-Scholes Option Pricing Function\n",
        "The `black_scholes` function in the `simple_finance` library calculates the fair value of a European **call** or **put** option.  \n",
        "\n",
        "**How it works:**  \n",
        "You tell the function whether you want a call or put, the current stock price, the strike price, how long until the option expires, the risk-free interest rate, and how volatile the stock is. The function then uses the Black–Scholes formula to return the option’s price.  \n",
        "\n",
        "**Inputs you provide:**  \n",
        "- `type`: `'call'` or `'put'` — tells the function which option you want to price.  \n",
        "- `S0`: the current stock price.  \n",
        "- `K`: the strike price (the price agreed upon in the option contract).  \n",
        "- `T`: time to maturity in years (e.g., 0.5 means six months).  \n",
        "- `r`: the annual risk-free interest rate (written as a decimal, so 0.01 = 1%).  \n",
        "- `sigma`: the annual volatility of the stock return (also written as a decimal, e.g., 0.25 = 25%).  \n",
        "\n",
        "**What you get back:**  \n",
        "A single number: the price of the option.  "
      ],
      "metadata": {
        "id": "PfigdHJ05-wc"
      }
    },
    {
      "cell_type": "markdown",
      "source": [
        "### Price a Call Option"
      ],
      "metadata": {
        "id": "nd_dkD915nxE"
      }
    },
    {
      "cell_type": "code",
      "source": [
        "# Example usage\n",
        "S = 20       # Current stock price\n",
        "K = 21       # Strike price\n",
        "T = 0.25         # Time to expiration (1 year)\n",
        "rf = 0.01      # Risk-free interest rate (5%)\n",
        "sigma = 0.1906   # Volatility (20%)\n",
        "\n",
        "call_price = sf.black_scholes(\"call\", S, K, T, rf, sigma)\n",
        "print(f\"Call Option Price: {call_price:.4f}\")"
      ],
      "metadata": {
        "id": "YaXbftTx6tmK"
      },
      "execution_count": null,
      "outputs": []
    },
    {
      "cell_type": "markdown",
      "source": [
        "### Price a Put Option"
      ],
      "metadata": {
        "id": "mu1urcro9mah"
      }
    },
    {
      "cell_type": "code",
      "source": [
        "# Example usage\n",
        "S = 50       # Current stock price\n",
        "K = 60       # Strike price\n",
        "T = 0.25         # Time to expiration (1 year)\n",
        "rf = 0.01      # Risk-free interest rate (5%)\n",
        "sigma = 0.2087   # Volatility (20%)\n",
        "\n",
        "put_price = sf.black_scholes(\"put\", S, K, T, rf, sigma)\n",
        "print(f\"Put Option Price: {put_price:.4f}\")"
      ],
      "metadata": {
        "id": "UaO7ZJnV9onD"
      },
      "execution_count": null,
      "outputs": []
    }
  ]
}