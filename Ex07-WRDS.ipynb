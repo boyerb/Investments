{
  "nbformat": 4,
  "nbformat_minor": 0,
  "metadata": {
    "colab": {
      "provenance": [],
      "authorship_tag": "ABX9TyMtukWNlxsHs1k+nRZU1AMC",
      "include_colab_link": true
    },
    "kernelspec": {
      "name": "python3",
      "display_name": "Python 3"
    },
    "language_info": {
      "name": "python"
    }
  },
  "cells": [
    {
      "cell_type": "markdown",
      "metadata": {
        "id": "view-in-github",
        "colab_type": "text"
      },
      "source": [
        "<a href=\"https://colab.research.google.com/github/boyerb/Investments/blob/master/Ex07-WRDS.ipynb\" target=\"_parent\"><img src=\"https://colab.research.google.com/assets/colab-badge.svg\" alt=\"Open In Colab\"/></a>"
      ]
    },
    {
      "cell_type": "markdown",
      "source": [
        "**Investments: Theory, Fundamental Analysis, and Data Driven Analytics**, Bates, Boyer, and Fletcher"
      ],
      "metadata": {
        "id": "iZs5txuDLvzA"
      }
    },
    {
      "cell_type": "markdown",
      "source": [
        "# Example Chapter 7: The WRDS API\n",
        "In this example we illustrate how to access CRSP data on equities using the WRDS API. The script uses the function `get_crsp_msf_by_ids` to download monthly data where `msf` stands for *monthly stock file*. A similar function, `get_crsp_dsf_by_ids`, allows you to access daily data where `dsf` stands for *daily stock file*. These functions are part of the `simple_finance` custom **module** that can be accessed from the course GitHub repo.  A module is a single Python file that contains functions, classes, or variables. By packaging code into well-designed functions, this module keeps our Python code clean, helps us avoid getting bogged down in less-important coding details, and maintains focus on core objectives. The complete code for this module can be seen at [`https://github.com/boyerb/Investments/blob/master/functions/simple_finance.py`](https://github.com/boyerb/Investments/blob/master/functions/simple_finance.py).\n",
        "\n",
        "To use this script below, you will first need to obtain a WRDS account through your institution with a username and password, and set up dual authentication through the WRDS site."
      ],
      "metadata": {
        "id": "SM5IHVhPLyB5"
      }
    },
    {
      "cell_type": "markdown",
      "source": [
        "###Imports and Setup\n",
        "Below we install and import one module and three packages that provide useful functions. The module `simple_finance` and the package `wrds` are not included in Colab by default and require installation.\n",
        "\n",
        "* We use the  `!curl` command to download the custom module `simple_finance.py` from the course GitHub repo.    \n",
        "\n",
        "* We use the `!pip install`  command to install the WRDS package.  \n",
        "* The `NumPy` and `Pandas` libraries are already installed in most Python environments, so they can be imported directly without any extra steps."
      ],
      "metadata": {
        "id": "ngeldbqFMA0J"
      }
    },
    {
      "cell_type": "code",
      "source": [
        "!curl -O https://raw.githubusercontent.com/boyerb/Investments/master/functions/simple_finance.py\n",
        "!pip -q install wrds\n",
        "\n",
        "import simple_finance as sf\n",
        "import wrds\n",
        "import numpy as np\n",
        "import pandas as pd\n",
        "import matplotlib.pyplot as plt"
      ],
      "metadata": {
        "id": "1VJ3ig7ZMEOC"
      },
      "execution_count": null,
      "outputs": []
    },
    {
      "cell_type": "markdown",
      "source": [
        "### Establish a WRDS Connection\n",
        "When you run the next code block below you will be prompted to enter your WRDS username and password, and then complete dual authentication on your phone. You will then be asked if you want to create a .pgpass file. In local environments such as PyCharm or Visual Studio, a .pgpass file stored on your PC allows you to use the WRDS API without re-entering your credentials each time. In Google Colab, however, the file is saved in the temporary home directory (/root/.pgpass) and will be erased whenever you start a new session.  As such you can just respond \"`n`\"."
      ],
      "metadata": {
        "id": "FCkr9LKXYDON"
      }
    },
    {
      "cell_type": "code",
      "source": [
        "db = wrds.Connection()"
      ],
      "metadata": {
        "id": "nAy_9XqD876x"
      },
      "execution_count": null,
      "outputs": []
    },
    {
      "cell_type": "markdown",
      "source": [
        "### Controlling DataFrame Display\n",
        "By default, Pandas may hide some columns or wrap output across multiple lines when displaying a wide DataFrame. The settings below change this behavior to provide better diaplys of Pandas DataFrames."
      ],
      "metadata": {
        "id": "JejRlRsgZSQl"
      }
    },
    {
      "cell_type": "code",
      "source": [
        "pd.set_option('display.max_columns', None)   # Show all columns without truncation\n",
        "pd.set_option('display.width', 1000)   # Set the display width so output stays on one line"
      ],
      "metadata": {
        "id": "Q--3qfY09yVd"
      },
      "execution_count": null,
      "outputs": []
    },
    {
      "cell_type": "markdown",
      "source": [
        "### Download Data\n",
        "Function: `get_crsp_msf_by_ids`   \n",
        "\n",
        "**Inputs**\n",
        "* WRDS database connection object (`db`)\n",
        "* List of identifiers (tickers or PERMNOS)\n",
        "* Start date\n",
        "* End date  \n",
        "\n",
        "**Output**\n",
        "* Pandas DataFrame with the desired *monthly* data. A similar function, `sf.get_crsp_dsf_by_ids` will pull daily data.  The variables included in the output DataFrames for these two functions are\n",
        "* `date`\n",
        "* `permno`: CRSP permanent security identifier  \n",
        "* `permco`: CRSP permanent company identifier\n",
        "* `ticker`\n",
        "* `comnam`: Company name\n",
        "* `shrcd`: [Share code](https://wrds-www.wharton.upenn.edu/data-dictionary/form_metadata/crsp_a_stock_msf_identifyinginformation/shrcd/)  \n",
        "* `exchcd`: [Exchange code](https://wrds-www.wharton.upenn.edu/data-dictionary/form_metadata/crsp_a_stock_msf_identifyinginformation/exchcd/)\n",
        "* `siccd`:  [Standard Industial Classification Code](https://www.sec.gov/search-filings/standard-industrial-classification-sic-code-list)\n",
        "* `prc`: A negative price does not indicate that the price fell below zero; rather, it means the price was inferred as the midpoint of the closing inside bid and ask quotes instead of an actual end-of-day trade. When using `prc`, always apply `np.abs(prc)` to ensure the absolute value is used.\n",
        "* `ret`: Return with dividends\n",
        "* `retx`: Return without dividends\n",
        "* `vol`: Volume\n",
        "* `shrout`: Shares outstanding  \n",
        "\n",
        "Identifiers can be either **tickers** or **PERMNOs**. The function will automatically detect the type of identifier you are using. Since tickers can change over time, this becomes an important consideration when pulling data over long periods. To address this, CRSP assigns each security a permanent identifier, the PERMNO, that does not change. In addition, WRDS provides an [online tool](https://wrds-www.wharton.upenn.edu/pages/get-data/center-research-security-prices-crsp/annual-update/tools/translate-to-permcopermno/)\n",
        " to translate tickers into PERMCO/PERMNO identifiers. The CRSP PERMCO is a permanent *company* identifier, while the PERMNO is a permanent *security identifier*. Several securities may be associated with the same company since firms can issue various classes of equity.  "
      ],
      "metadata": {
        "id": "F4fI5g9PZzEO"
      }
    },
    {
      "cell_type": "code",
      "source": [
        "ids=['IBM','F', 'AAPL']    #\n",
        "start='2015-01-01'\n",
        "end = '2024-12-31'\n",
        "data=sf.get_crsp_msf_by_ids(db,ids,start,end)\n",
        "print(data.head(3)) # print first 3 rows\n",
        "print()\n",
        "print(data.tail(3)) # print last 3 rows"
      ],
      "metadata": {
        "id": "zfArr4aLGe4H"
      },
      "execution_count": null,
      "outputs": []
    },
    {
      "cell_type": "markdown",
      "source": [
        "### Calculate Turnover\n",
        "Turnover is value duing the month divided by shares outstanding at the beginning of the month.  We create a variable `shrout_lag` and divide volume by `shrout_lag`.  "
      ],
      "metadata": {
        "id": "xUc-TAHmZHo0"
      }
    },
    {
      "cell_type": "code",
      "source": [
        "data['date'] = pd.to_datetime(data['date']) # ensure that date is a datetime object\n",
        "data = data.sort_values(['ticker', 'date']) #sort to make sure lagging works properly\n",
        "data['shrout_lag'] = data.groupby('ticker')['shrout'].shift(1) # create lagged shrout by ticker\n",
        "data['turnover'] = data['vol'] / data['shrout_lag'] # compute turnover (volume / lagged shares outstanding)"
      ],
      "metadata": {
        "id": "2nlywnICfbeT"
      },
      "execution_count": null,
      "outputs": []
    },
    {
      "cell_type": "markdown",
      "source": [
        "### Plot Turnover\n",
        "We first format the data using the `pivot` method so we have a dataframe with three columns:\n",
        "(1) date\n",
        "(2) IBM Turnover\n",
        "(3) AAPL Turnover\n",
        "We then plot tunover for the tickers selected."
      ],
      "metadata": {
        "id": "QTyPbEOTZo58"
      }
    },
    {
      "cell_type": "code",
      "source": [
        "# pivot for plotting\n",
        "pivot_data = data.pivot(index='date', columns='ticker', values='turnover')\n",
        "\n",
        "# plot\n",
        "pivot_data.plot(figsize=(10,6), lw=1)\n",
        "\n",
        "plt.xlabel(\"Date\")\n",
        "plt.ylabel(\"Turnover (Vol / Lagged Shares Outstanding)\")\n",
        "plt.legend(title=\"Ticker (permno)\")\n",
        "plt.show()"
      ],
      "metadata": {
        "id": "T6UpPZ3uZn5N"
      },
      "execution_count": null,
      "outputs": []
    }
  ]
}