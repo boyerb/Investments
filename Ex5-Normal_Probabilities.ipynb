{
 "cells": [
  {
   "metadata": {},
   "cell_type": "markdown",
   "source": "**Foundations of Investment Analysis**, Bates Boyer, and Fletcher test\n",
   "id": "b36f21c53a24da98"
  },
  {
   "metadata": {},
   "cell_type": "markdown",
   "source": [
    "# Example Chapter 5: Estimating the Probabilities of Investment Outcomes\n",
    "In this notebook we estimate the probability that the return on an investment will be below a given threshold given that the investmen return is normally distributed."
   ],
   "id": "76bcc390065afe60"
  },
  {
   "metadata": {},
   "cell_type": "markdown",
   "source": "### Imports and Setup",
   "id": "607ccbff3a049143"
  },
  {
   "metadata": {},
   "cell_type": "code",
   "source": [
    "# import packages\n",
    "from scipy.stats import norm"
   ],
   "id": "68664cff3bacfb3",
   "outputs": [],
   "execution_count": null
  },
  {
   "metadata": {},
   "cell_type": "markdown",
   "source": [
    "### Estimate the Probabilities of Investment Outcomes\n",
    "We first specify the mean and standard deviation.  We then caculate the probability that the return is less than 10%, the probabiilty that the return is greater than 10%, and thr probability that the return is between 10% and 40%. "
   ],
   "id": "d0b6486d76faba41"
  },
  {
   "metadata": {},
   "cell_type": "code",
   "source": [
    "# specify the mean, standard deviation\n",
    "mean = 0.16\n",
    "std_dev = 0.20\n",
    "\n",
    "#Find the probability that the return is less than 10\\% \n",
    "threshold = -.10\n",
    "probability = norm.cdf(threshold, loc=mean, scale=std_dev)\n",
    "print('The probability the investment return will be below 10% is:')\n",
    "print(probability)\n",
    "\n",
    "#Find the probability that the return is greater than 10\\% \n",
    "threshold = .10\n",
    "probability = norm.cdf(threshold, loc=mean, scale=std_dev)\n",
    "print('The probability the investment return will be above 10% is:')\n",
    "print(probability)\n",
    "\n",
    "#Find the probability that the return is greater than 10\\% and less than 40% \n",
    "threshold1 = .10\n",
    "threshold2 = .40\n",
    "probability = norm.cdf(threshold2, loc=mean, scale=std_dev) - norm.cdf(threshold1, loc=mean, scale=std_dev)\n",
    "print('The probability the investment return will be above 10% and below 40% is:')\n",
    "print(probability)"
   ],
   "id": "70a0803236b239a8",
   "outputs": [],
   "execution_count": null
  }
 ],
 "metadata": {
  "kernelspec": {
   "display_name": "Python 3",
   "language": "python",
   "name": "python3"
  },
  "language_info": {
   "codemirror_mode": {
    "name": "ipython",
    "version": 2
   },
   "file_extension": ".py",
   "mimetype": "text/x-python",
   "name": "python",
   "nbconvert_exporter": "python",
   "pygments_lexer": "ipython2",
   "version": "2.7.6"
  }
 },
 "nbformat": 4,
 "nbformat_minor": 5
}
