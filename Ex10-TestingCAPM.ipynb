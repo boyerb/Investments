{
  "nbformat": 4,
  "nbformat_minor": 0,
  "metadata": {
    "colab": {
      "provenance": [],
      "authorship_tag": "ABX9TyNv7PPOcvh5NH7XMYsHTnsQ",
      "include_colab_link": true
    },
    "kernelspec": {
      "name": "python3",
      "display_name": "Python 3"
    },
    "language_info": {
      "name": "python"
    }
  },
  "cells": [
    {
      "cell_type": "markdown",
      "metadata": {
        "id": "view-in-github",
        "colab_type": "text"
      },
      "source": [
        "<a href=\"https://colab.research.google.com/github/boyerb/Investments/blob/master/Ex10-TestingCAPM.ipynb\" target=\"_parent\"><img src=\"https://colab.research.google.com/assets/colab-badge.svg\" alt=\"Open In Colab\"/></a>"
      ]
    },
    {
      "cell_type": "markdown",
      "source": [
        "**Investment Analysis**, Bates, Boyer, Fletcher"
      ],
      "metadata": {
        "id": "YU1yiHm_vXA2"
      }
    },
    {
      "cell_type": "markdown",
      "source": [
        "# Example Chapter 10: Testing the CAPM\n",
        "In this notebook we download return data from Ken French's website and estimate the alpha's for each porfolio along with the 95% confidence intervals.   "
      ],
      "metadata": {
        "id": "S82hn1Sqvpel"
      }
    },
    {
      "cell_type": "markdown",
      "source": [
        "### Imports and Setup"
      ],
      "metadata": {
        "id": "iR7ayd-kG30H"
      }
    },
    {
      "cell_type": "code",
      "execution_count": null,
      "metadata": {
        "id": "C3wyNgvuu-Zp"
      },
      "outputs": [],
      "source": [
        "!curl -O https://raw.githubusercontent.com/boyerb/Investments/master/functions/simple_finance.py\n",
        "import simple_finance as sf\n",
        "import pandas as pd\n",
        "import statsmodels.api as sm\n",
        "import matplotlib.pyplot as plt\n",
        "import matplotlib.ticker as mtick"
      ]
    },
    {
      "cell_type": "markdown",
      "source": [
        "### Choose Strategy and Estimate Alpha\n",
        "#### Function Description  \n",
        "**`get_ff_strategies(stype: start_date`** (optional)**`, end_date`** (optional)**`details`** (optional)**`)-> pd.DataFrame`**     \n",
        "Imports historical monthly returns for decile portfolios based on trading strategies from Ken French's website and returns the data as a DataFrame  \n",
        "\n",
        "**Inputs**  \n",
        "- `stype` (*string*):  strategy type, can be either `'beta'` or `'momentum'`. Other strategies coming soon.  \n",
        "- `start_date` (*string*, optional):  starting month in format `'yyyy-mm'`  \n",
        "- `end_date` (*string*, optional): ending month in format `'yyyy-mm'`\n",
        "- `details`(*bool*, optional, default=`False`):  \n",
        "  - If True, the function will print out a simple description of the strategy and construction details.  \n",
        "\n",
        "**Returns**  \n",
        "- (*DataFrame*): Decile returns for the trading stratgey, the value-weighted market return, and the return on short-term t-bills.\n",
        "  - *Index*: Monthly date index (`pandas.PeriodIndex` with `freq='M'`).\n",
        " - *Decile Returns for Strategy* : Dec 1, Dec 2, Dec 3,...Dec 9, Dec 10\n",
        " - *mkt* : The return on the value-weighted portfolio\n",
        " - *rf* : The return on short-term t-bills\n",
        "\n",
        "**Example Usage**:  \n",
        "1. `dat=sf.get_ff_strategies(stype='momentum')`  \n",
        "Imports all avaiable monthly returns for the momentum strategy.\n",
        "\n",
        "2. `dat=sf.get_ff_strategies(stype='beta', start_date='1990-01', end_date=`2024-12`, details=True)`  \n",
        "Imports monthly returns for the beta strategy from January 1990 to December 2024, and prints out information about the strategy.\n"
      ],
      "metadata": {
        "id": "_ooDqdIzHAPH"
      }
    },
    {
      "cell_type": "code",
      "source": [
        "# Choose the strategy\n",
        "dat=sf.get_ff_strategies(stype='beta',details=True)\n",
        "\n",
        "dat['exmkt']=dat['mkt']-dat['rf']\n",
        "\n",
        "# Initialize lists to store intercepts and confidence intervals\n",
        "intercepts = []\n",
        "conf_intervals = []\n",
        "\n",
        "# Loop through each column corresponding to Dec 1 - Dec 10\n",
        "for column in [f\"Dec {i}\" for i in range(1, 11)]:\n",
        "    y = dat[column]-dat['rf']  # Dependent variable (Decile return)\n",
        "    X = dat['exmkt']  # Independent variable (Market excess return)\n",
        "    X = sm.add_constant(X)    # Add constant to X for intercept\n",
        "\n",
        "    # Fit regression model\n",
        "    model = sm.OLS(y, X).fit()\n",
        "\n",
        "    # Get the intercept and 95% confidence intervals\n",
        "    intercept = model.params['const'] * 12  # Multiply intercept by 12\n",
        "    ci_lower, ci_upper = model.conf_int().iloc[0] * 12  # Multiply confidence intervals by 12\n",
        "\n",
        "    # Get the intercept and 95% confidence intervals\n",
        "    intercepts.append(intercept)  # Append intercept to list\n",
        "    conf_intervals.append([ci_lower, ci_upper])  # Append 95% CI for the intercept\n",
        "\n",
        "# Convert results to DataFrame for easier manipulation\n",
        "results_df = pd.DataFrame({\n",
        "    \"Decile\": [f\"Dec {i}\" for i in range(1, 11)],\n",
        "    \"Intercept\": intercepts,\n",
        "    \"CI_Lower\": [ci[0] for ci in conf_intervals],\n",
        "    \"CI_Upper\": [ci[1] for ci in conf_intervals]\n",
        "})\n"
      ],
      "metadata": {
        "id": "kXFUMwjtHLe4"
      },
      "execution_count": null,
      "outputs": []
    },
    {
      "cell_type": "code",
      "source": [
        "# Plot the intercepts with confidence intervals\n",
        "plt.figure(figsize=(10, 6))\n",
        "plt.errorbar(results_df[\"Decile\"], results_df[\"Intercept\"],\n",
        "             yerr=[results_df[\"Intercept\"] - results_df[\"CI_Lower\"],\n",
        "                   results_df[\"CI_Upper\"] - results_df[\"Intercept\"]],\n",
        "             fmt='o', capsize=5, capthick=2, label=\"Intercept ± 95% CI\", color='b')\n",
        "\n",
        "# Labels and title\n",
        "plt.xlabel(\"Decile\",fontsize=16)\n",
        "plt.ylabel(\"Intercept\",fontsize=16)\n",
        "#plt.title(\"Regression Intercepts with 95% Confidence Intervals\")\n",
        "plt.xticks(rotation=45)  # Rotate x-axis labels for readability\n",
        "plt.axhline(0, color='black', linestyle='--', linewidth=2)  # Reference line at 0\n",
        "plt.legend()\n",
        "# Format y-axis as percentages\n",
        "plt.gca().yaxis.set_major_formatter(mtick.PercentFormatter(xmax=1, decimals=1))\n",
        "\n",
        "# Show the plot\n",
        "plt.show()"
      ],
      "metadata": {
        "id": "g66AXMZ_96df"
      },
      "execution_count": null,
      "outputs": []
    }
  ]
}