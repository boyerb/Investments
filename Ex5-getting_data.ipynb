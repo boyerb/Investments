{
 "cells": [
  {
   "metadata": {},
   "cell_type": "markdown",
   "source": [
    "# Example Chapter 5: Using APIs to get Stock Data\n",
    "In this example we use functions that tap into the yfinance library and Ken French's website to get monthly returns on the Vanguard S\\&P 500 ETF (VOO) and short-term US t-bills. We use these data to estimate the annualized expected return, volatility, and Sharpe ratio for VOO. "
   ],
   "id": "a8424377d4ab21a7"
  },
  {
   "metadata": {
    "ExecuteTime": {
     "end_time": "2024-09-19T23:36:56.440235Z",
     "start_time": "2024-09-19T23:36:56.168559Z"
    }
   },
   "cell_type": "code",
   "source": "!curl -O https://raw.githubusercontent.com/boyerb/Investments/refs/heads/master/bates_boyer_fletcher.py",
   "id": "abfa28ff8f165bb6",
   "outputs": [
    {
     "name": "stderr",
     "output_type": "stream",
     "text": [
      "  % Total    % Received % Xferd  Average Speed   Time    Time     Time  Current\n",
      "                                 Dload  Upload   Total   Spent    Left  Speed\n",
      "\n",
      "  0     0    0     0    0     0      0      0 --:--:-- --:--:-- --:--:--     0\n",
      "100    14  100    14    0     0     76      0 --:--:-- --:--:-- --:--:--    78\n"
     ]
    }
   ],
   "execution_count": 5
  },
  {
   "metadata": {
    "collapsed": true,
    "ExecuteTime": {
     "end_time": "2024-09-19T23:35:43.978909Z",
     "start_time": "2024-09-19T23:35:43.196276Z"
    }
   },
   "cell_type": "code",
   "source": [
    "\n",
    "from functions import bbf_functions as invf\n",
    "import numpy as np"
   ],
   "id": "initial_id",
   "outputs": [],
   "execution_count": 4
  },
  {
   "metadata": {},
   "cell_type": "code",
   "source": [
    "# Get monthly returns for a given ticker\n",
    "ticker = ['VOO']\n",
    "dat = invf.get_monthly_returns(ticker, '2020-01-01', '2023-12-31', tbill_return=False)\n",
    "print(dat.head())"
   ],
   "id": "aa5b611ec5c3a9ce",
   "outputs": [],
   "execution_count": null
  },
  {
   "metadata": {},
   "cell_type": "code",
   "source": [
    "# Calcualte the annualized average return and volatility\n",
    "A_Avg_VOO = dat.mean() * 12\n",
    "A_Vol_VOO = dat.std() * np.sqrt(12)\n",
    "print('Annuliazed Average: ', A_Avg_VOO)\n",
    "print('Annualized Vol: ',  A_Vol_VOO)"
   ],
   "id": "97b7008bd9ffd661",
   "outputs": [],
   "execution_count": null
  },
  {
   "metadata": {},
   "cell_type": "code",
   "source": [
    "ticker = 'VOO'\n",
    "ticker_list = [ticker]\n",
    "\n",
    "dat = invf.get_monthly_returns(ticker_list, '1990-01-01', '2023-12-31', tbill_return=True)\n",
    "print(dat.head())\n",
    "dat['exret'] = dat[ticker] - dat['RF']\n",
    "A_AVG_exret = dat['exret'].mean() * 12\n",
    "A_Vol_exret = dat[ticker].std() * np.sqrt(12)\n",
    "Sharpe = A_AVG_exret/A_Vol_exret\n",
    "print()\n",
    "print('Sharpe Ratio: ', Sharpe)"
   ],
   "id": "654477d73970a945",
   "outputs": [],
   "execution_count": null
  }
 ],
 "metadata": {
  "kernelspec": {
   "display_name": "Python 3",
   "language": "python",
   "name": "python3"
  },
  "language_info": {
   "codemirror_mode": {
    "name": "ipython",
    "version": 2
   },
   "file_extension": ".py",
   "mimetype": "text/x-python",
   "name": "python",
   "nbconvert_exporter": "python",
   "pygments_lexer": "ipython2",
   "version": "2.7.6"
  }
 },
 "nbformat": 4,
 "nbformat_minor": 5
}
