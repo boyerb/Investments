{
 "cells": [
  {
   "cell_type": "code",
   "id": "initial_id",
   "metadata": {
    "collapsed": true,
    "ExecuteTime": {
     "end_time": "2024-09-17T02:42:18.446700Z",
     "start_time": "2024-09-17T02:42:17.647345Z"
    }
   },
   "source": [
    "import yfinance as yf\n",
    "from datetime import date\n",
    "import investments_functions as invf"
   ],
   "outputs": [],
   "execution_count": 1
  },
  {
   "metadata": {
    "ExecuteTime": {
     "end_time": "2024-09-17T02:42:19.292784Z",
     "start_time": "2024-09-17T02:42:18.446700Z"
    }
   },
   "cell_type": "code",
   "source": [
    "# Define the ticker symbol\n",
    "ticker = 'VOO'\n",
    "today = date.today()\n",
    "data = yf.download(ticker, start='2000-01-01', end=today, interval='1mo')\n",
    "monthly_returns = data['Adj Close'].pct_change()\n"
   ],
   "id": "aa5b611ec5c3a9ce",
   "outputs": [
    {
     "name": "stderr",
     "output_type": "stream",
     "text": [
      "[*********************100%***********************]  1 of 1 completed\n"
     ]
    }
   ],
   "execution_count": 2
  },
  {
   "metadata": {
    "ExecuteTime": {
     "end_time": "2024-09-17T02:42:20.038506Z",
     "start_time": "2024-09-17T02:42:19.425203Z"
    }
   },
   "cell_type": "code",
   "source": [
    "ff_data = invf.get_ff5()\n",
    "print(ff_data)"
   ],
   "id": "97b7008bd9ffd661",
   "outputs": [
    {
     "name": "stdout",
     "output_type": "stream",
     "text": [
      "        Date    Mkt-RF       SMB       HML       RMW       CMA        RF\n",
      "0    1963-07     -0.39     -0.41     -0.97      0.68     -1.18      0.27\n",
      "1    1963-08      5.07     -0.80      1.80      0.36     -0.35      0.25\n",
      "2    1963-09     -1.57     -0.52      0.13     -0.71      0.29      0.27\n",
      "3    1963-10      2.53     -1.39     -0.10      2.80     -2.01      0.29\n",
      "4    1963-11     -0.85     -0.88      1.75     -0.51      2.24      0.27\n",
      "..       ...       ...       ...       ...       ...       ...       ...\n",
      "728  2024-03      2.83     -1.18      4.21      1.47      1.19      0.43\n",
      "729  2024-04     -4.67     -2.56     -0.52      1.48     -0.30      0.47\n",
      "730  2024-05      4.34      0.76     -1.66      2.98     -3.07      0.44\n",
      "731  2024-06      2.77     -4.37     -3.31      0.51     -1.78      0.41\n",
      "732  2024-07      1.24      8.33      5.70      0.17      0.43      0.45\n",
      "\n",
      "[733 rows x 7 columns]\n"
     ]
    }
   ],
   "execution_count": 3
  }
 ],
 "metadata": {
  "kernelspec": {
   "display_name": "Python 3",
   "language": "python",
   "name": "python3"
  },
  "language_info": {
   "codemirror_mode": {
    "name": "ipython",
    "version": 2
   },
   "file_extension": ".py",
   "mimetype": "text/x-python",
   "name": "python",
   "nbconvert_exporter": "python",
   "pygments_lexer": "ipython2",
   "version": "2.7.6"
  }
 },
 "nbformat": 4,
 "nbformat_minor": 5
}
