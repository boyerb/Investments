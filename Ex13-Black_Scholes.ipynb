{
  "nbformat": 4,
  "nbformat_minor": 0,
  "metadata": {
    "colab": {
      "provenance": [],
      "authorship_tag": "ABX9TyOLrWCSuPMMheVODcBKrk1K",
      "include_colab_link": true
    },
    "kernelspec": {
      "name": "python3",
      "display_name": "Python 3"
    },
    "language_info": {
      "name": "python"
    }
  },
  "cells": [
    {
      "cell_type": "markdown",
      "metadata": {
        "id": "view-in-github",
        "colab_type": "text"
      },
      "source": [
        "<a href=\"https://colab.research.google.com/github/boyerb/Investments/blob/master/Ex13-Black_Scholes.ipynb\" target=\"_parent\"><img src=\"https://colab.research.google.com/assets/colab-badge.svg\" alt=\"Open In Colab\"/></a>"
      ]
    },
    {
      "cell_type": "markdown",
      "source": [
        "**Investment Analysis**, Bates, Boyer, Fletcher"
      ],
      "metadata": {
        "id": "sW_-Johw5ops"
      }
    },
    {
      "cell_type": "markdown",
      "source": [
        "# Example Chapter 13: Option Pricing with the Black-Scholes Model"
      ],
      "metadata": {
        "id": "DnYVcmgg5sZc"
      }
    },
    {
      "cell_type": "markdown",
      "source": [
        "### Imports and Setup"
      ],
      "metadata": {
        "id": "PQvzAqXU5p6M"
      }
    },
    {
      "cell_type": "code",
      "execution_count": 6,
      "metadata": {
        "id": "CQIxAmdi4O4V"
      },
      "outputs": [],
      "source": [
        "import numpy as np\n",
        "from scipy.stats import norm"
      ]
    },
    {
      "cell_type": "markdown",
      "source": [
        "In the block of code below we define the function `black_scholes`  which prices European calls and puts using the Black-Scholes model\n",
        "###Function Description\n",
        "`black_scholes (type, S0, K, T, r, sigma, n)-> float`\n",
        "Prices European calls and puts using the Black-Scholes model.   \n",
        "\n",
        "**Inputs**\n",
        "\n",
        "- `type (string)`: option type, must be either 'call' or 'put'.\n",
        "- `S0 (float)`: the current stock price.\n",
        "- `K (float)`: the strike price.\n",
        "- `T (float)`: the time to maturity in years.\n",
        "- `r (float)`: the annualized discrete time risk-free rate.\n",
        "- `sigma (float)`: the anmualized volatility of the stock return.\n",
        "\n",
        "**Returns**  \n",
        "The price of the designated option (float).\n",
        "\n",
        "\n",
        "**Example Usage:**\n",
        "`call_price=('call', 100, 105, 0.50, 0.01, 0.25)`\n"
      ],
      "metadata": {
        "id": "PfigdHJ05-wc"
      }
    },
    {
      "cell_type": "code",
      "source": [
        "def black_scholes(type, S, K, T, rf, sigma):\n",
        "\n",
        "    r=np.log(1+rf) # create continuous-time risk-free rate\n",
        "\n",
        "    d1 = (np.log(S / K) + (r + 0.5 * sigma ** 2) * T) / (sigma * np.sqrt(T))\n",
        "    d2 = d1 - sigma * np.sqrt(T)\n",
        "\n",
        "    if type == \"call\":\n",
        "        option_price = S * norm.cdf(d1) - K * np.exp(-r * T) * norm.cdf(d2)\n",
        "    elif type == \"put\":\n",
        "        option_price = K * np.exp(-r * T) * norm.cdf(-d2) - S * norm.cdf(-d1)\n",
        "    else:\n",
        "        raise ValueError(\"Invalid option type. Choose 'call' or 'put'.\")\n",
        "\n",
        "    return option_price"
      ],
      "metadata": {
        "id": "QjU4g3sN5_02"
      },
      "execution_count": 11,
      "outputs": []
    },
    {
      "cell_type": "markdown",
      "source": [
        "### Price a Call Option"
      ],
      "metadata": {
        "id": "nd_dkD915nxE"
      }
    },
    {
      "cell_type": "code",
      "source": [
        "# Example usage\n",
        "S = 20       # Current stock price\n",
        "K = 21       # Strike price\n",
        "T = 0.25         # Time to expiration (1 year)\n",
        "rf = 0.01      # Risk-free interest rate (5%)\n",
        "sigma = 0.1906   # Volatility (20%)\n",
        "\n",
        "call_price = black_scholes(\"call\", S, K, T, rf, sigma)\n",
        "\n",
        "print(f\"Call Option Price: {call_price:.4f}\")"
      ],
      "metadata": {
        "colab": {
          "base_uri": "https://localhost:8080/"
        },
        "id": "YaXbftTx6tmK",
        "outputId": "c75254ed-014a-4c4a-ca47-846df3ec8425"
      },
      "execution_count": 16,
      "outputs": [
        {
          "output_type": "stream",
          "name": "stdout",
          "text": [
            "Call Option Price: 0.3942\n"
          ]
        }
      ]
    },
    {
      "cell_type": "markdown",
      "source": [
        "### Price a Put Option"
      ],
      "metadata": {
        "id": "mu1urcro9mah"
      }
    },
    {
      "cell_type": "code",
      "source": [
        "# Example usage\n",
        "S = 50       # Current stock price\n",
        "K = 60       # Strike price\n",
        "T = 0.25         # Time to expiration (1 year)\n",
        "rf = 0.01      # Risk-free interest rate (5%)\n",
        "sigma = 0.2087   # Volatility (20%)\n",
        "\n",
        "put_price = black_scholes(\"put\", S, K, T, rf, sigma)\n",
        "print(f\"Put Option Price: {put_price:.4f}\")"
      ],
      "metadata": {
        "colab": {
          "base_uri": "https://localhost:8080/"
        },
        "id": "UaO7ZJnV9onD",
        "outputId": "5bba543e-c0f4-4d88-fb04-4fd0a1cf7cf1"
      },
      "execution_count": 17,
      "outputs": [
        {
          "output_type": "stream",
          "name": "stdout",
          "text": [
            "Put Option Price: 9.9494\n"
          ]
        }
      ]
    }
  ]
}