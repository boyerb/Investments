{
  "nbformat": 4,
  "nbformat_minor": 0,
  "metadata": {
    "colab": {
      "provenance": [],
      "authorship_tag": "ABX9TyNJkaKKG4Rg2bCF1Bqp66Ic",
      "include_colab_link": true
    },
    "kernelspec": {
      "name": "python3",
      "display_name": "Python 3"
    },
    "language_info": {
      "name": "python"
    }
  },
  "cells": [
    {
      "cell_type": "markdown",
      "metadata": {
        "id": "view-in-github",
        "colab_type": "text"
      },
      "source": [
        "<a href=\"https://colab.research.google.com/github/boyerb/Investments/blob/master/Ex07-Alpha_Vantage.ipynb\" target=\"_parent\"><img src=\"https://colab.research.google.com/assets/colab-badge.svg\" alt=\"Open In Colab\"/></a>"
      ]
    },
    {
      "cell_type": "markdown",
      "source": [
        "**Investments: Theory, Fundamental Analysis, and Data Driven Analytics**, Bates, Boyer, and Fletcher"
      ],
      "metadata": {
        "id": "uASzxEA29Ev6"
      }
    },
    {
      "cell_type": "markdown",
      "source": [
        "# Examples Chapter 7: The Alpha Vantage API\n",
        "In this example we illustrate how to load in data using the Alpha vantage API. We then plot the closing price for Coca-Cola (ticker:'KO')."
      ],
      "metadata": {
        "id": "OzQUrqpt9hXI"
      }
    },
    {
      "cell_type": "markdown",
      "source": [
        "### Imports and Setup\n",
        "In this example we illustrate how to access data on equities using the Alpha Vantage API. The script uses the function `parse_monthly_alpha_vantage_response()` to formate the data from Alpha Vantage into a noce DataFrame. This function is part of the simple_finance custom module that can be accessed from the course GitHub repo. A module is a single Python file that contains functions, classes, or variables. By packaging code into well-designed functions, this module keeps our Python code clean, helps us avoid getting bogged down in less-important coding details, and maintains focus on core objectives. The complete code for this module can be seen at https://github.com/boyerb/Investments/blob/master/functions/simple_finance.py.\n",
        "\n",
        "After importing the `simple_finance.py` module we then import the `requests` package for retrieving data and  `pandas` for handling DataFrames. To improve readability when printing a DataFrame to the consol, we then configure Pandas display options: (1) show all columns without truncation, (2) widen the output to 1000 characters so rows print on a single line, and (3) truncate long tables.\n"
      ],
      "metadata": {
        "id": "vauLGhRpIlyf"
      }
    },
    {
      "cell_type": "code",
      "execution_count": null,
      "metadata": {
        "id": "l193wFL7lbOD"
      },
      "outputs": [],
      "source": [
        "# Import the simple_finance.py package and avoid using a cached version.\n",
        "# Remove any stale copy of simple_finance.py cached on your PC.\n",
        "# Grab the newest simple_finance.py file directly from the repo\n",
        "# Them, force Colab to use the most recent version.\n",
        "!rm -f simple_finance.py\n",
        "!curl -O https://raw.githubusercontent.com/boyerb/Investments/master/functions/simple_finance.py\n",
        "import importlib, simple_finance as sf\n",
        "importlib.reload(sf)\n",
        "\n",
        "import requests\n",
        "import pandas as pd\n",
        "\n",
        "pd.set_option('display.max_columns', None)   # Show all columns without truncation\n",
        "pd.set_option('display.width', 1000)   # Set the display width so output stays on one line\n",
        "pd.set_option(\"display.max_rows\", 20) # Force truncation if DataFrame has more than 20 rows\n"
      ]
    },
    {
      "cell_type": "markdown",
      "source": [
        "### Load in Data Using the API\n",
        "You will first need to get your own API key to run this block of code at this link: https://www.alphavantage.co/support/#api-key.  If you don't supply your own API key, the code will still run, but the number of daily requests will be **limited by IP address**.\n",
        "\n",
        "When using this block of code in other programs remember to\n",
        "1. Replace `symbol=KO` in the url string with the symbol for which you want data.\n",
        "2. Replace `your_key` in the script with your actual key.  "
      ],
      "metadata": {
        "id": "NLaxblm1Irr_"
      }
    },
    {
      "cell_type": "code",
      "source": [
        "# Define the API endpoint URL\n",
        "# The 'symbol' parameter specifies the ticker (KO = Coca-Cola).\n",
        "# Replace 'your_key' with your personal Alpha Vantage API key.\n",
        "url = 'https://www.alphavantage.co/query?function=TIME_SERIES_MONTHLY_ADJUSTED&symbol=KO&apikey=your_key'\n",
        "\n",
        "# Send an HTTP GET request to the API endpoint\n",
        "r = requests.get(url)\n",
        "df = sf.parse_monthly_alpha_vantage_response(r)\n",
        "print(df)"
      ],
      "metadata": {
        "id": "8h0VoO_wIoL3"
      },
      "execution_count": null,
      "outputs": []
    },
    {
      "cell_type": "markdown",
      "source": [
        "### Plot Closing Price for Coca-Cola\n",
        "Here we plot the closing price each month for Coca-Cola. As needed, use an AI assitant for further undersatnding of this code."
      ],
      "metadata": {
        "id": "XlWBehhnJ97j"
      }
    },
    {
      "cell_type": "code",
      "source": [
        "df[\"Close\"].plot(figsize=(12,6))\n",
        "\n",
        "plt.xlabel(\"Date\")\n",
        "plt.ylabel(\"Closing Price\")\n",
        "plt.title(\"Closing Price Over Time\")\n",
        "plt.show()"
      ],
      "metadata": {
        "id": "3DqaWJY20Xy7"
      },
      "execution_count": null,
      "outputs": []
    }
  ]
}