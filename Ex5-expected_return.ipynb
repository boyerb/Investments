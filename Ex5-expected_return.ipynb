{
 "cells": [
  {
   "metadata": {},
   "cell_type": "markdown",
   "source": "",
   "id": "7c05874fd230c89f"
  },
  {
   "metadata": {},
   "cell_type": "markdown",
   "source": [
    "***Foundations of Investment Analysis***, Bates, Boyer, and Fletcher\n",
    "# Example Chapter 5: Estimating Expected Returns\n",
    "In this example we first calculate the true expected return of an investment with probabilities and outcomes described in the table below. We then simulate a random sample drawn from the PDF and *estimate* the expected return as a simple average using our generated sample \n",
    "\n",
    "| Return | Probability |\n",
    "|--------|-------------|\n",
    "| -5%    | 20%         |\n",
    "| 0%     | 30%         |\n",
    "| 5%     | 40%         |\n",
    "| 10%    | 10%         |\n",
    "---"
   ],
   "id": "bf28204faf8f62bc"
  },
  {
   "metadata": {},
   "cell_type": "markdown",
   "source": "### Imports and Setup",
   "id": "430d0e78b1b00a15"
  },
  {
   "metadata": {},
   "cell_type": "code",
   "outputs": [],
   "execution_count": null,
   "source": [
    "#import packages\n",
    "import numpy as np"
   ],
   "id": "7ea08743"
  },
  {
   "metadata": {},
   "cell_type": "markdown",
   "source": "### Calculate True Expected Return ",
   "id": "34ffd1ed9e29f66d"
  },
  {
   "metadata": {},
   "cell_type": "code",
   "outputs": [],
   "execution_count": null,
   "source": [
    "# Define the discrete PDF\n",
    "outcomes = [-0.05, 0.00, 0.05, 0.10]  # Possible return outcomes\n",
    "probabilities = [0.2, 0.3, 0.4, 0.1]  # Corresponding probabilities"
   ],
   "id": "c8713d23"
  },
  {
   "metadata": {},
   "cell_type": "code",
   "outputs": [],
   "execution_count": null,
   "source": [
    "# Calculate the True Expected Return\n",
    "# np.dot is similar to sumproduct in Excel\n",
    "true_expected_return = np.dot(outcomes, probabilities) \n",
    "print('True Expected Return:', true_expected_return)"
   ],
   "id": "f0a271323d6f32b5"
  },
  {
   "metadata": {},
   "cell_type": "markdown",
   "source": "### Simulate a Random Sample and Estimate Expected Return",
   "id": "69e9fe38c247571b"
  },
  {
   "metadata": {},
   "cell_type": "code",
   "outputs": [],
   "execution_count": null,
   "source": [
    "# Simulate a Random Sample\n",
    "# number of random variables to create\n",
    "num_simulations = 100 \n",
    "# Create a random number generator object\n",
    "rng = np.random.default_rng()  \n",
    "# Generate a random sample of outcomes\n",
    "simulated_returns = rng.choice(outcomes, size=num_simulations, p=probabilities)"
   ],
   "id": "b1d17a49f7000ca0"
  },
  {
   "metadata": {},
   "cell_type": "code",
   "outputs": [],
   "execution_count": null,
   "source": [
    "# Estimate the Expected Return from the Random Sample\n",
    "estimated_expected_return = np.mean(simulated_returns)\n",
    "print('Estimated Expected Return:', estimated_expected_return)"
   ],
   "id": "061fe396"
  }
 ],
 "metadata": {
  "jupytext": {
   "cell_metadata_filter": "-all",
   "main_language": "python",
   "notebook_metadata_filter": "-all"
  },
  "kernelspec": {
   "name": "python3",
   "language": "python",
   "display_name": "Python 3 (ipykernel)"
  }
 },
 "nbformat": 4,
 "nbformat_minor": 5
}
