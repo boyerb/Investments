{
 "cells": [
  {
   "cell_type": "markdown",
   "source": [
    "***Foundations of Investment Analysis***, Bates, Boyer, and Fletcher"
   ],
   "metadata": {
    "id": "L1gOEU3lC47o"
   },
   "id": "L1gOEU3lC47o"
  },
  {
   "metadata": {
    "id": "a8424377d4ab21a7"
   },
   "cell_type": "markdown",
   "source": [
    "# Example Chapter 5: Accessing Data from the Internet\n",
    "In this example we tap into the yfinance library to get monthly stock returns and Ken French's website to access data on short-term US t-bill returns. To make the process of gathering data from these sources as easy as possible, we package most of the code in easy-to-use functions in the library `simple_finance.py`.  We then use these data to estimate the annualized expected return, volatility, and Sharpe ratio for the Russell 3000 index (^RUT) and Ford Motor Company (F).  Try changing the tickers and date ranges to pull data for different companies over different time periods.\n"
   ],
   "id": "a8424377d4ab21a7"
  },
  {
   "metadata": {
    "id": "848af822f805f02a"
   },
   "cell_type": "markdown",
   "source": [
    " ### Imports and Setup\n",
    " We first load in a function file from the GitHub repository using the `curl` command. the `-O` following this command tells curl to save the file `simple_finance.py` in the current working directory. We then import the functions from the file and import other necessary libraries."
   ],
   "id": "848af822f805f02a"
  },
  {
   "metadata": {
    "id": "abfa28ff8f165bb6",
    "outputId": "2475e167-7155-4a60-ed50-c28dd141b532",
    "colab": {
     "base_uri": "https://localhost:8080/"
    },
    "ExecuteTime": {
     "end_time": "2025-01-29T18:46:03.174789Z",
     "start_time": "2025-01-29T18:46:02.989001Z"
    }
   },
   "cell_type": "code",
   "source": [
    "# Load in simple_finance.py from the GitHub repository\n",
    "!curl -O https://raw.githubusercontent.com/boyerb/Investments/master/functions/simple_finance.py\n",
    "!ls\n",
    "import simple_finance as sf\n",
    "import inspect\n",
    "# import other necessary libraries\n",
    "import numpy as np\n",
    "import yfinance as yf\n",
    "import pandas as pd\n",
    "#print(inspect.getsource(sf))"
   ],
   "id": "abfa28ff8f165bb6",
   "outputs": [
    {
     "name": "stderr",
     "output_type": "stream",
     "text": [
      "  % Total    % Received % Xferd  Average Speed   Time    Time     Time  Current\n",
      "                                 Dload  Upload   Total   Spent    Left  Speed\n",
      "\n",
      "  0     0    0     0    0     0      0      0 --:--:-- --:--:-- --:--:--     0\n",
      "100  6294  100  6294    0     0  59901      0 --:--:-- --:--:-- --:--:-- 63575\n",
      "'ls' is not recognized as an internal or external command,\n",
      "operable program or batch file.\n"
     ]
    }
   ],
   "execution_count": 6
  },
  {
   "metadata": {
    "id": "a6c48c9ecd523cc9"
   },
   "cell_type": "markdown",
   "source": [
    "### Access Monthly Returns\n",
    "In this block of code we access monthly returns for the Russell 3000 index (^RUA) and Ford Motor Company (F). The key function is `get_monthly_returns`.\n",
    "\n",
    "`get_monthly returns` has the following inputs:\n",
    "- **ticker** = list of desired tickers: `['ticker_1', 'ticker_2', ..., 'ticker_N']\n",
    "- **begin** = beginning month in format yyyy-mm-dd\n",
    "- **end** = ending month in format yyyy-mm-dd\n",
    "- **tbill_return** = True or False. If True, the return on short-term tbills will be included in the DataFrame. If False, the return on short-term tbills will not be included.\n",
    "\n",
    "The output is a DataFrame with monthly returns for each ticker, and the return on short-term tbills if `tbill_return=True`.\n",
    "\n",
    "We then calculate the annualized average return and volatility."
   ],
   "id": "a6c48c9ecd523cc9"
  },
  {
   "cell_type": "code",
   "source": [
    "start_date='1990-11-15'\n",
    "end_date='2023-12-31'\n",
    "adjusted_start_date = pd.to_datetime(start_date) - pd.DateOffset(months=1)\n",
    "ticker = ['^RUA', 'F']\n",
    "data = yf.download(ticker, start=adjusted_start_date, end=end_date, interval=\"1d\")"
   ],
   "metadata": {
    "id": "dzJWMJZQXJTp",
    "outputId": "9314ab14-76a2-4ce4-a6e9-ee80f7800e1c",
    "colab": {
     "base_uri": "https://localhost:8080/"
    },
    "ExecuteTime": {
     "end_time": "2025-01-29T18:46:12.094598Z",
     "start_time": "2025-01-29T18:46:11.640426Z"
    }
   },
   "id": "dzJWMJZQXJTp",
   "outputs": [
    {
     "name": "stderr",
     "output_type": "stream",
     "text": [
      "[*********************100%***********************]  2 of 2 completed\n"
     ]
    }
   ],
   "execution_count": 7
  },
  {
   "cell_type": "code",
   "source": [
    "print(data)\n"
   ],
   "metadata": {
    "id": "n_1yqw0tYL-5",
    "outputId": "10554c1f-eaed-490b-d016-9496b109d43f",
    "colab": {
     "base_uri": "https://localhost:8080/"
    },
    "ExecuteTime": {
     "end_time": "2025-01-29T18:46:14.864672Z",
     "start_time": "2025-01-29T18:46:14.857594Z"
    }
   },
   "id": "n_1yqw0tYL-5",
   "outputs": [
    {
     "name": "stdout",
     "output_type": "stream",
     "text": [
      "Price                      Adj Close                   Close               \\\n",
      "Ticker                             F         ^RUA          F         ^RUA   \n",
      "Date                                                                        \n",
      "1990-10-15 00:00:00+00:00   1.678722   165.009995   5.793621   165.009995   \n",
      "1990-10-16 00:00:00+00:00   1.632458   162.750000   5.633955   162.750000   \n",
      "1990-10-17 00:00:00+00:00   1.619239   162.750000   5.588335   162.750000   \n",
      "1990-10-18 00:00:00+00:00   1.619239   166.399994   5.588335   166.399994   \n",
      "1990-10-19 00:00:00+00:00   1.658895   169.679993   5.725193   169.679993   \n",
      "...                              ...          ...        ...          ...   \n",
      "2023-12-22 00:00:00+00:00  11.542161  2741.199951  12.350000  2741.199951   \n",
      "2023-12-26 00:00:00+00:00  11.635620  2754.719971  12.450000  2754.719971   \n",
      "2023-12-27 00:00:00+00:00  11.579545  2759.219971  12.390000  2759.219971   \n",
      "2023-12-28 00:00:00+00:00  11.532815  2759.620117  12.340000  2759.620117   \n",
      "2023-12-29 00:00:00+00:00  11.392627  2748.209961  12.190000  2748.209961   \n",
      "\n",
      "Price                           High                     Low               \\\n",
      "Ticker                             F         ^RUA          F         ^RUA   \n",
      "Date                                                                        \n",
      "1990-10-15 00:00:00+00:00   5.816431   165.610001   5.565526   161.860001   \n",
      "1990-10-16 00:00:00+00:00   5.907669   165.479996   5.588335   162.410004   \n",
      "1990-10-17 00:00:00+00:00   5.748002   163.979996   5.588335   162.199997   \n",
      "1990-10-18 00:00:00+00:00   5.702383   166.399994   5.542716   162.740005   \n",
      "1990-10-19 00:00:00+00:00   5.725193   169.690002   5.519907   166.399994   \n",
      "...                              ...          ...        ...          ...   \n",
      "2023-12-22 00:00:00+00:00  12.460000  2751.260010  12.280000  2731.080078   \n",
      "2023-12-26 00:00:00+00:00  12.500000  2760.330078  12.370000  2744.070068   \n",
      "2023-12-27 00:00:00+00:00  12.450000  2761.669922  12.230000  2752.280029   \n",
      "2023-12-28 00:00:00+00:00  12.430000  2765.300049  12.280000  2758.260010   \n",
      "2023-12-29 00:00:00+00:00  12.390000  2761.300049  12.160000  2739.989990   \n",
      "\n",
      "Price                           Open                 Volume       \n",
      "Ticker                             F         ^RUA         F ^RUA  \n",
      "Date                                                              \n",
      "1990-10-15 00:00:00+00:00   5.656764   163.399994   5977216  0.0  \n",
      "1990-10-16 00:00:00+00:00   5.816431   165.009995   4110672  0.0  \n",
      "1990-10-17 00:00:00+00:00   5.611145   162.750000   3400990  0.0  \n",
      "1990-10-18 00:00:00+00:00   5.611145   162.740005   7811975  0.0  \n",
      "1990-10-19 00:00:00+00:00   5.611145   166.399994   8954590  0.0  \n",
      "...                              ...          ...       ...  ...  \n",
      "2023-12-22 00:00:00+00:00  12.320000  2742.179932  43718600  0.0  \n",
      "2023-12-26 00:00:00+00:00  12.390000  2744.320068  26293700  0.0  \n",
      "2023-12-27 00:00:00+00:00  12.430000  2755.110107  39891300  0.0  \n",
      "2023-12-28 00:00:00+00:00  12.380000  2761.050049  26688500  0.0  \n",
      "2023-12-29 00:00:00+00:00  12.350000  2758.719971  40902400  0.0  \n",
      "\n",
      "[8366 rows x 12 columns]\n"
     ]
    }
   ],
   "execution_count": 8
  },
  {
   "cell_type": "code",
   "source": [
    "# Get monthly returns for a given list of stock tickers using the yfinance API\n",
    "ticker = ['^RUA', 'F']\n",
    "# Use tbill_return=True to get the return on short-term tbills, or False to exclude tbill returns\n",
    "dat = sf.get_monthly_returns(ticker, '1990-01-01', '2023-12-31', tbill_return=False)\n"
   ],
   "metadata": {
    "id": "22shU3S7VPMh",
    "outputId": "37cc6d1c-5d3c-4bb5-8510-a3fd86499a5f",
    "colab": {
     "base_uri": "https://localhost:8080/",
     "height": 591
    }
   },
   "id": "22shU3S7VPMh",
   "execution_count": 8,
   "outputs": [
    {
     "output_type": "stream",
     "name": "stderr",
     "text": [
      "\r[*********************100%***********************]  1 of 1 completed\n"
     ]
    },
    {
     "output_type": "error",
     "ename": "KeyError",
     "evalue": "'Adj Close'",
     "traceback": [
      "\u001B[0;31m---------------------------------------------------------------------------\u001B[0m",
      "\u001B[0;31mKeyError\u001B[0m                                  Traceback (most recent call last)",
      "\u001B[0;32m/usr/local/lib/python3.11/dist-packages/pandas/core/indexes/base.py\u001B[0m in \u001B[0;36mget_loc\u001B[0;34m(self, key)\u001B[0m\n\u001B[1;32m   3804\u001B[0m         \u001B[0;32mtry\u001B[0m\u001B[0;34m:\u001B[0m\u001B[0;34m\u001B[0m\u001B[0;34m\u001B[0m\u001B[0m\n\u001B[0;32m-> 3805\u001B[0;31m             \u001B[0;32mreturn\u001B[0m \u001B[0mself\u001B[0m\u001B[0;34m.\u001B[0m\u001B[0m_engine\u001B[0m\u001B[0;34m.\u001B[0m\u001B[0mget_loc\u001B[0m\u001B[0;34m(\u001B[0m\u001B[0mcasted_key\u001B[0m\u001B[0;34m)\u001B[0m\u001B[0;34m\u001B[0m\u001B[0;34m\u001B[0m\u001B[0m\n\u001B[0m\u001B[1;32m   3806\u001B[0m         \u001B[0;32mexcept\u001B[0m \u001B[0mKeyError\u001B[0m \u001B[0;32mas\u001B[0m \u001B[0merr\u001B[0m\u001B[0;34m:\u001B[0m\u001B[0;34m\u001B[0m\u001B[0;34m\u001B[0m\u001B[0m\n",
      "\u001B[0;32mindex.pyx\u001B[0m in \u001B[0;36mpandas._libs.index.IndexEngine.get_loc\u001B[0;34m()\u001B[0m\n",
      "\u001B[0;32mindex.pyx\u001B[0m in \u001B[0;36mpandas._libs.index.IndexEngine.get_loc\u001B[0;34m()\u001B[0m\n",
      "\u001B[0;32mpandas/_libs/hashtable_class_helper.pxi\u001B[0m in \u001B[0;36mpandas._libs.hashtable.PyObjectHashTable.get_item\u001B[0;34m()\u001B[0m\n",
      "\u001B[0;32mpandas/_libs/hashtable_class_helper.pxi\u001B[0m in \u001B[0;36mpandas._libs.hashtable.PyObjectHashTable.get_item\u001B[0;34m()\u001B[0m\n",
      "\u001B[0;31mKeyError\u001B[0m: 'Adj Close'",
      "\nThe above exception was the direct cause of the following exception:\n",
      "\u001B[0;31mKeyError\u001B[0m                                  Traceback (most recent call last)",
      "\u001B[0;32m<ipython-input-8-764fb0703afd>\u001B[0m in \u001B[0;36m<cell line: 0>\u001B[0;34m()\u001B[0m\n\u001B[1;32m      2\u001B[0m \u001B[0mticker\u001B[0m \u001B[0;34m=\u001B[0m \u001B[0;34m[\u001B[0m\u001B[0;34m'^RUA'\u001B[0m\u001B[0;34m,\u001B[0m \u001B[0;34m'F'\u001B[0m\u001B[0;34m]\u001B[0m\u001B[0;34m\u001B[0m\u001B[0;34m\u001B[0m\u001B[0m\n\u001B[1;32m      3\u001B[0m \u001B[0;31m# Use tbill_return=True to get the return on short-term tbills, or False to exclude tbill returns\u001B[0m\u001B[0;34m\u001B[0m\u001B[0;34m\u001B[0m\u001B[0m\n\u001B[0;32m----> 4\u001B[0;31m \u001B[0mdat\u001B[0m \u001B[0;34m=\u001B[0m \u001B[0msf\u001B[0m\u001B[0;34m.\u001B[0m\u001B[0mget_monthly_returns\u001B[0m\u001B[0;34m(\u001B[0m\u001B[0mticker\u001B[0m\u001B[0;34m,\u001B[0m \u001B[0;34m'1990-01-01'\u001B[0m\u001B[0;34m,\u001B[0m \u001B[0;34m'2023-12-31'\u001B[0m\u001B[0;34m,\u001B[0m \u001B[0mtbill_return\u001B[0m\u001B[0;34m=\u001B[0m\u001B[0;32mFalse\u001B[0m\u001B[0;34m)\u001B[0m\u001B[0;34m\u001B[0m\u001B[0;34m\u001B[0m\u001B[0m\n\u001B[0m",
      "\u001B[0;32m/content/simple_finance.py\u001B[0m in \u001B[0;36mget_monthly_returns\u001B[0;34m(tickers, start_date, end_date, tbill_return)\u001B[0m\n\u001B[1;32m    113\u001B[0m         \u001B[0;31m# Calculate monthly returns based on month-end data\u001B[0m\u001B[0;34m\u001B[0m\u001B[0;34m\u001B[0m\u001B[0m\n\u001B[1;32m    114\u001B[0m         \u001B[0;31m#month_end_data = month_end_data.sort_index()\u001B[0m\u001B[0;34m\u001B[0m\u001B[0;34m\u001B[0m\u001B[0m\n\u001B[0;32m--> 115\u001B[0;31m         \u001B[0;31m#print(month_end_data)\u001B[0m\u001B[0;34m\u001B[0m\u001B[0;34m\u001B[0m\u001B[0m\n\u001B[0m\u001B[1;32m    116\u001B[0m \u001B[0;34m\u001B[0m\u001B[0m\n\u001B[1;32m    117\u001B[0m         \u001B[0;31m#month_end_data['Monthly Return'] = month_end_data['Adj Close'].pct_change()\u001B[0m\u001B[0;34m\u001B[0m\u001B[0;34m\u001B[0m\u001B[0m\n",
      "\u001B[0;32m/usr/local/lib/python3.11/dist-packages/pandas/core/frame.py\u001B[0m in \u001B[0;36m__getitem__\u001B[0;34m(self, key)\u001B[0m\n\u001B[1;32m   4099\u001B[0m         \u001B[0;32mif\u001B[0m \u001B[0mis_single_key\u001B[0m\u001B[0;34m:\u001B[0m\u001B[0;34m\u001B[0m\u001B[0;34m\u001B[0m\u001B[0m\n\u001B[1;32m   4100\u001B[0m             \u001B[0;32mif\u001B[0m \u001B[0mself\u001B[0m\u001B[0;34m.\u001B[0m\u001B[0mcolumns\u001B[0m\u001B[0;34m.\u001B[0m\u001B[0mnlevels\u001B[0m \u001B[0;34m>\u001B[0m \u001B[0;36m1\u001B[0m\u001B[0;34m:\u001B[0m\u001B[0;34m\u001B[0m\u001B[0;34m\u001B[0m\u001B[0m\n\u001B[0;32m-> 4101\u001B[0;31m                 \u001B[0;32mreturn\u001B[0m \u001B[0mself\u001B[0m\u001B[0;34m.\u001B[0m\u001B[0m_getitem_multilevel\u001B[0m\u001B[0;34m(\u001B[0m\u001B[0mkey\u001B[0m\u001B[0;34m)\u001B[0m\u001B[0;34m\u001B[0m\u001B[0;34m\u001B[0m\u001B[0m\n\u001B[0m\u001B[1;32m   4102\u001B[0m             \u001B[0mindexer\u001B[0m \u001B[0;34m=\u001B[0m \u001B[0mself\u001B[0m\u001B[0;34m.\u001B[0m\u001B[0mcolumns\u001B[0m\u001B[0;34m.\u001B[0m\u001B[0mget_loc\u001B[0m\u001B[0;34m(\u001B[0m\u001B[0mkey\u001B[0m\u001B[0;34m)\u001B[0m\u001B[0;34m\u001B[0m\u001B[0;34m\u001B[0m\u001B[0m\n\u001B[1;32m   4103\u001B[0m             \u001B[0;32mif\u001B[0m \u001B[0mis_integer\u001B[0m\u001B[0;34m(\u001B[0m\u001B[0mindexer\u001B[0m\u001B[0;34m)\u001B[0m\u001B[0;34m:\u001B[0m\u001B[0;34m\u001B[0m\u001B[0;34m\u001B[0m\u001B[0m\n",
      "\u001B[0;32m/usr/local/lib/python3.11/dist-packages/pandas/core/frame.py\u001B[0m in \u001B[0;36m_getitem_multilevel\u001B[0;34m(self, key)\u001B[0m\n\u001B[1;32m   4157\u001B[0m     \u001B[0;32mdef\u001B[0m \u001B[0m_getitem_multilevel\u001B[0m\u001B[0;34m(\u001B[0m\u001B[0mself\u001B[0m\u001B[0;34m,\u001B[0m \u001B[0mkey\u001B[0m\u001B[0;34m)\u001B[0m\u001B[0;34m:\u001B[0m\u001B[0;34m\u001B[0m\u001B[0;34m\u001B[0m\u001B[0m\n\u001B[1;32m   4158\u001B[0m         \u001B[0;31m# self.columns is a MultiIndex\u001B[0m\u001B[0;34m\u001B[0m\u001B[0;34m\u001B[0m\u001B[0m\n\u001B[0;32m-> 4159\u001B[0;31m         \u001B[0mloc\u001B[0m \u001B[0;34m=\u001B[0m \u001B[0mself\u001B[0m\u001B[0;34m.\u001B[0m\u001B[0mcolumns\u001B[0m\u001B[0;34m.\u001B[0m\u001B[0mget_loc\u001B[0m\u001B[0;34m(\u001B[0m\u001B[0mkey\u001B[0m\u001B[0;34m)\u001B[0m\u001B[0;34m\u001B[0m\u001B[0;34m\u001B[0m\u001B[0m\n\u001B[0m\u001B[1;32m   4160\u001B[0m         \u001B[0;32mif\u001B[0m \u001B[0misinstance\u001B[0m\u001B[0;34m(\u001B[0m\u001B[0mloc\u001B[0m\u001B[0;34m,\u001B[0m \u001B[0;34m(\u001B[0m\u001B[0mslice\u001B[0m\u001B[0;34m,\u001B[0m \u001B[0mnp\u001B[0m\u001B[0;34m.\u001B[0m\u001B[0mndarray\u001B[0m\u001B[0;34m)\u001B[0m\u001B[0;34m)\u001B[0m\u001B[0;34m:\u001B[0m\u001B[0;34m\u001B[0m\u001B[0;34m\u001B[0m\u001B[0m\n\u001B[1;32m   4161\u001B[0m             \u001B[0mnew_columns\u001B[0m \u001B[0;34m=\u001B[0m \u001B[0mself\u001B[0m\u001B[0;34m.\u001B[0m\u001B[0mcolumns\u001B[0m\u001B[0;34m[\u001B[0m\u001B[0mloc\u001B[0m\u001B[0;34m]\u001B[0m\u001B[0;34m\u001B[0m\u001B[0;34m\u001B[0m\u001B[0m\n",
      "\u001B[0;32m/usr/local/lib/python3.11/dist-packages/pandas/core/indexes/multi.py\u001B[0m in \u001B[0;36mget_loc\u001B[0;34m(self, key)\u001B[0m\n\u001B[1;32m   3038\u001B[0m \u001B[0;34m\u001B[0m\u001B[0m\n\u001B[1;32m   3039\u001B[0m         \u001B[0;32mif\u001B[0m \u001B[0;32mnot\u001B[0m \u001B[0misinstance\u001B[0m\u001B[0;34m(\u001B[0m\u001B[0mkey\u001B[0m\u001B[0;34m,\u001B[0m \u001B[0mtuple\u001B[0m\u001B[0;34m)\u001B[0m\u001B[0;34m:\u001B[0m\u001B[0;34m\u001B[0m\u001B[0;34m\u001B[0m\u001B[0m\n\u001B[0;32m-> 3040\u001B[0;31m             \u001B[0mloc\u001B[0m \u001B[0;34m=\u001B[0m \u001B[0mself\u001B[0m\u001B[0;34m.\u001B[0m\u001B[0m_get_level_indexer\u001B[0m\u001B[0;34m(\u001B[0m\u001B[0mkey\u001B[0m\u001B[0;34m,\u001B[0m \u001B[0mlevel\u001B[0m\u001B[0;34m=\u001B[0m\u001B[0;36m0\u001B[0m\u001B[0;34m)\u001B[0m\u001B[0;34m\u001B[0m\u001B[0;34m\u001B[0m\u001B[0m\n\u001B[0m\u001B[1;32m   3041\u001B[0m             \u001B[0;32mreturn\u001B[0m \u001B[0m_maybe_to_slice\u001B[0m\u001B[0;34m(\u001B[0m\u001B[0mloc\u001B[0m\u001B[0;34m)\u001B[0m\u001B[0;34m\u001B[0m\u001B[0;34m\u001B[0m\u001B[0m\n\u001B[1;32m   3042\u001B[0m \u001B[0;34m\u001B[0m\u001B[0m\n",
      "\u001B[0;32m/usr/local/lib/python3.11/dist-packages/pandas/core/indexes/multi.py\u001B[0m in \u001B[0;36m_get_level_indexer\u001B[0;34m(self, key, level, indexer)\u001B[0m\n\u001B[1;32m   3389\u001B[0m \u001B[0;34m\u001B[0m\u001B[0m\n\u001B[1;32m   3390\u001B[0m         \u001B[0;32melse\u001B[0m\u001B[0;34m:\u001B[0m\u001B[0;34m\u001B[0m\u001B[0;34m\u001B[0m\u001B[0m\n\u001B[0;32m-> 3391\u001B[0;31m             \u001B[0midx\u001B[0m \u001B[0;34m=\u001B[0m \u001B[0mself\u001B[0m\u001B[0;34m.\u001B[0m\u001B[0m_get_loc_single_level_index\u001B[0m\u001B[0;34m(\u001B[0m\u001B[0mlevel_index\u001B[0m\u001B[0;34m,\u001B[0m \u001B[0mkey\u001B[0m\u001B[0;34m)\u001B[0m\u001B[0;34m\u001B[0m\u001B[0;34m\u001B[0m\u001B[0m\n\u001B[0m\u001B[1;32m   3392\u001B[0m \u001B[0;34m\u001B[0m\u001B[0m\n\u001B[1;32m   3393\u001B[0m             \u001B[0;32mif\u001B[0m \u001B[0mlevel\u001B[0m \u001B[0;34m>\u001B[0m \u001B[0;36m0\u001B[0m \u001B[0;32mor\u001B[0m \u001B[0mself\u001B[0m\u001B[0;34m.\u001B[0m\u001B[0m_lexsort_depth\u001B[0m \u001B[0;34m==\u001B[0m \u001B[0;36m0\u001B[0m\u001B[0;34m:\u001B[0m\u001B[0;34m\u001B[0m\u001B[0;34m\u001B[0m\u001B[0m\n",
      "\u001B[0;32m/usr/local/lib/python3.11/dist-packages/pandas/core/indexes/multi.py\u001B[0m in \u001B[0;36m_get_loc_single_level_index\u001B[0;34m(self, level_index, key)\u001B[0m\n\u001B[1;32m   2978\u001B[0m             \u001B[0;32mreturn\u001B[0m \u001B[0;34m-\u001B[0m\u001B[0;36m1\u001B[0m\u001B[0;34m\u001B[0m\u001B[0;34m\u001B[0m\u001B[0m\n\u001B[1;32m   2979\u001B[0m         \u001B[0;32melse\u001B[0m\u001B[0;34m:\u001B[0m\u001B[0;34m\u001B[0m\u001B[0;34m\u001B[0m\u001B[0m\n\u001B[0;32m-> 2980\u001B[0;31m             \u001B[0;32mreturn\u001B[0m \u001B[0mlevel_index\u001B[0m\u001B[0;34m.\u001B[0m\u001B[0mget_loc\u001B[0m\u001B[0;34m(\u001B[0m\u001B[0mkey\u001B[0m\u001B[0;34m)\u001B[0m\u001B[0;34m\u001B[0m\u001B[0;34m\u001B[0m\u001B[0m\n\u001B[0m\u001B[1;32m   2981\u001B[0m \u001B[0;34m\u001B[0m\u001B[0m\n\u001B[1;32m   2982\u001B[0m     \u001B[0;32mdef\u001B[0m \u001B[0mget_loc\u001B[0m\u001B[0;34m(\u001B[0m\u001B[0mself\u001B[0m\u001B[0;34m,\u001B[0m \u001B[0mkey\u001B[0m\u001B[0;34m)\u001B[0m\u001B[0;34m:\u001B[0m\u001B[0;34m\u001B[0m\u001B[0;34m\u001B[0m\u001B[0m\n",
      "\u001B[0;32m/usr/local/lib/python3.11/dist-packages/pandas/core/indexes/base.py\u001B[0m in \u001B[0;36mget_loc\u001B[0;34m(self, key)\u001B[0m\n\u001B[1;32m   3810\u001B[0m             ):\n\u001B[1;32m   3811\u001B[0m                 \u001B[0;32mraise\u001B[0m \u001B[0mInvalidIndexError\u001B[0m\u001B[0;34m(\u001B[0m\u001B[0mkey\u001B[0m\u001B[0;34m)\u001B[0m\u001B[0;34m\u001B[0m\u001B[0;34m\u001B[0m\u001B[0m\n\u001B[0;32m-> 3812\u001B[0;31m             \u001B[0;32mraise\u001B[0m \u001B[0mKeyError\u001B[0m\u001B[0;34m(\u001B[0m\u001B[0mkey\u001B[0m\u001B[0;34m)\u001B[0m \u001B[0;32mfrom\u001B[0m \u001B[0merr\u001B[0m\u001B[0;34m\u001B[0m\u001B[0;34m\u001B[0m\u001B[0m\n\u001B[0m\u001B[1;32m   3813\u001B[0m         \u001B[0;32mexcept\u001B[0m \u001B[0mTypeError\u001B[0m\u001B[0;34m:\u001B[0m\u001B[0;34m\u001B[0m\u001B[0;34m\u001B[0m\u001B[0m\n\u001B[1;32m   3814\u001B[0m             \u001B[0;31m# If we have a listlike key, _check_indexing_error will raise\u001B[0m\u001B[0;34m\u001B[0m\u001B[0;34m\u001B[0m\u001B[0m\n",
      "\u001B[0;31mKeyError\u001B[0m: 'Adj Close'"
     ]
    }
   ]
  },
  {
   "metadata": {
    "id": "aa5b611ec5c3a9ce",
    "ExecuteTime": {
     "end_time": "2025-01-29T18:24:02.726902Z",
     "start_time": "2025-01-29T18:24:02.545355Z"
    },
    "outputId": "2013551a-4207-4bb7-96c1-6f2048dbda0a"
   },
   "cell_type": "code",
   "source": [
    "# Get monthly returns for a given list of stock tickers using the yfinance API\n",
    "ticker = ['^RUA', 'F']\n",
    "# Use tbill_return=True to get the return on short-term tbills, or False to exclude tbill returns\n",
    "dat = sf.get_monthly_returns(ticker, '1990-01-01', '2023-12-31', tbill_return=False)\n",
    "\n",
    "# Calculate the annualized average return and volatility\n",
    "A_Avg = dat.mean() * 12\n",
    "A_Vol = dat.std() * np.sqrt(12)\n",
    "print('Anualized Average Return')\n",
    "print(A_Avg)\n",
    "print()\n",
    "print('Annualized Volatility')\n",
    "print(A_Vol)\n"
   ],
   "id": "aa5b611ec5c3a9ce",
   "outputs": [
    {
     "name": "stderr",
     "output_type": "stream",
     "text": [
      "[*********************100%***********************]  1 of 1 completed\n",
      "[*********************100%***********************]  1 of 1 completed"
     ]
    },
    {
     "name": "stdout",
     "output_type": "stream",
     "text": [
      "Anualized Average Return\n",
      "^RUA    0.089472\n",
      "F       0.127640\n",
      "dtype: float64\n",
      "\n",
      "Annualized Volatility\n",
      "^RUA    0.152483\n",
      "F       0.431616\n",
      "dtype: float64\n"
     ]
    },
    {
     "name": "stderr",
     "output_type": "stream",
     "text": [
      "\n"
     ]
    }
   ],
   "execution_count": null
  },
  {
   "metadata": {
    "id": "e2c37d3cf72d9c37"
   },
   "cell_type": "markdown",
   "source": [
    "### Calculate Sharpe Ratios\n",
    "In this block od code we access data for the Russell 3000 index and Ford Motor Company **ticker = ['^RUA', 'F']**. We also retrieve data on short-term t-bill returns. Using these data we calculate the Sharpe ratios for the Russell 3000 and Ford."
   ],
   "id": "e2c37d3cf72d9c37"
  },
  {
   "metadata": {
    "id": "654477d73970a945",
    "ExecuteTime": {
     "end_time": "2024-12-17T00:47:08.600824Z",
     "start_time": "2024-12-17T00:47:08.036168Z"
    }
   },
   "cell_type": "code",
   "source": [
    "# Download data along with return on short-term tbills from Ken French's website\n",
    "dat = sf.get_monthly_returns(ticker, '1990-01-01', '2023-12-31', tbill_return=True)\n",
    "# Calculate excess returns\n",
    "dat['exret0'] = dat[ticker[0]] - dat['RF']\n",
    "dat['exret1'] = dat[ticker[1]] - dat['RF']\n",
    "print(dat.head())\n",
    "\n",
    "# Calculate and print Sharpe ratios\n",
    "# Calculate the Shapre ratio for the first ticker in the list\n",
    "A_AVG_exret0 = dat['exret0'].mean() * 12\n",
    "A_Vol_exret0 = dat[ticker[0]].std() * np.sqrt(12)\n",
    "Sharpe0 = A_AVG_exret0/A_Vol_exret0\n",
    "\n",
    "# Calculate the Shapre ratio for the second ticker in the list\n",
    "A_AVG_exret1 = dat['exret1'].mean() * 12\n",
    "A_Vol_exret1 = dat[ticker[1]].std() * np.sqrt(12)\n",
    "Sharpe1 = A_AVG_exret1/A_Vol_exret1\n",
    "\n",
    "print('Sharpe Ratios')\n",
    "print(ticker[0], Sharpe0)\n",
    "print(ticker[1], Sharpe1)"
   ],
   "id": "654477d73970a945",
   "outputs": [],
   "execution_count": null
  }
 ],
 "metadata": {
  "kernelspec": {
   "display_name": "Python 3",
   "language": "python",
   "name": "python3"
  },
  "language_info": {
   "codemirror_mode": {
    "name": "ipython",
    "version": 2
   },
   "file_extension": ".py",
   "mimetype": "text/x-python",
   "name": "python",
   "nbconvert_exporter": "python",
   "pygments_lexer": "ipython2",
   "version": "2.7.6"
  },
  "colab": {
   "provenance": []
  }
 },
 "nbformat": 4,
 "nbformat_minor": 5
}
