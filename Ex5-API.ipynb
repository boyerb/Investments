{
 "cells": [
  {
   "metadata": {},
   "cell_type": "markdown",
   "source": [
    "# Example Chapter 5: Using Yahoo! Finance to get stock data\n",
    "In this  we will use the yfinance library to get stock data. We get monthly returns for the Vanguard S&P 500 ETF (VOO), and estimate teh annaulized volailtity, expected return, and Sharpe ratio. "
   ],
   "id": "a8424377d4ab21a7"
  },
  {
   "metadata": {
    "collapsed": true,
    "ExecuteTime": {
     "end_time": "2024-09-18T00:34:26.722384Z",
     "start_time": "2024-09-18T00:34:26.030741Z"
    }
   },
   "cell_type": "code",
   "source": [
    "import yfinance as yf\n",
    "from datetime import date\n",
    "import investments_functions as invf"
   ],
   "id": "initial_id",
   "outputs": [],
   "execution_count": 1
  },
  {
   "metadata": {
    "ExecuteTime": {
     "end_time": "2024-09-18T00:34:28.238426Z",
     "start_time": "2024-09-18T00:34:27.726181Z"
    }
   },
   "cell_type": "code",
   "source": [
    "# Get monthly returns for a given ticker\n",
    "ticker = ['VOO']\n",
    "dat = invf.get_monthly_returns(ticker, '2020-01-01', '2023-12-31', tbill_return=False)\n",
    "print(dat)"
   ],
   "id": "aa5b611ec5c3a9ce",
   "outputs": [
    {
     "name": "stderr",
     "output_type": "stream",
     "text": [
      "[*********************100%***********************]  1 of 1 completed"
     ]
    },
    {
     "name": "stdout",
     "output_type": "stream",
     "text": [
      "              VOO\n",
      "Date             \n",
      "2020-01 -0.000372\n",
      "2020-02 -0.080997\n",
      "2020-03 -0.124414\n",
      "2020-04  0.127861\n",
      "2020-05  0.047361\n",
      "2020-06  0.018421\n",
      "2020-07  0.058816\n",
      "2020-08  0.069710\n",
      "2020-09 -0.037563\n",
      "2020-10 -0.025451\n",
      "2020-11  0.109466\n",
      "2020-12  0.037444\n",
      "2021-01 -0.010213\n",
      "2021-02  0.027662\n",
      "2021-03  0.045753\n",
      "2021-04  0.052896\n",
      "2021-05  0.006674\n",
      "2021-06  0.022595\n",
      "2021-07  0.024471\n",
      "2021-08  0.029518\n",
      "2021-09 -0.046637\n",
      "2021-10  0.070385\n",
      "2021-11 -0.007343\n",
      "2021-12  0.045602\n",
      "2022-01 -0.052409\n",
      "2022-02 -0.029805\n",
      "2022-03  0.037892\n",
      "2022-04 -0.087843\n",
      "2022-05  0.002588\n",
      "2022-06 -0.082645\n",
      "2022-07  0.091991\n",
      "2022-08 -0.041289\n",
      "2022-09 -0.091989\n",
      "2022-10  0.081176\n",
      "2022-11  0.055050\n",
      "2022-12 -0.057325\n",
      "2023-01  0.062902\n",
      "2023-02 -0.024984\n",
      "2023-03  0.037100\n",
      "2023-04  0.015901\n",
      "2023-05  0.004816\n",
      "2023-06  0.065099\n",
      "2023-07  0.032901\n",
      "2023-08 -0.016283\n",
      "2023-09 -0.047439\n",
      "2023-10 -0.021721\n",
      "2023-11  0.091704\n",
      "2023-12  0.045786\n"
     ]
    },
    {
     "name": "stderr",
     "output_type": "stream",
     "text": [
      "\n"
     ]
    }
   ],
   "execution_count": 2
  },
  {
   "metadata": {},
   "cell_type": "code",
   "source": [
    "# Get the FF5 data tht gives us the return on short-term t-bills. We use this as a proxy for the risk-free rate. \n",
    "ff_data = invf.get_ff5()\n",
    "print(ff_data)"
   ],
   "id": "97b7008bd9ffd661",
   "outputs": [],
   "execution_count": null
  },
  {
   "metadata": {},
   "cell_type": "code",
   "source": "# Calculate the excess returns\n",
   "id": "654477d73970a945",
   "outputs": [],
   "execution_count": null
  }
 ],
 "metadata": {
  "kernelspec": {
   "display_name": "Python 3",
   "language": "python",
   "name": "python3"
  },
  "language_info": {
   "codemirror_mode": {
    "name": "ipython",
    "version": 2
   },
   "file_extension": ".py",
   "mimetype": "text/x-python",
   "name": "python",
   "nbconvert_exporter": "python",
   "pygments_lexer": "ipython2",
   "version": "2.7.6"
  }
 },
 "nbformat": 4,
 "nbformat_minor": 5
}
