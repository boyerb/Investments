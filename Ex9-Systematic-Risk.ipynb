{
 "cells": [
  {
   "metadata": {},
   "cell_type": "markdown",
   "source": "**Foundations of Investment Analysis**, Bates, Boyer, and Fletcher ",
   "id": "f6fa51bfe4e79b55"
  },
  {
   "metadata": {},
   "cell_type": "markdown",
   "source": [
    "# Example Chapter 9: Systematic Risk\n",
    "In this example we are given returns for IBM and the tangent portfolio. We then estimate the fraction of IBM's total return variance that is systematic."
   ],
   "id": "622ecd0175576e27"
  },
  {
   "metadata": {},
   "cell_type": "markdown",
   "source": "### Imports and Setup",
   "id": "c745ca7016f8aaa4"
  },
  {
   "metadata": {},
   "cell_type": "code",
   "source": [
    "# import packages\n",
    "import pandas as pd\n",
    "import numpy as np\n",
    "import statsmodels.api as sm"
   ],
   "id": "e79403cb39f5e057",
   "outputs": [],
   "execution_count": null
  },
  {
   "metadata": {},
   "cell_type": "markdown",
   "source": "### Read Data From Excel File",
   "id": "31d772379b24cb9e"
  },
  {
   "metadata": {},
   "cell_type": "code",
   "source": [
    "url='https://github.com/boyerb/Investments/raw/master/Examples_3.0.xlsx' # specify the GitHub url for the Excel File \n",
    "columns_to_read = ['Date', 'Stock A', 'Tangent']  # specify which columns to read\n",
    "df = pd.read_excel(url, sheet_name='9-Systematic_Risk', usecols=columns_to_read, engine='openpyxl') # open the file to a DataFrame\n",
    "df.head() # display the first five rows of the DataFrame"
   ],
   "id": "845e82af3891888b",
   "outputs": [],
   "execution_count": null
  },
  {
   "metadata": {},
   "cell_type": "markdown",
   "source": "### Run Regession",
   "id": "a46913d397597ea1"
  },
  {
   "metadata": {},
   "cell_type": "code",
   "source": [
    "x = df['Tangent']  # define the independent variable\n",
    "x = sm.add_constant(x) # add constant to estimate the intercept\n",
    "y = df['Stock A'] # define the dependent variable\n",
    "model = sm.OLS(y, x).fit() # run the regression\n",
    "b = model.params['Tangent'] # pull out the slope coefficient"
   ],
   "id": "98dc0acea6eb98b7",
   "outputs": [],
   "execution_count": null
  },
  {
   "metadata": {},
   "cell_type": "markdown",
   "source": "### Compute Fraction of Total Variance for Stock A that is Systematic and Unsystematic.",
   "id": "cca5fb403a0264e1"
  },
  {
   "metadata": {},
   "cell_type": "code",
   "source": [
    "Frac_systematic = (b**2)*np.var(df['Tangent'])/np.var(df['Stock A'])\n",
    "Frac_unsystematic = 1 - Frac_systematic\n",
    "print(\"Fraction Systematic\", Frac_systematic)\n",
    "print(\"Fraction Unsystematic\", Frac_unsystematic)"
   ],
   "id": "8a364c857c515a1c",
   "outputs": [],
   "execution_count": null
  },
  {
   "metadata": {},
   "cell_type": "markdown",
   "source": "### Alternative Approach that Gives the Same Answer",
   "id": "743602d234bb39dc"
  },
  {
   "metadata": {},
   "cell_type": "code",
   "source": [
    "x = df['Tangent']  # define the independent variable\n",
    "y = df['Stock A'] # define the dependent variable\n",
    "correlation = x.corr(y) # compute the correlation between the two variables\n",
    "R_squared = correlation**2 # compute the R-squared\n",
    "Frac_systematic = R_squared\n",
    "Frac_unsystematic = 1 - Frac_systematic\n",
    "print(\"Fraction Systematic\", Frac_systematic)\n",
    "print(\"Fraction Unsystematic\", Frac_unsystematic)"
   ],
   "id": "4a4bf1128d6899cc",
   "outputs": [],
   "execution_count": null
  }
 ],
 "metadata": {
  "kernelspec": {
   "display_name": "Python 3",
   "language": "python",
   "name": "python3"
  },
  "language_info": {
   "codemirror_mode": {
    "name": "ipython",
    "version": 2
   },
   "file_extension": ".py",
   "mimetype": "text/x-python",
   "name": "python",
   "nbconvert_exporter": "python",
   "pygments_lexer": "ipython2",
   "version": "2.7.6"
  }
 },
 "nbformat": 4,
 "nbformat_minor": 5
}
