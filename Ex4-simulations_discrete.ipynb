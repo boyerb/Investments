{
 "cells": [
  {
   "metadata": {},
   "cell_type": "markdown",
   "source": [
    "# Example Chapter 4: Simulating Discrete Returns from a Discrete PDF\n",
    "In this example we simulate random returns drawn from a discrete PDF. We then plot a histogram of the simulated returns."
   ],
   "id": "bf28204faf8f62bc"
  },
  {
   "cell_type": "code",
   "id": "7ea08743",
   "metadata": {},
   "source": [
    "#import packages\n",
    "import numpy as np\n",
    "import matplotlib.pyplot as plt"
   ],
   "outputs": [],
   "execution_count": null
  },
  {
   "metadata": {},
   "cell_type": "markdown",
   "source": "Define the discrete PDF and simulate returns",
   "id": "5e8f153b0dd02337"
  },
  {
   "cell_type": "code",
   "id": "c8713d23",
   "metadata": {},
   "source": [
    "outcomes = [-0.05, 0.00, 0.05, 0.10]  # Possible return outcomes\n",
    "probabilities = [0.2, 0.3, 0.4, 0.1]  # Corresponding probabilities\n",
    "num_simulations = 100 # number of random variables to create\n",
    "rng = np.random.default_rng()  # Create an instance of np.random.Generator\n",
    "simulated_returns = rng.choice(outcomes, size=num_simulations, p=probabilities)"
   ],
   "outputs": [],
   "execution_count": null
  },
  {
   "metadata": {},
   "cell_type": "markdown",
   "source": "Plot the histogram of the simulated returns ",
   "id": "e6f7778be1ca0ad1"
  },
  {
   "cell_type": "code",
   "id": "061fe396",
   "metadata": {},
   "source": [
    "# Define bin edges for the histogram\n",
    "bin_edges = np.array(outcomes) - 0.025  # Shift each edge by half the width of the bin\n",
    "bin_edges = np.append(bin_edges, outcomes[-1] + 0.025)  # Add the upper edge of the last bin\n",
    "# Plot the histogram\n",
    "plt.figure(figsize=(3, 3))\n",
    "plt.hist(simulated_returns, bins=bin_edges, edgecolor='k', alpha=0.7, align='mid')\n",
    "plt.xticks(outcomes)  # Set x-ticks to be exactly on the outcomes\n",
    "plt.title('Histogram of Simulated Returns')\n",
    "plt.xlabel('Return')\n",
    "plt.ylabel('Frequency')\n",
    "plt.grid(True)\n",
    "plt.show()"
   ],
   "outputs": [],
   "execution_count": null
  }
 ],
 "metadata": {
  "jupytext": {
   "cell_metadata_filter": "-all",
   "main_language": "python",
   "notebook_metadata_filter": "-all"
  },
  "kernelspec": {
   "name": "python3",
   "language": "python",
   "display_name": "Python 3 (ipykernel)"
  }
 },
 "nbformat": 4,
 "nbformat_minor": 5
}
