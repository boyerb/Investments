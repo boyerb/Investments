{
 "cells": [
  {
   "metadata": {},
   "cell_type": "markdown",
   "source": [
    "# Ex9-Systematic_Risk\n",
    "In this example we are given returns for IBM and the tangent portfolio. We then estimate the fraction of IBM's total return variance that is systematic."
   ],
   "id": "622ecd0175576e27"
  },
  {
   "metadata": {},
   "cell_type": "markdown",
   "source": "Import packages and mount drive.",
   "id": "6a24a2622359d447"
  },
  {
   "metadata": {
    "ExecuteTime": {
     "end_time": "2024-08-16T03:17:43.869754Z",
     "start_time": "2024-08-16T03:17:42.151881Z"
    }
   },
   "cell_type": "code",
   "source": [
    "import pandas as pd\n",
    "import numpy as np\n",
    "from scipy.stats import linregress"
   ],
   "id": "e79403cb39f5e057",
   "outputs": [],
   "execution_count": 1
  },
  {
   "metadata": {},
   "cell_type": "markdown",
   "source": "Read the data from the Excel file.",
   "id": "31d772379b24cb9e"
  },
  {
   "metadata": {
    "ExecuteTime": {
     "end_time": "2024-08-16T03:17:47.899320Z",
     "start_time": "2024-08-16T03:17:46.191477Z"
    }
   },
   "cell_type": "code",
   "source": [
    "url='https://github.com/boyerb/Investments/raw/master/Examples_2.0.xlsx'\n",
    "columns_to_read = ['Date', 'Stock A', 'Tangent']  # specify which columns to read\n",
    "df = pd.read_excel(url, sheet_name='9-Systematic_Risk', usecols=columns_to_read, engine='openpyxl')"
   ],
   "id": "845e82af3891888b",
   "outputs": [],
   "execution_count": 2
  },
  {
   "metadata": {
    "ExecuteTime": {
     "end_time": "2024-08-16T03:17:50.083504Z",
     "start_time": "2024-08-16T03:17:50.065505Z"
    }
   },
   "cell_type": "code",
   "source": "df.head()",
   "id": "ef895ca3b87a8b80",
   "outputs": [
    {
     "data": {
      "text/plain": [
       "        Date   Stock A  Tangent\n",
       "0 2020-01-30  0.050844   0.0198\n",
       "1 2020-02-29  0.037896   0.0361\n",
       "2 2020-03-29 -0.032152   0.0020\n",
       "3 2020-04-29 -0.079307   0.0114\n",
       "4 2020-05-29 -0.037664   0.0112"
      ],
      "text/html": [
       "<div>\n",
       "<style scoped>\n",
       "    .dataframe tbody tr th:only-of-type {\n",
       "        vertical-align: middle;\n",
       "    }\n",
       "\n",
       "    .dataframe tbody tr th {\n",
       "        vertical-align: top;\n",
       "    }\n",
       "\n",
       "    .dataframe thead th {\n",
       "        text-align: right;\n",
       "    }\n",
       "</style>\n",
       "<table border=\"1\" class=\"dataframe\">\n",
       "  <thead>\n",
       "    <tr style=\"text-align: right;\">\n",
       "      <th></th>\n",
       "      <th>Date</th>\n",
       "      <th>Stock A</th>\n",
       "      <th>Tangent</th>\n",
       "    </tr>\n",
       "  </thead>\n",
       "  <tbody>\n",
       "    <tr>\n",
       "      <th>0</th>\n",
       "      <td>2020-01-30</td>\n",
       "      <td>0.050844</td>\n",
       "      <td>0.0198</td>\n",
       "    </tr>\n",
       "    <tr>\n",
       "      <th>1</th>\n",
       "      <td>2020-02-29</td>\n",
       "      <td>0.037896</td>\n",
       "      <td>0.0361</td>\n",
       "    </tr>\n",
       "    <tr>\n",
       "      <th>2</th>\n",
       "      <td>2020-03-29</td>\n",
       "      <td>-0.032152</td>\n",
       "      <td>0.0020</td>\n",
       "    </tr>\n",
       "    <tr>\n",
       "      <th>3</th>\n",
       "      <td>2020-04-29</td>\n",
       "      <td>-0.079307</td>\n",
       "      <td>0.0114</td>\n",
       "    </tr>\n",
       "    <tr>\n",
       "      <th>4</th>\n",
       "      <td>2020-05-29</td>\n",
       "      <td>-0.037664</td>\n",
       "      <td>0.0112</td>\n",
       "    </tr>\n",
       "  </tbody>\n",
       "</table>\n",
       "</div>"
      ]
     },
     "execution_count": 3,
     "metadata": {},
     "output_type": "execute_result"
    }
   ],
   "execution_count": 3
  },
  {
   "metadata": {},
   "cell_type": "markdown",
   "source": "Run regession.",
   "id": "a46913d397597ea1"
  },
  {
   "metadata": {
    "ExecuteTime": {
     "end_time": "2024-08-16T03:18:06.114050Z",
     "start_time": "2024-08-16T03:18:06.089819Z"
    }
   },
   "cell_type": "code",
   "source": "b, a, rho, p_value, std_err = linregress(df['Tangent'], df['Stock A'])",
   "id": "98dc0acea6eb98b7",
   "outputs": [],
   "execution_count": 4
  },
  {
   "metadata": {},
   "cell_type": "markdown",
   "source": "Compute fraction of total variance for stock A that is systematic and unsystematic.",
   "id": "cca5fb403a0264e1"
  },
  {
   "metadata": {
    "ExecuteTime": {
     "end_time": "2024-08-16T03:18:11.204929Z",
     "start_time": "2024-08-16T03:18:11.185929Z"
    }
   },
   "cell_type": "code",
   "source": [
    "F_systematic = (b**2)*np.var(df['Tangent'])/np.var(df['Stock A'])\n",
    "F_unsystematic = 1 - F_systematic\n",
    "print(\"Fraction Systmatic\", F_systematic)\n",
    "print(\"Fraction Unsystematic\", F_unsystematic)"
   ],
   "id": "8a364c857c515a1c",
   "outputs": [
    {
     "name": "stdout",
     "output_type": "stream",
     "text": [
      "Fraction Systmatic 0.4895405631006614\n",
      "Fraction Unsystematic 0.5104594368993386\n"
     ]
    }
   ],
   "execution_count": 5
  },
  {
   "metadata": {},
   "cell_type": "markdown",
   "source": "Print off rho**2 (r-squared) which is the same as the fraction of total variance that is systematic.",
   "id": "5de279133acec2f9"
  },
  {
   "metadata": {
    "ExecuteTime": {
     "end_time": "2024-08-16T03:18:16.004593Z",
     "start_time": "2024-08-16T03:18:15.995592Z"
    }
   },
   "cell_type": "code",
   "source": "print(\"R-squared\", rho**2)",
   "id": "35be55dfff80dd10",
   "outputs": [
    {
     "name": "stdout",
     "output_type": "stream",
     "text": [
      "R-squared 0.4895405631006616\n"
     ]
    }
   ],
   "execution_count": 6
  },
  {
   "metadata": {},
   "cell_type": "code",
   "outputs": [],
   "execution_count": null,
   "source": "",
   "id": "46971cb6104d940a"
  }
 ],
 "metadata": {
  "kernelspec": {
   "display_name": "Python 3",
   "language": "python",
   "name": "python3"
  },
  "language_info": {
   "codemirror_mode": {
    "name": "ipython",
    "version": 2
   },
   "file_extension": ".py",
   "mimetype": "text/x-python",
   "name": "python",
   "nbconvert_exporter": "python",
   "pygments_lexer": "ipython2",
   "version": "2.7.6"
  }
 },
 "nbformat": 4,
 "nbformat_minor": 5
}
