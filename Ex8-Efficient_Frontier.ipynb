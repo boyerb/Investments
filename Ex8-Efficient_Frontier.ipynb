{
  "nbformat": 4,
  "nbformat_minor": 0,
  "metadata": {
    "colab": {
      "provenance": [],
      "authorship_tag": "ABX9TyMWpLh6auOr+CouSzSQnBEb",
      "include_colab_link": true
    },
    "kernelspec": {
      "name": "python3",
      "display_name": "Python 3"
    },
    "language_info": {
      "name": "python"
    }
  },
  "cells": [
    {
      "cell_type": "markdown",
      "metadata": {
        "id": "view-in-github",
        "colab_type": "text"
      },
      "source": [
        "<a href=\"https://colab.research.google.com/github/boyerb/Investments/blob/master/Ex8-Efficient_Frontier.ipynb\" target=\"_parent\"><img src=\"https://colab.research.google.com/assets/colab-badge.svg\" alt=\"Open In Colab\"/></a>"
      ]
    },
    {
      "cell_type": "markdown",
      "source": [
        "***Foundations of Investment Analysis***, Bates, Boyer, and Fletcher  \n"
      ],
      "metadata": {
        "id": "XFMAvxnEHEOI"
      }
    },
    {
      "cell_type": "markdown",
      "source": [
        "# Example 8: The Efficient Frontier\n",
        "\n"
      ],
      "metadata": {
        "id": "heae_ArQHGW_"
      }
    },
    {
      "cell_type": "markdown",
      "source": [
        "### Imports and Setup"
      ],
      "metadata": {
        "id": "-Xwu9VfjHQDN"
      }
    },
    {
      "cell_type": "code",
      "execution_count": null,
      "metadata": {
        "id": "9IfdlS0c1Rtd"
      },
      "outputs": [],
      "source": [
        "# Load in simple_finance.py from the GitHub repository\n",
        "!curl -O https://raw.githubusercontent.com/boyerb/Investments/master/functions/simple_finance.py\n",
        "import simple_finance as sf\n",
        "import matplotlib.pyplot as plt\n",
        "import numpy as np\n",
        "import pandas as pd\n",
        "from scipy import stats\n",
        "from scipy.optimize import minimize"
      ]
    },
    {
      "cell_type": "markdown",
      "source": [
        "### Define Inputs\n",
        "In the code cell below we define the covariance matrix and the vector of expected returns.  The default is for the case of three assets, but these can be for any number of $N$ assets. Whatever $N$ is, the `covariance_matrix` is $N\\times N$ and the array of `expected_returns` is $N \\times 1$.   "
      ],
      "metadata": {
        "id": "2g_V80BTKNZ7"
      }
    },
    {
      "cell_type": "code",
      "source": [
        "covariance_matrix = np.array([[0.0400, -0.0200, 0.0250], [-0.0200, 0.0900, 0.0400], [0.0250, 0.0400, 0.2500]])\n",
        "expected_returns = np.array([0.12, 0.06, 0.08])\n",
        "rf = 0.05"
      ],
      "metadata": {
        "id": "wrIz9maNHbls"
      },
      "execution_count": null,
      "outputs": []
    },
    {
      "cell_type": "markdown",
      "source": [
        "### Developing the Vector of Target Returns\n",
        "In the code cell below we develop the vector of target expected returns. The default is to create 100 target expected returns, equally spaced, with the minimum being half the lowest individual asset expected return, and the maximum being twice the highest individual asset epected return."
      ],
      "metadata": {
        "id": "P3Wnx8ad_iru"
      }
    },
    {
      "cell_type": "code",
      "source": [
        "# Target returns\n",
        "min_target = 0.5 * min(expected_returns)\n",
        "max_target = 2 * max(expected_returns)\n",
        "target_returns = np.linspace(min_target, max_target, num=100)"
      ],
      "metadata": {
        "id": "6FukViLnIjnc"
      },
      "execution_count": null,
      "outputs": []
    },
    {
      "cell_type": "markdown",
      "source": [
        "### Calculating Efficient Frontier with EFRS Portfolio\n",
        "\n",
        "To define elements on the EFRS we use the `EFRS_portfolio` function. This function identifies the portfolio with minimimum volatility given a target return, and the expected returns and covariance matrix for a set of individual assets. The function returns the portfolio weights, expected return, and volatility for the portfolio with minimum volatility.  We use `for target in target_returns` to get results for all target expected returns. We then store the results in separate lists.\n",
        "\n"
      ],
      "metadata": {
        "id": "2l0jgrgCTpZq"
      }
    },
    {
      "cell_type": "code",
      "source": [
        "# For every element in target_returns, identify the correponding element on the EFRS\n",
        "results = [sf.EFRS_portfolio(target, expected_returns, covariance_matrix) for target in target_returns]\n",
        "\n",
        "# store the results in lists\n",
        "EFRS_weights = [res[0] for res in results]\n",
        "EFRS_returns = [res[1] for res in results]\n",
        "EFRS_volatilities = [res[2] for res in results]\n"
      ],
      "metadata": {
        "id": "QpCFBrMckJ66"
      },
      "execution_count": null,
      "outputs": []
    },
    {
      "cell_type": "markdown",
      "source": [
        "### Define the Tangent Portfolio\n",
        "To create the tangent portfolio we use the `tangent_portfolio` function\n"
      ],
      "metadata": {
        "id": "EGrXN66QP2J8"
      }
    },
    {
      "cell_type": "code",
      "source": [
        "tangent_weights, tangent_return, tangent_volatility = sf.tangent_portfolio(expected_returns, covariance_matrix, rf)"
      ],
      "metadata": {
        "id": "wiM_s-jRP6kc"
      },
      "execution_count": null,
      "outputs": []
    },
    {
      "cell_type": "markdown",
      "source": [
        "### Plot the EFRS, Efficient Frontier, and Tangent Portfolio"
      ],
      "metadata": {
        "id": "PyvnP1rRTOse"
      }
    },
    {
      "cell_type": "code",
      "source": [
        "plt.plot(EFRS_volatilities, EFRS_returns, label=\"EFRS\", linewidth=2, color=\"k\", zorder=1)\n",
        "plt.xlim(0)\n",
        "# plt.axhline(y=0, color=\"k\")\n",
        "plt.xlabel(\"Volatility\")\n",
        "plt.ylabel(\"Expected Return\")\n",
        "\n",
        "max_sharpe = (tangent_return - rf) / tangent_volatility\n",
        "\n",
        "x = np.array([0, max(EFRS_volatilities) * 2 / 3])  # Volatility range\n",
        "y = np.array([x[0] * max_sharpe + rf, x[1] * max_sharpe + rf])  # Corresponding returns\n",
        "\n",
        "plt.plot(x, y, label=\"Efficient Frontier\", linewidth=2, zorder=2)\n",
        "plt.scatter(tangent_volatility, tangent_return, color=\"r\", marker=\"*\", s=200, label=\"Tangent Portfolio\", zorder=3, )\n",
        "plt.legend(loc=\"upper left\")\n",
        "plt.show()\n"
      ],
      "metadata": {
        "id": "t-GCnxTVBnkX"
      },
      "execution_count": null,
      "outputs": []
    }
  ]
}