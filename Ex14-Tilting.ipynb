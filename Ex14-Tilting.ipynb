{
  "nbformat": 4,
  "nbformat_minor": 0,
  "metadata": {
    "colab": {
      "provenance": [],
      "authorship_tag": "ABX9TyO89iKxiWw4FTxjnpw/EY6X",
      "include_colab_link": true
    },
    "kernelspec": {
      "name": "python3",
      "display_name": "Python 3"
    },
    "language_info": {
      "name": "python"
    }
  },
  "cells": [
    {
      "cell_type": "markdown",
      "metadata": {
        "id": "view-in-github",
        "colab_type": "text"
      },
      "source": [
        "<a href=\"https://colab.research.google.com/github/boyerb/Investments/blob/master/Ex14-Tilting.ipynb\" target=\"_parent\"><img src=\"https://colab.research.google.com/assets/colab-badge.svg\" alt=\"Open In Colab\"/></a>"
      ]
    },
    {
      "cell_type": "markdown",
      "source": [
        "***Investment Analysis***, Bates, Boyer, and Fletcher  "
      ],
      "metadata": {
        "id": "kC1MxGsO9XpM"
      }
    },
    {
      "cell_type": "markdown",
      "source": [
        "# Example Chapter 14: Tilting Towards Idiosyncratic Risk"
      ],
      "metadata": {
        "id": "fedEa1qc9ckT"
      }
    },
    {
      "cell_type": "markdown",
      "source": [
        "### Imports and Setup"
      ],
      "metadata": {
        "id": "HuFnjUFO-Bwr"
      }
    },
    {
      "cell_type": "code",
      "source": [
        "import numpy as np\n",
        "import matplotlib.pyplot as plt"
      ],
      "metadata": {
        "id": "zvJ82sRD9-9J"
      },
      "execution_count": 877,
      "outputs": []
    },
    {
      "cell_type": "code",
      "source": [],
      "metadata": {
        "id": "1EBOf_RfvP6N"
      },
      "execution_count": 877,
      "outputs": []
    },
    {
      "cell_type": "markdown",
      "source": [
        "### Generate Returns\n",
        "1. **Risk-free rate**: 0.30\\% per month.\n",
        "2. **Portfolio $p$**: $E[r]= 1.5\\%$ per month and volatility $0.05$.  \n",
        "3. **ZeroBeta**: $E[r]= 2.3\\%$ per month and volatility of $0.20$.\n",
        "4. **RiskRider**: $E[r]=2.3\\%$ per month, volatility of $0.20$.   \n",
        "5. Beta of ZeroBeta relative to $p$ is zero.\n",
        "6. Beta of RiskRider relative to $p$ is 2.0.\n",
        "  \n"
      ],
      "metadata": {
        "id": "CHp8RRaeA77F"
      }
    },
    {
      "cell_type": "code",
      "source": [
        "T = 100\n",
        "risk_free_asset = 0.003 # risk-free rate\n",
        "zero_mean = np.random.normal(loc=0, scale=0.03, size=T) # zero mean random variable with vol=0.05\n",
        "portfolio_p = 0.015 + zero_mean # portfolio p\n",
        "ZeroBeta = np.random.normal(loc=0.023, scale=0.06, size=T) # ZeroBeta\n",
        "RiskRider =0.023 + 1.9 * zero_mean  + np.random.normal(loc=0, scale=0.018735, size=T) # RiskRider\n",
        "# total variance of RiskRider is 1.9^2*(.03)^2+(0.018735)^2=0.0036\n",
        "# total volatility of RiskRider is sqrt(0.0036)=0.06"
      ],
      "metadata": {
        "id": "VUDBtjPs-Fzq"
      },
      "execution_count": 878,
      "outputs": []
    },
    {
      "cell_type": "markdown",
      "source": [
        "### Create Tilted Portfolios\n",
        "We create three portfolios that tilt portfolio p toward\n",
        "1. The risk-free asset\n",
        "2. ZeroBeta\n",
        "3. RiskRider"
      ],
      "metadata": {
        "id": "RylWZ_iRNsVu"
      }
    },
    {
      "cell_type": "code",
      "source": [
        "w = 0.01 # tilt size\n",
        "tilt_risk_free = w * risk_free_asset + (1 - w) * portfolio_p\n",
        "tilt1 =  w * ZeroBeta + (1 - w) * portfolio_p\n",
        "tilt2 =  w * RiskRider + (1 - w) * portfolio_p\n"
      ],
      "metadata": {
        "id": "ckEwMJ0F-_VL"
      },
      "execution_count": 879,
      "outputs": []
    },
    {
      "cell_type": "markdown",
      "source": [],
      "metadata": {
        "id": "O4p8ZmvaN76Y"
      }
    },
    {
      "cell_type": "code",
      "source": [
        "def describe(name, series):\n",
        "    std = np.std(series)\n",
        "    mean = np.mean(series)\n",
        "    print(f\"{name:20s} |  Mean: {mean:.4f} | Std Dev: {std:.6f}\")\n",
        "\n",
        "print('Summary Stats on Individual Assets')\n",
        "print(\"----------------------------------\")\n",
        "describe(\"Original Portfolio\", portfolio_p)\n",
        "describe(\"risk free asset\", risk_free_asset)\n",
        "describe(\"ZeroBeta\", ZeroBeta)\n",
        "describe(\"RiskRider\", RiskRider)\n",
        "print()\n",
        "\n",
        "def summary(name, series):\n",
        "    std = np.std(series)\n",
        "    base_std = np.std(portfolio_p)\n",
        "    pct_chg = std / base_std - 1\n",
        "    mean = np.mean(series)\n",
        "    print(f\"{name:20s} |  Mean: {mean:.4f} | Std Dev: {std:.6f} | Pct Change: {pct_chg * 100:.1f}%\" )\n",
        "\n",
        "print('Summary Stats on Tilted Portfolios')\n",
        "print(\"----------------------------------\")\n",
        "summary(\"Tilt risk free\", tilt_risk_free)\n",
        "summary(\"Tilt to ZeroBeta\", tilt1)\n",
        "summary(\"Tilt to RiskRider\", tilt2)"
      ],
      "metadata": {
        "colab": {
          "base_uri": "https://localhost:8080/"
        },
        "id": "eLw7Nnk7_YTU",
        "outputId": "dcc2fb5e-7792-47b8-a46d-e6bde7352947"
      },
      "execution_count": 880,
      "outputs": [
        {
          "output_type": "stream",
          "name": "stdout",
          "text": [
            "Summary Stats on Individual Assets\n",
            "----------------------------------\n",
            "Original Portfolio   |  Mean: 0.0158 | Std Dev: 0.031497\n",
            "risk free asset      |  Mean: 0.0030 | Std Dev: 0.000000\n",
            "ZeroBeta             |  Mean: 0.0215 | Std Dev: 0.063898\n",
            "RiskRider            |  Mean: 0.0253 | Std Dev: 0.059292\n",
            "\n",
            "Summary Stats on Tilted Portfolios\n",
            "----------------------------------\n",
            "Tilt risk free       |  Mean: 0.0157 | Std Dev: 0.031182 | Pct Change: -1.0%\n",
            "Tilt to ZeroBeta     |  Mean: 0.0159 | Std Dev: 0.031166 | Pct Change: -1.1%\n",
            "Tilt to RiskRider    |  Mean: 0.0159 | Std Dev: 0.031748 | Pct Change: 0.8%\n"
          ]
        }
      ]
    }
  ]
}