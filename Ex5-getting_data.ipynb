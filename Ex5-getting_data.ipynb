{
 "cells": [
  {
   "metadata": {},
   "cell_type": "markdown",
   "source": [
    "# Example Chapter 5: Using APIs to get Stock Data\n",
    "In this example we use functions that tap into the yfinance library and Ken French's website to get monthly returns on the Vanguard S\\&P 500 ETF (VOO) and short-term US t-bills. We package the yfinance API and the function to scrape Ken French's website in the file \"bates_boyer_fletcher_functions.py\" for easy use.  Once we have the necessary data in dataframes, we use these data to estimate the annualized expected return, volatility, and Sharpe ratio for VOO. "
   ],
   "id": "a8424377d4ab21a7"
  },
  {
   "metadata": {
    "ExecuteTime": {
     "end_time": "2024-09-21T02:05:58.645068Z",
     "start_time": "2024-09-21T02:05:58.311065Z"
    }
   },
   "cell_type": "code",
   "source": [
    "# Load in bates_boyer_fletcher_functions.py from the github repository \n",
    "!curl -O https://raw.githubusercontent.com/boyerb/Investments/refs/heads/master/functions/bates_boyer_fletcher_functions.py"
   ],
   "id": "abfa28ff8f165bb6",
   "outputs": [
    {
     "name": "stderr",
     "output_type": "stream",
     "text": [
      "  % Total    % Received % Xferd  Average Speed   Time    Time     Time  Current\n",
      "                                 Dload  Upload   Total   Spent    Left  Speed\n",
      "\n",
      "  0     0    0     0    0     0      0      0 --:--:-- --:--:-- --:--:--     0\n",
      "100  4128  100  4128    0     0  15085      0 --:--:-- --:--:-- --:--:-- 15345\n"
     ]
    }
   ],
   "execution_count": 15
  },
  {
   "metadata": {
    "collapsed": true,
    "ExecuteTime": {
     "end_time": "2024-09-21T02:05:58.724366Z",
     "start_time": "2024-09-21T02:05:58.708233Z"
    }
   },
   "cell_type": "code",
   "source": [
    "\n",
    "import bates_boyer_fletcher_functions as invf\n",
    "import numpy as np\n",
    "import pandas as pd\n"
   ],
   "id": "initial_id",
   "outputs": [],
   "execution_count": 16
  },
  {
   "metadata": {
    "ExecuteTime": {
     "end_time": "2024-09-21T02:05:59.334185Z",
     "start_time": "2024-09-21T02:05:58.730934Z"
    }
   },
   "cell_type": "code",
   "source": [
    "# Get monthly returns for a given ticker using the yfinance API\n",
    "ticker = ['^RUA', 'F']\n",
    "dat = invf.get_monthly_returns(ticker, '1990-01-01', '2023-12-31', tbill_return=False)\n",
    "print(dat.head())"
   ],
   "id": "aa5b611ec5c3a9ce",
   "outputs": [
    {
     "name": "stderr",
     "output_type": "stream",
     "text": [
      "[*********************100%***********************]  1 of 1 completed\n",
      "C:\\Users\\bhb35\\Documents\\data\\investments\\PycharmProjects\\Investments\\bates_boyer_fletcher_functions.py:86: FutureWarning: 'M' is deprecated and will be removed in a future version, please use 'ME' instead.\n",
      "  month_end_data = data.resample('M').ffill()  # 'ME' gives month-end, ffill to get last available price\n",
      "[*********************100%***********************]  1 of 1 completed"
     ]
    },
    {
     "name": "stdout",
     "output_type": "stream",
     "text": [
      "             ^RUA         F\n",
      "Date                       \n",
      "1990-01 -0.074868  0.005681\n",
      "1990-02  0.012766  0.066667\n",
      "1990-03  0.023209  0.027174\n",
      "1990-04 -0.028393 -0.050828\n",
      "1990-05  0.087505  0.045326\n"
     ]
    },
    {
     "name": "stderr",
     "output_type": "stream",
     "text": [
      "\n",
      "C:\\Users\\bhb35\\Documents\\data\\investments\\PycharmProjects\\Investments\\bates_boyer_fletcher_functions.py:86: FutureWarning: 'M' is deprecated and will be removed in a future version, please use 'ME' instead.\n",
      "  month_end_data = data.resample('M').ffill()  # 'ME' gives month-end, ffill to get last available price\n"
     ]
    }
   ],
   "execution_count": 17
  },
  {
   "metadata": {
    "ExecuteTime": {
     "end_time": "2024-09-21T02:05:59.510676Z",
     "start_time": "2024-09-21T02:05:59.499969Z"
    }
   },
   "cell_type": "code",
   "source": [
    "# Calculate the annualized average return and volatility\n",
    "A_Avg = dat.mean() * 12\n",
    "A_Vol = dat.std() * np.sqrt(12)\n",
    "print('Anualized Average Return')\n",
    "print(A_Avg)\n",
    "print()\n",
    "print('Annualized Volatility')\n",
    "print(A_Vol)"
   ],
   "id": "97b7008bd9ffd661",
   "outputs": [
    {
     "name": "stdout",
     "output_type": "stream",
     "text": [
      "Anualized Average Return\n",
      "^RUA    0.089472\n",
      "F       0.133204\n",
      "dtype: float64\n",
      "\n",
      "Annualized Volatility\n",
      "^RUA    0.152483\n",
      "F       0.431903\n",
      "dtype: float64\n"
     ]
    }
   ],
   "execution_count": 18
  },
  {
   "metadata": {
    "ExecuteTime": {
     "end_time": "2024-09-21T02:06:00.102439Z",
     "start_time": "2024-09-21T02:05:59.527854Z"
    }
   },
   "cell_type": "code",
   "source": [
    "# Download data along with return on short-term tbills from Ken French's website\n",
    "dat = invf.get_monthly_returns(ticker, '1990-01-01', '2023-12-31', tbill_return=True)\n",
    "dat['exret0'] = dat[ticker[0]] - dat['RF']\n",
    "dat['exret1'] = dat[ticker[1]] - dat['RF']\n",
    "print(dat.head())"
   ],
   "id": "654477d73970a945",
   "outputs": [
    {
     "name": "stderr",
     "output_type": "stream",
     "text": [
      "[*********************100%***********************]  1 of 1 completed\n",
      "C:\\Users\\bhb35\\Documents\\data\\investments\\PycharmProjects\\Investments\\bates_boyer_fletcher_functions.py:86: FutureWarning: 'M' is deprecated and will be removed in a future version, please use 'ME' instead.\n",
      "  month_end_data = data.resample('M').ffill()  # 'ME' gives month-end, ffill to get last available price\n",
      "[*********************100%***********************]  1 of 1 completed\n",
      "C:\\Users\\bhb35\\Documents\\data\\investments\\PycharmProjects\\Investments\\bates_boyer_fletcher_functions.py:86: FutureWarning: 'M' is deprecated and will be removed in a future version, please use 'ME' instead.\n",
      "  month_end_data = data.resample('M').ffill()  # 'ME' gives month-end, ffill to get last available price\n"
     ]
    },
    {
     "name": "stdout",
     "output_type": "stream",
     "text": [
      "             ^RUA         F      RF    exret0    exret1\n",
      "Date                                                   \n",
      "1990-01 -0.074868  0.005681  0.0057 -0.080568 -0.000019\n",
      "1990-02  0.012766  0.066667  0.0057  0.007066  0.060967\n",
      "1990-03  0.023209  0.027174  0.0064  0.016809  0.020774\n",
      "1990-04 -0.028393 -0.050828  0.0069 -0.035293 -0.057728\n",
      "1990-05  0.087505  0.045326  0.0068  0.080705  0.038526\n"
     ]
    }
   ],
   "execution_count": 19
  },
  {
   "metadata": {
    "ExecuteTime": {
     "end_time": "2024-09-21T02:06:00.114386Z",
     "start_time": "2024-09-21T02:06:00.109790Z"
    }
   },
   "cell_type": "code",
   "source": [
    "# Calcualte and print Sharpe ratios\n",
    "A_AVG_exret0 = dat['exret0'].mean() * 12\n",
    "A_Vol_exret0 = dat[ticker[0]].std() * np.sqrt(12)\n",
    "Sharpe0 = A_AVG_exret0/A_Vol_exret0\n",
    "\n",
    "A_AVG_exret1 = dat['exret1'].mean() * 12\n",
    "A_Vol_exret1 = dat[ticker[1]].std() * np.sqrt(12)\n",
    "Sharpe1 = A_AVG_exret1/A_Vol_exret1\n",
    "\n",
    "print('Sharpe Ratios')\n",
    "print(ticker[0], Sharpe0)\n",
    "print(ticker[1], Sharpe1)\n",
    "\n",
    "\n",
    "\n",
    "#Sharpe = A_AVG_exret/A_Vol_exret\n",
    "#print()\n",
    "#print('Sharpe Ratio: ', Sharpe)"
   ],
   "id": "7d6b70f7d5f61ab4",
   "outputs": [
    {
     "name": "stdout",
     "output_type": "stream",
     "text": [
      "Sharpe Ratios\n",
      "^RUA 0.418475028174323\n",
      "F 0.24899623520945782\n"
     ]
    }
   ],
   "execution_count": 20
  }
 ],
 "metadata": {
  "kernelspec": {
   "display_name": "Python 3",
   "language": "python",
   "name": "python3"
  },
  "language_info": {
   "codemirror_mode": {
    "name": "ipython",
    "version": 2
   },
   "file_extension": ".py",
   "mimetype": "text/x-python",
   "name": "python",
   "nbconvert_exporter": "python",
   "pygments_lexer": "ipython2",
   "version": "2.7.6"
  }
 },
 "nbformat": 4,
 "nbformat_minor": 5
}
