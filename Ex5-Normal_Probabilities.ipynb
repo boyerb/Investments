{
 "cells": [
  {
   "metadata": {},
   "cell_type": "markdown",
   "source": "# Example Chapter 5: Estimating the Probabilities of Investment Outcomes",
   "id": "76bcc390065afe60"
  },
  {
   "metadata": {},
   "cell_type": "markdown",
   "source": "In this notebook we estimate the probability that the return on an investment will be below a given threshold.",
   "id": "c927c5094c5f4b64"
  },
  {
   "metadata": {},
   "cell_type": "code",
   "source": [
    "# import packages\n",
    "from scipy.stats import norm"
   ],
   "id": "68664cff3bacfb3",
   "outputs": [],
   "execution_count": null
  },
  {
   "metadata": {},
   "cell_type": "code",
   "source": [
    "# specify the mean, standard deviation, and threshold\n",
    "mean = 0.16\n",
    "std_dev = 0.20\n",
    "threshold = -.10\n",
    "\n",
    "# calculate the probability that the return is < threshold\n",
    "probability = norm.cdf(threshold, loc=mean, scale=std_dev)\n",
    "print('The probability the investment return will be below the threshold is:')\n",
    "print(probability)"
   ],
   "id": "70a0803236b239a8",
   "outputs": [],
   "execution_count": null
  }
 ],
 "metadata": {
  "kernelspec": {
   "display_name": "Python 3",
   "language": "python",
   "name": "python3"
  },
  "language_info": {
   "codemirror_mode": {
    "name": "ipython",
    "version": 2
   },
   "file_extension": ".py",
   "mimetype": "text/x-python",
   "name": "python",
   "nbconvert_exporter": "python",
   "pygments_lexer": "ipython2",
   "version": "2.7.6"
  }
 },
 "nbformat": 4,
 "nbformat_minor": 5
}
