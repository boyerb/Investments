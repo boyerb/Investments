{
 "cells": [
  {
   "metadata": {},
   "cell_type": "markdown",
   "source": [
    "# Example Chapter 5: Estimating Variance and Standard Deviation\n",
    "In this example we simulate a random sample drawn from a discrete PDF. We then estimate the variance and standard deviation."
   ],
   "id": "bf28204faf8f62bc"
  },
  {
   "cell_type": "code",
   "id": "7ea08743",
   "metadata": {
    "ExecuteTime": {
     "end_time": "2024-09-01T02:43:23.324841Z",
     "start_time": "2024-09-01T02:43:23.321602Z"
    }
   },
   "source": [
    "#import packages\n",
    "import numpy as np\n",
    "import matplotlib.pyplot as plt"
   ],
   "outputs": [],
   "execution_count": 99
  },
  {
   "metadata": {},
   "cell_type": "markdown",
   "source": "Define the discrete PDF and simulate returns",
   "id": "5e8f153b0dd02337"
  },
  {
   "cell_type": "code",
   "id": "c8713d23",
   "metadata": {
    "ExecuteTime": {
     "end_time": "2024-09-01T02:43:23.332926Z",
     "start_time": "2024-09-01T02:43:23.329847Z"
    }
   },
   "source": [
    "outcomes = [-0.05, 0.00, 0.05, 0.10]  # Possible return outcomes\n",
    "probabilities = [0.2, 0.3, 0.4, 0.1]  # Corresponding probabilities\n",
    "num_simulations = 100 # number of random variables to create\n",
    "rng = np.random.default_rng()  # Create a random number generator object\n",
    "simulated_returns = rng.choice(outcomes, size=num_simulations, p=probabilities)"
   ],
   "outputs": [],
   "execution_count": 100
  },
  {
   "metadata": {},
   "cell_type": "markdown",
   "source": "Plot the histogram of the simulated returns ",
   "id": "e6f7778be1ca0ad1"
  },
  {
   "cell_type": "code",
   "id": "061fe396",
   "metadata": {
    "ExecuteTime": {
     "end_time": "2024-09-01T02:43:23.389113Z",
     "start_time": "2024-09-01T02:43:23.340922Z"
    }
   },
   "source": [
    "# Define bin edges for the histogram\n",
    "bin_edges = np.array(outcomes) - 0.025  # Shift each edge by half the width of the bin\n",
    "bin_edges = np.append(bin_edges, outcomes[-1] + 0.025)  # Add the upper edge of the last bin\n",
    "# Plot the histogram\n",
    "plt.figure(figsize=(3, 3))\n",
    "plt.hist(simulated_returns, bins=bin_edges, edgecolor='k', alpha=0.7, align='mid')\n",
    "plt.xticks(outcomes)  # Set x-ticks to be exactly on the outcomes\n",
    "plt.title('Histogram of Simulated Returns')\n",
    "plt.xlabel('Return')\n",
    "plt.ylabel('Frequency')\n",
    "plt.grid(True)\n",
    "plt.show()"
   ],
   "outputs": [
    {
     "data": {
      "text/plain": [
       "<Figure size 300x300 with 1 Axes>"
      ],
      "image/png": "[encoded data removed]"
     },
     "metadata": {},
     "output_type": "display_data"
    }
   ],
   "execution_count": 101
  },
  {
   "metadata": {
    "ExecuteTime": {
     "end_time": "2024-09-01T02:52:20.609800Z",
     "start_time": "2024-09-01T02:52:20.604494Z"
    }
   },
   "cell_type": "code",
   "source": [
    "# Compute Variance\n",
    "expected_return = np.dot(outcomes, probabilities)\n",
    "squared_deviations = (outcomes - expected_return) ** 2\n",
    "print('squared deviations:', squared_deviations)\n",
    "variance = np.dot(probabilities, squared_deviations)\n",
    "print('True Variance and Standard Deviation from PDF:')\n",
    "print('Variance:', variance)\n",
    "print('Standard Deviation:', np.sqrt(variance))"
   ],
   "id": "c3e5c5bbec617a26",
   "outputs": [
    {
     "name": "stdout",
     "output_type": "stream",
     "text": [
      "square deviations: [0.0049 0.0004 0.0009 0.0064]\n",
      "True Variance and Standard Deviation from PDF:\n",
      "Variance: 0.0021000000000000003\n",
      "Standard Deviation: 0.045825756949558406\n"
     ]
    }
   ],
   "execution_count": 104
  },
  {
   "metadata": {
    "ExecuteTime": {
     "end_time": "2024-09-01T02:43:23.491459Z",
     "start_time": "2024-09-01T02:43:23.486555Z"
    }
   },
   "cell_type": "code",
   "source": [
    "# Estimate Variance\n",
    "variance_estimate = np.var(simulated_returns)\n",
    "std_dev_estimate = np.std(simulated_returns)\n",
    "print('Estimated Variance and Standard Deviation from Simulated Returns:')\n",
    "print('Variance:', variance_estimate)\n",
    "print('Standard Deviation:', std_dev_estimate)\n"
   ],
   "id": "2f9a2e9fd192059e",
   "outputs": [
    {
     "name": "stdout",
     "output_type": "stream",
     "text": [
      "Estimated Variance and Standard Deviation from Simulated Returns:\n",
      "Variance: 0.00238475\n",
      "Standard Deviation: 0.04883390215823429\n"
     ]
    }
   ],
   "execution_count": 103
  }
 ],
 "metadata": {
  "jupytext": {
   "cell_metadata_filter": "-all",
   "main_language": "python",
   "notebook_metadata_filter": "-all"
  },
  "kernelspec": {
   "name": "python3",
   "language": "python",
   "display_name": "Python 3 (ipykernel)"
  }
 },
 "nbformat": 4,
 "nbformat_minor": 5
}
