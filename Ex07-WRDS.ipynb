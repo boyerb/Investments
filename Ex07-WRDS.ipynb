{
  "nbformat": 4,
  "nbformat_minor": 0,
  "metadata": {
    "colab": {
      "provenance": [],
      "authorship_tag": "ABX9TyNA5Uo4GzfxjuRUumMwypRp",
      "include_colab_link": true
    },
    "kernelspec": {
      "name": "python3",
      "display_name": "Python 3"
    },
    "language_info": {
      "name": "python"
    }
  },
  "cells": [
    {
      "cell_type": "markdown",
      "metadata": {
        "id": "view-in-github",
        "colab_type": "text"
      },
      "source": [
        "<a href=\"https://colab.research.google.com/github/boyerb/Investments/blob/master/Ex07-WRDS.ipynb\" target=\"_parent\"><img src=\"https://colab.research.google.com/assets/colab-badge.svg\" alt=\"Open In Colab\"/></a>"
      ]
    },
    {
      "cell_type": "markdown",
      "source": [
        "**Investments: Theory, Fundamental Analysis, and Data Driven Analytics**, Bates, Boyer, and Fletcher"
      ],
      "metadata": {
        "id": "iZs5txuDLvzA"
      }
    },
    {
      "cell_type": "markdown",
      "source": [
        "# Example Chapter 7: The WRDS API\n",
        "In this example we illustrate how you can access CRSP data using the WRDS API. You will first need to obtain a WRDS account through your institution with a username and password, and set up dual authentication through the WRDS site."
      ],
      "metadata": {
        "id": "SM5IHVhPLyB5"
      }
    },
    {
      "cell_type": "markdown",
      "source": [
        "###Imports and Setup\n",
        "We install and import four packages.  Two of these packages, `simple_finance.py` and `wrds` are not are not included in Colab by default.\n",
        "\n",
        "* We use the  `!curl` command to download the custom helper module `simple_finance.py` from the course GitHub repo.  By packaging code into useful functions, this helper module keeps the Python examples clean, minimizes distractions from secondary coding details, and maintains focus on the fore objectives. You can see the complete file and code at [`https://github.com/boyerb/Investments/blob/master/functions/simple_finance.py`](https://github.com/boyerb/Investments/blob/master/functions/simple_finance.py).  \n",
        "\n",
        "* We also use the `!pip install`  command to install the WRDS package.  Libraries like `NumPy` and `Pandas` are already installed in most Python environments, so they can be imported directly without any extra steps."
      ],
      "metadata": {
        "id": "ngeldbqFMA0J"
      }
    },
    {
      "cell_type": "code",
      "source": [
        "!curl -O https://raw.githubusercontent.com/boyerb/Investments/master/functions/simple_finance.py\n",
        "import simple_finance as sf\n",
        "!pip -q install wrds\n",
        "import wrds\n",
        "import numpy as np\n",
        "import pandas as pd"
      ],
      "metadata": {
        "id": "1VJ3ig7ZMEOC",
        "colab": {
          "base_uri": "https://localhost:8080/"
        },
        "outputId": "c6573542-ea9a-49fd-83ac-b64a3b631a60"
      },
      "execution_count": 1,
      "outputs": [
        {
          "output_type": "stream",
          "name": "stdout",
          "text": [
            "  % Total    % Received % Xferd  Average Speed   Time    Time     Time  Current\n",
            "                                 Dload  Upload   Total   Spent    Left  Speed\n",
            "\r  0     0    0     0    0     0      0      0 --:--:-- --:--:-- --:--:--     0\r  0     0    0     0    0     0      0      0 --:--:-- --:--:-- --:--:--     0\r100 29827  100 29827    0     0   113k      0 --:--:-- --:--:-- --:--:--  112k\n"
          ]
        }
      ]
    },
    {
      "cell_type": "markdown",
      "source": [
        "### Establish a WRDS Connection\n",
        "When you run this block, you will be prompted to enter your WRDS username and password, and then complete dual authentication on your phone. You will then be asked if you want to create a .pgpass file. In local environments such as PyCharm or Visual Studio, a .pgpass file stored on your PC allows you to use the WRDS API without re-entering your credentials each time. In Google Colab, however, the file is saved in the temporary home directory (/root/.pgpass) and will be erased whenever you start a new session.  As such you can just respond \"`n`\"."
      ],
      "metadata": {
        "id": "FCkr9LKXYDON"
      }
    },
    {
      "cell_type": "code",
      "source": [
        "db = wrds.Connection()"
      ],
      "metadata": {
        "colab": {
          "base_uri": "https://localhost:8080/"
        },
        "id": "nAy_9XqD876x",
        "outputId": "1305f919-0047-403c-85db-dd85190c122f"
      },
      "execution_count": 2,
      "outputs": [
        {
          "output_type": "stream",
          "name": "stdout",
          "text": [
            "Enter your WRDS username [root]:boyerdude1\n",
            "Enter your password:··········\n",
            "WRDS recommends setting up a .pgpass file.\n",
            "Create .pgpass file now [y/n]?: n\n",
            "You can create this file yourself at any time with the create_pgpass_file() function.\n",
            "Loading library list...\n",
            "Done\n"
          ]
        }
      ]
    },
    {
      "cell_type": "markdown",
      "source": [
        "### Controlling DataFrame Display\n",
        "By default, Pandas may hide some columns or wrap output across multiple lines when displaying a wide DataFrame. The settings below change this behavior to provide better diaplys of Pandas DataFrames."
      ],
      "metadata": {
        "id": "JejRlRsgZSQl"
      }
    },
    {
      "cell_type": "code",
      "source": [
        "pd.set_option('display.max_columns', None)   # Show all columns without truncation\n",
        "pd.set_option('display.width', 1000)   # Set the display width so output stays on one line"
      ],
      "metadata": {
        "id": "Q--3qfY09yVd"
      },
      "execution_count": 3,
      "outputs": []
    },
    {
      "cell_type": "markdown",
      "source": [
        "### Download Data\n",
        "After creating a list of identifiers and defining the start and end dates for the data you wish to use, the `sf.get_crsp_msf_by_ids` function will pull the data for you.  \n",
        "\n",
        "**Inputs**\n",
        "* WRDS database connection object (`db`)\n",
        "* List of identifiers\n",
        "* Start date\n",
        "* End date  \n",
        "\n",
        "**Output**\n",
        "* Pandas DataFrame with the desired data\n",
        "\n",
        "Identifiers can be either **tickers** or **PERMNOs**. The function will automatically detect what kind of identifier you are using. Since tickers can change over time, this becomes an important consideration when pulling data over long periods. To address this, CRSP assigns each security a permanent identifier, the PERMNO, that does not change. In addition, WRDS provides an [online tool](https://wrds-www.wharton.upenn.edu/pages/get-data/center-research-security-prices-crsp/annual-update/tools/translate-to-permcopermno/)\n",
        " to translate tickers into PERMCO/PERMNO identifiers. The CRSP PERMCO is a permanent *company* identifier, while the PERMNO is a permanent *security identifier*. Several securities may be associated with the same company since firms can issue various classes of equity.  "
      ],
      "metadata": {
        "id": "F4fI5g9PZzEO"
      }
    },
    {
      "cell_type": "code",
      "source": [
        "ids=['IBM','GOOG']    #\n",
        "start='1990-01-01'\n",
        "end = '2024-12-31'\n",
        "data=sf.get_crsp_msf_by_ids(db,ids,start,end)"
      ],
      "metadata": {
        "id": "zfArr4aLGe4H"
      },
      "execution_count": 5,
      "outputs": []
    },
    {
      "cell_type": "code",
      "source": [],
      "metadata": {
        "id": "2nlywnICfbeT"
      },
      "execution_count": null,
      "outputs": []
    },
    {
      "cell_type": "code",
      "source": [
        "print(data)"
      ],
      "metadata": {
        "id": "MJ0h13f3hSmz"
      },
      "execution_count": null,
      "outputs": []
    }
  ]
}