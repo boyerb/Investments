{
  "nbformat": 4,
  "nbformat_minor": 0,
  "metadata": {
    "colab": {
      "provenance": [],
      "authorship_tag": "ABX9TyP7wNOE0izJlFmbJlUeOlhL",
      "include_colab_link": true
    },
    "kernelspec": {
      "name": "python3",
      "display_name": "Python 3"
    },
    "language_info": {
      "name": "python"
    }
  },
  "cells": [
    {
      "cell_type": "markdown",
      "metadata": {
        "id": "view-in-github",
        "colab_type": "text"
      },
      "source": [
        "<a href=\"https://colab.research.google.com/github/boyerb/Investments/blob/master/Ex14-Tilting.ipynb\" target=\"_parent\"><img src=\"https://colab.research.google.com/assets/colab-badge.svg\" alt=\"Open In Colab\"/></a>"
      ]
    },
    {
      "cell_type": "markdown",
      "source": [
        "**Investments: Theory, Fundamental Analysis, and Data Driven Analytics**, Bates, Boyer, and Fletcher"
      ],
      "metadata": {
        "id": "kC1MxGsO9XpM"
      }
    },
    {
      "cell_type": "markdown",
      "source": [
        "# Example Chapter 14: Tilting Towards Idiosyncratic Risk"
      ],
      "metadata": {
        "id": "fedEa1qc9ckT"
      }
    },
    {
      "cell_type": "markdown",
      "source": [
        "### Imports and Setup"
      ],
      "metadata": {
        "id": "HuFnjUFO-Bwr"
      }
    },
    {
      "cell_type": "code",
      "source": [
        "#Import the simple_finance.py package and avoid using a stale cached version.\n",
        "!curl -s -O https://raw.githubusercontent.com/boyerb/Investments/master/functions/simple_finance.py\n",
        "import importlib, simple_finance as sf\n",
        "importlib.reload(sf)\n",
        "\n",
        "import numpy as np\n",
        "import matplotlib.pyplot as plt"
      ],
      "metadata": {
        "id": "zvJ82sRD9-9J"
      },
      "execution_count": null,
      "outputs": []
    },
    {
      "cell_type": "markdown",
      "source": [
        "### Generate Returns\n",
        "In the code block below we simulate returns with the following properties:\n",
        "1. **Risk-free rate**: 0.30\\% per month.\n",
        "2. **Portfolio $p$**: $E[r]= 1.5\\%$ per month and volatility $0.03$.  \n",
        "3. **ZeroBeta**: $E[r]= 3\\%$ per month and volatility of $0.065$.\n",
        "4. **RiskRider**: $E[r]=3\\%$ per month, volatility of $0.065$.   \n",
        "5. Beta of ZeroBeta relative to $p$ is zero.\n",
        "6. Beta of RiskRider relative to $p$ is 2.0.\n",
        "  \n"
      ],
      "metadata": {
        "id": "CHp8RRaeA77F"
      }
    },
    {
      "cell_type": "code",
      "source": [
        "T = 1000  # number of months\n",
        "\n",
        "risk_free_asset = 0.003  # risk-free rate of return per period (0.3%)\n",
        "\n",
        "# Simulated portfolio returns: mean of 1.5% per period and volatility of 0.03\n",
        "portfolio_p = np.random.normal(0.015, 0.03, size=T)\n",
        "\n",
        "# ZeroBeta: average return of 2.3% and volatility of 6%\n",
        "ZeroBeta = np.random.normal(0.03, 0.065, size=T)\n",
        "\n",
        "# Simulated “RiskRider” asset: mean return of 2.3%, beta of 1.9 relative to the zero-mean factor,\n",
        "# plus an independent idiosyncratic component with volatility of 1.8735%\n",
        "RiskRider = 2.0 * portfolio_p + np.random.normal(0, 0.025, size=T)\n",
        "\n",
        "# Verify total variance of RiskRider:\n",
        "# Var(RiskRider) = (2 * 0.03)^2 + (0.0025^2) = 0.004225\n",
        "# ⇒ total volatility = sqrt(0.004225) = 0.065\n"
      ],
      "metadata": {
        "id": "VUDBtjPs-Fzq"
      },
      "execution_count": null,
      "outputs": []
    },
    {
      "cell_type": "markdown",
      "source": [
        "### Create Tilted Portfolios\n",
        "We create three portfolios that tilt portfolio p toward\n",
        "1. The risk-free asset\n",
        "2. ZeroBeta\n",
        "3. RiskRider"
      ],
      "metadata": {
        "id": "RylWZ_iRNsVu"
      }
    },
    {
      "cell_type": "code",
      "source": [
        "w = 0.01 # tilt size\n",
        "tilt_risk_free = w * risk_free_asset + (1 - w) * portfolio_p\n",
        "tilt1 =  w * ZeroBeta + (1 - w) * portfolio_p\n",
        "tilt2 =  w * RiskRider + (1 - w) * portfolio_p\n"
      ],
      "metadata": {
        "id": "ckEwMJ0F-_VL"
      },
      "execution_count": null,
      "outputs": []
    },
    {
      "cell_type": "markdown",
      "source": [
        "### Print Summary Statistics\n",
        "In this block we first print summary statistics for the porfolio, ZeroBeta, and Risk Rider.  To do this we use the `describe()` function from the `simple_finance` library.\n",
        "        \n",
        "**Function**: `describe()`  \n",
        "**Inputs**\n",
        "* `name`: The name of the series for prining purposes\n",
        "* `series`: The data to describe\n",
        "\n",
        "**Output**\n",
        "Prints the mean and standard devaition in a nice format\n",
        "\n",
        "We then print summary statistics for each of the *tilted* portfolios, along with the percent change in volatility relative to the original portfolio. To do this we define a function called  `tilt_summary`.\n",
        "   \n",
        "**Function**: `tilt_summary()`    \n",
        "**Inputs**\n",
        "* `name`: The name of the series for prining purposes\n",
        "* `series`: The data of returns for the tilted portfolios to describe\n",
        "* `base_p`: The data of returns for the original portfolio\n",
        "\n",
        "**Output**\n",
        "Prints the mean, standard devaition, and percent change in volatility of the given tilted porfolio in a nice format"
      ],
      "metadata": {
        "id": "O4p8ZmvaN76Y"
      }
    },
    {
      "cell_type": "code",
      "source": [
        "# Display summary statistics for the individual assets\n",
        "print('Summary Stats on Individual Assets')\n",
        "print(\"----------------------------------\")\n",
        "sf.describe(\"Original Portfolio\", portfolio_p)\n",
        "sf.describe(\"risk free asset\", risk_free_asset)\n",
        "sf.describe(\"ZeroBeta\", ZeroBeta)\n",
        "sf.describe(\"RiskRider\", RiskRider)\n",
        "print()  # blank line for readability\n",
        "\n",
        "# define tilt_summary function\n",
        "def tilt_summary(name, series, base_p):\n",
        "    std = np.std(series)                   # Standard deviation of the series\n",
        "    base_std = np.std(base_p)         # Baseline (original portfolio) volatility\n",
        "    pct_chg = std / base_std - 1           # Percent change in volatility vs. base\n",
        "    mean = np.mean(series)                 # Mean return of the series\n",
        "    # Print formatted results including relative volatility change\n",
        "    print(f\"{name:20s} |  Mean: {mean:.4f} | Std Dev: {std:.6f} | Pct Change: {pct_chg * 100:.1f}%\")\n",
        "\n",
        "\n",
        "# Display comparative stats for portfolios tilted toward different assets\n",
        "print('Summary Stats on Tilted Portfolios')\n",
        "print(\"----------------------------------\")\n",
        "tilt_summary(\"Tilt risk free\", tilt_risk_free, portfolio_p)\n",
        "tilt_summary(\"Tilt to ZeroBeta\", tilt1, portfolio_p)\n",
        "tilt_summary(\"Tilt to RiskRider\", tilt2, portfolio_p)\n"
      ],
      "metadata": {
        "id": "eLw7Nnk7_YTU"
      },
      "execution_count": null,
      "outputs": []
    }
  ]
}