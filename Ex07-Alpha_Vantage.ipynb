{
  "nbformat": 4,
  "nbformat_minor": 0,
  "metadata": {
    "colab": {
      "provenance": [],
      "authorship_tag": "ABX9TyOdURzB4YNOIO0+O4dhGiWG",
      "include_colab_link": true
    },
    "kernelspec": {
      "name": "python3",
      "display_name": "Python 3"
    },
    "language_info": {
      "name": "python"
    }
  },
  "cells": [
    {
      "cell_type": "markdown",
      "metadata": {
        "id": "view-in-github",
        "colab_type": "text"
      },
      "source": [
        "<a href=\"https://colab.research.google.com/github/boyerb/Investments/blob/master/Ex07-Alpha_Vantage.ipynb\" target=\"_parent\"><img src=\"https://colab.research.google.com/assets/colab-badge.svg\" alt=\"Open In Colab\"/></a>"
      ]
    },
    {
      "cell_type": "markdown",
      "source": [
        "**Investments: Theory, Fundamental Analysis, and Data Driven Analytics**, Bates, Boyer, and Fletcher"
      ],
      "metadata": {
        "id": "uASzxEA29Ev6"
      }
    },
    {
      "cell_type": "markdown",
      "source": [
        "# Examples Chapter 7: The Alpha Vantage API\n",
        "In this example we illustrate how to load in data using the Alpha vantage API. We then plot the closing price for Coca-Cola (ticker:'KO')."
      ],
      "metadata": {
        "id": "OzQUrqpt9hXI"
      }
    },
    {
      "cell_type": "markdown",
      "source": [
        "### Imports and Setup\n",
        "In this example we illustrate how to access data on equities using the Alpha Vantage API. The script uses the function `parse_monthly_alpha_vantage_response()` to formate the data from Alpha Vantage into a nice DataFrame. This function is part of the `simple_finance` package.\n",
        "\n",
        "Below we install and import a variety of packages that provide useful functions.The `simple_finance and  `wrds` packages are not included in Colab by default and require installation. To improve readability when printing a DataFrame to the consol, we then configure Pandas display options: (1) show all columns without truncation, (2) widen the output to 1000 characters so rows print on a single line, and (3) truncate long tables.\n"
      ],
      "metadata": {
        "id": "vauLGhRpIlyf"
      }
    },
    {
      "cell_type": "code",
      "execution_count": null,
      "metadata": {
        "id": "l193wFL7lbOD"
      },
      "outputs": [],
      "source": [
        "# Import the simple_finance.py package and avoid using a stale cached version.\n",
        "!curl -s -O https://raw.githubusercontent.com/boyerb/Investments/master/functions/simple_finance.py\n",
        "import importlib, simple_finance as sf\n",
        "importlib.reload(sf)\n",
        "\n",
        "import requests\n",
        "import pandas as pd\n",
        "import matplotlib.pyplot as plt\n",
        "\n",
        "pd.set_option('display.max_columns', None)   # Show all columns without truncation\n",
        "pd.set_option('display.width', 1000)   # Set the display width so output stays on one line\n",
        "pd.set_option(\"display.max_rows\", 20) # Force truncation if DataFrame has more than 20 rows"
      ]
    },
    {
      "cell_type": "markdown",
      "source": [
        "### Load in Data Using the API\n",
        "You will first need to get your own API key to run this block of code at this link: https://www.alphavantage.co/support/#api-key.  If you don't supply your own API key, the code will still run, but the number of daily requests will be **limited by IP address**.\n",
        "\n",
        "When using this block of code in other programs remember to\n",
        "1. Replace `symbol=KO` in the url string with the symbol for which you want data.\n",
        "2. Replace `your_key` in the script with your actual key.  \n",
        "\n",
        "The code will download monthly data for the given ticker from December 1999 to present."
      ],
      "metadata": {
        "id": "NLaxblm1Irr_"
      }
    },
    {
      "cell_type": "code",
      "source": [
        "# Define the API endpoint URL\n",
        "# The 'symbol' parameter specifies the ticker (KO = Coca-Cola).\n",
        "# Replace 'your_key' with your personal Alpha Vantage API key.\n",
        "url = 'https://www.alphavantage.co/query?function=TIME_SERIES_MONTHLY_ADJUSTED&symbol=KO&apikey=your_key'\n",
        "r = requests.get(url)"
      ],
      "metadata": {
        "id": "8h0VoO_wIoL3"
      },
      "execution_count": null,
      "outputs": []
    },
    {
      "cell_type": "markdown",
      "source": [
        "### Format Data into DataFrame\n",
        "####Function: `parse_monthly_alpha_vantage_response()`  \n",
        "**Inputs**\n",
        "* Alpha Vantage response object (`r`)  \n",
        "* start_date: a starting date for the data of the form `\"yyyy-mm\"` (optional)\n",
        "* end_date: and ending data for the data of the form `\"yyyy-mm\"` (optional)\n",
        "* if `start_date` and `end_date` are not supploed, the function returns monthly data from December 1999 to the present.  \n",
        "\n",
        "**Output**\n",
        "* Pandas DataFrame with the desired monthly data.\n",
        "* `date`\n",
        "* `Open`: Opening price for the supplied ticker for the month  \n",
        "* `High`: High price for the month\n",
        "* `Low`: Low price for the month\n",
        "* `Adjusted Close`: Closing price fro the month adjusted for splits, dividends and other corporate events\n",
        "* `Dividend Amount`: Dividends paid during the month\n"
      ],
      "metadata": {
        "id": "Ds2ctxCSkHiv"
      }
    },
    {
      "cell_type": "code",
      "source": [
        "df = sf.format_alpha_vantage(r)\n",
        "print(df)"
      ],
      "metadata": {
        "id": "5YSREn1ukBio"
      },
      "execution_count": null,
      "outputs": []
    },
    {
      "cell_type": "markdown",
      "source": [
        "### Plot Closing Price for Coca-Cola\n",
        "Here we plot the closing price each month for Coca-Cola."
      ],
      "metadata": {
        "id": "XlWBehhnJ97j"
      }
    },
    {
      "cell_type": "code",
      "source": [
        "# plot the closing price\n",
        "df[\"Close\"].plot(figsize=(12,6))\n",
        "\n",
        "# set axis lables and title\n",
        "plt.xlabel(\"Date\")\n",
        "plt.ylabel(\"Closing Price\")\n",
        "plt.title(\"Closing Price Over Time\")\n",
        "plt.show()"
      ],
      "metadata": {
        "id": "3DqaWJY20Xy7"
      },
      "execution_count": null,
      "outputs": []
    }
  ]
}