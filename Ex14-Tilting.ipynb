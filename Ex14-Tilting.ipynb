{
  "nbformat": 4,
  "nbformat_minor": 0,
  "metadata": {
    "colab": {
      "provenance": [],
      "authorship_tag": "ABX9TyNLixkqS9zwaBRUgdyPet1x",
      "include_colab_link": true
    },
    "kernelspec": {
      "name": "python3",
      "display_name": "Python 3"
    },
    "language_info": {
      "name": "python"
    }
  },
  "cells": [
    {
      "cell_type": "markdown",
      "metadata": {
        "id": "view-in-github",
        "colab_type": "text"
      },
      "source": [
        "<a href=\"https://colab.research.google.com/github/boyerb/Investments/blob/master/Ex14-Tilting.ipynb\" target=\"_parent\"><img src=\"https://colab.research.google.com/assets/colab-badge.svg\" alt=\"Open In Colab\"/></a>"
      ]
    },
    {
      "cell_type": "markdown",
      "source": [
        "***Investment Analysis***, Bates, Boyer, and Fletcher  "
      ],
      "metadata": {
        "id": "kC1MxGsO9XpM"
      }
    },
    {
      "cell_type": "markdown",
      "source": [
        "# Example Chapter 14: Tilting Towards Idiosyncratic Risk"
      ],
      "metadata": {
        "id": "fedEa1qc9ckT"
      }
    },
    {
      "cell_type": "markdown",
      "source": [
        "### Imports and Setup"
      ],
      "metadata": {
        "id": "HuFnjUFO-Bwr"
      }
    },
    {
      "cell_type": "code",
      "source": [
        "import numpy as np\n",
        "import matplotlib.pyplot as plt"
      ],
      "metadata": {
        "id": "zvJ82sRD9-9J"
      },
      "execution_count": 13,
      "outputs": []
    },
    {
      "cell_type": "markdown",
      "source": [
        "### Generate Returns\n",
        "We first simulate the returns on three assets:\n",
        "1. A portfolio, $p$, with monthly $E[r_p]= 1.5\\%$ and volatility $0.05$.  \n",
        "2. A risk-free asset with a constant return of $0.30 \\%$ basis points per month.\n",
        "3. An asset with a monthly $E[r]= 0.30\\%$ and volatility of $0.10$ (asset1).\n",
        "4. An asset with $E[r]=r_f+\\beta(E[r_p]-r_f)$ where $r_f=0.30\\%$, $\\beta=1.5$ (asset2).    "
      ],
      "metadata": {
        "id": "CHp8RRaeA77F"
      }
    },
    {
      "cell_type": "code",
      "source": [
        "T = 100\n",
        "portfolio_p = np.random.normal(0.015, 0.05, size=T) # portfolio p\n",
        "risk_free_asset = risk_free_asset = 0.003 * np.ones(T) # risk-free asset\n",
        "asset1 = np.random.normal(loc=0.003, scale=0.10, size=T) # asset1\n",
        "asset2 = 0.003+1.5 *(portfolio_p-.003) + np.random.normal(loc=0, scale=0.0435, size=T) # asset2"
      ],
      "metadata": {
        "id": "VUDBtjPs-Fzq"
      },
      "execution_count": 14,
      "outputs": []
    },
    {
      "cell_type": "markdown",
      "source": [
        "### Create Tilted Portfolios\n",
        "We create three portfolios that tilt portfolio p toward\n",
        "1. The risk-free asset\n",
        "2. asset1\n",
        "3. asset2"
      ],
      "metadata": {
        "id": "RylWZ_iRNsVu"
      }
    },
    {
      "cell_type": "code",
      "source": [
        "w = 0.01 # tilt size\n",
        "tilt_risk_free = w * risk_free_asset + (1 - w) * portfolio_p\n",
        "tilt1 =  w * asset1 + (1 - w) * portfolio_p\n",
        "tilt2 =  w * asset2 + (1 - w) * portfolio_p"
      ],
      "metadata": {
        "id": "ckEwMJ0F-_VL"
      },
      "execution_count": 15,
      "outputs": []
    },
    {
      "cell_type": "markdown",
      "source": [],
      "metadata": {
        "id": "O4p8ZmvaN76Y"
      }
    },
    {
      "cell_type": "code",
      "source": [
        "def describe(name, series):\n",
        "    ann_std = np.std(series) * np.sqrt(12)\n",
        "    ann_mean = np.mean(series) * 12\n",
        "    print(f\"{name:20s} |  Mean: {ann_mean:.4f} | Std Dev: {ann_std:.4f}\")\n",
        "\n",
        "print('Summary Stats on Individual Assets')\n",
        "print(\"----------------------------------\")\n",
        "describe(\"Original Portfolio\", portfolio_p)\n",
        "describe(\"risk free asset\", risk_free_asset)\n",
        "describe(\"asset1\", asset1)\n",
        "describe(\"asset2\", asset2)\n",
        "print()\n",
        "print('Summary Stats on Tilted Portfolios')\n",
        "print(\"----------------------------------\")\n",
        "describe(\"Tilt risk free\", tilt_risk_free)\n",
        "describe(\"Tilt1\", tilt1)\n",
        "describe(\"Tilt2\", tilt2)"
      ],
      "metadata": {
        "colab": {
          "base_uri": "https://localhost:8080/"
        },
        "id": "eLw7Nnk7_YTU",
        "outputId": "437a2e8f-0e0c-43a7-d18e-76fcf53647e5"
      },
      "execution_count": 16,
      "outputs": [
        {
          "output_type": "stream",
          "name": "stdout",
          "text": [
            "Summary Stats on Individual Assets\n",
            "----------------------------------\n",
            "Original Portfolio   |  Mean: 0.1987 | Std Dev: 0.1532\n",
            "risk free asset      |  Mean: 0.0360 | Std Dev: 0.0000\n",
            "asset1               |  Mean: 0.0158 | Std Dev: 0.3559\n",
            "asset2               |  Mean: 0.2168 | Std Dev: 0.2695\n",
            "\n",
            "Summary Stats on Tilted Portfolios\n",
            "----------------------------------\n",
            "Tilt risk free       |  Mean: 0.1970 | Std Dev: 0.1517\n",
            "Tilt1                |  Mean: 0.1968 | Std Dev: 0.1517\n",
            "Tilt2                |  Mean: 0.1989 | Std Dev: 0.1541\n"
          ]
        }
      ]
    }
  ]
}