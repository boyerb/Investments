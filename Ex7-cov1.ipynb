{
  "cells": [
    {
      "metadata": {
        "id": "60e04922734bcb85"
      },
      "cell_type": "markdown",
      "source": [
        "***Foundations of Investment Analysis***, Bates, Boyer, and Fletcher"
      ],
      "id": "60e04922734bcb85"
    },
    {
      "cell_type": "markdown",
      "source": [
        "# Example Chapter 7: Estimating Covariance\n",
        "In this example load in data for monthly returns on Duke Energy and First Solar.  We then compute the covariance betwee the two return series.\n"
      ],
      "metadata": {
        "id": "ys2U8y5vUw8b"
      },
      "id": "ys2U8y5vUw8b"
    },
    {
      "cell_type": "markdown",
      "source": [
        "### Imports and Setup\n",
        ""
      ],
      "metadata": {
        "id": "Vr-aWWJXVCxd"
      },
      "id": "Vr-aWWJXVCxd"
    },
    {
      "metadata": {
        "id": "d183ef4740d11cf4",
        "outputId": "402d2af2-7fe4-4cf4-dbf7-fc59b8be4717",
        "colab": {
          "base_uri": "https://localhost:8080/"
        }
      },
      "cell_type": "code",
      "outputs": [
        {
          "output_type": "stream",
          "name": "stdout",
          "text": [
            "         Date  Duke Energy  First-Solar\n",
            "0  2021-01-29     0.026649     0.002325\n",
            "1  2021-02-26    -0.079993    -0.182854\n",
            "2  2021-03-31     0.127819     0.077512\n",
            "3  2021-04-30     0.043095    -0.123368\n",
            "4  2021-05-28     0.004913    -0.005488\n",
            "5  2021-06-30    -0.014967     0.189200\n",
            "6  2021-07-30     0.064729    -0.049387\n",
            "7  2021-08-31     0.004958     0.092515\n",
            "8  2021-09-30    -0.067552     0.015532\n",
            "9  2021-10-29     0.045292     0.252776\n",
            "10 2021-11-30    -0.039738    -0.133707\n",
            "11 2021-12-30     0.080198    -0.150193\n"
          ]
        }
      ],
      "execution_count": 3,
      "source": [
        "#import packages\n",
        "import pandas as pd\n",
        "# Load in the data by first specifying the URL where the data can be found\n",
        "url='https://github.com/boyerb/Investments/raw/master/Examples_3.0.xlsx'\n",
        " # specify which columns to read\n",
        "columns_to_read = ['Date', 'Duke Energy', 'First-Solar']\n",
        "# read the data into a DataFrame\n",
        "df = pd.read_excel(url, sheet_name='7-Cov1', header=2, usecols=columns_to_read, nrows=12, engine='openpyxl')\n",
        "print(df)"
      ],
      "id": "d183ef4740d11cf4"
    },
    {
      "metadata": {
        "id": "5247bdf8ccd47c19"
      },
      "cell_type": "markdown",
      "source": [
        "### Compute Covariance"
      ],
      "id": "5247bdf8ccd47c19"
    },
    {
      "cell_type": "code",
      "source": [
        "covariance = df['Duke Energy'].cov(df['First-Solar'], ddof=0)\n",
        "print(\"Covariance between Duke Energy and First-Solar:\", covariance)"
      ],
      "metadata": {
        "id": "bVPfdHTvVC8d",
        "outputId": "441dfa2f-3e1e-47ab-81da-2b81ba912dae",
        "colab": {
          "base_uri": "https://localhost:8080/"
        }
      },
      "id": "bVPfdHTvVC8d",
      "execution_count": 6,
      "outputs": [
        {
          "output_type": "stream",
          "name": "stdout",
          "text": [
            "Covariance between Duke Energy and First-Solar: 0.0014664290054495566\n"
          ]
        }
      ]
    },
    {
      "cell_type": "markdown",
      "source": [],
      "metadata": {
        "id": "htaL77R6VCut"
      },
      "id": "htaL77R6VCut"
    }
  ],
  "metadata": {
    "kernelspec": {
      "display_name": "Python 3",
      "language": "python",
      "name": "python3"
    },
    "language_info": {
      "codemirror_mode": {
        "name": "ipython",
        "version": 2
      },
      "file_extension": ".py",
      "mimetype": "text/x-python",
      "name": "python",
      "nbconvert_exporter": "python",
      "pygments_lexer": "ipython2",
      "version": "2.7.6"
    },
    "colab": {
      "provenance": []
    }
  },
  "nbformat": 4,
  "nbformat_minor": 5
}