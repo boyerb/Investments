{
  "nbformat": 4,
  "nbformat_minor": 0,
  "metadata": {
    "colab": {
      "provenance": [],
      "authorship_tag": "ABX9TyPnu/xHV+CPv6orkUUkBFvv",
      "include_colab_link": true
    },
    "kernelspec": {
      "name": "python3",
      "display_name": "Python 3"
    },
    "language_info": {
      "name": "python"
    }
  },
  "cells": [
    {
      "cell_type": "markdown",
      "metadata": {
        "id": "view-in-github",
        "colab_type": "text"
      },
      "source": [
        "<a href=\"https://colab.research.google.com/github/boyerb/Investments/blob/master/Ex10-TestingCAPM.ipynb\" target=\"_parent\"><img src=\"https://colab.research.google.com/assets/colab-badge.svg\" alt=\"Open In Colab\"/></a>"
      ]
    },
    {
      "cell_type": "markdown",
      "source": [
        "**Investment Analysis**, Bates, Boyer, Fletcher"
      ],
      "metadata": {
        "id": "YU1yiHm_vXA2"
      }
    },
    {
      "cell_type": "markdown",
      "source": [
        "# Example Chater 10: Testing the CAPM\n",
        "In this notebook we download return data from Ken French's website and estimate the alpha's for each porfolio along with the 95% confidence intervals.   "
      ],
      "metadata": {
        "id": "S82hn1Sqvpel"
      }
    },
    {
      "cell_type": "markdown",
      "source": [
        "### Imports and Setup"
      ],
      "metadata": {
        "id": "iR7ayd-kG30H"
      }
    },
    {
      "cell_type": "code",
      "execution_count": null,
      "metadata": {
        "id": "C3wyNgvuu-Zp"
      },
      "outputs": [],
      "source": [
        "!curl -O https://raw.githubusercontent.com/boyerb/Investments/master/functions/simple_finance.py\n",
        "import simple_finance as sf\n",
        "import pandas as pd"
      ]
    },
    {
      "cell_type": "markdown",
      "source": [
        "### Choose Strategy and Estimate Alpha\n",
        "\n",
        "**`get_ff_strategies(stype: string, start_date: string, end_date: string, details: bool = False)-> pd.DataFrame`**     \n",
        "Imports historical monthly returns for decile portfolios based on trading strategies from Ken French's website and returns the data as a DataFrame  \n",
        "\n",
        "**Inputs**  \n",
        "- `stype` (*str*):  strategy type, can be either `'beta'` or `'momentum'`. Other strategies coming soon.  \n",
        "- `start_date` (*str*, optional):  starting month in format `'yyyy-mm'`  \n",
        "- `end_date` (*str*, optional): ending month in format `'yyyy-mm'`\n",
        "- `details`(*bool*, optional, default=`False`):  \n",
        "  - If True, the function will print out a simple description of the strategy and construction details.  \n",
        "\n",
        "**Returns**  \n",
        "- (*DataFrame*): Decile returns for the trading stratgey, the value-weighted market return, and the return on short-term t-bills.\n",
        "  - *Index*: Monthly date index (`pandas.PeriodIndex` with `freq='M'`).\n",
        " - *Decile Returns for Strategy* : Dec 1, Dec 2, Dec 3,...Dec 9, Dec 10\n",
        " - *mkt* : The return on the value-weighted portfolio\n",
        " - *rf* : The return on short-term t-bills\n",
        "\n",
        "**Example Usage**:  \n",
        "1. `dat=sf.get_ff_strategies(stype='momentum')`  \n",
        "Imports all avaiable monthly returns for the momentum strategy.\n",
        "\n",
        "2. `dat=sf.get_ff_strategies(stype='beta', start_date='1990-01', end_date=`2024-12`, details=True)`  \n",
        "Imports monthly returns for the beta strategy from January 1990 to December 2024, and prints out information about the strategy.\n"
      ],
      "metadata": {
        "id": "_ooDqdIzHAPH"
      }
    },
    {
      "cell_type": "code",
      "source": [
        "# Choose the strategy\n",
        "dat=sf.get_ff_strategies(stype='momentum', start_date='2021-01', end_date='2024-12')\n",
        "\n",
        "dat[exret]=dat\n",
        "\n",
        "# Estimate the alpha\n",
        "X=df[['Tech Portfolio', 'Oil Portfolio']]\n",
        "Y=df['Google']\n",
        "X=sm.add_constant(X) # we specify that we want to add a constant to the regression equation\n",
        "model=sm.OLS(Y,X).fit()\n",
        "params = model.params\n",
        "conf_int = model.conf_int(alpha=0.05)  # 95% CIs\n",
        "r_squared = model.rsquared\n",
        "# create a table of output\n",
        "results_df = pd.DataFrame({\n",
        "    'Parameter': params.index, # 1st column: parameter name\n",
        "    'Estimate': params.values, # 2nd column: parameer value\n",
        "    'CI Lower': conf_int[0].values, # 3rd column: lower bound on 95\\% CI\n",
        "    'CI Upper': conf_int[1].values  # 4th column: upper bound on 95\\% CI\n",
        "})\n",
        "\n",
        "print(results_df)\n",
        "print()\n",
        "print(\"R-squared\", r_squared)\n"
      ],
      "metadata": {
        "id": "kXFUMwjtHLe4"
      },
      "execution_count": null,
      "outputs": []
    }
  ]
}