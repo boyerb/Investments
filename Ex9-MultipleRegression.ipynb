{
  "nbformat": 4,
  "nbformat_minor": 0,
  "metadata": {
    "colab": {
      "provenance": [],
      "authorship_tag": "ABX9TyOgo/pbD4bvsIxKw9wFor4E",
      "include_colab_link": true
    },
    "kernelspec": {
      "name": "python3",
      "display_name": "Python 3"
    },
    "language_info": {
      "name": "python"
    }
  },
  "cells": [
    {
      "cell_type": "markdown",
      "metadata": {
        "id": "view-in-github",
        "colab_type": "text"
      },
      "source": [
        "<a href=\"https://colab.research.google.com/github/boyerb/Investments/blob/master/Ex9-MultipleRegression.ipynb\" target=\"_parent\"><img src=\"https://colab.research.google.com/assets/colab-badge.svg\" alt=\"Open In Colab\"/></a>"
      ]
    },
    {
      "cell_type": "markdown",
      "source": [
        "***Investment Analysis***, Bates, Boyer, and Fletcher"
      ],
      "metadata": {
        "id": "Bys-EungwVSA"
      }
    },
    {
      "cell_type": "markdown",
      "source": [
        "#Example Chapter 9: Running Regressions Using Python\n",
        "In this example we show how to load in data, run regressions using Python, and estimate the 95% confidence intervals for each parameter."
      ],
      "metadata": {
        "id": "jTtmiO76wcmA"
      }
    },
    {
      "cell_type": "markdown",
      "source": [
        "### Imports and Setup\n",
        "We first import the pandas and statsmodels.api packages. Pandas enables us to load in data, and statsmodels.api gives us the regression tools we need. We then load in the data from the appropriate tab of the *Examples.xls* workbook."
      ],
      "metadata": {
        "id": "5Kc0bSfkwzTb"
      }
    },
    {
      "cell_type": "code",
      "source": [
        "#import packages\n",
        "import pandas as pd\n",
        "import statsmodels.api as sm\n",
        "# Load in the data by first specifying the URL where the data can be found\n",
        "url='https://github.com/boyerb/Investments/raw/master/Examples_3.45.xlsx'\n",
        " # specify which columns to read\n",
        "columns_to_read = ['Season', 'PPG', 'Pace', 'Win Percentage']\n",
        "# read the data into a DataFrame\n",
        "# The headers are in row 4.  This is row 3 in Python which starts indexing at 0.\n",
        "df = pd.read_excel(url, sheet_name='9-Lakers2', header=3, usecols=columns_to_read, engine='openpyxl')\n",
        "print(df.head(10)) # prints the first 10 lines"
      ],
      "metadata": {
        "id": "vAWknhqewcBY",
        "outputId": "09c397eb-2f65-4eaa-d491-ac01f1dd78dd",
        "colab": {
          "base_uri": "https://localhost:8080/"
        }
      },
      "execution_count": 3,
      "outputs": [
        {
          "output_type": "stream",
          "name": "stdout",
          "text": [
            "    Season   PPG   Pace  Win Percentage\n",
            "0  1974-75  30.0  106.4            36.6\n",
            "1  1975-76  27.7  108.0            48.8\n",
            "2  1976-77  26.2  104.7            64.6\n",
            "3  1977-78  25.8  106.1            54.9\n",
            "4  1978-79  23.8  105.9            57.3\n",
            "5  1979-80  24.8  104.1            73.2\n",
            "6  1980-81  26.2  102.7            65.9\n",
            "7  1981-82  23.9  103.1            69.5\n",
            "8  1982-83  21.8  103.8            70.7\n",
            "9  1983-84  21.5  103.7            65.9\n"
          ]
        }
      ]
    },
    {
      "cell_type": "markdown",
      "source": [
        "### Run Regression\n",
        "Here we define our explanatory and dependent variables, run the regression, and then pull the output we want: (1) parameter estimates, (2) 95% confindence interval for each parameter, (3) The R-squared of the regression."
      ],
      "metadata": {
        "id": "EY_zwLjG4_hL"
      }
    },
    {
      "cell_type": "code",
      "source": [
        "X=df[['PPG', 'Pace']]\n",
        "Y=df['Win Percentage']\n",
        "X=sm.add_constant(X) # we specify that we want to add a constant to the regression equation\n",
        "model=sm.OLS(Y,X).fit()\n",
        "params = model.params\n",
        "conf_int = model.conf_int(alpha=0.05)  # 95% CIs\n",
        "# create a table of output\n",
        "results_df = pd.DataFrame({\n",
        "    'Parameter': params.index, # 1st column: parameter name\n",
        "    'Estimate': params.values, # 2nd column: parameer value\n",
        "    'CI Lower': conf_int[0].values, # 3rd column: lower bound on 95\\% CI\n",
        "    'CI Upper': conf_int[1].values  # 4th column: upper bound on 95\\% CI\n",
        "})\n",
        "\n",
        "print(results_df)"
      ],
      "metadata": {
        "id": "cSXmhCYFwUhp",
        "outputId": "6b1e6880-6ea6-4c9a-8a52-a016a444a5ba",
        "colab": {
          "base_uri": "https://localhost:8080/"
        }
      },
      "execution_count": 4,
      "outputs": [
        {
          "output_type": "stream",
          "name": "stdout",
          "text": [
            "  Parameter   Estimate   CI Lower    CI Upper\n",
            "0     const  40.691994 -41.355820  122.739809\n",
            "1       PPG   1.012819   0.170883    1.854756\n",
            "2      Pace  -0.058186  -0.854666    0.738295\n"
          ]
        }
      ]
    }
  ]
}