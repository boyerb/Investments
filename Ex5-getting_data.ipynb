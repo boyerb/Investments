{
  "cells": [
    {
      "cell_type": "markdown",
      "source": [
        "***Foundations of Investment Analysis***, Bates, Boyer, and Fletcher"
      ],
      "metadata": {
        "id": "L1gOEU3lC47o"
      },
      "id": "L1gOEU3lC47o"
    },
    {
      "metadata": {
        "id": "a8424377d4ab21a7"
      },
      "cell_type": "markdown",
      "source": [
        "# Example Chapter 5: Accessing Data from the Internet\n",
        "In this example we tap into the yfinance library to get monthly stock returns and Ken French's website to access data on short-term US t-bill returns. To make the process of gathering data from these sources as easy as possible, we package most of the code in easy-to-use functions in the library `simple_finance.py`.  We then use these data to estimate the annualized expected return, volatility, and Sharpe ratio for the Russell 3000 index (^RUT) and Ford Motor Company (F).  Try changing the tickers and date ranges to pull data for different companies over different time periods.\n"
      ],
      "id": "a8424377d4ab21a7"
    },
    {
      "metadata": {
        "id": "848af822f805f02a"
      },
      "cell_type": "markdown",
      "source": [
        " ### Imports and Setup\n",
        " We first load in a function file from the GitHub repository using the `curl` command. the `-O` following this command tells curl to save the file `simple_finance.py` in the current working directory. We then import the functions from the file and import other necessary libraries."
      ],
      "id": "848af822f805f02a"
    },
    {
      "metadata": {
        "id": "abfa28ff8f165bb6",
        "ExecuteTime": {
          "end_time": "2025-01-29T18:46:03.174789Z",
          "start_time": "2025-01-29T18:46:02.989001Z"
        }
      },
      "cell_type": "code",
      "source": [
        "# Load in simple_finance.py from the GitHub repository\n",
        "!curl -O https://raw.githubusercontent.com/boyerb/Investments/master/functions/simple_finance.py\n",
        "import simple_finance as sf\n",
        "# import other necessary libraries\n",
        "import numpy as np"
      ],
      "id": "abfa28ff8f165bb6",
      "outputs": [],
      "execution_count": null
    },
    {
      "metadata": {
        "id": "a6c48c9ecd523cc9"
      },
      "cell_type": "markdown",
      "source": [
        "### Access Monthly Returns\n",
        "In this block of code we access monthly returns for the Russell 3000 index (^RUA) and Ford Motor Company (F). The key function is `get_monthly_returns`.\n",
        "\n",
        "`get_monthly returns` has the following inputs:\n",
        "- **ticker** = list of desired tickers: `['ticker_1', 'ticker_2', ..., 'ticker_N']\n",
        "- **begin** = beginning month in format yyyy-mm-dd\n",
        "- **end** = ending month in format yyyy-mm-dd\n",
        "- **tbill_return** = True or False. If True, the return on short-term tbills will be included in the DataFrame. If False, the return on short-term tbills will not be included.\n",
        "\n",
        "The output is a DataFrame with monthly returns for each ticker, and the return on short-term tbills if `tbill_return=True`.\n",
        "\n",
        "We then calculate the annualized average return and volatility."
      ],
      "id": "a6c48c9ecd523cc9"
    },
    {
      "cell_type": "code",
      "source": [
        "# Get monthly returns for a given list of stock tickers using the yfinance API\n",
        "ticker = ['^RUA', 'F']\n",
        "# Use tbill_return=True to get the return on short-term tbills, or False to exclude tbill returns\n",
        "dat = sf.get_monthly_returns(ticker, '1990-01-01', '2023-12-31', tbill_return=False)\n"
      ],
      "metadata": {
        "id": "22shU3S7VPMh"
      },
      "id": "22shU3S7VPMh",
      "execution_count": null,
      "outputs": []
    },
    {
      "metadata": {
        "id": "aa5b611ec5c3a9ce",
        "ExecuteTime": {
          "end_time": "2025-01-29T18:24:02.726902Z",
          "start_time": "2025-01-29T18:24:02.545355Z"
        }
      },
      "cell_type": "code",
      "source": [
        "# Get monthly returns for a given list of stock tickers using the yfinance API\n",
        "ticker = ['^RUA', 'F']\n",
        "# Use tbill_return=True to get the return on short-term tbills, or False to exclude tbill returns\n",
        "dat = sf.get_monthly_returns(ticker, '1990-01-01', '2023-12-31', tbill_return=False)\n",
        "\n",
        "# Calculate the annualized average return and volatility\n",
        "A_Avg = dat.mean() * 12\n",
        "A_Vol = dat.std() * np.sqrt(12)\n",
        "print('Anualized Average Return')\n",
        "print(A_Avg)\n",
        "print()\n",
        "print('Annualized Volatility')\n",
        "print(A_Vol)\n"
      ],
      "id": "aa5b611ec5c3a9ce",
      "outputs": [],
      "execution_count": null
    },
    {
      "metadata": {
        "id": "e2c37d3cf72d9c37"
      },
      "cell_type": "markdown",
      "source": [
        "### Calculate Sharpe Ratios\n",
        "In this block od code we access data for the Russell 3000 index and Ford Motor Company **ticker = ['^RUA', 'F']**. We also retrieve data on short-term t-bill returns. Using these data we calculate the Sharpe ratios for the Russell 3000 and Ford."
      ],
      "id": "e2c37d3cf72d9c37"
    },
    {
      "metadata": {
        "id": "654477d73970a945",
        "ExecuteTime": {
          "end_time": "2024-12-17T00:47:08.600824Z",
          "start_time": "2024-12-17T00:47:08.036168Z"
        }
      },
      "cell_type": "code",
      "source": [
        "# Download data along with return on short-term tbills from Ken French's website\n",
        "dat = sf.get_monthly_returns(ticker, '1990-01-01', '2023-12-31', tbill_return=True)\n",
        "# Calculate excess returns\n",
        "dat['exret0'] = dat[ticker[0]] - dat['RF']\n",
        "dat['exret1'] = dat[ticker[1]] - dat['RF']\n",
        "print(dat.head())\n",
        "\n",
        "# Calculate and print Sharpe ratios\n",
        "# Calculate the Shapre ratio for the first ticker in the list\n",
        "A_AVG_exret0 = dat['exret0'].mean() * 12\n",
        "A_Vol_exret0 = dat[ticker[0]].std() * np.sqrt(12)\n",
        "Sharpe0 = A_AVG_exret0/A_Vol_exret0\n",
        "\n",
        "# Calculate the Shapre ratio for the second ticker in the list\n",
        "A_AVG_exret1 = dat['exret1'].mean() * 12\n",
        "A_Vol_exret1 = dat[ticker[1]].std() * np.sqrt(12)\n",
        "Sharpe1 = A_AVG_exret1/A_Vol_exret1\n",
        "\n",
        "print('Sharpe Ratios')\n",
        "print(ticker[0], Sharpe0)\n",
        "print(ticker[1], Sharpe1)"
      ],
      "id": "654477d73970a945",
      "outputs": [],
      "execution_count": null
    }
  ],
  "metadata": {
    "kernelspec": {
      "display_name": "Python 3",
      "language": "python",
      "name": "python3"
    },
    "language_info": {
      "codemirror_mode": {
        "name": "ipython",
        "version": 2
      },
      "file_extension": ".py",
      "mimetype": "text/x-python",
      "name": "python",
      "nbconvert_exporter": "python",
      "pygments_lexer": "ipython2",
      "version": "2.7.6"
    },
    "colab": {
      "provenance": []
    }
  },
  "nbformat": 4,
  "nbformat_minor": 5
}