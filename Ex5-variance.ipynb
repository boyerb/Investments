{
 "cells": [
  {
   "metadata": {},
   "cell_type": "markdown",
   "source": [
    "# Example Chapter 5: Estimating Variance and Standard Deviation\n",
    "In this example we simulate a random sample drawn from a discrete PDF. We then estimate the variance and standard deviation."
   ],
   "id": "bf28204faf8f62bc"
  },
  {
   "cell_type": "code",
   "id": "7ea08743",
   "metadata": {},
   "source": [
    "#import packages\n",
    "import numpy as np\n",
    "import matplotlib.pyplot as plt"
   ],
   "outputs": [],
   "execution_count": null
  },
  {
   "cell_type": "code",
   "id": "c8713d23",
   "metadata": {},
   "source": [
    "# Define the discrete PDF\n",
    "outcomes = [-0.05, 0.00, 0.05, 0.10]  # Possible return outcomes\n",
    "probabilities = [0.2, 0.3, 0.4, 0.1]  # Corresponding probabilities"
   ],
   "outputs": [],
   "execution_count": null
  },
  {
   "metadata": {},
   "cell_type": "code",
   "source": [
    "# Calculate the true variance and standard deviation\n",
    "expected_return = np.dot(outcomes, probabilities)\n",
    "squared_deviations = (outcomes - expected_return) ** 2\n",
    "print('squared deviations:', squared_deviations)\n",
    "variance = np.dot(probabilities, squared_deviations)\n",
    "print('True Variance and Standard Deviation from PDF:')\n",
    "print('Variance:', variance)\n",
    "print('Standard Deviation:', np.sqrt(variance))"
   ],
   "id": "18f7b1a0604daf3c",
   "outputs": [],
   "execution_count": null
  },
  {
   "metadata": {},
   "cell_type": "code",
   "source": [
    "# Simulate returns\n",
    "num_simulations = 100 # number of random variables to create\n",
    "rng = np.random.default_rng()  # Create a random number generator object\n",
    "simulated_returns = rng.choice(outcomes, size=num_simulations, p=probabilities)"
   ],
   "id": "eddef90040313c40",
   "outputs": [],
   "execution_count": null
  },
  {
   "metadata": {},
   "cell_type": "code",
   "source": [
    "# Estimate Variance\n",
    "variance_estimate = np.var(simulated_returns)\n",
    "std_dev_estimate = np.std(simulated_returns)\n",
    "print('Estimated Variance and Standard Deviation from Simulated Returns:')\n",
    "print('Variance:', variance_estimate)\n",
    "print('Standard Deviation:', std_dev_estimate)\n"
   ],
   "id": "2f9a2e9fd192059e",
   "outputs": [],
   "execution_count": null
  }
 ],
 "metadata": {
  "jupytext": {
   "cell_metadata_filter": "-all",
   "main_language": "python",
   "notebook_metadata_filter": "-all"
  },
  "kernelspec": {
   "name": "python3",
   "language": "python",
   "display_name": "Python 3 (ipykernel)"
  }
 },
 "nbformat": 4,
 "nbformat_minor": 5
}
