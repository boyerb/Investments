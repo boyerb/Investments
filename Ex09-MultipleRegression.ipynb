{
  "nbformat": 4,
  "nbformat_minor": 0,
  "metadata": {
    "colab": {
      "provenance": [],
      "authorship_tag": "ABX9TyNt/3ZegaVmOQD/dxiqRMVB",
      "include_colab_link": true
    },
    "kernelspec": {
      "name": "python3",
      "display_name": "Python 3"
    },
    "language_info": {
      "name": "python"
    }
  },
  "cells": [
    {
      "cell_type": "markdown",
      "metadata": {
        "id": "view-in-github",
        "colab_type": "text"
      },
      "source": [
        "<a href=\"https://colab.research.google.com/github/boyerb/Investments/blob/master/Ex09-MultipleRegression.ipynb\" target=\"_parent\"><img src=\"https://colab.research.google.com/assets/colab-badge.svg\" alt=\"Open In Colab\"/></a>"
      ]
    },
    {
      "cell_type": "markdown",
      "source": [
        "**Investments: Theory, Fundamental Analysis, and Data Driven Analytics**, Bates, Boyer, and Fletcher"
      ],
      "metadata": {
        "id": "Bys-EungwVSA"
      }
    },
    {
      "cell_type": "markdown",
      "source": [
        "#Example Chapter 9: Running Regressions Using Python\n",
        "In this example we show how to load in data, run regressions using Python, and estimate the 95% confidence intervals for each parameter."
      ],
      "metadata": {
        "id": "jTtmiO76wcmA"
      }
    },
    {
      "cell_type": "markdown",
      "source": [
        "### Imports and Setup\n",
        "We first import the pandas and statsmodels.api packages. Pandas enables us to load in data, and statsmodels.api gives us the regression tools we need. We then specify the option to truncate output when printing."
      ],
      "metadata": {
        "id": "5Kc0bSfkwzTb"
      }
    },
    {
      "cell_type": "code",
      "source": [
        "#import packages\n",
        "import pandas as pd\n",
        "import statsmodels.api as sm\n",
        "pd.set_option(\"display.max_rows\", 20) # Force truncation to at most 20 rows (10 from top, 10 from bottom)\n"
      ],
      "metadata": {
        "id": "vAWknhqewcBY"
      },
      "execution_count": null,
      "outputs": []
    },
    {
      "cell_type": "markdown",
      "source": [
        "### Load in Data\n",
        "We now load a the data from the Excel Examples workbook under the `EX9.5.1` tab into a pandas DataFrame. We explicitly choose a set of columns to import and specify the header row to ensure the data aligns correctly. Finally, we display the DataFrame contents."
      ],
      "metadata": {
        "id": "SYe0X9vfGTMh"
      }
    },
    {
      "cell_type": "code",
      "source": [
        "# Load in the data by first specifying the URL where the data can be found\n",
        "url='https://github.com/boyerb/Investments/raw/master/Excel_Examples_25.01.xlsx'\n",
        " # specify which columns to read\n",
        "columns_to_read = ['Season', 'Leading Scorer', 'PPG', 'Pace', 'Win Percentage']\n",
        "# read the data into a DataFrame\n",
        "df = pd.read_excel(url, sheet_name='EX9.5.1', header=3, usecols=columns_to_read, engine='openpyxl')\n",
        "print(df) # prints the first 10 lines\n"
      ],
      "metadata": {
        "id": "gRUnib1K9iL8"
      },
      "execution_count": null,
      "outputs": []
    },
    {
      "cell_type": "markdown",
      "source": [
        "### Run Regression\n",
        "Here we define our explanatory and dependent variables, run the regression, and then pull the output we want:\n",
        "1. parameter estimates,\n",
        "2. 95% confindence interval for each parameter"
      ],
      "metadata": {
        "id": "EY_zwLjG4_hL"
      }
    },
    {
      "cell_type": "code",
      "source": [
        "X=df[['PPG', 'Pace']]\n",
        "Y=df['Win Percentage']\n",
        "X=sm.add_constant(X)  # we specify that we want to add a constant to the regression equation\n",
        "model=sm.OLS(Y,X).fit() # run the regression\n",
        "params = model.params # parameter values\n",
        "conf_int = model.conf_int(alpha=0.05)  # 95% CIs\n",
        "\n",
        "# create a table of output\n",
        "results_df = pd.DataFrame({\n",
        "    'Parameter': params.index, # 1st column: parameter name\n",
        "    'Estimate': params.values, # 2nd column: parameer value\n",
        "    'CI Lower': conf_int[0].values, # 3rd column: lower bound on 95\\% CI\n",
        "    'CI Upper': conf_int[1].values  # 4th column: upper bound on 95\\% CI\n",
        "})\n",
        "print(results_df)"
      ],
      "metadata": {
        "id": "cSXmhCYFwUhp"
      },
      "execution_count": null,
      "outputs": []
    }
  ]
}