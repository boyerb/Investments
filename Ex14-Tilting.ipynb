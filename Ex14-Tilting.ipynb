{
  "nbformat": 4,
  "nbformat_minor": 0,
  "metadata": {
    "colab": {
      "provenance": [],
      "authorship_tag": "ABX9TyOfVh+vvvHetTYB5CWBXJcV",
      "include_colab_link": true
    },
    "kernelspec": {
      "name": "python3",
      "display_name": "Python 3"
    },
    "language_info": {
      "name": "python"
    }
  },
  "cells": [
    {
      "cell_type": "markdown",
      "metadata": {
        "id": "view-in-github",
        "colab_type": "text"
      },
      "source": [
        "<a href=\"https://colab.research.google.com/github/boyerb/Investments/blob/master/Ex14-Tilting.ipynb\" target=\"_parent\"><img src=\"https://colab.research.google.com/assets/colab-badge.svg\" alt=\"Open In Colab\"/></a>"
      ]
    },
    {
      "cell_type": "markdown",
      "source": [
        "***Investment Analysis***, Bates, Boyer, and Fletcher  "
      ],
      "metadata": {
        "id": "kC1MxGsO9XpM"
      }
    },
    {
      "cell_type": "markdown",
      "source": [
        "# Example Chapter 14: Tilting Towards Idiosyncratic Risk"
      ],
      "metadata": {
        "id": "fedEa1qc9ckT"
      }
    },
    {
      "cell_type": "markdown",
      "source": [
        "### Imports and Setup"
      ],
      "metadata": {
        "id": "HuFnjUFO-Bwr"
      }
    },
    {
      "cell_type": "code",
      "source": [
        "import numpy as np\n",
        "import matplotlib.pyplot as plt"
      ],
      "metadata": {
        "id": "zvJ82sRD9-9J"
      },
      "execution_count": 429,
      "outputs": []
    },
    {
      "cell_type": "code",
      "source": [],
      "metadata": {
        "id": "1EBOf_RfvP6N"
      },
      "execution_count": 429,
      "outputs": []
    },
    {
      "cell_type": "markdown",
      "source": [
        "### Generate Returns\n",
        "We first simulate the returns on three assets:\n",
        "1. **portfolio $p$**: monthly $E[r_p]= 1.5\\%$ and volatility $0.05$.  \n",
        "2. **risk-free asset**: constant return of $0.30 \\%$.\n",
        "3. **ZeroBeta**: monthly $E[r]= 0.30\\%$ and volatility of $0.10$.\n",
        "4. **RiskRider**: beta of 1.8 relative to $p$, $E[r]=2.3\\%$ per month, and total volatility equal to that of ZeroBeta.  \n",
        "  \n"
      ],
      "metadata": {
        "id": "CHp8RRaeA77F"
      }
    },
    {
      "cell_type": "code",
      "source": [
        "T = 500\n",
        "zero_mean = np.random.normal(loc=0, scale=.05, size=T) # zero mean random variable with vol=0.05\n",
        "portfolio_p = 0.015 + zero_mean # portfolio p\n",
        "risk_free_asset = 0.003 # risk-free rate\n",
        "ZeroBeta = np.random.normal(loc=0.003, scale=0.10, size=T) # ZeroBeta\n",
        "RiskRider =0.023 + 1.8 * zero_mean + np.random.normal(loc=0, scale=0.043589, size=T) # RiskRider"
      ],
      "metadata": {
        "id": "VUDBtjPs-Fzq"
      },
      "execution_count": 430,
      "outputs": []
    },
    {
      "cell_type": "code",
      "source": [],
      "metadata": {
        "id": "u746uhMHvekp"
      },
      "execution_count": 430,
      "outputs": []
    },
    {
      "cell_type": "markdown",
      "source": [
        "### Create Tilted Portfolios\n",
        "We create three portfolios that tilt portfolio p toward\n",
        "1. The risk-free asset\n",
        "2. ZeroBeta\n",
        "3. RiskRider"
      ],
      "metadata": {
        "id": "RylWZ_iRNsVu"
      }
    },
    {
      "cell_type": "code",
      "source": [
        "w = 0.01 # tilt size\n",
        "tilt_risk_free = w * risk_free_asset + (1 - w) * portfolio_p\n",
        "tilt1 =  w * ZeroBeta + (1 - w) * portfolio_p\n",
        "tilt2 =  w * RiskRider + (1 - w) * portfolio_p\n"
      ],
      "metadata": {
        "id": "ckEwMJ0F-_VL"
      },
      "execution_count": 431,
      "outputs": []
    },
    {
      "cell_type": "markdown",
      "source": [],
      "metadata": {
        "id": "O4p8ZmvaN76Y"
      }
    },
    {
      "cell_type": "code",
      "source": [
        "def describe(name, series):\n",
        "    ann_std = np.std(series)\n",
        "    print(f\"{name:20s} |  Std Dev: {ann_std:.6f}\")\n",
        "\n",
        "print('Summary Stats on Individual Assets')\n",
        "print(\"----------------------------------\")\n",
        "describe(\"Original Portfolio\", portfolio_p)\n",
        "describe(\"risk free asset\", risk_free_asset)\n",
        "describe(\"ZeroBeta\", ZeroBeta)\n",
        "describe(\"RiskRider\", RiskRider)\n",
        "print()\n",
        "\n",
        "def summary(name, series):\n",
        "    ann_std = np.std(series)\n",
        "    base_std = np.std(portfolio_p)\n",
        "    pct_chg = ann_std / base_std - 1\n",
        "    print(f\"{name:20s} |  Std Dev: {ann_std:.6f} | Pct Change: {pct_chg * 100:.1f}%\" )\n",
        "\n",
        "print('Summary Stats on Tilted Portfolios')\n",
        "print(\"----------------------------------\")\n",
        "summary(\"Tilt risk free\", tilt_risk_free)\n",
        "summary(\"Tilt to ZeroBeta\", tilt1)\n",
        "summary(\"Tilt to RiskRider\", tilt2)"
      ],
      "metadata": {
        "colab": {
          "base_uri": "https://localhost:8080/"
        },
        "id": "eLw7Nnk7_YTU",
        "outputId": "da426298-e445-4c9c-8373-a779937eecef"
      },
      "execution_count": 432,
      "outputs": [
        {
          "output_type": "stream",
          "name": "stdout",
          "text": [
            "Summary Stats on Individual Assets\n",
            "----------------------------------\n",
            "Original Portfolio   |  Std Dev: 0.052434\n",
            "risk free asset      |  Std Dev: 0.000000\n",
            "ZeroBeta             |  Std Dev: 0.104391\n",
            "RiskRider            |  Std Dev: 0.102375\n",
            "\n",
            "Summary Stats on Tilted Portfolios\n",
            "----------------------------------\n",
            "Tilt risk free       |  Std Dev: 0.051910 | Pct Change: -1.0%\n",
            "Tilt to ZeroBeta     |  Std Dev: 0.051931 | Pct Change: -1.0%\n",
            "Tilt to RiskRider    |  Std Dev: 0.052840 | Pct Change: 0.8%\n"
          ]
        }
      ]
    }
  ]
}