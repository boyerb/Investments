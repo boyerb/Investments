{
  "nbformat": 4,
  "nbformat_minor": 0,
  "metadata": {
    "colab": {
      "provenance": [],
      "authorship_tag": "ABX9TyPqYo9azmGYuDJepZtSn2zn",
      "include_colab_link": true
    },
    "kernelspec": {
      "name": "python3",
      "display_name": "Python 3"
    },
    "language_info": {
      "name": "python"
    }
  },
  "cells": [
    {
      "cell_type": "markdown",
      "metadata": {
        "id": "view-in-github",
        "colab_type": "text"
      },
      "source": [
        "<a href=\"https://colab.research.google.com/github/boyerb/Investments/blob/master/Exxx_Risk_Factor_Exposures_and_Performance_Spread.ipynb\" target=\"_parent\"><img src=\"https://colab.research.google.com/assets/colab-badge.svg\" alt=\"Open In Colab\"/></a>"
      ]
    },
    {
      "cell_type": "markdown",
      "source": [
        "**Investment Analysis**, Bates, Boyer, Fletcher"
      ],
      "metadata": {
        "id": "DB0kcG2tDzJI"
      }
    },
    {
      "cell_type": "markdown",
      "source": [
        "# Example Chapter xx: Rick-Factor Exposures and the Performance Spread\n",
        "In this example we illustrate how to calcualte the contributions of factor exposures to the performance spread in a multi-factor model."
      ],
      "metadata": {
        "id": "2phKwviJD2mR"
      }
    },
    {
      "cell_type": "markdown",
      "source": [
        "### Imports and Setup"
      ],
      "metadata": {
        "id": "X2FN_S5ZEOMx"
      }
    },
    {
      "cell_type": "code",
      "execution_count": null,
      "metadata": {
        "id": "q9_Cwq05LiOS"
      },
      "outputs": [],
      "source": [
        "!curl -O https://raw.githubusercontent.com/boyerb/Investments/master/functions/simple_finance.py\n",
        "import simple_finance as sf\n",
        "import pandas as pd\n",
        "import numpy as np\n",
        "import statsmodels.api as sm\n",
        "import matplotlib.pyplot as plt\n",
        "import matplotlib.ticker as mtick"
      ]
    },
    {
      "cell_type": "markdown",
      "source": [
        "### Load Monthly Returns for Portfolio,  Benchmark, and Fama-French 5 Factors\n",
        "We first load portfolio and benchmark return data from an Excel file and prepare it for analysis. The Fama–French 5 factor dataset already uses a PeriodIndex with monthly frequency. To make the portfolio and benchmark data consistent, we convert their date index into the same format:\n",
        " * `pd.to_datetime(df.index, format='%Y-%m')` converts the index into proper datetime objects (timestamps at the start of each month).\n",
        "\n",
        " * `.to_period('M')` then turns those timestamps into a PeriodIndex with monthly frequency.\n",
        "\n",
        "This ensures that both datasets use the same type of monthly index, which makes them easy to merge."
      ],
      "metadata": {
        "id": "Uq2JrrqSET75"
      }
    },
    {
      "cell_type": "code",
      "source": [
        "# Load in the data by first specifying the URL where the data can be found\n",
        "url='https://github.com/boyerb/Investments/raw/master/Examples_3.47.xlsx'\n",
        "# specify which columns to read\n",
        "columns_to_read = ['date', 'Portfolio','Benchmark']\n",
        "df = pd.read_excel(url, sheet_name='PA-3', header=0, usecols=columns_to_read, engine='openpyxl')\n",
        "df = df.dropna()\n",
        "df = df.set_index('date').sort_index()\n",
        "df.index  = pd.to_datetime(df.index, format='%Y-%m').to_period('M')\n",
        "\n",
        "ff5=sf.get_ff5(start_date=None, end_date=None)"
      ],
      "metadata": {
        "id": "gz4qOG-dRwtJ"
      },
      "execution_count": null,
      "outputs": []
    },
    {
      "cell_type": "markdown",
      "source": [
        "### Merfe the Two Datasets"
      ],
      "metadata": {
        "id": "G5YxlhRUGMUg"
      }
    },
    {
      "cell_type": "code",
      "source": [
        "data = df.join(ff5, how='inner')\n",
        "print(data.head(5))"
      ],
      "metadata": {
        "id": "KoE6snIjTSoY"
      },
      "execution_count": null,
      "outputs": []
    },
    {
      "cell_type": "markdown",
      "source": [
        "### Create Excess Returns and Define Explanatory Variables"
      ],
      "metadata": {
        "id": "-ojOLfmXGScG"
      }
    },
    {
      "cell_type": "code",
      "source": [
        "# Excess returns\n",
        "data['Port_excess'] = data['Portfolio'] - data['RF']\n",
        "data['Bench_excess'] = data['Benchmark'] - data['RF']\n",
        "data['Active_excess'] = data['Portfolio'] - data['Benchmark']   # active return\n",
        "\n",
        "# Explaantory Variables (Factor Matrix)\n",
        "factors = data[['Mkt-RF','SMB','HML','RMW','CMA']]"
      ],
      "metadata": {
        "id": "8IKq1Jn1T4_4"
      },
      "execution_count": null,
      "outputs": []
    },
    {
      "cell_type": "markdown",
      "source": [
        "### Regression Attribution Function\n",
        "The `run_reg_details` function runs an OLS regression of a return series on the Fama–French factors and produces two useful tables:\n",
        "\n",
        " * Coefficients table — shows the estimated regression coefficients (alpha, b1, b2, …).\n",
        "\n",
        " * Contributions table — shows the contribution of each factor to average return, computed as beta × average factor return, along with alpha and the total.\n",
        "\n",
        "**How it works:**  \n",
        "You give the function a return series (portfolio, benchmark, or active), the factor matrix, and a label (name). The function runs an OLS regression, extracts the regression coefficients to build  a  **coefficients table**, and then multiplies each factor’s coefficient by its average return to build a  **contributions table**.\n",
        "\n",
        "**Inputs you provide:**  \n",
        "\n",
        " * `y`: the dependent variable (e.g., portfolio excess return, benchmark excess return, or active excess return).\n",
        " * `X`: the independent variables (the factor matrix).\n",
        " * `name`: a string label for the regression (e.g., `\"Portfolio\"`, `\"Benchmark\"`, `\"Active\"`).\n",
        "\n",
        "**What you get back:**\n",
        "\n",
        " * `coefs`: a Series with alpha and each regression coefficient (b1, b2, …).\n",
        " * `contribs`: a Series with alpha, each bi*avg(Fi), and the total."
      ],
      "metadata": {
        "id": "L8YFBWogGyDS"
      }
    },
    {
      "cell_type": "code",
      "source": [
        "def run_reg_details(y, X, name):\n",
        "    \"\"\"\n",
        "    OLS of y on X (with intercept). Returns:\n",
        "      - coefs:    Alpha, b1, b2, ...             (as a Series named `name`)\n",
        "      - contribs: Alpha, b1*avg(F1), ..., Total (as a Series named `name`)\n",
        "    \"\"\"\n",
        "    model = sm.OLS(y, sm.add_constant(X)).fit()\n",
        "    alpha = model.params[\"const\"]\n",
        "    betas = model.params.drop(\"const\")\n",
        "\n",
        "    # Coefficients: Alpha, b1..bK\n",
        "    coefs = pd.Series({\"Alpha\": alpha, **{f\"b{i}\": betas[f] for i, f in enumerate(X.columns, 1)}}, name=name)\n",
        "\n",
        "    # Contributions: Alpha, b1*avg(F1).., Total\n",
        "    contrib_items = {\"Alpha\": alpha}\n",
        "    contrib_items.update({f\"b{i}*avg({f})\": betas[f] * X[f].mean() for i, f in enumerate(X.columns, 1)})\n",
        "    contrib_items[\"Total\"] = sum(contrib_items.values())\n",
        "    contribs = pd.Series(contrib_items, name=name)\n",
        "\n",
        "    return coefs, contribs\n"
      ],
      "metadata": {
        "id": "Var3hL2l_-hm"
      },
      "execution_count": null,
      "outputs": []
    },
    {
      "cell_type": "markdown",
      "source": [
        "### Run Factor Regressions and Build Tables\n",
        "We now run the regression function run_reg_details for the portfolio, benchmark, and active return series. Each regression produces two outputs:\n",
        "\n",
        " * Coefficients table: shows alpha and the raw factor betas.\n",
        " * Contributions table: shows alpha and each factor’s contribution ($\\beta \\times$ average factor return).\n",
        "\n",
        "The first block runs the regression three times: once for portfolio excess returns, once for benchmark excess returns, and once for active (portfolio – benchmark).\n",
        "\n",
        "The second block combines the results side by side into two summary tables:\n",
        "\n",
        " * `coef_table`: the regression coefficients ($\\alpha$ and betas) for each regression.  \n",
        " * `contrib_table`: annualized contributions (each monthly number is multiplied by 12 to annualize).\n",
        "\n"
      ],
      "metadata": {
        "id": "qsp9hdB3IoLg"
      }
    },
    {
      "cell_type": "code",
      "source": [
        "# Run for Portfolio, Benchmark, Active\n",
        "coefs_port, contrib_port  = run_reg_details(data[\"Port_excess\"],  factors, \"Portfolio\")\n",
        "coefs_bench, contrib_bench  = run_reg_details(data[\"Bench_excess\"], factors, \"Benchmark\")\n",
        "coefs_active, contrib_active  = run_reg_details(data[\"Active_excess\"], factors, \"Active\")\n",
        "\n",
        "# Build tables\n",
        "coef_table    = pd.concat([coefs_port,  coefs_bench,  coefs_active],  axis=1)\n",
        "\n"
      ],
      "metadata": {
        "id": "TrQ3K_UXAlIA"
      },
      "execution_count": null,
      "outputs": []
    },
    {
      "cell_type": "markdown",
      "source": [
        "### Print the regression coefficients\n",
        "The `\\n` adds a blank line after printing each table."
      ],
      "metadata": {
        "id": "dBXX6OLEMZv_"
      }
    },
    {
      "cell_type": "code",
      "source": [
        "print(\"Regression Coefficients\")\n",
        "print(coef_table, \"\\n\")\n",
        "\n",
        "print(\"Contributions\")\n",
        "print(contrib_active, \"\\n\")\n",
        "\n",
        "# Show that Active Total equals performance spread (mean Active excess)\n",
        "mean_excess = pd.Series({\n",
        "    \"Active\":    data[\"Active_excess\"].mean(),\n",
        "}, name=\"Mean Excess\")\n",
        "\n",
        "print(\"Performance Spread\", data[\"Active_excess\"].mean())"
      ],
      "metadata": {
        "id": "Sh3ZXL0eAxDa"
      },
      "execution_count": null,
      "outputs": []
    },
    {
      "cell_type": "markdown",
      "source": [
        "### Summary\n",
        "The first table above presents the regression coefficients.  Note that the values in the **Active** column are equal to the **Portfolio** value minus the **Benchmark** value.  Both the portfolio and benchmark have a negative alpha, but the portfolio alpha is 31.78 basis points higher. The portfolio has greater exposure to the market factor (b1), the RMW factor (b2) and the CMA factor (b5), and lower exposure to the SMB (b2) and HML (b3) factors.\n",
        "\n",
        "The contributions table decomposes the performance spread into two parts: alpha and the contributions from exposure to each risk factor. Greater exposure to the market factor is adding 45.42 basis points to the performance spread, which is 82.21 basis points. The next biggest contributor is CMA, the exposure to which is adding another 19.62 basis points.  "
      ],
      "metadata": {
        "id": "GCLH00ZwJrwg"
      }
    }
  ]
}