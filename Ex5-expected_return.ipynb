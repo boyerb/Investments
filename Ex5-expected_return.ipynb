{
 "cells": [
  {
   "metadata": {},
   "cell_type": "markdown",
   "source": [
    "***Foundations of Investment Analysis***, Bates, Boyer, and Fletcher\n",
    "# Example Chapter 5: Estimating Expected Returns\n",
    "In this example we simulate a random sample drawn from a discrete PDF described in the table below. We then estimate the expected return.\n",
    "\n",
    "| Return | Probability |\n",
    "|--------|-------------|\n",
    "| -5%    | 20%         |\n",
    "| 0%     | 30%         |\n",
    "| 5%     | 40%         |\n"
   ],
   "id": "bf28204faf8f62bc"
  },
  {
   "cell_type": "code",
   "id": "7ea08743",
   "metadata": {},
   "source": [
    "#import packages\n",
    "import numpy as np"
   ],
   "outputs": [],
   "execution_count": null
  },
  {
   "cell_type": "code",
   "id": "c8713d23",
   "metadata": {},
   "source": [
    "# Define the discrete PDF\n",
    "outcomes = [-0.05, 0.00, 0.05, 0.10]  # Possible return outcomes\n",
    "probabilities = [0.2, 0.3, 0.4, 0.1]  # Corresponding probabilities"
   ],
   "outputs": [],
   "execution_count": null
  },
  {
   "metadata": {},
   "cell_type": "code",
   "source": [
    "# Calculate the True Expected Return\n",
    "true_expected_return = np.dot(outcomes, probabilities)\n",
    "print('True Expected Return:', true_expected_return)"
   ],
   "id": "f0a271323d6f32b5",
   "outputs": [],
   "execution_count": null
  },
  {
   "metadata": {},
   "cell_type": "code",
   "source": [
    "# Simulate a Random Sample\n",
    "num_simulations = 100 # number of random variables to create\n",
    "rng = np.random.default_rng()  # Create a random number generator object\n",
    "simulated_returns = rng.choice(outcomes, size=num_simulations, p=probabilities)"
   ],
   "id": "b1d17a49f7000ca0",
   "outputs": [],
   "execution_count": null
  },
  {
   "cell_type": "code",
   "id": "061fe396",
   "metadata": {},
   "source": [
    "# Estimate the Expected Return from the Random Sample\n",
    "estimated_expected_return = np.mean(simulated_returns)\n",
    "print('Estimated Expected Return:', estimated_expected_return)"
   ],
   "outputs": [],
   "execution_count": null
  }
 ],
 "metadata": {
  "jupytext": {
   "cell_metadata_filter": "-all",
   "main_language": "python",
   "notebook_metadata_filter": "-all"
  },
  "kernelspec": {
   "name": "python3",
   "language": "python",
   "display_name": "Python 3 (ipykernel)"
  }
 },
 "nbformat": 4,
 "nbformat_minor": 5
}
