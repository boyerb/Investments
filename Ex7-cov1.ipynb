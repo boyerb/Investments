{
  "cells": [
    {
      "metadata": {
        "id": "60e04922734bcb85"
      },
      "cell_type": "markdown",
      "source": [
        "***Foundations of Investment Analysis***, Bates, Boyer, and Fletcher"
      ],
      "id": "60e04922734bcb85"
    },
    {
      "cell_type": "markdown",
      "source": [
        "# Example Chapter 7: Estimating Covariance\n",
        "In this example load in data for monthly returns on Duke Energy and First Solar.  We then compute the covariance betwee the two return series.\n"
      ],
      "metadata": {
        "id": "ys2U8y5vUw8b"
      },
      "id": "ys2U8y5vUw8b"
    },
    {
      "cell_type": "markdown",
      "source": [
        "### Imports and Setup\n"
      ],
      "metadata": {
        "id": "Vr-aWWJXVCxd"
      },
      "id": "Vr-aWWJXVCxd"
    },
    {
      "metadata": {
        "id": "d183ef4740d11cf4"
      },
      "cell_type": "code",
      "outputs": [],
      "execution_count": null,
      "source": [
        "#import packages\n",
        "import pandas as pd\n",
        "# Load in the data by first specifying the URL where the data can be found\n",
        "url='https://github.com/boyerb/Investments/raw/master/Examples_3.0.xlsx'\n",
        " # specify which columns to read\n",
        "columns_to_read = ['Date', 'Duke Energy', 'First-Solar']\n",
        "# read the data into a DataFrame\n",
        "df = pd.read_excel(url, sheet_name='7-Cov1', header=2, usecols=columns_to_read, nrows=12, engine='openpyxl')\n",
        "print(df)"
      ],
      "id": "d183ef4740d11cf4"
    },
    {
      "metadata": {
        "id": "5247bdf8ccd47c19"
      },
      "cell_type": "markdown",
      "source": [
        "### Compute Covariance and Correlation"
      ],
      "id": "5247bdf8ccd47c19"
    },
    {
      "cell_type": "code",
      "source": [
        "covariance = df['Duke Energy'].cov(df['First-Solar'], ddof=0) # ddof=0 ensures we are simply dividing by N to compute covariance and variances.\n",
        "correlation = df['Duke Energy'].corr(df['First-Solar'])\n",
        "print(\"Covariance between Duke Energy and First-Solar:\", covariance)\n",
        "print(\"Correlation between Duke Energy and First-Solar:\", correlation)"
      ],
      "metadata": {
        "id": "bVPfdHTvVC8d"
      },
      "id": "bVPfdHTvVC8d",
      "execution_count": null,
      "outputs": []
    },
    {
      "cell_type": "markdown",
      "source": [],
      "metadata": {
        "id": "htaL77R6VCut"
      },
      "id": "htaL77R6VCut"
    }
  ],
  "metadata": {
    "kernelspec": {
      "display_name": "Python 3",
      "language": "python",
      "name": "python3"
    },
    "language_info": {
      "codemirror_mode": {
        "name": "ipython",
        "version": 2
      },
      "file_extension": ".py",
      "mimetype": "text/x-python",
      "name": "python",
      "nbconvert_exporter": "python",
      "pygments_lexer": "ipython2",
      "version": "2.7.6"
    },
    "colab": {
      "provenance": []
    }
  },
  "nbformat": 4,
  "nbformat_minor": 5
}