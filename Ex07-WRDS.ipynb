{
  "nbformat": 4,
  "nbformat_minor": 0,
  "metadata": {
    "colab": {
      "provenance": [],
      "authorship_tag": "ABX9TyMYoBt7kLNjLrlzySGMCUIQ",
      "include_colab_link": true
    },
    "kernelspec": {
      "name": "python3",
      "display_name": "Python 3"
    },
    "language_info": {
      "name": "python"
    }
  },
  "cells": [
    {
      "cell_type": "markdown",
      "metadata": {
        "id": "view-in-github",
        "colab_type": "text"
      },
      "source": [
        "<a href=\"https://colab.research.google.com/github/boyerb/Investments/blob/master/Ex07-WRDS.ipynb\" target=\"_parent\"><img src=\"https://colab.research.google.com/assets/colab-badge.svg\" alt=\"Open In Colab\"/></a>"
      ]
    },
    {
      "cell_type": "markdown",
      "source": [
        "**Investments: Theory, Fundamental Analysis, and Data Driven Analytics**, Bates, Boyer, and Fletcher"
      ],
      "metadata": {
        "id": "iZs5txuDLvzA"
      }
    },
    {
      "cell_type": "markdown",
      "source": [
        "# Example Chapter 7: The WRDS API\n",
        "In this example, we show how to access CRSP data using the WRDS API. You will first need to obtain an account through your institution. For example, your professor can set up a class account, a special kind of WRDS account set up by a faculty member (or “instructor”) for a specific course. It gives students access (via a “class code”) to WRDS resources only for the duration of the course and specifically so they can do coursework."
      ],
      "metadata": {
        "id": "SM5IHVhPLyB5"
      }
    },
    {
      "cell_type": "markdown",
      "source": [
        "###Imports and Setup"
      ],
      "metadata": {
        "id": "ngeldbqFMA0J"
      }
    },
    {
      "cell_type": "code",
      "source": [
        "!curl -O https://raw.githubusercontent.com/boyerb/Investments/master/functions/simple_finance.py\n",
        "!pip -q install wrds\n",
        "import wrds\n",
        "import numpy as np\n",
        "import pandas as pd"
      ],
      "metadata": {
        "id": "1VJ3ig7ZMEOC",
        "outputId": "e21e98bd-f6ec-4b21-fc28-566d1005cb46",
        "colab": {
          "base_uri": "https://localhost:8080/"
        }
      },
      "execution_count": 2,
      "outputs": [
        {
          "output_type": "stream",
          "name": "stdout",
          "text": [
            "  % Total    % Received % Xferd  Average Speed   Time    Time     Time  Current\n",
            "                                 Dload  Upload   Total   Spent    Left  Speed\n",
            "100 26346  100 26346    0     0   125k      0 --:--:-- --:--:-- --:--:--  125k\n"
          ]
        }
      ]
    },
    {
      "cell_type": "code",
      "source": [
        "db = wrds.Connection()"
      ],
      "metadata": {
        "id": "nAy_9XqD876x",
        "outputId": "5416de36-0a1f-4852-b021-e2d758ca1793",
        "colab": {
          "base_uri": "https://localhost:8080/"
        }
      },
      "execution_count": 3,
      "outputs": [
        {
          "output_type": "stream",
          "name": "stdout",
          "text": [
            "Enter your WRDS username [root]:boyerdude1\n",
            "Enter your password:··········\n",
            "WRDS recommends setting up a .pgpass file.\n",
            "Create .pgpass file now [y/n]?: n\n",
            "You can create this file yourself at any time with the create_pgpass_file() function.\n",
            "Loading library list...\n",
            "Done\n"
          ]
        }
      ]
    },
    {
      "cell_type": "code",
      "source": [],
      "metadata": {
        "id": "Q--3qfY09yVd"
      },
      "execution_count": null,
      "outputs": []
    }
  ]
}