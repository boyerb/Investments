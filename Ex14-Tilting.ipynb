{
  "nbformat": 4,
  "nbformat_minor": 0,
  "metadata": {
    "colab": {
      "provenance": [],
      "authorship_tag": "ABX9TyPEIAx9ucPlZEjdmQlDUdEW",
      "include_colab_link": true
    },
    "kernelspec": {
      "name": "python3",
      "display_name": "Python 3"
    },
    "language_info": {
      "name": "python"
    }
  },
  "cells": [
    {
      "cell_type": "markdown",
      "metadata": {
        "id": "view-in-github",
        "colab_type": "text"
      },
      "source": [
        "<a href=\"https://colab.research.google.com/github/boyerb/Investments/blob/master/Ex14-Tilting.ipynb\" target=\"_parent\"><img src=\"https://colab.research.google.com/assets/colab-badge.svg\" alt=\"Open In Colab\"/></a>"
      ]
    },
    {
      "cell_type": "markdown",
      "source": [
        "***Investment Analysis***, Bates, Boyer, and Fletcher  "
      ],
      "metadata": {
        "id": "kC1MxGsO9XpM"
      }
    },
    {
      "cell_type": "markdown",
      "source": [
        "# Example Chapter 14: Tilting Towards Idiosyncratic Risk"
      ],
      "metadata": {
        "id": "fedEa1qc9ckT"
      }
    },
    {
      "cell_type": "markdown",
      "source": [
        "### Imports and Setup"
      ],
      "metadata": {
        "id": "HuFnjUFO-Bwr"
      }
    },
    {
      "cell_type": "code",
      "source": [
        "import numpy as np\n",
        "import matplotlib.pyplot as plt"
      ],
      "metadata": {
        "id": "zvJ82sRD9-9J"
      },
      "execution_count": 323,
      "outputs": []
    },
    {
      "cell_type": "markdown",
      "source": [
        "### Generate Returns\n",
        "We first simulate the returns on a portfolio with an expected monthly return of 1.5\\% per month (18\\% annualized) and a monthly volatility 0.057 (0.197 annualized). We then create a column of constant monthly risk-free returns of    "
      ],
      "metadata": {
        "id": "CHp8RRaeA77F"
      }
    },
    {
      "cell_type": "code",
      "source": [
        "T = 100\n",
        "portfolio_returns = np.random.normal(0.015, 0.05, size=T)\n",
        "risk_free_asset = risk_free_asset = 0.003 * np.ones(T)\n",
        "asset1 = np.random.normal(loc=0.003, scale=0.10, size=T)\n",
        "asset2 = 1.5 * portfolio_returns + np.random.normal(loc=0, scale=0.0435, size=T)"
      ],
      "metadata": {
        "id": "VUDBtjPs-Fzq"
      },
      "execution_count": 324,
      "outputs": []
    },
    {
      "cell_type": "code",
      "source": [
        "w = 0.10\n",
        "tilt_risk_free = w * risk_free_asset + (1 - w) * portfolio_returns\n",
        "tilt1 =  w * asset1 + (1 - w) * portfolio_returns\n",
        "tilt2 =  w * asset2 + (1 - w) * portfolio_returns"
      ],
      "metadata": {
        "id": "ckEwMJ0F-_VL"
      },
      "execution_count": 325,
      "outputs": []
    },
    {
      "cell_type": "code",
      "source": [
        "def describe(name, series):\n",
        "    ann_std = np.std(series) * np.sqrt(12)\n",
        "    print(f\"{name:20s} |  Std Dev: {ann_std:.4f}\")\n",
        "\n",
        "describe(\"Original Portfolio\", portfolio_returns)\n",
        "describe(\"risk free asset\", risk_free_asset)\n",
        "describe(\"asset1\", asset1)\n",
        "describe(\"asset2\", asset2)\n",
        "describe(\"Tilt risk free\", tilt_risk_free)\n",
        "describe(\"Tilt1\", tilt1)\n",
        "describe(\"Tilt2\", tilt2)"
      ],
      "metadata": {
        "colab": {
          "base_uri": "https://localhost:8080/"
        },
        "id": "eLw7Nnk7_YTU",
        "outputId": "8c1241b6-8795-4d49-e057-5841286bb177"
      },
      "execution_count": 326,
      "outputs": [
        {
          "output_type": "stream",
          "name": "stdout",
          "text": [
            "Original Portfolio   |  Std Dev: 0.1800\n",
            "risk free asset      |  Std Dev: 0.0000\n",
            "asset1               |  Std Dev: 0.2991\n",
            "asset2               |  Std Dev: 0.3279\n",
            "Tilt risk free       |  Std Dev: 0.1620\n",
            "Tilt1                |  Std Dev: 0.1619\n",
            "Tilt2                |  Std Dev: 0.1921\n"
          ]
        }
      ]
    }
  ]
}