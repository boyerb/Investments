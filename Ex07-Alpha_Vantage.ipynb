{
  "nbformat": 4,
  "nbformat_minor": 0,
  "metadata": {
    "colab": {
      "provenance": [],
      "authorship_tag": "ABX9TyO0QA4hVD0DVlHLtztx+8hL",
      "include_colab_link": true
    },
    "kernelspec": {
      "name": "python3",
      "display_name": "Python 3"
    },
    "language_info": {
      "name": "python"
    }
  },
  "cells": [
    {
      "cell_type": "markdown",
      "metadata": {
        "id": "view-in-github",
        "colab_type": "text"
      },
      "source": [
        "<a href=\"https://colab.research.google.com/github/boyerb/Investments/blob/master/Ex07-Alpha_Vantage.ipynb\" target=\"_parent\"><img src=\"https://colab.research.google.com/assets/colab-badge.svg\" alt=\"Open In Colab\"/></a>"
      ]
    },
    {
      "cell_type": "markdown",
      "source": [
        "**Investments: Theory, Fundamental Analysis, and Data Driven Analytics**, Bates, Boyer, and Fletcher"
      ],
      "metadata": {
        "id": "uASzxEA29Ev6"
      }
    },
    {
      "cell_type": "markdown",
      "source": [],
      "metadata": {
        "id": "OzQUrqpt9hXI"
      }
    },
    {
      "cell_type": "code",
      "execution_count": null,
      "metadata": {
        "id": "l193wFL7lbOD"
      },
      "outputs": [],
      "source": [
        "import requests\n",
        "import pandas as pd\n",
        "\n",
        "# Replace the apikey with your own\n",
        "url = 'https://www.alphavantage.co/query?function=TIME_SERIES_MONTHLY_ADJUSTED&symbol=KO&apikey=6OEZ4UZSVCOVSKC7'\n",
        "r = requests.get(url)\n",
        "data = r.json()\n",
        "\n",
        "# The time series data lives under \"Monthly Adjusted Time Series\"\n",
        "ts_data = data[\"Monthly Adjusted Time Series\"]\n",
        "\n",
        "# Convert to DataFrame\n",
        "df = pd.DataFrame.from_dict(ts_data, orient=\"index\")\n",
        "\n",
        "# Rename columns to something cleaner\n",
        "df.columns = [\n",
        "    \"Open\", \"High\", \"Low\", \"Close\",\n",
        "    \"Adjusted Close\", \"Volume\", \"Dividend Amount\"\n",
        "]\n",
        "\n",
        "# Convert index to datetime and sort chronologically\n",
        "df.index = pd.to_datetime(df.index)\n",
        "df = df.sort_index()\n",
        "\n",
        "# Convert string values to numeric\n",
        "df = df.astype(float)"
      ]
    },
    {
      "cell_type": "code",
      "source": [
        "pd.set_option('display.max_columns', None)   # Show all columns without truncation\n",
        "pd.set_option('display.width', 1000)   # Set the display width so output stays on one line\n",
        "pd.set_option(\"display.max_rows\", 20) # Force truncation to at most 20 rows (10 from top, 10 from bottom)"
      ],
      "metadata": {
        "id": "qHOpin8G0eBc"
      },
      "execution_count": null,
      "outputs": []
    },
    {
      "cell_type": "code",
      "source": [
        "print(df)"
      ],
      "metadata": {
        "id": "CaAqlVAc0iDB"
      },
      "execution_count": null,
      "outputs": []
    },
    {
      "cell_type": "code",
      "source": [
        "import matplotlib.pyplot as plt\n",
        "\n",
        "# Plot monthly close price\n",
        "plt.figure(figsize=(12,6))\n",
        "plt.plot(df.index, df[\"Close\"], color=\"black\", linewidth=1)\n",
        "\n",
        "plt.xlabel(\"Date\", fontsize=14)\n",
        "plt.ylabel(\"Closing Price (USD)\", fontsize=14)\n",
        "plt.title(\"KO Monthly Closing Price\", fontsize=16)\n",
        "plt.grid(False)  # cleaner look\n",
        "plt.show()"
      ],
      "metadata": {
        "id": "lRbyhkv42nhJ"
      },
      "execution_count": null,
      "outputs": []
    },
    {
      "cell_type": "code",
      "source": [
        "plt.figure(figsize=(12,6))\n",
        "plt.plot(df.index, df[\"Adjusted Close\"], color=\"black\", linewidth=1)\n",
        "\n",
        "plt.xlabel(\"Date\", fontsize=14)\n",
        "plt.ylabel(\"Adjusted Closing Price (USD)\", fontsize=14)\n",
        "plt.title(\"KO Monthly Adjusted Closing Price\", fontsize=16)\n",
        "plt.grid(False)\n",
        "plt.show()"
      ],
      "metadata": {
        "id": "EnVbpBl75plz"
      },
      "execution_count": null,
      "outputs": []
    }
  ]
}