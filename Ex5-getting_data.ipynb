{
 "cells": [
  {
   "metadata": {},
   "cell_type": "markdown",
   "source": [
    "# Example Chapter 5: Accessing Data from the Internet\n",
    "In this example we use functions that tap into the yfinance library and Ken French's website to get monthly returns on the Russell 3000 index (^RUT), Ford Motor Company (F) and short-term US t-bills. We package the yfinance API and the function to scrape Ken French's website in the file \"bates_boyer_fletcher_functions.py\" for easy use.  Once we have the necessary data in dataframes, we use these data to estimate the annualized expected return, volatility, and Sharpe ratio for the Russell 3000 and Ford. Change the tickers to something else if you want to get data for different assets. "
   ],
   "id": "a8424377d4ab21a7"
  },
  {
   "metadata": {},
   "cell_type": "markdown",
   "source": "### Imports and Setup",
   "id": "848af822f805f02a"
  },
  {
   "metadata": {},
   "cell_type": "code",
   "source": [
    "# Load in bates_boyer_fletcher_functions.py from the github repository \n",
    "!curl -O https://raw.githubusercontent.com/boyerb/Investments/refs/heads/master/functions/bates_boyer_fletcher_functions.py"
   ],
   "id": "abfa28ff8f165bb6",
   "outputs": [],
   "execution_count": null
  },
  {
   "metadata": {
    "collapsed": true
   },
   "cell_type": "code",
   "source": [
    "# import the functions from the file we just downloaded\n",
    "import bates_boyer_fletcher_functions as invf \n",
    "# import other necesary libraries\n",
    "import numpy as np\n"
   ],
   "id": "initial_id",
   "outputs": [],
   "execution_count": null
  },
  {
   "metadata": {},
   "cell_type": "markdown",
   "source": [
    "### Access Monthly Returns \n",
    "In this block we access mothly returns for a list of tickers, **ticker = ['^RUA', 'F']**. The key function is **get_monthly_returns**. The inputs for this function are the list of desired tickers, the beginning month, the ending month, and an indication of whether we want to include the return on shot-term t-bills or not. If we include **tbill_return=False**, the short-term tbill return will not be included.  If we include **tbill_return=True**, the short-term tbill return will be included.  The return on shot-term tbills comes from Ken French's website.  We then calculate the annualized average return and volatility."
   ],
   "id": "a6c48c9ecd523cc9"
  },
  {
   "metadata": {},
   "cell_type": "code",
   "source": [
    "# Get monthly returns for a given list of stock tickers using the yfinance API\n",
    "ticker = ['^RUA', 'F']\n",
    "# Use tbill_return=True to get the return on short-term tbills, or False to exclude tbill returns\n",
    "dat = invf.get_monthly_returns(ticker, '1990-01-01', '2023-12-31', tbill_return=False)\n",
    "print(dat.head())"
   ],
   "id": "aa5b611ec5c3a9ce",
   "outputs": [],
   "execution_count": null
  },
  {
   "metadata": {},
   "cell_type": "code",
   "source": [
    "# Calculate the annualized average return and volatility\n",
    "A_Avg = dat.mean() * 12\n",
    "A_Vol = dat.std() * np.sqrt(12)\n",
    "print('Anualized Average Return')\n",
    "print(A_Avg)\n",
    "print()\n",
    "print('Annualized Volatility')\n",
    "print(A_Vol)"
   ],
   "id": "97b7008bd9ffd661",
   "outputs": [],
   "execution_count": null
  },
  {
   "metadata": {},
   "cell_type": "markdown",
   "source": [
    "### Calculate Sharpe Ratios\n",
    "In this block we access data for the Russell 3000 index and Ford Motor Company **ticker = ['^RUA', 'F']**. We also retrieve data on short-term t-bill returns. Using these data we calculate the Sharpe ratios for the Russell 3000 and Ford."
   ],
   "id": "e2c37d3cf72d9c37"
  },
  {
   "metadata": {},
   "cell_type": "code",
   "source": [
    "# Download data along with return on short-term tbills from Ken French's website\n",
    "dat = invf.get_monthly_returns(ticker, '1990-01-01', '2023-12-31', tbill_return=True)\n",
    "dat['exret0'] = dat[ticker[0]] - dat['RF']\n",
    "dat['exret1'] = dat[ticker[1]] - dat['RF']\n",
    "print(dat.head())"
   ],
   "id": "654477d73970a945",
   "outputs": [],
   "execution_count": null
  },
  {
   "metadata": {},
   "cell_type": "code",
   "source": [
    "# Calcualte and print Sharpe ratios\n",
    "A_AVG_exret0 = dat['exret0'].mean() * 12\n",
    "A_Vol_exret0 = dat[ticker[0]].std() * np.sqrt(12)\n",
    "Sharpe0 = A_AVG_exret0/A_Vol_exret0\n",
    "\n",
    "A_AVG_exret1 = dat['exret1'].mean() * 12\n",
    "A_Vol_exret1 = dat[ticker[1]].std() * np.sqrt(12)\n",
    "Sharpe1 = A_AVG_exret1/A_Vol_exret1\n",
    "\n",
    "print('Sharpe Ratios')\n",
    "print(ticker[0], Sharpe0)\n",
    "print(ticker[1], Sharpe1)"
   ],
   "id": "7d6b70f7d5f61ab4",
   "outputs": [],
   "execution_count": null
  }
 ],
 "metadata": {
  "kernelspec": {
   "display_name": "Python 3",
   "language": "python",
   "name": "python3"
  },
  "language_info": {
   "codemirror_mode": {
    "name": "ipython",
    "version": 2
   },
   "file_extension": ".py",
   "mimetype": "text/x-python",
   "name": "python",
   "nbconvert_exporter": "python",
   "pygments_lexer": "ipython2",
   "version": "2.7.6"
  }
 },
 "nbformat": 4,
 "nbformat_minor": 5
}
