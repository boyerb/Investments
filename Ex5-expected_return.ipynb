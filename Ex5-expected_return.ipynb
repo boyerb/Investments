{
 "cells": [
  {
   "metadata": {},
   "cell_type": "markdown",
   "source": [
    "<div style=\"background-color:black; padding:10px;\">\n",
    "  <strong style=\"color:white; font-size:18px; font-style:italic;\">\n",
    "    Foundations of Investment Analysis\n",
    "  </strong>, \n",
    "  <span style=\"color:white;\">Bates, Boyer, and Fletcher</span>\n",
    "</div>"
   ],
   "id": "65bb4d82eb834b77"
  },
  {
   "metadata": {},
   "cell_type": "markdown",
   "source": [
    "# Example Chapter 5: Expected Return\n",
    "In this example, we calculate the true expected return using the possible outcomes a probabilities. We then  estimate the expected return as a simple average using a simulated random sample. "
   ],
   "id": "e78b7ac25ee9d619"
  },
  {
   "metadata": {},
   "cell_type": "markdown",
   "source": [
    "### Imports and Setup\n",
    "We import the NumPy package."
   ],
   "id": "430d0e78b1b00a15"
  },
  {
   "metadata": {},
   "cell_type": "code",
   "outputs": [],
   "execution_count": null,
   "source": "import numpy as np",
   "id": "7ea08743"
  },
  {
   "metadata": {},
   "cell_type": "markdown",
   "source": [
    "### True Expected Return \n",
    "We first define the possible return outcomes and their corresponding probabilities. We then calculate the true expected return by taking the sumproduct of the outcomes and probabilities."
   ],
   "id": "34ffd1ed9e29f66d"
  },
  {
   "metadata": {},
   "cell_type": "code",
   "outputs": [],
   "execution_count": null,
   "source": [
    "# Define the discrete PDF\n",
    "outcomes = [-0.05, 0.00, 0.05, 0.10]  # Possible return outcomes\n",
    "probabilities = [0.2, 0.3, 0.4, 0.1]  # Corresponding probabilities"
   ],
   "id": "c8713d23"
  },
  {
   "metadata": {},
   "cell_type": "code",
   "outputs": [],
   "execution_count": null,
   "source": [
    "# Calculate the True Expected Return\n",
    "# \"np.dot\" is the same thing as \"sumproduct\" in Excel\n",
    "true_expected_return = np.dot(outcomes, probabilities) \n",
    "print('True Expected Return:', true_expected_return)"
   ],
   "id": "f0a271323d6f32b5"
  },
  {
   "metadata": {},
   "cell_type": "markdown",
   "source": [
    "### Estimated Expected Return from a Simulated Random Sample\n",
    "We now simulate a random sample of returns and *estimate* the expected return from the sample. We first define the number of random variables to create and create a random number generator object. We then generate a random sample of outcomes and estimate the expected return from the sample."
   ],
   "id": "69e9fe38c247571b"
  },
  {
   "metadata": {},
   "cell_type": "code",
   "outputs": [],
   "execution_count": null,
   "source": [
    "# Simulate a Random Sample\n",
    "# number of random variables to create\n",
    "num_simulations = 100 \n",
    "# Create a random number generator object\n",
    "rng = np.random.default_rng()  \n",
    "# Generate a random sample of outcomes\n",
    "simulated_returns = rng.choice(outcomes, size=num_simulations, p=probabilities)"
   ],
   "id": "b1d17a49f7000ca0"
  },
  {
   "metadata": {},
   "cell_type": "code",
   "outputs": [],
   "execution_count": null,
   "source": [
    "# Estimate the Expected Return from the Random Sample\n",
    "estimated_expected_return = np.mean(simulated_returns)\n",
    "print('Estimated Expected Return:', estimated_expected_return)"
   ],
   "id": "061fe396"
  }
 ],
 "metadata": {
  "jupytext": {
   "cell_metadata_filter": "-all",
   "main_language": "python",
   "notebook_metadata_filter": "-all"
  },
  "kernelspec": {
   "name": "python3",
   "language": "python",
   "display_name": "Python 3 (ipykernel)"
  }
 },
 "nbformat": 4,
 "nbformat_minor": 5
}
