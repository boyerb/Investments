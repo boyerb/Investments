{
 "cells": [
  {
   "metadata": {},
   "cell_type": "markdown",
   "source": [
    "# Example Chapter 5: Accessing Data from the Internet\n",
    "In this example we tap into the yfinance library to get monthly returns on the Russell 3000 index (^RUT) and Ford Motor Company (F).  We also pull data from and Ken French's website on short-term US t-bill returns. However, it would be difficult to determine that we're using these data sources in the code below. To make the process of gathering data from these sources as easy as possible, we package most of the code in easy-to-use functions located in the file `bates\\_boyer\\_fletcher\\_functions.py`.  We then use these data to estimate the annualized expected return, volatility, and Sharpe ratio for the Russell 3000 and Ford.  Try changing the tickers and date ranges to pull data for different companies over different time periods."
   ],
   "id": "a8424377d4ab21a7"
  },
  {
   "metadata": {},
   "cell_type": "markdown",
   "source": "### Imports and Setup",
   "id": "848af822f805f02a"
  },
  {
   "metadata": {},
   "cell_type": "code",
   "source": [
    "# Load in bates_boyer_fletcher_functions.py from the GitHub repository \n",
    "!curl -O https://raw.githubusercontent.com/boyerb/Investments/refs/heads/master/functions/bates_boyer_fletcher_functions.py"
   ],
   "id": "abfa28ff8f165bb6",
   "outputs": [],
   "execution_count": null
  },
  {
   "metadata": {
    "collapsed": true
   },
   "cell_type": "code",
   "source": [
    "# import the functions from the file we just downloaded\n",
    "import bates_boyer_fletcher_functions as invf \n",
    "# import other necessary libraries\n",
    "import numpy as np\n"
   ],
   "id": "initial_id",
   "outputs": [],
   "execution_count": null
  },
  {
   "metadata": {},
   "cell_type": "markdown",
   "source": [
    "### Access Monthly Returns \n",
    "In this block we access monthly returns for a list of two tickers, `ticker = ['^RUA', 'F']`, where `^RUA` is the ticker for the Russell 3000 index and `F` is the ticker for Ford Motor Company. The key function is `get_monthly_returns`. \n",
    "\n",
    "`get_monthly returns` has the following inputs:\n",
    "- **ticker** = list of desired tickers tht looks like this: `['ticker1', 'ticker2', ..., 'tickerN']` \n",
    "- **begin** = beginning month in format yyyy-mm-dd\n",
    "- **end** = ending month in format yyyy-mm-dd\n",
    "- **tbill_return** = True or False. If True, the return on short-term tbills will be included in the DataFrame. If False, the return on short-term tbills will not be included.\n",
    "The output is a DataFrame with monthly returns for each ticker, and the return on short-term tbills if `tbill_return=True`.\n",
    "\n",
    "- We then calculate the annualized average return and volatility."
   ],
   "id": "a6c48c9ecd523cc9"
  },
  {
   "metadata": {},
   "cell_type": "code",
   "source": [
    "# Get monthly returns for a given list of stock tickers using the yfinance API\n",
    "ticker = ['^RUA', 'F']\n",
    "# Use tbill_return=True to get the return on short-term tbills, or False to exclude tbill returns\n",
    "dat = invf.get_monthly_returns(ticker, '1990-01-01', '2023-12-31', tbill_return=False)\n",
    "print(dat.head())"
   ],
   "id": "aa5b611ec5c3a9ce",
   "outputs": [],
   "execution_count": null
  },
  {
   "metadata": {},
   "cell_type": "code",
   "source": [
    "# Calculate the annualized average return and volatility\n",
    "A_Avg = dat.mean() * 12\n",
    "A_Vol = dat.std() * np.sqrt(12)\n",
    "print('Anualized Average Return')\n",
    "print(A_Avg)\n",
    "print()\n",
    "print('Annualized Volatility')\n",
    "print(A_Vol)"
   ],
   "id": "97b7008bd9ffd661",
   "outputs": [],
   "execution_count": null
  },
  {
   "metadata": {},
   "cell_type": "markdown",
   "source": [
    "### Calculate Sharpe Ratios\n",
    "In this block we access data for the Russell 3000 index and Ford Motor Company **ticker = ['^RUA', 'F']**. We also retrieve data on short-term t-bill returns. Using these data we calculate the Sharpe ratios for the Russell 3000 and Ford."
   ],
   "id": "e2c37d3cf72d9c37"
  },
  {
   "metadata": {},
   "cell_type": "code",
   "source": [
    "# Download data along with return on short-term tbills from Ken French's website\n",
    "dat = invf.get_monthly_returns(ticker, '1990-01-01', '2023-12-31', tbill_return=True)\n",
    "# Calculate excess returns\n",
    "dat['exret0'] = dat[ticker[0]] - dat['RF']\n",
    "dat['exret1'] = dat[ticker[1]] - dat['RF']\n",
    "print(dat.head())"
   ],
   "id": "654477d73970a945",
   "outputs": [],
   "execution_count": null
  },
  {
   "metadata": {},
   "cell_type": "code",
   "source": [
    "# Calculate and print Sharpe ratios\n",
    "A_AVG_exret0 = dat['exret0'].mean() * 12\n",
    "A_Vol_exret0 = dat[ticker[0]].std() * np.sqrt(12)\n",
    "Sharpe0 = A_AVG_exret0/A_Vol_exret0\n",
    "\n",
    "A_AVG_exret1 = dat['exret1'].mean() * 12\n",
    "A_Vol_exret1 = dat[ticker[1]].std() * np.sqrt(12)\n",
    "Sharpe1 = A_AVG_exret1/A_Vol_exret1\n",
    "\n",
    "print('Sharpe Ratios')\n",
    "print(ticker[0], Sharpe0)\n",
    "print(ticker[1], Sharpe1)"
   ],
   "id": "7d6b70f7d5f61ab4",
   "outputs": [],
   "execution_count": null
  }
 ],
 "metadata": {
  "kernelspec": {
   "display_name": "Python 3",
   "language": "python",
   "name": "python3"
  },
  "language_info": {
   "codemirror_mode": {
    "name": "ipython",
    "version": 2
   },
   "file_extension": ".py",
   "mimetype": "text/x-python",
   "name": "python",
   "nbconvert_exporter": "python",
   "pygments_lexer": "ipython2",
   "version": "2.7.6"
  }
 },
 "nbformat": 4,
 "nbformat_minor": 5
}
