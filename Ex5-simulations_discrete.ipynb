{
 "cells": [
  {
   "metadata": {},
   "cell_type": "markdown",
   "source": [
    "<div style=\"background-color:black; padding:10px;\">\n",
    "  <strong style=\"color:white; font-size:18px; font-style:italic;\">\n",
    "    Foundations of Investment Analysis\n",
    "  </strong>, \n",
    "  <span style=\"color:white;\">Bates, Boyer, and Fletcher</span>\n",
    "</div>"
   ],
   "id": "b39cd6bd3356997c"
  },
  {
   "metadata": {},
   "cell_type": "markdown",
   "source": [
    "# Example Chapter 5: Simulating Discrete Returns\n",
    "In this example we simulate returns drawn from a discrete probability distribution function (PDF). We then plot a histogram of the simulated returns."
   ],
   "id": "adf081811469f27c"
  },
  {
   "metadata": {},
   "cell_type": "markdown",
   "source": [
    "### Imports and Setup\n",
    "We import two packages: `numpy` and `matplotlib.pyplot`, which provides tools for making plots and charts. We define simple code prefixes for each library by importing the `numpy library` as `np` and the `matplotlib.pyplot` library as `plt`.  As we will see, these code prefixes allow us to specify the packages in which specific classes and methods can be found. "
   ],
   "id": "dd146b8901eecd34"
  },
  {
   "metadata": {
    "ExecuteTime": {
     "end_time": "2024-10-27T04:08:35.707425Z",
     "start_time": "2024-10-27T04:08:35.096733Z"
    }
   },
   "cell_type": "code",
   "source": [
    "#import packages\n",
    "import numpy as np\n",
    "import matplotlib.pyplot as plt"
   ],
   "id": "7ea08743",
   "outputs": [],
   "execution_count": 2
  },
  {
   "metadata": {},
   "cell_type": "markdown",
   "source": [
    "### Define the Discrete PDF and Simulate Returns\n",
    "We define a discrete probability distribution by specifying the possible return outcomes and their corresponding probabilities. The outcomes and probabilities listed in square brackets, [...], are *lists*, a Python data type that can hold a collection of items, similar to a NumPy array. We then specify the\n",
    "number of random outcomes we want to simulate in the variable `num_simulations`. We then create a random number generator object `rng` using the class or blueprint, `np.random.default_rng()`.  We then use the `choice` method from our random number generator to simulate random draws from this PDF. "
   ],
   "id": "91a3797789ad23b0"
  },
  {
   "metadata": {
    "ExecuteTime": {
     "end_time": "2024-10-27T04:08:49.840515Z",
     "start_time": "2024-10-27T04:08:49.827489Z"
    }
   },
   "cell_type": "code",
   "source": [
    "# Define the discrete PDF and simulate returns\n",
    "outcomes = [-0.05, 0.00, 0.05, 0.10]  # Possible return outcomes\n",
    "probabilities = [0.2, 0.3, 0.4, 0.1]  # Corresponding probabilities\n",
    "num_simulations = 100 # number of random variables to create\n",
    "rng = np.random.default_rng()  # Create a random number generator object\n",
    "simulated_returns = rng.choice(outcomes, p=probabilities, size=num_simulations, )"
   ],
   "id": "c8713d23",
   "outputs": [],
   "execution_count": 5
  },
  {
   "metadata": {},
   "cell_type": "markdown",
   "source": [
    "### Plot the Histogram of Simulated Returns\n",
    "Use an AI Assistant such as Gemini or Chat GPT to undersand the details of this code below. You can simply paste the code into the AI assistant and ask for an explanation."
   ],
   "id": "83897a7d76f9d66b"
  },
  {
   "metadata": {},
   "cell_type": "code",
   "outputs": [],
   "execution_count": null,
   "source": [
    "# Plot the histogram of the simulated returns \n",
    "# Define bin edges for the histogram\n",
    "bin_edges = np.array(outcomes) - 0.025  # Shift each edge by half the width of the bin\n",
    "bin_edges = np.append(bin_edges, outcomes[-1] + 0.025)  # Add the upper edge of the last bin\n",
    "# Plot the histogram\n",
    "plt.figure(figsize=(3, 3))\n",
    "plt.hist(simulated_returns, bins=bin_edges, edgecolor='k', alpha=0.7, align='mid')\n",
    "plt.xticks(outcomes)  # Set x-ticks to be exactly on the outcomes\n",
    "plt.title('Histogram of Simulated Returns')\n",
    "plt.xlabel('Return')\n",
    "plt.ylabel('Frequency')\n",
    "plt.grid(True)\n",
    "plt.show()"
   ],
   "id": "061fe396"
  },
  {
   "metadata": {},
   "cell_type": "markdown",
   "source": [
    "### Question\n",
    "What happens to the histogram if you increase the number of simulations, `num_simulations`? "
   ],
   "id": "9b8a5827d3c2dba0"
  }
 ],
 "metadata": {
  "jupytext": {
   "cell_metadata_filter": "-all",
   "main_language": "python",
   "notebook_metadata_filter": "-all"
  },
  "kernelspec": {
   "name": "python3",
   "language": "python",
   "display_name": "Python 3 (ipykernel)"
  }
 },
 "nbformat": 4,
 "nbformat_minor": 5
}
