{
  "cells": [
    {
      "metadata": {
        "id": "dc6c6793ba36bc3a"
      },
      "cell_type": "markdown",
      "source": [
        "**Foundations of Investment Analysis**, Bates, Boyer, and Fletcher"
      ],
      "id": "dc6c6793ba36bc3a"
    },
    {
      "metadata": {
        "id": "bf28204faf8f62bc"
      },
      "cell_type": "markdown",
      "source": [
        "# Example Chapter 4: Value-Weighted Indices\n",
        "In this example we calculate the appropriate weights for a value-weighted index. We then prove that the index remains value-weighted even after stock prices change."
      ],
      "id": "bf28204faf8f62bc"
    },
    {
      "metadata": {
        "id": "3538f6e931be4cf5"
      },
      "cell_type": "markdown",
      "source": [
        "### Imports and Setup\n",
        "We import the Pandas package and bring in Figure 4.2 from the text."
      ],
      "id": "3538f6e931be4cf5"
    },
    {
      "cell_type": "code",
      "source": [
        "import pandas as pd\n",
        "\n",
        "# Define the data\n",
        "data_t0 = {\n",
        "    \"price\": [50, 13, 33],\n",
        "    \"shares (mm)\": [600, 800, 200]\n",
        "}\n",
        "data_t1 = {\n",
        "    \"price\": [51, 11, 35],\n",
        "    \"shares (mm)\": [600, 800, 200]\n",
        "}\n",
        "\n",
        "# Define the index\n",
        "index = [\"A\", \"B\", \"C\"]\n",
        "\n",
        "# Create the DataFrames\n",
        "df_t0 = pd.DataFrame(data_t0, index=index)\n",
        "df_t1 = pd.DataFrame(data_t1, index=index)\n",
        "\n",
        "# Display the DataFrames\n",
        "print('=== Figure 4.2 ===\\n')\n",
        "print(f'Prices at t+0\\n{df_t0}\\n')\n",
        "print(f'Prices at t+1\\n{df_t1}')\n"
      ],
      "metadata": {
        "colab": {
          "base_uri": "https://localhost:8080/"
        },
        "id": "hZ1gJiom3b_8",
        "outputId": "9e5dbb99-ac94-4a11-fd56-c8d995f0faf2"
      },
      "id": "hZ1gJiom3b_8",
      "execution_count": null,
      "outputs": [
        {
          "output_type": "stream",
          "name": "stdout",
          "text": [
            "=== Figure 4.2 ===\n",
            "\n",
            "Prices at t+0\n",
            "   price  shares (mm)\n",
            "A     50          600\n",
            "B     13          800\n",
            "C     33          200\n",
            "\n",
            "Prices at t+1\n",
            "   price  shares (mm)\n",
            "A     51          600\n",
            "B     11          800\n",
            "C     35          200\n"
          ]
        }
      ]
    },
    {
      "cell_type": "markdown",
      "source": [
        "###Calculating Index Weights\n",
        "Now that we have the data, we can calculate the weights for an equal-weighted index by dividing each stock's market cap by the total market cap of all stocks in the index. For simplicity, we created a function which will take any data frame formatted like the ones above and perform these calculations."
      ],
      "metadata": {
        "id": "JEe0CSP26-TP"
      },
      "id": "JEe0CSP26-TP"
    },
    {
      "cell_type": "code",
      "source": [
        "\n",
        "def calculate_index_weights(df):\n",
        "\n",
        "    # Calculate market capitalization for each asset\n",
        "    df['market_cap'] = df['price'] * df['shares (mm)']\n",
        "\n",
        "    # Calculate total market capitalization\n",
        "    total_market_cap = df['market_cap'].sum()\n",
        "\n",
        "    # Calculate weights\n",
        "    weights = df['market_cap'] / total_market_cap\n",
        "\n",
        "    return weights\n",
        "\n",
        "# Calculate weights for t0\n",
        "weights_t0 = calculate_index_weights(df_t0)\n",
        "\n",
        "# Display the index weights\n",
        "print(f'Index weights at t+0:\\n{weights_t0}')\n"
      ],
      "metadata": {
        "colab": {
          "base_uri": "https://localhost:8080/"
        },
        "id": "SoIzThQX6TKj",
        "outputId": "4c1d1f79-2a7a-48ff-a21e-cf13a99751bd"
      },
      "id": "SoIzThQX6TKj",
      "execution_count": null,
      "outputs": [
        {
          "output_type": "stream",
          "name": "stdout",
          "text": [
            "Index weights at t+0:\n",
            "A    0.638298\n",
            "B    0.221277\n",
            "C    0.140426\n",
            "Name: market_cap, dtype: float64\n"
          ]
        }
      ]
    },
    {
      "cell_type": "markdown",
      "source": [
        "###Calculating Number of Shares Purchased\n",
        "Notice that the total market cap was calculated by adding the market caps of all the relevant stocks. The \"shares\" column represents total shares outstanding and not shares owned by the individual. Now that we have the respective weights, let's create a value-weighted index. Assume you have $100K to invest. How many shares of each security do you purchase?"
      ],
      "metadata": {
        "id": "8_CEPKRt85Ur"
      },
      "id": "8_CEPKRt85Ur"
    },
    {
      "cell_type": "code",
      "source": [
        "# Format the data for our purposes\n",
        "weights_t0 = pd.DataFrame(weights_t0)\n",
        "weights_t0 = weights_t0.rename(columns={'market_cap': 'index_weight'})\n",
        "\n",
        "# Multiply the weights by the invested amount. Divide by the price to get the number of shares purchased\n",
        "weights_t0['dollar_amount'] = 100000 * weights_t0['index_weight']\n",
        "weights_t0['shares_owned'] = weights_t0['dollar_amount'] / df_t0['price']\n",
        "\n",
        "print(weights_t0)"
      ],
      "metadata": {
        "colab": {
          "base_uri": "https://localhost:8080/"
        },
        "id": "G5V8EKv898JG",
        "outputId": "11c45e60-094c-4b8e-ffc4-bff5fc71f114"
      },
      "id": "G5V8EKv898JG",
      "execution_count": null,
      "outputs": [
        {
          "output_type": "stream",
          "name": "stdout",
          "text": [
            "   index_weight  dollar_amount  shares_owned\n",
            "A      0.638298   63829.787234   1276.595745\n",
            "B      0.221277   22127.659574   1702.127660\n",
            "C      0.140426   14042.553191    425.531915\n"
          ]
        }
      ]
    },
    {
      "cell_type": "markdown",
      "source": [
        "###Value-Weighted Index at t+1\n",
        "Now that we've created a value-weighted index at time t+0, let's calculate the value of our holdings at time t+1 before any rebalancing. There are two ways to do this. We can multiply the dollar amount in each stock by the gross returns. We can also multiply the number of shares in each stock by the new share prices. Notice how the value is the same using both methods."
      ],
      "metadata": {
        "id": "n_gUbqycCwAP"
      },
      "id": "n_gUbqycCwAP"
    },
    {
      "cell_type": "code",
      "source": [
        "# Approach 1: Multiply by the dollar amounts by the gross returns\n",
        "value_t1 = weights_t0['dollar_amount'] * df_t1['price'] / df_t0['price']\n",
        "print(f'{value_t1}\\n')\n",
        "\n",
        "# Approach 2: Multiply the number of shares by the new prices\n",
        "print(weights_t0['shares_owned'] * df_t1['price'])"
      ],
      "metadata": {
        "colab": {
          "base_uri": "https://localhost:8080/"
        },
        "id": "d6ol3LRywUmz",
        "outputId": "b3830955-4a9e-4786-9f99-5f0ddb63f005"
      },
      "id": "d6ol3LRywUmz",
      "execution_count": null,
      "outputs": [
        {
          "output_type": "stream",
          "name": "stdout",
          "text": [
            "A    65106.382979\n",
            "B    18723.404255\n",
            "C    14893.617021\n",
            "dtype: float64\n",
            "\n",
            "A    65106.382979\n",
            "B    18723.404255\n",
            "C    14893.617021\n",
            "dtype: float64\n"
          ]
        }
      ]
    },
    {
      "cell_type": "markdown",
      "source": [
        "###The Index Remains Value-Weighted\n",
        "We will now show that the index at t+1 remains value-weighted with no rebalancing. We will use the function created above to calculate target weights for a value-weighted index. Then, we will calculate current weights in the index at t+1 by dividing each stock's value by the overall value of the index. Notice how the weights are the same. Once you create an value-weighted index, it will always stay value-weighted without any rebalancing necessary."
      ],
      "metadata": {
        "id": "AfP4xnJ4xLB8"
      },
      "id": "AfP4xnJ4xLB8"
    },
    {
      "cell_type": "code",
      "source": [
        "# Use the function created above to calculate target weights\n",
        "weights_t1 = calculate_index_weights(df_t1)\n",
        "print(f'Index weights at t+1:\\n{weights_t1}\\n')\n",
        "\n",
        "# Calculate current index weights based on dollar amounts\n",
        "print(value_t1 / value_t1.sum())"
      ],
      "metadata": {
        "colab": {
          "base_uri": "https://localhost:8080/"
        },
        "id": "2DhF0wUQ6sQZ",
        "outputId": "53164aa2-c91a-4815-d5d8-45af8fba959f"
      },
      "id": "2DhF0wUQ6sQZ",
      "execution_count": null,
      "outputs": [
        {
          "output_type": "stream",
          "name": "stdout",
          "text": [
            "Index weights at t+1:\n",
            "A    0.659483\n",
            "B    0.189655\n",
            "C    0.150862\n",
            "Name: market_cap, dtype: float64\n",
            "\n",
            "A    0.659483\n",
            "B    0.189655\n",
            "C    0.150862\n",
            "dtype: float64\n"
          ]
        }
      ]
    }
  ],
  "metadata": {
    "jupytext": {
      "cell_metadata_filter": "-all",
      "main_language": "python",
      "notebook_metadata_filter": "-all"
    },
    "kernelspec": {
      "name": "python3",
      "language": "python",
      "display_name": "Python 3 (ipykernel)"
    },
    "colab": {
      "provenance": []
    }
  },
  "nbformat": 4,
  "nbformat_minor": 5
}