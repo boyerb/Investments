{
  "nbformat": 4,
  "nbformat_minor": 0,
  "metadata": {
    "colab": {
      "provenance": [],
      "authorship_tag": "ABX9TyOQ63q0lH7hfyCbkU1uiceN",
      "include_colab_link": true
    },
    "kernelspec": {
      "name": "python3",
      "display_name": "Python 3"
    },
    "language_info": {
      "name": "python"
    }
  },
  "cells": [
    {
      "cell_type": "markdown",
      "metadata": {
        "id": "view-in-github",
        "colab_type": "text"
      },
      "source": [
        "<a href=\"https://colab.research.google.com/github/boyerb/Investments/blob/master/Ex8-from_covarince_matrix_to_variance.ipynb\" target=\"_parent\"><img src=\"https://colab.research.google.com/assets/colab-badge.svg\" alt=\"Open In Colab\"/></a>"
      ]
    },
    {
      "cell_type": "markdown",
      "source": [
        "**Foundations of Investment Analysis**, Bates, Boyer, and Fletcher"
      ],
      "metadata": {
        "id": "2EVPSJF2WaSz"
      }
    },
    {
      "cell_type": "markdown",
      "source": [
        "# Example Chapter 8: Using the Covariance Matrix to Calculate Variance\n",
        "In this example we show how to compute the variance of a portfolio using the covariance matrix and portfolio weights."
      ],
      "metadata": {
        "id": "tzKZphf2WepR"
      }
    },
    {
      "cell_type": "markdown",
      "source": [
        "### Imports and Setup"
      ],
      "metadata": {
        "id": "kSZgn5z7XFu2"
      }
    },
    {
      "cell_type": "code",
      "execution_count": null,
      "metadata": {
        "id": "qhdGVAmdWUQz"
      },
      "outputs": [],
      "source": [
        "import numpy as np"
      ]
    },
    {
      "cell_type": "markdown",
      "source": [
        "### Input Covariance Matrix, Weights, and Calculate Variance\n",
        "We copy the covariance matrix from the Excel sheet into Chapt GPT with the prompt to create a NumPy array.  We paste the output below, and also create a Numpy array of the portfolio weights. We then use Essential Math Fact #5 to compute the portfolio variance.    "
      ],
      "metadata": {
        "id": "Cuavy8TH3r0H"
      }
    },
    {
      "cell_type": "code",
      "source": [
        "covariance_matrix = array = np.array([\n",
        "    [0.007114756, 0.001986903, 0.002158293, 0.001862449],\n",
        "    [0.001986903, 0.002784567, 0.000862866, 0.000359924],\n",
        "    [0.002158293, 0.000862866, 0.006468223, 0.003549793],\n",
        "    [0.001862449, 0.000359924, 0.003549793, 0.012612311]\n",
        "])\n",
        "\n",
        "weights = np.array([0.3, 0.4, 0.2, 0.1])\n",
        "\n",
        "variance = weights.T @ covariance_matrix @ weights\n",
        "print('variance', variance)\n"
      ],
      "metadata": {
        "colab": {
          "base_uri": "https://localhost:8080/"
        },
        "id": "FQdnyoVH3CyQ",
        "outputId": "4f2cff06-d7d5-414a-9cfa-59f1505bb17f"
      },
      "execution_count": null,
      "outputs": [
        {
          "output_type": "stream",
          "name": "stdout",
          "text": [
            "variance 0.00262715381\n"
          ]
        }
      ]
    }
  ]
}
