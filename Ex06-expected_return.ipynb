{
  "cells": [
    {
      "metadata": {
        "id": "65bb4d82eb834b77"
      },
      "cell_type": "markdown",
      "source": [
        "**Investments: Theory and Data Driven Analytics**, Bates, Boyer, and Fletcher"
      ],
      "id": "65bb4d82eb834b77"
    },
    {
      "metadata": {
        "id": "e78b7ac25ee9d619"
      },
      "cell_type": "markdown",
      "source": [
        "# Example Chapter 6: Expected Return\n",
        "In this example, we calculate the true expected return using the possible outcomes a probabilities. We then  estimate the expected return as a simple average using a simulated random sample."
      ],
      "id": "e78b7ac25ee9d619"
    },
    {
      "metadata": {
        "id": "430d0e78b1b00a15"
      },
      "cell_type": "markdown",
      "source": [
        "### Imports and Setup\n",
        "We import the NumPy package."
      ],
      "id": "430d0e78b1b00a15"
    },
    {
      "metadata": {
        "id": "7ea08743"
      },
      "cell_type": "code",
      "outputs": [],
      "execution_count": null,
      "source": [
        "import numpy as np"
      ],
      "id": "7ea08743"
    },
    {
      "metadata": {
        "id": "34ffd1ed9e29f66d"
      },
      "cell_type": "markdown",
      "source": [
        "### True Expected Return\n",
        "We first define the possible return outcomes and their corresponding probabilities. We then calculate the true expected return by taking the sumproduct of the outcomes and probabilities."
      ],
      "id": "34ffd1ed9e29f66d"
    },
    {
      "metadata": {
        "id": "c8713d23"
      },
      "cell_type": "code",
      "outputs": [],
      "execution_count": null,
      "source": [
        "# Define the discrete PDF\n",
        "outcomes = [-0.05, 0.00, 0.05, 0.10]  # Possible return outcomes\n",
        "probabilities = [0.2, 0.3, 0.4, 0.1]  # Corresponding probabilities\n",
        "# Calculate the True Expected Return\n",
        "# \"np.dot\" is the same thing as \"sumproduct\" in Excel\n",
        "true_expected_return = np.dot(outcomes, probabilities)\n",
        "print('True Expected Return:', true_expected_return)"
      ],
      "id": "c8713d23"
    },
    {
      "metadata": {
        "id": "69e9fe38c247571b"
      },
      "cell_type": "markdown",
      "source": [
        "### Estimated Expected Return from a Simulated Random Sample\n",
        "We now simulate a random sample of returns and *estimate* the expected return from the sample. We first define the number of random variables to create and create a random number generator object. We then generate a random sample of outcomes and estimate the expected return from the sample."
      ],
      "id": "69e9fe38c247571b"
    },
    {
      "metadata": {
        "id": "b1d17a49f7000ca0"
      },
      "cell_type": "code",
      "outputs": [],
      "execution_count": null,
      "source": [
        "# Simulate a Random Sample\n",
        "# number of random variables to create\n",
        "num_simulations = 100\n",
        "# Create a random number generator object\n",
        "rng = np.random.default_rng()\n",
        "# Generate a random sample of outcomes\n",
        "simulated_returns = rng.choice(outcomes, size=num_simulations, p=probabilities)\n",
        "\n",
        "# Estimate the Expected Return from the Random Sample\n",
        "estimated_expected_return = np.mean(simulated_returns)\n",
        "print('Estimated Expected Return:', estimated_expected_return)"
      ],
      "id": "b1d17a49f7000ca0"
    }
  ],
  "metadata": {
    "jupytext": {
      "cell_metadata_filter": "-all",
      "main_language": "python",
      "notebook_metadata_filter": "-all"
    },
    "kernelspec": {
      "name": "python3",
      "language": "python",
      "display_name": "Python 3 (ipykernel)"
    },
    "colab": {
      "provenance": []
    }
  },
  "nbformat": 4,
  "nbformat_minor": 5
}