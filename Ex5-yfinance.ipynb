{
 "cells": [
  {
   "cell_type": "code",
   "id": "initial_id",
   "metadata": {
    "collapsed": true,
    "ExecuteTime": {
     "end_time": "2024-09-10T21:18:33.558530Z",
     "start_time": "2024-09-10T21:18:33.469525Z"
    }
   },
   "source": [
    "import yfinance as yf\n",
    "from datetime import date\n",
    "import pandas_datareader.data as web\n",
    "import pandas as pd"
   ],
   "outputs": [],
   "execution_count": 28
  },
  {
   "metadata": {
    "ExecuteTime": {
     "end_time": "2024-09-10T21:18:35.345985Z",
     "start_time": "2024-09-10T21:18:35.327370Z"
    }
   },
   "cell_type": "code",
   "source": [
    "# Define the ticker symbol\n",
    "ticker = 'VOO'\n",
    "today = date.today()\n",
    "data = yf.download(ticker, start='2000-01-01', end=today, interval='1mo')\n",
    "monthly_returns = data['Adj Close'].pct_change()\n"
   ],
   "id": "aa5b611ec5c3a9ce",
   "outputs": [
    {
     "name": "stderr",
     "output_type": "stream",
     "text": [
      "[*********************100%***********************]  1 of 1 completed\n"
     ]
    }
   ],
   "execution_count": 29
  },
  {
   "metadata": {
    "ExecuteTime": {
     "end_time": "2024-09-10T21:34:57.490123Z",
     "start_time": "2024-09-10T21:34:57.305256Z"
    }
   },
   "cell_type": "code",
   "source": [
    "ff_data = web.DataReader('F-F_Research_Data_Factors', 'famafrench', start='2000-01')\n",
    "# Extract the monthly data (usually key '0')\n",
    "ff_monthly = ff_data[0]  # Access the first table (key '0') for monthly data\n",
    "\n",
    "# Convert the index (dates) to datetime manually\n",
    "#ff_monthly.index = ff_monthly.index.to_timestamp()\n",
    "\n",
    "# Display the first few rows\n",
    "print(ff_monthly.head())"
   ],
   "id": "97b7008bd9ffd661",
   "outputs": [
    {
     "name": "stdout",
     "output_type": "stream",
     "text": [
      "         Mkt-RF    SMB   HML    RF\n",
      "Date                              \n",
      "2000-01   -4.74   5.77 -1.88  0.41\n",
      "2000-02    2.45  21.36 -9.59  0.43\n",
      "2000-03    5.20 -17.20  8.13  0.47\n",
      "2000-04   -6.40  -6.68  7.26  0.46\n",
      "2000-05   -4.42  -6.05  4.75  0.50\n"
     ]
    },
    {
     "name": "stderr",
     "output_type": "stream",
     "text": [
      "C:\\Users\\bhb35\\AppData\\Local\\Temp\\ipykernel_15044\\545738760.py:1: FutureWarning: The argument 'date_parser' is deprecated and will be removed in a future version. Please use 'date_format' instead, or read your data in as 'object' dtype and then call 'to_datetime'.\n",
      "  ff_data = web.DataReader('F-F_Research_Data_Factors', 'famafrench', start='2000-01')\n",
      "C:\\Users\\bhb35\\AppData\\Local\\Temp\\ipykernel_15044\\545738760.py:1: FutureWarning: The argument 'date_parser' is deprecated and will be removed in a future version. Please use 'date_format' instead, or read your data in as 'object' dtype and then call 'to_datetime'.\n",
      "  ff_data = web.DataReader('F-F_Research_Data_Factors', 'famafrench', start='2000-01')\n"
     ]
    }
   ],
   "execution_count": 43
  },
  {
   "metadata": {},
   "cell_type": "code",
   "outputs": [],
   "execution_count": null,
   "source": "",
   "id": "6c05df11514cd492"
  },
  {
   "metadata": {
    "ExecuteTime": {
     "end_time": "2024-09-10T21:40:14.419284Z",
     "start_time": "2024-09-10T21:40:14.004827Z"
    }
   },
   "cell_type": "code",
   "source": [
    "import requests\n",
    "import io\n",
    "url = 'https://mba.tuck.dartmouth.edu/pages/faculty/ken.french/ftp/F-F_Research_Data_Factors.CSV'\n",
    "\n",
    "# Fetch the data from the URL\n",
    "response = requests.get(url)\n",
    "\n",
    "# Check if the request was successful\n",
    "if response.status_code == 200:\n",
    "    # Load the content into a pandas DataFrame, skipping the first 3 rows (headers)\n",
    "    ff_data = pd.read_csv(io.StringIO(response.text), skiprows=3)\n",
    "    \n",
    "    # Clean up: Rename columns and parse dates\n",
    "    ff_data.rename(columns={'Unnamed: 0': 'Date'}, inplace=True)\n",
    "    ff_data['Date'] = pd.to_datetime(ff_data['Date'], format='%Y%m', errors='coerce')\n",
    "    \n",
    "    # Drop rows with NaT in the 'Date' column (clean up footer)\n",
    "    ff_data.dropna(subset=['Date'], inplace=True)\n",
    "\n",
    "    # Set the 'Date' column as the index\n",
    "    ff_data.set_index('Date', inplace=True)\n",
    "\n",
    "    # Display the first few rows\n",
    "    print(ff_data.head())\n",
    "else:\n",
    "    print(f\"Failed to fetch data. Status code: {response.status_code}\")"
   ],
   "id": "5f22c03952032cbe",
   "outputs": [
    {
     "name": "stdout",
     "output_type": "stream",
     "text": [
      "              Mkt-RF       SMB       HML        RF\n",
      "Date                                              \n",
      "1926-07-01      2.96     -2.56     -2.43      0.22\n",
      "1926-08-01      2.64     -1.17      3.82      0.25\n",
      "1926-09-01      0.36     -1.40      0.13      0.23\n",
      "1926-10-01     -3.24     -0.09      0.70      0.32\n",
      "1926-11-01      2.53     -0.10     -0.51      0.31\n"
     ]
    }
   ],
   "execution_count": 47
  }
 ],
 "metadata": {
  "kernelspec": {
   "display_name": "Python 3",
   "language": "python",
   "name": "python3"
  },
  "language_info": {
   "codemirror_mode": {
    "name": "ipython",
    "version": 2
   },
   "file_extension": ".py",
   "mimetype": "text/x-python",
   "name": "python",
   "nbconvert_exporter": "python",
   "pygments_lexer": "ipython2",
   "version": "2.7.6"
  }
 },
 "nbformat": 4,
 "nbformat_minor": 5
}
