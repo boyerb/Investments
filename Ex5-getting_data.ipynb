{
  "cells": [
    {
      "cell_type": "markdown",
      "source": [
        "***Foundations of Investment Analysis***, Bates, Boyer, and Fletcher"
      ],
      "metadata": {
        "id": "L1gOEU3lC47o"
      },
      "id": "L1gOEU3lC47o"
    },
    {
      "metadata": {
        "id": "a8424377d4ab21a7"
      },
      "cell_type": "markdown",
      "source": [
        "# Example Chapter 5: Accessing Data from the Internet\n",
        "In this example we tap into the yfinance library to get monthly stock returns and Ken French's website to access data on short-term US t-bill returns. To make the process of gathering data from these sources as easy as possible, we package most of the code in easy-to-use functions in the library `simple_finance.py`.  We then use these data to estimate the annualized expected return, volatility, and Sharpe ratio for the Russell 3000 index (^RUT) and Ford Motor Company (F).  Try changing the tickers and date ranges to pull data for different companies over different time periods.\n"
      ],
      "id": "a8424377d4ab21a7"
    },
    {
      "metadata": {
        "id": "848af822f805f02a"
      },
      "cell_type": "markdown",
      "source": [
        " ### Imports and Setup\n",
        " We first load in a function file from the GitHub repository using the `curl` command. the `-O` folloiwing this command tells curl to save the file `bates_boyer_fletcher_functions.py` in the current working directory. We then import the functions from the file and import other necessary libraries."
      ],
      "id": "848af822f805f02a"
    },
    {
      "metadata": {
        "id": "abfa28ff8f165bb6",
        "outputId": "0112347c-b2ba-437b-b1ca-18555fab3543",
        "colab": {
          "base_uri": "https://localhost:8080/"
        },
        "ExecuteTime": {
          "end_time": "2024-12-17T00:47:51.499195Z",
          "start_time": "2024-12-17T00:47:50.499070Z"
        }
      },
      "cell_type": "code",
      "source": [
        "# Load in simple_finance.py from the GitHub repository\n",
        "!curl -O https://raw.githubusercontent.com/boyerb/Investments/master/functions/simple_finance.py\n",
        "!ls\n",
        "# import the functions from the file we just downloaded\n",
        "import simple_finance as sf\n",
        "# import other necessary libraries\n",
        "import numpy as np\n"
      ],
      "id": "abfa28ff8f165bb6",
      "outputs": [
        {
          "output_type": "stream",
          "name": "stdout",
          "text": [
            "  % Total    % Received % Xferd  Average Speed   Time    Time     Time  Current\n",
            "                                 Dload  Upload   Total   Spent    Left  Speed\n",
            "\r  0     0    0     0    0     0      0      0 --:--:-- --:--:-- --:--:--     0\r100  5287  100  5287    0     0  35195      0 --:--:-- --:--:-- --:--:-- 35246\n",
            " __pycache__   sample_data   simple_finance.py\t'simple_finance.py?nocache=1'\n"
          ]
        }
      ],
      "execution_count": 1
    },
    {
      "metadata": {
        "id": "a6c48c9ecd523cc9"
      },
      "cell_type": "markdown",
      "source": [
        "### Access Monthly Returns\n",
        "In this block of code we access monthly returns for the Russell 3000 index (^RUT) and Ford Motor Company (F). The key function is `get_monthly_returns`.\n",
        "\n",
        "`get_monthly returns` has the following inputs:\n",
        "- **ticker** = list of desired tickers: `['ticker_1', 'ticker_2', ..., 'ticker_N']\n",
        "- **begin** = beginning month in format yyyy-mm-dd\n",
        "- **end** = ending month in format yyyy-mm-dd\n",
        "- **tbill_return** = True or False. If True, the return on short-term tbills will be included in the DataFrame. If False, the return on short-term tbills will not be included.\n",
        "\n",
        "The output is a DataFrame with monthly returns for each ticker, and the return on short-term tbills if `tbill_return=True`.\n",
        "\n",
        "We then calculate the annualized average return and volatility."
      ],
      "id": "a6c48c9ecd523cc9"
    },
    {
      "metadata": {
        "id": "aa5b611ec5c3a9ce",
        "ExecuteTime": {
          "end_time": "2024-12-17T00:47:07.886119Z",
          "start_time": "2024-12-17T00:47:06.810637Z"
        },
        "outputId": "d7a9844d-51a3-4df9-fc90-5f1a37968d83",
        "colab": {
          "base_uri": "https://localhost:8080/"
        }
      },
      "cell_type": "code",
      "source": [
        "# Get monthly returns for a given list of stock tickers using the yfinance API\n",
        "ticker = ['^RUA', 'F']\n",
        "# Use tbill_return=True to get the return on short-term tbills, or False to exclude tbill returns\n",
        "dat = sf.get_monthly_returns(ticker, '1990-01-01', '2023-12-31', tbill_return=False)\n"
      ],
      "id": "aa5b611ec5c3a9ce",
      "outputs": [
        {
          "output_type": "stream",
          "name": "stderr",
          "text": [
            "[*********************100%***********************]  1 of 1 completed\n",
            "[*********************100%***********************]  1 of 1 completed\n"
          ]
        }
      ],
      "execution_count": 2
    },
    {
      "metadata": {
        "id": "97b7008bd9ffd661",
        "ExecuteTime": {
          "end_time": "2024-12-17T00:47:08.026047Z",
          "start_time": "2024-12-17T00:47:08.019845Z"
        },
        "outputId": "c675e63f-4f67-4297-82eb-c8ac721ceee9",
        "colab": {
          "base_uri": "https://localhost:8080/"
        }
      },
      "cell_type": "code",
      "source": [
        "# Calculate the annualized average return and volatility\n",
        "A_Avg = dat.mean() * 12\n",
        "A_Vol = dat.std() * np.sqrt(12)\n",
        "print('Anualized Average Return')\n",
        "print(A_Avg)\n",
        "print()\n",
        "print('Annualized Volatility')\n",
        "print(A_Vol)"
      ],
      "id": "97b7008bd9ffd661",
      "outputs": [
        {
          "output_type": "stream",
          "name": "stdout",
          "text": [
            "Anualized Average Return\n",
            "^RUA    0.089472\n",
            "F       0.127640\n",
            "dtype: float64\n",
            "\n",
            "Annualized Volatility\n",
            "^RUA    0.152483\n",
            "F       0.431616\n",
            "dtype: float64\n"
          ]
        }
      ],
      "execution_count": 3
    },
    {
      "metadata": {
        "id": "e2c37d3cf72d9c37"
      },
      "cell_type": "markdown",
      "source": [
        "### Calculate Sharpe Ratios\n",
        "In this block od code we access data for the Russell 3000 index and Ford Motor Company **ticker = ['^RUA', 'F']**. We also retrieve data on short-term t-bill returns. Using these data we calculate the Sharpe ratios for the Russell 3000 and Ford."
      ],
      "id": "e2c37d3cf72d9c37"
    },
    {
      "metadata": {
        "id": "654477d73970a945",
        "ExecuteTime": {
          "end_time": "2024-12-17T00:47:08.600824Z",
          "start_time": "2024-12-17T00:47:08.036168Z"
        },
        "outputId": "d9796afd-c057-409c-a2f1-3278773e18d9",
        "colab": {
          "base_uri": "https://localhost:8080/"
        }
      },
      "cell_type": "code",
      "source": [
        "# Download data along with return on short-term tbills from Ken French's website\n",
        "dat = sf.get_monthly_returns(ticker, '1990-01-01', '2023-12-31', tbill_return=True)\n",
        "# Calculate excess returns\n",
        "dat['exret0'] = dat[ticker[0]] - dat['RF']\n",
        "dat['exret1'] = dat[ticker[1]] - dat['RF']\n",
        "print(dat.head())"
      ],
      "id": "654477d73970a945",
      "outputs": [
        {
          "output_type": "stream",
          "name": "stderr",
          "text": [
            "[*********************100%***********************]  1 of 1 completed\n",
            "[*********************100%***********************]  1 of 1 completed\n"
          ]
        },
        {
          "output_type": "stream",
          "name": "stdout",
          "text": [
            "                ^RUA         F YearMonth      RF    exret0    exret1\n",
            "date                                                                \n",
            "1990-01-31 -0.074868  0.005681   1990-01  0.0057 -0.080568 -0.000019\n",
            "1990-02-28  0.012766  0.066666   1990-02  0.0057  0.007066  0.060966\n",
            "1990-03-30  0.023209  0.027174   1990-03  0.0064  0.016809  0.020774\n",
            "1990-04-30 -0.028393 -0.050828   1990-04  0.0069 -0.035293 -0.057728\n",
            "1990-05-31  0.087505  0.045326   1990-05  0.0068  0.080705  0.038526\n"
          ]
        },
        {
          "output_type": "stream",
          "name": "stderr",
          "text": [
            "/usr/local/lib/python3.10/dist-packages/urllib3/connectionpool.py:1099: InsecureRequestWarning: Unverified HTTPS request is being made to host 'mba.tuck.dartmouth.edu'. Adding certificate verification is strongly advised. See: https://urllib3.readthedocs.io/en/latest/advanced-usage.html#tls-warnings\n",
            "  warnings.warn(\n"
          ]
        }
      ],
      "execution_count": 4
    },
    {
      "metadata": {
        "id": "7d6b70f7d5f61ab4",
        "ExecuteTime": {
          "end_time": "2024-12-17T00:47:08.615183Z",
          "start_time": "2024-12-17T00:47:08.610789Z"
        },
        "outputId": "b529d846-711d-4bb8-c889-d47c2fa3e951",
        "colab": {
          "base_uri": "https://localhost:8080/"
        }
      },
      "cell_type": "code",
      "source": [
        "# Calculate and print Sharpe ratios\n",
        "# Calculate the Shapre ratio for the first ticker in the list\n",
        "A_AVG_exret0 = dat['exret0'].mean() * 12\n",
        "A_Vol_exret0 = dat[ticker[0]].std() * np.sqrt(12)\n",
        "Sharpe0 = A_AVG_exret0/A_Vol_exret0\n",
        "\n",
        "# Calculate the Shapre ratio for the second ticker in the list\n",
        "A_AVG_exret1 = dat['exret1'].mean() * 12\n",
        "A_Vol_exret1 = dat[ticker[1]].std() * np.sqrt(12)\n",
        "Sharpe1 = A_AVG_exret1/A_Vol_exret1\n",
        "\n",
        "print('Sharpe Ratios')\n",
        "print(ticker[0], Sharpe0)\n",
        "print(ticker[1], Sharpe1)"
      ],
      "id": "7d6b70f7d5f61ab4",
      "outputs": [
        {
          "output_type": "stream",
          "name": "stdout",
          "text": [
            "Sharpe Ratios\n",
            "^RUA 0.4184750281743231\n",
            "F 0.23625267073499526\n"
          ]
        }
      ],
      "execution_count": 5
    }
  ],
  "metadata": {
    "kernelspec": {
      "display_name": "Python 3",
      "language": "python",
      "name": "python3"
    },
    "language_info": {
      "codemirror_mode": {
        "name": "ipython",
        "version": 2
      },
      "file_extension": ".py",
      "mimetype": "text/x-python",
      "name": "python",
      "nbconvert_exporter": "python",
      "pygments_lexer": "ipython2",
      "version": "2.7.6"
    },
    "colab": {
      "provenance": []
    }
  },
  "nbformat": 4,
  "nbformat_minor": 5
}