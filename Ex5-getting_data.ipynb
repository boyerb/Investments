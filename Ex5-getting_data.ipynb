{
 "cells": [
  {
   "cell_type": "markdown",
   "source": [
    "***Foundations of Investment Analysis***, Bates, Boyer, and Fletcher"
   ],
   "metadata": {
    "id": "L1gOEU3lC47o"
   },
   "id": "L1gOEU3lC47o"
  },
  {
   "metadata": {
    "id": "a8424377d4ab21a7"
   },
   "cell_type": "markdown",
   "source": [
    "# Example Chapter 5: Accessing Data from the Internet\n",
    "In this example we tap into the yfinance library to get monthly stock returns and Ken French's website to access data on short-term US t-bill returns. To make the process of gathering data from these sources as easy as possible, we package most of the code in easy-to-use functions in the library `simple_finance.py`.  We then use these data to estimate the annualized expected return, volatility, and Sharpe ratio for the Russell 3000 index (^RUT) and Ford Motor Company (F).  Try changing the tickers and date ranges to pull data for different companies over different time periods.\n"
   ],
   "id": "a8424377d4ab21a7"
  },
  {
   "metadata": {
    "id": "848af822f805f02a"
   },
   "cell_type": "markdown",
   "source": [
    " ### Imports and Setup\n",
    " We first load in a function file from the GitHub repository using the `curl` command. the `-O` folloiwing this command tells curl to save the file `bates_boyer_fletcher_functions.py` in the current working directory. We then import the functions from the file and import other necessary libraries."
   ],
   "id": "848af822f805f02a"
  },
  {
   "metadata": {
    "id": "abfa28ff8f165bb6",
    "outputId": "081aebd9-3685-4207-9afc-8bde58600255",
    "colab": {
     "base_uri": "https://localhost:8080/",
     "height": 297
    }
   },
   "cell_type": "code",
   "source": [
    "# Load in simple_finance.py from the GitHub repository\n",
    "!curl -O https://raw.githubusercontent.com/boyerb/Investments/refs/heads/master/functions/simple_finance.py\n",
    "# import the functions from the file we just downloaded\n",
    "from old import simple_finance as sf\n",
    "# import other necessary libraries\n",
    "import numpy as np"
   ],
   "id": "abfa28ff8f165bb6",
   "outputs": [
    {
     "output_type": "stream",
     "name": "stdout",
     "text": [
      "  % Total    % Received % Xferd  Average Speed   Time    Time     Time  Current\n",
      "                                 Dload  Upload   Total   Spent    Left  Speed\n",
      "100    14  100    14    0     0     42      0 --:--:-- --:--:-- --:--:--    42\n"
     ]
    },
    {
     "output_type": "error",
     "ename": "SyntaxError",
     "evalue": "illegal target for annotation (simple_finance.py, line 1)",
     "traceback": [
      "Traceback \u001B[0;36m(most recent call last)\u001B[0m:\n",
      "  File \u001B[1;32m\"/usr/local/lib/python3.10/dist-packages/IPython/core/interactiveshell.py\"\u001B[0m, line \u001B[1;32m3553\u001B[0m, in \u001B[1;35mrun_code\u001B[0m\n    exec(code_obj, self.user_global_ns, self.user_ns)\n",
      "\u001B[0;36m  File \u001B[0;32m\"<ipython-input-1-2b88b4a5757b>\"\u001B[0;36m, line \u001B[0;32m4\u001B[0;36m, in \u001B[0;35m<cell line: 4>\u001B[0;36m\u001B[0m\n\u001B[0;31m    import simple_finance as sf\u001B[0m\n",
      "\u001B[0;36m  File \u001B[0;32m\"/content/simple_finance.py\"\u001B[0;36m, line \u001B[0;32m1\u001B[0m\n\u001B[0;31m    404: Not Found\u001B[0m\n\u001B[0m    ^\u001B[0m\n\u001B[0;31mSyntaxError\u001B[0m\u001B[0;31m:\u001B[0m illegal target for annotation\n"
     ]
    }
   ],
   "execution_count": 1
  },
  {
   "metadata": {
    "id": "a6c48c9ecd523cc9"
   },
   "cell_type": "markdown",
   "source": [
    "### Access Monthly Returns\n",
    "In this block of code we access monthly returns for the Russell 3000 index (^RUT) and Ford Motor Company (F). The key function is `get_monthly_returns`.\n",
    "\n",
    "`get_monthly returns` has the following inputs:\n",
    "- **ticker** = list of desired tickers: `['ticker_1', 'ticker_2', ..., 'ticker_N']\n",
    "- **begin** = beginning month in format yyyy-mm-dd\n",
    "- **end** = ending month in format yyyy-mm-dd\n",
    "- **tbill_return** = True or False. If True, the return on short-term tbills will be included in the DataFrame. If False, the return on short-term tbills will not be included.\n",
    "\n",
    "The output is a DataFrame with monthly returns for each ticker, and the return on short-term tbills if `tbill_return=True`.\n",
    "\n",
    "We then calculate the annualized average return and volatility."
   ],
   "id": "a6c48c9ecd523cc9"
  },
  {
   "metadata": {
    "id": "aa5b611ec5c3a9ce"
   },
   "cell_type": "code",
   "source": [
    "# Get monthly returns for a given list of stock tickers using the yfinance API\n",
    "ticker = ['^RUA', 'F']\n",
    "# Use tbill_return=True to get the return on short-term tbills, or False to exclude tbill returns\n",
    "dat = sf.get_monthly_returns(ticker, '1990-01-01', '2023-12-31', tbill_return=False)\n",
    "print(dat.head())"
   ],
   "id": "aa5b611ec5c3a9ce",
   "outputs": [],
   "execution_count": null
  },
  {
   "metadata": {
    "id": "97b7008bd9ffd661"
   },
   "cell_type": "code",
   "source": [
    "# Calculate the annualized average return and volatility\n",
    "A_Avg = dat.mean() * 12\n",
    "A_Vol = dat.std() * np.sqrt(12)\n",
    "print('Anualized Average Return')\n",
    "print(A_Avg)\n",
    "print()\n",
    "print('Annualized Volatility')\n",
    "print(A_Vol)"
   ],
   "id": "97b7008bd9ffd661",
   "outputs": [],
   "execution_count": null
  },
  {
   "metadata": {
    "id": "e2c37d3cf72d9c37"
   },
   "cell_type": "markdown",
   "source": [
    "### Calculate Sharpe Ratios\n",
    "In this block od code we access data for the Russell 3000 index and Ford Motor Company **ticker = ['^RUA', 'F']**. We also retrieve data on short-term t-bill returns. Using these data we calculate the Sharpe ratios for the Russell 3000 and Ford."
   ],
   "id": "e2c37d3cf72d9c37"
  },
  {
   "metadata": {
    "id": "654477d73970a945"
   },
   "cell_type": "code",
   "source": [
    "# Download data along with return on short-term tbills from Ken French's website\n",
    "dat = sf.get_monthly_returns(ticker, '1990-01-01', '2023-12-31', tbill_return=True)\n",
    "# Calculate excess returns\n",
    "dat['exret0'] = dat[ticker[0]] - dat['RF']\n",
    "dat['exret1'] = dat[ticker[1]] - dat['RF']\n",
    "print(dat.head())"
   ],
   "id": "654477d73970a945",
   "outputs": [],
   "execution_count": null
  },
  {
   "metadata": {
    "id": "7d6b70f7d5f61ab4"
   },
   "cell_type": "code",
   "source": [
    "# Calculate and print Sharpe ratios\n",
    "# Calculate the Shapre ratio for the first ticker in the list\n",
    "A_AVG_exret0 = dat['exret0'].mean() * 12\n",
    "A_Vol_exret0 = dat[ticker[0]].std() * np.sqrt(12)\n",
    "Sharpe0 = A_AVG_exret0/A_Vol_exret0\n",
    "\n",
    "# Calculate the Shapre ratio for the second ticker in the list\n",
    "A_AVG_exret1 = dat['exret1'].mean() * 12\n",
    "A_Vol_exret1 = dat[ticker[1]].std() * np.sqrt(12)\n",
    "Sharpe1 = A_AVG_exret1/A_Vol_exret1\n",
    "\n",
    "print('Sharpe Ratios')\n",
    "print(ticker[0], Sharpe0)\n",
    "print(ticker[1], Sharpe1)"
   ],
   "id": "7d6b70f7d5f61ab4",
   "outputs": [],
   "execution_count": null
  }
 ],
 "metadata": {
  "kernelspec": {
   "display_name": "Python 3",
   "language": "python",
   "name": "python3"
  },
  "language_info": {
   "codemirror_mode": {
    "name": "ipython",
    "version": 2
   },
   "file_extension": ".py",
   "mimetype": "text/x-python",
   "name": "python",
   "nbconvert_exporter": "python",
   "pygments_lexer": "ipython2",
   "version": "2.7.6"
  },
  "colab": {
   "provenance": []
  }
 },
 "nbformat": 4,
 "nbformat_minor": 5
}
