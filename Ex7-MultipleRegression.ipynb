{
  "nbformat": 4,
  "nbformat_minor": 0,
  "metadata": {
    "colab": {
      "provenance": [],
      "authorship_tag": "ABX9TyNh6SweCkcGI8jVxjLDXq3b",
      "include_colab_link": true
    },
    "kernelspec": {
      "name": "python3",
      "display_name": "Python 3"
    },
    "language_info": {
      "name": "python"
    }
  },
  "cells": [
    {
      "cell_type": "markdown",
      "metadata": {
        "id": "view-in-github",
        "colab_type": "text"
      },
      "source": [
        "<a href=\"https://colab.research.google.com/github/boyerb/Investments/blob/master/Ex7-MultipleRegression.ipynb\" target=\"_parent\"><img src=\"https://colab.research.google.com/assets/colab-badge.svg\" alt=\"Open In Colab\"/></a>"
      ]
    },
    {
      "cell_type": "markdown",
      "source": [
        "***Foundations of Investment Analysis***, Bates, Boyer, and Fletcher"
      ],
      "metadata": {
        "id": "Bys-EungwVSA"
      }
    },
    {
      "cell_type": "markdown",
      "source": [
        "#Example 7: Running Regressions Using Python\n",
        "In this example we show how to load in data, run regressions using Python, and estimate the 95% confidence intervals for each parameter."
      ],
      "metadata": {
        "id": "jTtmiO76wcmA"
      }
    },
    {
      "cell_type": "markdown",
      "source": [
        "### Imports and Setup\n",
        "We first import the pandas and statsmodels.api packages. Pandas enables us to load in data, and statsmodels.api gives us the regression tools we need. We then load in the data from the appropriate tab of the *Examples.xls* workbook."
      ],
      "metadata": {
        "id": "5Kc0bSfkwzTb"
      }
    },
    {
      "cell_type": "code",
      "source": [
        "#import packages\n",
        "import pandas as pd\n",
        "import statsmodels.api as sm\n",
        "# Load in the data by first specifying the URL where the data can be found\n",
        "url='https://github.com/boyerb/Investments/raw/master/Examples_3.1.xlsx'\n",
        " # specify which columns to read\n",
        "columns_to_read = ['Date', 'Google', 'Tech Portfolio', 'Oil Portfolio']\n",
        "# read the data into a DataFrame\n",
        "df = pd.read_excel(url, sheet_name='7-Google Tech and Oil', header=1, usecols=columns_to_read, engine='openpyxl')\n",
        "print(df.head(10)) # prints the first 10 lines"
      ],
      "metadata": {
        "id": "vAWknhqewcBY"
      },
      "execution_count": null,
      "outputs": []
    },
    {
      "cell_type": "markdown",
      "source": [
        "### Run Regression\n",
        "Here we define our explanatory and dependent variables, run the regression, and then pull the output we want: (1) parameter estimates, (2) 95% confindence interval for each parameter, (3) The R-squared of the regression."
      ],
      "metadata": {
        "id": "EY_zwLjG4_hL"
      }
    },
    {
      "cell_type": "code",
      "source": [
        "X=df[['Tech Portfolio', 'Oil Portfolio']]\n",
        "Y=df['Google']\n",
        "X=sm.add_constant(X) # we specify that we want to add a constant to the regression equation\n",
        "model=sm.OLS(Y,X).fit()\n",
        "params = model.params\n",
        "conf_int = model.conf_int(alpha=0.05)  # 95% CIs\n",
        "r_squared = model.rsquared\n",
        "results_df = pd.DataFrame({\n",
        "    'Parameter': params.index,\n",
        "    'Estimate': params.values,\n",
        "    'CI Lower': conf_int[0].values,\n",
        "    'CI Upper': conf_int[1].values\n",
        "})\n",
        "\n",
        "print(results_df)\n",
        "print()\n",
        "print(\"R-squared\", r_squared)"
      ],
      "metadata": {
        "id": "cSXmhCYFwUhp"
      },
      "execution_count": null,
      "outputs": []
    }
  ]
}